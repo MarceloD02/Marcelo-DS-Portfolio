{
 "cells": [
  {
   "cell_type": "code",
   "execution_count": 1,
   "metadata": {},
   "outputs": [],
   "source": [
    "# this is the unsupervisor project using the kmeans algorithman \n",
    "# hire i will store my result in the drive because i have problem with memore "
   ]
  },
  {
   "cell_type": "code",
   "execution_count": 1,
   "metadata": {},
   "outputs": [],
   "source": [
    "import pandas as pd\n",
    "import numpy as np\n",
    "import seaborn as sns\n",
    "import matplotlib.pyplot as plt \n",
    "%matplotlib inline "
   ]
  },
  {
   "cell_type": "code",
   "execution_count": 60,
   "metadata": {},
   "outputs": [],
   "source": [
    "data=pd.read_csv(\"C:\\\\Users\\\\marce\\\\OneDrive\\\\Ambiente de Trabalho\\\\DataScience\\\\Unsupervisor_learning\\\\Clustering\\\\employee-compensation.csv\")"
   ]
  },
  {
   "cell_type": "code",
   "execution_count": 61,
   "metadata": {},
   "outputs": [
    {
     "data": {
      "text/html": [
       "<div>\n",
       "<style scoped>\n",
       "    .dataframe tbody tr th:only-of-type {\n",
       "        vertical-align: middle;\n",
       "    }\n",
       "\n",
       "    .dataframe tbody tr th {\n",
       "        vertical-align: top;\n",
       "    }\n",
       "\n",
       "    .dataframe thead th {\n",
       "        text-align: right;\n",
       "    }\n",
       "</style>\n",
       "<table border=\"1\" class=\"dataframe\">\n",
       "  <thead>\n",
       "    <tr style=\"text-align: right;\">\n",
       "      <th></th>\n",
       "      <th>Organization Group Code</th>\n",
       "      <th>Job Family Code</th>\n",
       "      <th>Job Code</th>\n",
       "      <th>Year Type</th>\n",
       "      <th>Year</th>\n",
       "      <th>Organization Group</th>\n",
       "      <th>Department Code</th>\n",
       "      <th>Department</th>\n",
       "      <th>Union Code</th>\n",
       "      <th>Union</th>\n",
       "      <th>...</th>\n",
       "      <th>Employee Identifier</th>\n",
       "      <th>Salaries</th>\n",
       "      <th>Overtime</th>\n",
       "      <th>Other Salaries</th>\n",
       "      <th>Total Salary</th>\n",
       "      <th>Retirement</th>\n",
       "      <th>Health and Dental</th>\n",
       "      <th>Other Benefits</th>\n",
       "      <th>Total Benefits</th>\n",
       "      <th>Total Compensation</th>\n",
       "    </tr>\n",
       "  </thead>\n",
       "  <tbody>\n",
       "    <tr>\n",
       "      <th>0</th>\n",
       "      <td>1</td>\n",
       "      <td>1000</td>\n",
       "      <td>1021</td>\n",
       "      <td>Calendar</td>\n",
       "      <td>2013</td>\n",
       "      <td>Public Protection</td>\n",
       "      <td>ADP</td>\n",
       "      <td>ADP Adult Probation</td>\n",
       "      <td>21.0</td>\n",
       "      <td>Prof &amp; Tech Engineers - Miscellaneous, Local 21</td>\n",
       "      <td>...</td>\n",
       "      <td>37730</td>\n",
       "      <td>57534.65</td>\n",
       "      <td>0.0</td>\n",
       "      <td>0.00</td>\n",
       "      <td>57534.65</td>\n",
       "      <td>11253.16</td>\n",
       "      <td>11961.34</td>\n",
       "      <td>4532.63</td>\n",
       "      <td>27747.13</td>\n",
       "      <td>85281.78</td>\n",
       "    </tr>\n",
       "    <tr>\n",
       "      <th>1</th>\n",
       "      <td>1</td>\n",
       "      <td>1000</td>\n",
       "      <td>1023</td>\n",
       "      <td>Calendar</td>\n",
       "      <td>2013</td>\n",
       "      <td>Public Protection</td>\n",
       "      <td>ADP</td>\n",
       "      <td>ADP Adult Probation</td>\n",
       "      <td>21.0</td>\n",
       "      <td>Prof &amp; Tech Engineers - Miscellaneous, Local 21</td>\n",
       "      <td>...</td>\n",
       "      <td>26574</td>\n",
       "      <td>57678.50</td>\n",
       "      <td>0.0</td>\n",
       "      <td>0.00</td>\n",
       "      <td>57678.50</td>\n",
       "      <td>10284.88</td>\n",
       "      <td>7176.80</td>\n",
       "      <td>4755.14</td>\n",
       "      <td>22216.82</td>\n",
       "      <td>79895.32</td>\n",
       "    </tr>\n",
       "    <tr>\n",
       "      <th>2</th>\n",
       "      <td>1</td>\n",
       "      <td>1000</td>\n",
       "      <td>1031</td>\n",
       "      <td>Calendar</td>\n",
       "      <td>2013</td>\n",
       "      <td>Public Protection</td>\n",
       "      <td>ADP</td>\n",
       "      <td>ADP Adult Probation</td>\n",
       "      <td>21.0</td>\n",
       "      <td>Prof &amp; Tech Engineers - Miscellaneous, Local 21</td>\n",
       "      <td>...</td>\n",
       "      <td>8148</td>\n",
       "      <td>63532.93</td>\n",
       "      <td>0.0</td>\n",
       "      <td>0.00</td>\n",
       "      <td>63532.93</td>\n",
       "      <td>12495.83</td>\n",
       "      <td>12918.24</td>\n",
       "      <td>4702.71</td>\n",
       "      <td>30116.78</td>\n",
       "      <td>93649.71</td>\n",
       "    </tr>\n",
       "    <tr>\n",
       "      <th>3</th>\n",
       "      <td>1</td>\n",
       "      <td>1000</td>\n",
       "      <td>1054</td>\n",
       "      <td>Calendar</td>\n",
       "      <td>2013</td>\n",
       "      <td>Public Protection</td>\n",
       "      <td>ADP</td>\n",
       "      <td>ADP Adult Probation</td>\n",
       "      <td>21.0</td>\n",
       "      <td>Prof &amp; Tech Engineers - Miscellaneous, Local 21</td>\n",
       "      <td>...</td>\n",
       "      <td>27436</td>\n",
       "      <td>101274.51</td>\n",
       "      <td>0.0</td>\n",
       "      <td>-7058.59</td>\n",
       "      <td>94215.92</td>\n",
       "      <td>19644.45</td>\n",
       "      <td>12918.24</td>\n",
       "      <td>7458.76</td>\n",
       "      <td>40021.45</td>\n",
       "      <td>134237.37</td>\n",
       "    </tr>\n",
       "    <tr>\n",
       "      <th>4</th>\n",
       "      <td>1</td>\n",
       "      <td>1000</td>\n",
       "      <td>1062</td>\n",
       "      <td>Calendar</td>\n",
       "      <td>2013</td>\n",
       "      <td>Public Protection</td>\n",
       "      <td>ADP</td>\n",
       "      <td>ADP Adult Probation</td>\n",
       "      <td>21.0</td>\n",
       "      <td>Prof &amp; Tech Engineers - Miscellaneous, Local 21</td>\n",
       "      <td>...</td>\n",
       "      <td>37730</td>\n",
       "      <td>5084.00</td>\n",
       "      <td>0.0</td>\n",
       "      <td>0.00</td>\n",
       "      <td>5084.00</td>\n",
       "      <td>1083.90</td>\n",
       "      <td>956.91</td>\n",
       "      <td>387.50</td>\n",
       "      <td>2428.31</td>\n",
       "      <td>7512.31</td>\n",
       "    </tr>\n",
       "    <tr>\n",
       "      <th>...</th>\n",
       "      <td>...</td>\n",
       "      <td>...</td>\n",
       "      <td>...</td>\n",
       "      <td>...</td>\n",
       "      <td>...</td>\n",
       "      <td>...</td>\n",
       "      <td>...</td>\n",
       "      <td>...</td>\n",
       "      <td>...</td>\n",
       "      <td>...</td>\n",
       "      <td>...</td>\n",
       "      <td>...</td>\n",
       "      <td>...</td>\n",
       "      <td>...</td>\n",
       "      <td>...</td>\n",
       "      <td>...</td>\n",
       "      <td>...</td>\n",
       "      <td>...</td>\n",
       "      <td>...</td>\n",
       "      <td>...</td>\n",
       "      <td>...</td>\n",
       "    </tr>\n",
       "    <tr>\n",
       "      <th>683272</th>\n",
       "      <td>6</td>\n",
       "      <td>4300</td>\n",
       "      <td>4334</td>\n",
       "      <td>Fiscal</td>\n",
       "      <td>2020</td>\n",
       "      <td>General Administration &amp; Finance</td>\n",
       "      <td>TTX</td>\n",
       "      <td>Treasurer/Tax Collector</td>\n",
       "      <td>790.0</td>\n",
       "      <td>SEIU, Local 1021, Misc</td>\n",
       "      <td>...</td>\n",
       "      <td>43836214</td>\n",
       "      <td>98444.94</td>\n",
       "      <td>0.0</td>\n",
       "      <td>0.00</td>\n",
       "      <td>98444.94</td>\n",
       "      <td>20540.24</td>\n",
       "      <td>15275.18</td>\n",
       "      <td>8019.49</td>\n",
       "      <td>43834.91</td>\n",
       "      <td>142279.85</td>\n",
       "    </tr>\n",
       "    <tr>\n",
       "      <th>683273</th>\n",
       "      <td>6</td>\n",
       "      <td>4300</td>\n",
       "      <td>4334</td>\n",
       "      <td>Fiscal</td>\n",
       "      <td>2020</td>\n",
       "      <td>General Administration &amp; Finance</td>\n",
       "      <td>TTX</td>\n",
       "      <td>Treasurer/Tax Collector</td>\n",
       "      <td>790.0</td>\n",
       "      <td>SEIU, Local 1021, Misc</td>\n",
       "      <td>...</td>\n",
       "      <td>43966403</td>\n",
       "      <td>9416.71</td>\n",
       "      <td>0.0</td>\n",
       "      <td>0.00</td>\n",
       "      <td>9416.71</td>\n",
       "      <td>1904.43</td>\n",
       "      <td>1468.77</td>\n",
       "      <td>743.51</td>\n",
       "      <td>4116.71</td>\n",
       "      <td>13533.42</td>\n",
       "    </tr>\n",
       "    <tr>\n",
       "      <th>683274</th>\n",
       "      <td>6</td>\n",
       "      <td>4300</td>\n",
       "      <td>4334</td>\n",
       "      <td>Fiscal</td>\n",
       "      <td>2020</td>\n",
       "      <td>General Administration &amp; Finance</td>\n",
       "      <td>TTX</td>\n",
       "      <td>Treasurer/Tax Collector</td>\n",
       "      <td>790.0</td>\n",
       "      <td>SEIU, Local 1021, Misc</td>\n",
       "      <td>...</td>\n",
       "      <td>44016180</td>\n",
       "      <td>96475.00</td>\n",
       "      <td>0.0</td>\n",
       "      <td>576.00</td>\n",
       "      <td>97051.00</td>\n",
       "      <td>20241.56</td>\n",
       "      <td>14100.16</td>\n",
       "      <td>7897.00</td>\n",
       "      <td>42238.72</td>\n",
       "      <td>139289.72</td>\n",
       "    </tr>\n",
       "    <tr>\n",
       "      <th>683275</th>\n",
       "      <td>6</td>\n",
       "      <td>4300</td>\n",
       "      <td>4337</td>\n",
       "      <td>Fiscal</td>\n",
       "      <td>2020</td>\n",
       "      <td>General Administration &amp; Finance</td>\n",
       "      <td>TTX</td>\n",
       "      <td>Treasurer/Tax Collector</td>\n",
       "      <td>790.0</td>\n",
       "      <td>SEIU, Local 1021, Misc</td>\n",
       "      <td>...</td>\n",
       "      <td>42423439</td>\n",
       "      <td>115943.00</td>\n",
       "      <td>0.0</td>\n",
       "      <td>0.00</td>\n",
       "      <td>115943.00</td>\n",
       "      <td>24188.37</td>\n",
       "      <td>15275.18</td>\n",
       "      <td>9018.34</td>\n",
       "      <td>48481.89</td>\n",
       "      <td>164424.89</td>\n",
       "    </tr>\n",
       "    <tr>\n",
       "      <th>683276</th>\n",
       "      <td>6</td>\n",
       "      <td>4300</td>\n",
       "      <td>4337</td>\n",
       "      <td>Fiscal</td>\n",
       "      <td>2020</td>\n",
       "      <td>General Administration &amp; Finance</td>\n",
       "      <td>TTX</td>\n",
       "      <td>Treasurer/Tax Collector</td>\n",
       "      <td>790.0</td>\n",
       "      <td>SEIU, Local 1021, Misc</td>\n",
       "      <td>...</td>\n",
       "      <td>42439576</td>\n",
       "      <td>115943.00</td>\n",
       "      <td>504.9</td>\n",
       "      <td>0.00</td>\n",
       "      <td>116447.90</td>\n",
       "      <td>24188.37</td>\n",
       "      <td>15275.18</td>\n",
       "      <td>9516.61</td>\n",
       "      <td>48980.16</td>\n",
       "      <td>165428.06</td>\n",
       "    </tr>\n",
       "  </tbody>\n",
       "</table>\n",
       "<p>683277 rows × 22 columns</p>\n",
       "</div>"
      ],
      "text/plain": [
       "        Organization Group Code Job Family Code Job Code Year Type  Year  \\\n",
       "0                             1            1000     1021  Calendar  2013   \n",
       "1                             1            1000     1023  Calendar  2013   \n",
       "2                             1            1000     1031  Calendar  2013   \n",
       "3                             1            1000     1054  Calendar  2013   \n",
       "4                             1            1000     1062  Calendar  2013   \n",
       "...                         ...             ...      ...       ...   ...   \n",
       "683272                        6            4300     4334    Fiscal  2020   \n",
       "683273                        6            4300     4334    Fiscal  2020   \n",
       "683274                        6            4300     4334    Fiscal  2020   \n",
       "683275                        6            4300     4337    Fiscal  2020   \n",
       "683276                        6            4300     4337    Fiscal  2020   \n",
       "\n",
       "                      Organization Group Department Code  \\\n",
       "0                      Public Protection             ADP   \n",
       "1                      Public Protection             ADP   \n",
       "2                      Public Protection             ADP   \n",
       "3                      Public Protection             ADP   \n",
       "4                      Public Protection             ADP   \n",
       "...                                  ...             ...   \n",
       "683272  General Administration & Finance             TTX   \n",
       "683273  General Administration & Finance             TTX   \n",
       "683274  General Administration & Finance             TTX   \n",
       "683275  General Administration & Finance             TTX   \n",
       "683276  General Administration & Finance             TTX   \n",
       "\n",
       "                     Department  Union Code  \\\n",
       "0           ADP Adult Probation        21.0   \n",
       "1           ADP Adult Probation        21.0   \n",
       "2           ADP Adult Probation        21.0   \n",
       "3           ADP Adult Probation        21.0   \n",
       "4           ADP Adult Probation        21.0   \n",
       "...                         ...         ...   \n",
       "683272  Treasurer/Tax Collector       790.0   \n",
       "683273  Treasurer/Tax Collector       790.0   \n",
       "683274  Treasurer/Tax Collector       790.0   \n",
       "683275  Treasurer/Tax Collector       790.0   \n",
       "683276  Treasurer/Tax Collector       790.0   \n",
       "\n",
       "                                                  Union  ...  \\\n",
       "0       Prof & Tech Engineers - Miscellaneous, Local 21  ...   \n",
       "1       Prof & Tech Engineers - Miscellaneous, Local 21  ...   \n",
       "2       Prof & Tech Engineers - Miscellaneous, Local 21  ...   \n",
       "3       Prof & Tech Engineers - Miscellaneous, Local 21  ...   \n",
       "4       Prof & Tech Engineers - Miscellaneous, Local 21  ...   \n",
       "...                                                 ...  ...   \n",
       "683272                           SEIU, Local 1021, Misc  ...   \n",
       "683273                           SEIU, Local 1021, Misc  ...   \n",
       "683274                           SEIU, Local 1021, Misc  ...   \n",
       "683275                           SEIU, Local 1021, Misc  ...   \n",
       "683276                           SEIU, Local 1021, Misc  ...   \n",
       "\n",
       "       Employee Identifier   Salaries  Overtime  Other Salaries  Total Salary  \\\n",
       "0                    37730   57534.65       0.0            0.00      57534.65   \n",
       "1                    26574   57678.50       0.0            0.00      57678.50   \n",
       "2                     8148   63532.93       0.0            0.00      63532.93   \n",
       "3                    27436  101274.51       0.0        -7058.59      94215.92   \n",
       "4                    37730    5084.00       0.0            0.00       5084.00   \n",
       "...                    ...        ...       ...             ...           ...   \n",
       "683272            43836214   98444.94       0.0            0.00      98444.94   \n",
       "683273            43966403    9416.71       0.0            0.00       9416.71   \n",
       "683274            44016180   96475.00       0.0          576.00      97051.00   \n",
       "683275            42423439  115943.00       0.0            0.00     115943.00   \n",
       "683276            42439576  115943.00     504.9            0.00     116447.90   \n",
       "\n",
       "        Retirement  Health and Dental  Other Benefits  Total Benefits  \\\n",
       "0         11253.16           11961.34         4532.63        27747.13   \n",
       "1         10284.88            7176.80         4755.14        22216.82   \n",
       "2         12495.83           12918.24         4702.71        30116.78   \n",
       "3         19644.45           12918.24         7458.76        40021.45   \n",
       "4          1083.90             956.91          387.50         2428.31   \n",
       "...            ...                ...             ...             ...   \n",
       "683272    20540.24           15275.18         8019.49        43834.91   \n",
       "683273     1904.43            1468.77          743.51         4116.71   \n",
       "683274    20241.56           14100.16         7897.00        42238.72   \n",
       "683275    24188.37           15275.18         9018.34        48481.89   \n",
       "683276    24188.37           15275.18         9516.61        48980.16   \n",
       "\n",
       "        Total Compensation  \n",
       "0                 85281.78  \n",
       "1                 79895.32  \n",
       "2                 93649.71  \n",
       "3                134237.37  \n",
       "4                  7512.31  \n",
       "...                    ...  \n",
       "683272           142279.85  \n",
       "683273            13533.42  \n",
       "683274           139289.72  \n",
       "683275           164424.89  \n",
       "683276           165428.06  \n",
       "\n",
       "[683277 rows x 22 columns]"
      ]
     },
     "execution_count": 61,
     "metadata": {},
     "output_type": "execute_result"
    }
   ],
   "source": [
    "data"
   ]
  },
  {
   "cell_type": "code",
   "execution_count": 64,
   "metadata": {},
   "outputs": [
    {
     "data": {
      "text/plain": [
       "(683277, 22)"
      ]
     },
     "execution_count": 64,
     "metadata": {},
     "output_type": "execute_result"
    }
   ],
   "source": [
    "data.shape"
   ]
  },
  {
   "cell_type": "markdown",
   "metadata": {},
   "source": [
    "# Do you need to reduce the number of columns?"
   ]
  },
  {
   "cell_type": "code",
   "execution_count": 63,
   "metadata": {},
   "outputs": [
    {
     "data": {
      "text/html": [
       "<div>\n",
       "<style scoped>\n",
       "    .dataframe tbody tr th:only-of-type {\n",
       "        vertical-align: middle;\n",
       "    }\n",
       "\n",
       "    .dataframe tbody tr th {\n",
       "        vertical-align: top;\n",
       "    }\n",
       "\n",
       "    .dataframe thead th {\n",
       "        text-align: right;\n",
       "    }\n",
       "</style>\n",
       "<table border=\"1\" class=\"dataframe\">\n",
       "  <thead>\n",
       "    <tr style=\"text-align: right;\">\n",
       "      <th></th>\n",
       "      <th>Organization Group Code</th>\n",
       "      <th>Job Family Code</th>\n",
       "      <th>Job Code</th>\n",
       "      <th>Year Type</th>\n",
       "      <th>Year</th>\n",
       "      <th>Organization Group</th>\n",
       "      <th>Department Code</th>\n",
       "      <th>Department</th>\n",
       "      <th>Union Code</th>\n",
       "      <th>Union</th>\n",
       "      <th>...</th>\n",
       "      <th>Employee Identifier</th>\n",
       "      <th>Salaries</th>\n",
       "      <th>Overtime</th>\n",
       "      <th>Other Salaries</th>\n",
       "      <th>Total Salary</th>\n",
       "      <th>Retirement</th>\n",
       "      <th>Health and Dental</th>\n",
       "      <th>Other Benefits</th>\n",
       "      <th>Total Benefits</th>\n",
       "      <th>Total Compensation</th>\n",
       "    </tr>\n",
       "  </thead>\n",
       "  <tbody>\n",
       "    <tr>\n",
       "      <th>0</th>\n",
       "      <td>1</td>\n",
       "      <td>1000</td>\n",
       "      <td>1021</td>\n",
       "      <td>Calendar</td>\n",
       "      <td>2013</td>\n",
       "      <td>Public Protection</td>\n",
       "      <td>ADP</td>\n",
       "      <td>ADP Adult Probation</td>\n",
       "      <td>21.0</td>\n",
       "      <td>Prof &amp; Tech Engineers - Miscellaneous, Local 21</td>\n",
       "      <td>...</td>\n",
       "      <td>37730</td>\n",
       "      <td>57534.65</td>\n",
       "      <td>0.0</td>\n",
       "      <td>0.00</td>\n",
       "      <td>57534.65</td>\n",
       "      <td>11253.16</td>\n",
       "      <td>11961.34</td>\n",
       "      <td>4532.63</td>\n",
       "      <td>27747.13</td>\n",
       "      <td>85281.78</td>\n",
       "    </tr>\n",
       "    <tr>\n",
       "      <th>1</th>\n",
       "      <td>1</td>\n",
       "      <td>1000</td>\n",
       "      <td>1023</td>\n",
       "      <td>Calendar</td>\n",
       "      <td>2013</td>\n",
       "      <td>Public Protection</td>\n",
       "      <td>ADP</td>\n",
       "      <td>ADP Adult Probation</td>\n",
       "      <td>21.0</td>\n",
       "      <td>Prof &amp; Tech Engineers - Miscellaneous, Local 21</td>\n",
       "      <td>...</td>\n",
       "      <td>26574</td>\n",
       "      <td>57678.50</td>\n",
       "      <td>0.0</td>\n",
       "      <td>0.00</td>\n",
       "      <td>57678.50</td>\n",
       "      <td>10284.88</td>\n",
       "      <td>7176.80</td>\n",
       "      <td>4755.14</td>\n",
       "      <td>22216.82</td>\n",
       "      <td>79895.32</td>\n",
       "    </tr>\n",
       "    <tr>\n",
       "      <th>2</th>\n",
       "      <td>1</td>\n",
       "      <td>1000</td>\n",
       "      <td>1031</td>\n",
       "      <td>Calendar</td>\n",
       "      <td>2013</td>\n",
       "      <td>Public Protection</td>\n",
       "      <td>ADP</td>\n",
       "      <td>ADP Adult Probation</td>\n",
       "      <td>21.0</td>\n",
       "      <td>Prof &amp; Tech Engineers - Miscellaneous, Local 21</td>\n",
       "      <td>...</td>\n",
       "      <td>8148</td>\n",
       "      <td>63532.93</td>\n",
       "      <td>0.0</td>\n",
       "      <td>0.00</td>\n",
       "      <td>63532.93</td>\n",
       "      <td>12495.83</td>\n",
       "      <td>12918.24</td>\n",
       "      <td>4702.71</td>\n",
       "      <td>30116.78</td>\n",
       "      <td>93649.71</td>\n",
       "    </tr>\n",
       "    <tr>\n",
       "      <th>3</th>\n",
       "      <td>1</td>\n",
       "      <td>1000</td>\n",
       "      <td>1054</td>\n",
       "      <td>Calendar</td>\n",
       "      <td>2013</td>\n",
       "      <td>Public Protection</td>\n",
       "      <td>ADP</td>\n",
       "      <td>ADP Adult Probation</td>\n",
       "      <td>21.0</td>\n",
       "      <td>Prof &amp; Tech Engineers - Miscellaneous, Local 21</td>\n",
       "      <td>...</td>\n",
       "      <td>27436</td>\n",
       "      <td>101274.51</td>\n",
       "      <td>0.0</td>\n",
       "      <td>-7058.59</td>\n",
       "      <td>94215.92</td>\n",
       "      <td>19644.45</td>\n",
       "      <td>12918.24</td>\n",
       "      <td>7458.76</td>\n",
       "      <td>40021.45</td>\n",
       "      <td>134237.37</td>\n",
       "    </tr>\n",
       "    <tr>\n",
       "      <th>4</th>\n",
       "      <td>1</td>\n",
       "      <td>1000</td>\n",
       "      <td>1062</td>\n",
       "      <td>Calendar</td>\n",
       "      <td>2013</td>\n",
       "      <td>Public Protection</td>\n",
       "      <td>ADP</td>\n",
       "      <td>ADP Adult Probation</td>\n",
       "      <td>21.0</td>\n",
       "      <td>Prof &amp; Tech Engineers - Miscellaneous, Local 21</td>\n",
       "      <td>...</td>\n",
       "      <td>37730</td>\n",
       "      <td>5084.00</td>\n",
       "      <td>0.0</td>\n",
       "      <td>0.00</td>\n",
       "      <td>5084.00</td>\n",
       "      <td>1083.90</td>\n",
       "      <td>956.91</td>\n",
       "      <td>387.50</td>\n",
       "      <td>2428.31</td>\n",
       "      <td>7512.31</td>\n",
       "    </tr>\n",
       "  </tbody>\n",
       "</table>\n",
       "<p>5 rows × 22 columns</p>\n",
       "</div>"
      ],
      "text/plain": [
       "   Organization Group Code Job Family Code Job Code Year Type  Year  \\\n",
       "0                        1            1000     1021  Calendar  2013   \n",
       "1                        1            1000     1023  Calendar  2013   \n",
       "2                        1            1000     1031  Calendar  2013   \n",
       "3                        1            1000     1054  Calendar  2013   \n",
       "4                        1            1000     1062  Calendar  2013   \n",
       "\n",
       "  Organization Group Department Code           Department  Union Code  \\\n",
       "0  Public Protection             ADP  ADP Adult Probation        21.0   \n",
       "1  Public Protection             ADP  ADP Adult Probation        21.0   \n",
       "2  Public Protection             ADP  ADP Adult Probation        21.0   \n",
       "3  Public Protection             ADP  ADP Adult Probation        21.0   \n",
       "4  Public Protection             ADP  ADP Adult Probation        21.0   \n",
       "\n",
       "                                             Union  ... Employee Identifier  \\\n",
       "0  Prof & Tech Engineers - Miscellaneous, Local 21  ...               37730   \n",
       "1  Prof & Tech Engineers - Miscellaneous, Local 21  ...               26574   \n",
       "2  Prof & Tech Engineers - Miscellaneous, Local 21  ...                8148   \n",
       "3  Prof & Tech Engineers - Miscellaneous, Local 21  ...               27436   \n",
       "4  Prof & Tech Engineers - Miscellaneous, Local 21  ...               37730   \n",
       "\n",
       "    Salaries  Overtime  Other Salaries  Total Salary  Retirement  \\\n",
       "0   57534.65       0.0            0.00      57534.65    11253.16   \n",
       "1   57678.50       0.0            0.00      57678.50    10284.88   \n",
       "2   63532.93       0.0            0.00      63532.93    12495.83   \n",
       "3  101274.51       0.0        -7058.59      94215.92    19644.45   \n",
       "4    5084.00       0.0            0.00       5084.00     1083.90   \n",
       "\n",
       "   Health and Dental  Other Benefits  Total Benefits  Total Compensation  \n",
       "0           11961.34         4532.63        27747.13            85281.78  \n",
       "1            7176.80         4755.14        22216.82            79895.32  \n",
       "2           12918.24         4702.71        30116.78            93649.71  \n",
       "3           12918.24         7458.76        40021.45           134237.37  \n",
       "4             956.91          387.50         2428.31             7512.31  \n",
       "\n",
       "[5 rows x 22 columns]"
      ]
     },
     "execution_count": 63,
     "metadata": {},
     "output_type": "execute_result"
    }
   ],
   "source": [
    "data.head()"
   ]
  },
  {
   "cell_type": "code",
   "execution_count": 6,
   "metadata": {},
   "outputs": [],
   "source": [
    "# We need to reduce the number of columns because some columns does not have impact in our analyses like\n",
    "# Organization Group Code  and others basically is a \"duplicate of columns\" like for example the total salary is a sum\n",
    "# of all salaries paid to City employees.So we can use the parcials salaries in our analyses \n",
    "# variable like Union, Employee Identifier... is just for get idea about our data and these will not have a big\n",
    "# impact in our analyses"
   ]
  },
  {
   "cell_type": "markdown",
   "metadata": {},
   "source": [
    "# Is your data clean?"
   ]
  },
  {
   "cell_type": "code",
   "execution_count": 65,
   "metadata": {},
   "outputs": [
    {
     "data": {
      "text/plain": [
       "Organization Group Code      0\n",
       "Job Family Code              0\n",
       "Job Code                     0\n",
       "Year Type                    0\n",
       "Year                         0\n",
       "Organization Group           0\n",
       "Department Code              2\n",
       "Department                   2\n",
       "Union Code                 351\n",
       "Union                      351\n",
       "Job Family                   0\n",
       "Job                          5\n",
       "Employee Identifier          0\n",
       "Salaries                     0\n",
       "Overtime                     0\n",
       "Other Salaries               0\n",
       "Total Salary                 0\n",
       "Retirement                   0\n",
       "Health and Dental            0\n",
       "Other Benefits               0\n",
       "Total Benefits               0\n",
       "Total Compensation           0\n",
       "dtype: int64"
      ]
     },
     "execution_count": 65,
     "metadata": {},
     "output_type": "execute_result"
    }
   ],
   "source": [
    "data.isnull().sum()"
   ]
  },
  {
   "cell_type": "code",
   "execution_count": 8,
   "metadata": {},
   "outputs": [],
   "source": [
    "# as we can see Our data is not cleaning , we have null value in Department Code ,Department,Union Code,Union  and job\n",
    "# visualize the null column."
   ]
  },
  {
   "cell_type": "code",
   "execution_count": 8,
   "metadata": {},
   "outputs": [
    {
     "data": {
      "text/html": [
       "<div>\n",
       "<style scoped>\n",
       "    .dataframe tbody tr th:only-of-type {\n",
       "        vertical-align: middle;\n",
       "    }\n",
       "\n",
       "    .dataframe tbody tr th {\n",
       "        vertical-align: top;\n",
       "    }\n",
       "\n",
       "    .dataframe thead th {\n",
       "        text-align: right;\n",
       "    }\n",
       "</style>\n",
       "<table border=\"1\" class=\"dataframe\">\n",
       "  <thead>\n",
       "    <tr style=\"text-align: right;\">\n",
       "      <th></th>\n",
       "      <th>Organization Group Code</th>\n",
       "      <th>Job Family Code</th>\n",
       "      <th>Job Code</th>\n",
       "      <th>Year Type</th>\n",
       "      <th>Year</th>\n",
       "      <th>Organization Group</th>\n",
       "      <th>Department Code</th>\n",
       "      <th>Department</th>\n",
       "      <th>Union Code</th>\n",
       "      <th>Union</th>\n",
       "      <th>...</th>\n",
       "      <th>Employee Identifier</th>\n",
       "      <th>Salaries</th>\n",
       "      <th>Overtime</th>\n",
       "      <th>Other Salaries</th>\n",
       "      <th>Total Salary</th>\n",
       "      <th>Retirement</th>\n",
       "      <th>Health and Dental</th>\n",
       "      <th>Other Benefits</th>\n",
       "      <th>Total Benefits</th>\n",
       "      <th>Total Compensation</th>\n",
       "    </tr>\n",
       "  </thead>\n",
       "  <tbody>\n",
       "    <tr>\n",
       "      <th>553552</th>\n",
       "      <td>7</td>\n",
       "      <td>8300</td>\n",
       "      <td>8300</td>\n",
       "      <td>Fiscal</td>\n",
       "      <td>2017</td>\n",
       "      <td>General City Responsibilities</td>\n",
       "      <td>NaN</td>\n",
       "      <td>NaN</td>\n",
       "      <td>790.0</td>\n",
       "      <td>SEIU, Local 1021, Misc</td>\n",
       "      <td>...</td>\n",
       "      <td>37042591</td>\n",
       "      <td>49630.50</td>\n",
       "      <td>15016.51</td>\n",
       "      <td>4575.73</td>\n",
       "      <td>67844.53</td>\n",
       "      <td>10619.27</td>\n",
       "      <td>12779.88</td>\n",
       "      <td>4796.56</td>\n",
       "      <td>28195.71</td>\n",
       "      <td>96040.24</td>\n",
       "    </tr>\n",
       "    <tr>\n",
       "      <th>553553</th>\n",
       "      <td>7</td>\n",
       "      <td>Q000</td>\n",
       "      <td>Q003</td>\n",
       "      <td>Fiscal</td>\n",
       "      <td>2017</td>\n",
       "      <td>General City Responsibilities</td>\n",
       "      <td>NaN</td>\n",
       "      <td>NaN</td>\n",
       "      <td>911.0</td>\n",
       "      <td>POA</td>\n",
       "      <td>...</td>\n",
       "      <td>37069439</td>\n",
       "      <td>116189.62</td>\n",
       "      <td>40990.09</td>\n",
       "      <td>2260.08</td>\n",
       "      <td>159439.79</td>\n",
       "      <td>20076.66</td>\n",
       "      <td>14515.01</td>\n",
       "      <td>2724.05</td>\n",
       "      <td>37315.72</td>\n",
       "      <td>196755.51</td>\n",
       "    </tr>\n",
       "  </tbody>\n",
       "</table>\n",
       "<p>2 rows × 22 columns</p>\n",
       "</div>"
      ],
      "text/plain": [
       "        Organization Group Code Job Family Code Job Code Year Type  Year  \\\n",
       "553552                        7            8300     8300    Fiscal  2017   \n",
       "553553                        7            Q000     Q003    Fiscal  2017   \n",
       "\n",
       "                   Organization Group Department Code Department  Union Code  \\\n",
       "553552  General City Responsibilities             NaN        NaN       790.0   \n",
       "553553  General City Responsibilities             NaN        NaN       911.0   \n",
       "\n",
       "                         Union  ... Employee Identifier   Salaries  Overtime  \\\n",
       "553552  SEIU, Local 1021, Misc  ...            37042591   49630.50  15016.51   \n",
       "553553                     POA  ...            37069439  116189.62  40990.09   \n",
       "\n",
       "        Other Salaries  Total Salary  Retirement  Health and Dental  \\\n",
       "553552         4575.73      67844.53    10619.27           12779.88   \n",
       "553553         2260.08     159439.79    20076.66           14515.01   \n",
       "\n",
       "        Other Benefits  Total Benefits  Total Compensation  \n",
       "553552         4796.56        28195.71            96040.24  \n",
       "553553         2724.05        37315.72           196755.51  \n",
       "\n",
       "[2 rows x 22 columns]"
      ]
     },
     "execution_count": 8,
     "metadata": {},
     "output_type": "execute_result"
    }
   ],
   "source": [
    "data[data['Department Code'].isnull()]"
   ]
  },
  {
   "cell_type": "code",
   "execution_count": 66,
   "metadata": {},
   "outputs": [],
   "source": [
    "data1=data.dropna()"
   ]
  },
  {
   "cell_type": "code",
   "execution_count": 67,
   "metadata": {},
   "outputs": [
    {
     "data": {
      "text/html": [
       "<div>\n",
       "<style scoped>\n",
       "    .dataframe tbody tr th:only-of-type {\n",
       "        vertical-align: middle;\n",
       "    }\n",
       "\n",
       "    .dataframe tbody tr th {\n",
       "        vertical-align: top;\n",
       "    }\n",
       "\n",
       "    .dataframe thead th {\n",
       "        text-align: right;\n",
       "    }\n",
       "</style>\n",
       "<table border=\"1\" class=\"dataframe\">\n",
       "  <thead>\n",
       "    <tr style=\"text-align: right;\">\n",
       "      <th></th>\n",
       "      <th>Organization Group Code</th>\n",
       "      <th>Job Family Code</th>\n",
       "      <th>Job Code</th>\n",
       "      <th>Year Type</th>\n",
       "      <th>Year</th>\n",
       "      <th>Organization Group</th>\n",
       "      <th>Department Code</th>\n",
       "      <th>Department</th>\n",
       "      <th>Union Code</th>\n",
       "      <th>Union</th>\n",
       "      <th>...</th>\n",
       "      <th>Employee Identifier</th>\n",
       "      <th>Salaries</th>\n",
       "      <th>Overtime</th>\n",
       "      <th>Other Salaries</th>\n",
       "      <th>Total Salary</th>\n",
       "      <th>Retirement</th>\n",
       "      <th>Health and Dental</th>\n",
       "      <th>Other Benefits</th>\n",
       "      <th>Total Benefits</th>\n",
       "      <th>Total Compensation</th>\n",
       "    </tr>\n",
       "  </thead>\n",
       "  <tbody>\n",
       "    <tr>\n",
       "      <th>0</th>\n",
       "      <td>1</td>\n",
       "      <td>1000</td>\n",
       "      <td>1021</td>\n",
       "      <td>Calendar</td>\n",
       "      <td>2013</td>\n",
       "      <td>Public Protection</td>\n",
       "      <td>ADP</td>\n",
       "      <td>ADP Adult Probation</td>\n",
       "      <td>21.0</td>\n",
       "      <td>Prof &amp; Tech Engineers - Miscellaneous, Local 21</td>\n",
       "      <td>...</td>\n",
       "      <td>37730</td>\n",
       "      <td>57534.65</td>\n",
       "      <td>0.0</td>\n",
       "      <td>0.00</td>\n",
       "      <td>57534.65</td>\n",
       "      <td>11253.16</td>\n",
       "      <td>11961.34</td>\n",
       "      <td>4532.63</td>\n",
       "      <td>27747.13</td>\n",
       "      <td>85281.78</td>\n",
       "    </tr>\n",
       "    <tr>\n",
       "      <th>1</th>\n",
       "      <td>1</td>\n",
       "      <td>1000</td>\n",
       "      <td>1023</td>\n",
       "      <td>Calendar</td>\n",
       "      <td>2013</td>\n",
       "      <td>Public Protection</td>\n",
       "      <td>ADP</td>\n",
       "      <td>ADP Adult Probation</td>\n",
       "      <td>21.0</td>\n",
       "      <td>Prof &amp; Tech Engineers - Miscellaneous, Local 21</td>\n",
       "      <td>...</td>\n",
       "      <td>26574</td>\n",
       "      <td>57678.50</td>\n",
       "      <td>0.0</td>\n",
       "      <td>0.00</td>\n",
       "      <td>57678.50</td>\n",
       "      <td>10284.88</td>\n",
       "      <td>7176.80</td>\n",
       "      <td>4755.14</td>\n",
       "      <td>22216.82</td>\n",
       "      <td>79895.32</td>\n",
       "    </tr>\n",
       "    <tr>\n",
       "      <th>2</th>\n",
       "      <td>1</td>\n",
       "      <td>1000</td>\n",
       "      <td>1031</td>\n",
       "      <td>Calendar</td>\n",
       "      <td>2013</td>\n",
       "      <td>Public Protection</td>\n",
       "      <td>ADP</td>\n",
       "      <td>ADP Adult Probation</td>\n",
       "      <td>21.0</td>\n",
       "      <td>Prof &amp; Tech Engineers - Miscellaneous, Local 21</td>\n",
       "      <td>...</td>\n",
       "      <td>8148</td>\n",
       "      <td>63532.93</td>\n",
       "      <td>0.0</td>\n",
       "      <td>0.00</td>\n",
       "      <td>63532.93</td>\n",
       "      <td>12495.83</td>\n",
       "      <td>12918.24</td>\n",
       "      <td>4702.71</td>\n",
       "      <td>30116.78</td>\n",
       "      <td>93649.71</td>\n",
       "    </tr>\n",
       "    <tr>\n",
       "      <th>3</th>\n",
       "      <td>1</td>\n",
       "      <td>1000</td>\n",
       "      <td>1054</td>\n",
       "      <td>Calendar</td>\n",
       "      <td>2013</td>\n",
       "      <td>Public Protection</td>\n",
       "      <td>ADP</td>\n",
       "      <td>ADP Adult Probation</td>\n",
       "      <td>21.0</td>\n",
       "      <td>Prof &amp; Tech Engineers - Miscellaneous, Local 21</td>\n",
       "      <td>...</td>\n",
       "      <td>27436</td>\n",
       "      <td>101274.51</td>\n",
       "      <td>0.0</td>\n",
       "      <td>-7058.59</td>\n",
       "      <td>94215.92</td>\n",
       "      <td>19644.45</td>\n",
       "      <td>12918.24</td>\n",
       "      <td>7458.76</td>\n",
       "      <td>40021.45</td>\n",
       "      <td>134237.37</td>\n",
       "    </tr>\n",
       "    <tr>\n",
       "      <th>4</th>\n",
       "      <td>1</td>\n",
       "      <td>1000</td>\n",
       "      <td>1062</td>\n",
       "      <td>Calendar</td>\n",
       "      <td>2013</td>\n",
       "      <td>Public Protection</td>\n",
       "      <td>ADP</td>\n",
       "      <td>ADP Adult Probation</td>\n",
       "      <td>21.0</td>\n",
       "      <td>Prof &amp; Tech Engineers - Miscellaneous, Local 21</td>\n",
       "      <td>...</td>\n",
       "      <td>37730</td>\n",
       "      <td>5084.00</td>\n",
       "      <td>0.0</td>\n",
       "      <td>0.00</td>\n",
       "      <td>5084.00</td>\n",
       "      <td>1083.90</td>\n",
       "      <td>956.91</td>\n",
       "      <td>387.50</td>\n",
       "      <td>2428.31</td>\n",
       "      <td>7512.31</td>\n",
       "    </tr>\n",
       "    <tr>\n",
       "      <th>...</th>\n",
       "      <td>...</td>\n",
       "      <td>...</td>\n",
       "      <td>...</td>\n",
       "      <td>...</td>\n",
       "      <td>...</td>\n",
       "      <td>...</td>\n",
       "      <td>...</td>\n",
       "      <td>...</td>\n",
       "      <td>...</td>\n",
       "      <td>...</td>\n",
       "      <td>...</td>\n",
       "      <td>...</td>\n",
       "      <td>...</td>\n",
       "      <td>...</td>\n",
       "      <td>...</td>\n",
       "      <td>...</td>\n",
       "      <td>...</td>\n",
       "      <td>...</td>\n",
       "      <td>...</td>\n",
       "      <td>...</td>\n",
       "      <td>...</td>\n",
       "    </tr>\n",
       "    <tr>\n",
       "      <th>683272</th>\n",
       "      <td>6</td>\n",
       "      <td>4300</td>\n",
       "      <td>4334</td>\n",
       "      <td>Fiscal</td>\n",
       "      <td>2020</td>\n",
       "      <td>General Administration &amp; Finance</td>\n",
       "      <td>TTX</td>\n",
       "      <td>Treasurer/Tax Collector</td>\n",
       "      <td>790.0</td>\n",
       "      <td>SEIU, Local 1021, Misc</td>\n",
       "      <td>...</td>\n",
       "      <td>43836214</td>\n",
       "      <td>98444.94</td>\n",
       "      <td>0.0</td>\n",
       "      <td>0.00</td>\n",
       "      <td>98444.94</td>\n",
       "      <td>20540.24</td>\n",
       "      <td>15275.18</td>\n",
       "      <td>8019.49</td>\n",
       "      <td>43834.91</td>\n",
       "      <td>142279.85</td>\n",
       "    </tr>\n",
       "    <tr>\n",
       "      <th>683273</th>\n",
       "      <td>6</td>\n",
       "      <td>4300</td>\n",
       "      <td>4334</td>\n",
       "      <td>Fiscal</td>\n",
       "      <td>2020</td>\n",
       "      <td>General Administration &amp; Finance</td>\n",
       "      <td>TTX</td>\n",
       "      <td>Treasurer/Tax Collector</td>\n",
       "      <td>790.0</td>\n",
       "      <td>SEIU, Local 1021, Misc</td>\n",
       "      <td>...</td>\n",
       "      <td>43966403</td>\n",
       "      <td>9416.71</td>\n",
       "      <td>0.0</td>\n",
       "      <td>0.00</td>\n",
       "      <td>9416.71</td>\n",
       "      <td>1904.43</td>\n",
       "      <td>1468.77</td>\n",
       "      <td>743.51</td>\n",
       "      <td>4116.71</td>\n",
       "      <td>13533.42</td>\n",
       "    </tr>\n",
       "    <tr>\n",
       "      <th>683274</th>\n",
       "      <td>6</td>\n",
       "      <td>4300</td>\n",
       "      <td>4334</td>\n",
       "      <td>Fiscal</td>\n",
       "      <td>2020</td>\n",
       "      <td>General Administration &amp; Finance</td>\n",
       "      <td>TTX</td>\n",
       "      <td>Treasurer/Tax Collector</td>\n",
       "      <td>790.0</td>\n",
       "      <td>SEIU, Local 1021, Misc</td>\n",
       "      <td>...</td>\n",
       "      <td>44016180</td>\n",
       "      <td>96475.00</td>\n",
       "      <td>0.0</td>\n",
       "      <td>576.00</td>\n",
       "      <td>97051.00</td>\n",
       "      <td>20241.56</td>\n",
       "      <td>14100.16</td>\n",
       "      <td>7897.00</td>\n",
       "      <td>42238.72</td>\n",
       "      <td>139289.72</td>\n",
       "    </tr>\n",
       "    <tr>\n",
       "      <th>683275</th>\n",
       "      <td>6</td>\n",
       "      <td>4300</td>\n",
       "      <td>4337</td>\n",
       "      <td>Fiscal</td>\n",
       "      <td>2020</td>\n",
       "      <td>General Administration &amp; Finance</td>\n",
       "      <td>TTX</td>\n",
       "      <td>Treasurer/Tax Collector</td>\n",
       "      <td>790.0</td>\n",
       "      <td>SEIU, Local 1021, Misc</td>\n",
       "      <td>...</td>\n",
       "      <td>42423439</td>\n",
       "      <td>115943.00</td>\n",
       "      <td>0.0</td>\n",
       "      <td>0.00</td>\n",
       "      <td>115943.00</td>\n",
       "      <td>24188.37</td>\n",
       "      <td>15275.18</td>\n",
       "      <td>9018.34</td>\n",
       "      <td>48481.89</td>\n",
       "      <td>164424.89</td>\n",
       "    </tr>\n",
       "    <tr>\n",
       "      <th>683276</th>\n",
       "      <td>6</td>\n",
       "      <td>4300</td>\n",
       "      <td>4337</td>\n",
       "      <td>Fiscal</td>\n",
       "      <td>2020</td>\n",
       "      <td>General Administration &amp; Finance</td>\n",
       "      <td>TTX</td>\n",
       "      <td>Treasurer/Tax Collector</td>\n",
       "      <td>790.0</td>\n",
       "      <td>SEIU, Local 1021, Misc</td>\n",
       "      <td>...</td>\n",
       "      <td>42439576</td>\n",
       "      <td>115943.00</td>\n",
       "      <td>504.9</td>\n",
       "      <td>0.00</td>\n",
       "      <td>116447.90</td>\n",
       "      <td>24188.37</td>\n",
       "      <td>15275.18</td>\n",
       "      <td>9516.61</td>\n",
       "      <td>48980.16</td>\n",
       "      <td>165428.06</td>\n",
       "    </tr>\n",
       "  </tbody>\n",
       "</table>\n",
       "<p>682919 rows × 22 columns</p>\n",
       "</div>"
      ],
      "text/plain": [
       "        Organization Group Code Job Family Code Job Code Year Type  Year  \\\n",
       "0                             1            1000     1021  Calendar  2013   \n",
       "1                             1            1000     1023  Calendar  2013   \n",
       "2                             1            1000     1031  Calendar  2013   \n",
       "3                             1            1000     1054  Calendar  2013   \n",
       "4                             1            1000     1062  Calendar  2013   \n",
       "...                         ...             ...      ...       ...   ...   \n",
       "683272                        6            4300     4334    Fiscal  2020   \n",
       "683273                        6            4300     4334    Fiscal  2020   \n",
       "683274                        6            4300     4334    Fiscal  2020   \n",
       "683275                        6            4300     4337    Fiscal  2020   \n",
       "683276                        6            4300     4337    Fiscal  2020   \n",
       "\n",
       "                      Organization Group Department Code  \\\n",
       "0                      Public Protection             ADP   \n",
       "1                      Public Protection             ADP   \n",
       "2                      Public Protection             ADP   \n",
       "3                      Public Protection             ADP   \n",
       "4                      Public Protection             ADP   \n",
       "...                                  ...             ...   \n",
       "683272  General Administration & Finance             TTX   \n",
       "683273  General Administration & Finance             TTX   \n",
       "683274  General Administration & Finance             TTX   \n",
       "683275  General Administration & Finance             TTX   \n",
       "683276  General Administration & Finance             TTX   \n",
       "\n",
       "                     Department  Union Code  \\\n",
       "0           ADP Adult Probation        21.0   \n",
       "1           ADP Adult Probation        21.0   \n",
       "2           ADP Adult Probation        21.0   \n",
       "3           ADP Adult Probation        21.0   \n",
       "4           ADP Adult Probation        21.0   \n",
       "...                         ...         ...   \n",
       "683272  Treasurer/Tax Collector       790.0   \n",
       "683273  Treasurer/Tax Collector       790.0   \n",
       "683274  Treasurer/Tax Collector       790.0   \n",
       "683275  Treasurer/Tax Collector       790.0   \n",
       "683276  Treasurer/Tax Collector       790.0   \n",
       "\n",
       "                                                  Union  ...  \\\n",
       "0       Prof & Tech Engineers - Miscellaneous, Local 21  ...   \n",
       "1       Prof & Tech Engineers - Miscellaneous, Local 21  ...   \n",
       "2       Prof & Tech Engineers - Miscellaneous, Local 21  ...   \n",
       "3       Prof & Tech Engineers - Miscellaneous, Local 21  ...   \n",
       "4       Prof & Tech Engineers - Miscellaneous, Local 21  ...   \n",
       "...                                                 ...  ...   \n",
       "683272                           SEIU, Local 1021, Misc  ...   \n",
       "683273                           SEIU, Local 1021, Misc  ...   \n",
       "683274                           SEIU, Local 1021, Misc  ...   \n",
       "683275                           SEIU, Local 1021, Misc  ...   \n",
       "683276                           SEIU, Local 1021, Misc  ...   \n",
       "\n",
       "       Employee Identifier   Salaries  Overtime  Other Salaries  Total Salary  \\\n",
       "0                    37730   57534.65       0.0            0.00      57534.65   \n",
       "1                    26574   57678.50       0.0            0.00      57678.50   \n",
       "2                     8148   63532.93       0.0            0.00      63532.93   \n",
       "3                    27436  101274.51       0.0        -7058.59      94215.92   \n",
       "4                    37730    5084.00       0.0            0.00       5084.00   \n",
       "...                    ...        ...       ...             ...           ...   \n",
       "683272            43836214   98444.94       0.0            0.00      98444.94   \n",
       "683273            43966403    9416.71       0.0            0.00       9416.71   \n",
       "683274            44016180   96475.00       0.0          576.00      97051.00   \n",
       "683275            42423439  115943.00       0.0            0.00     115943.00   \n",
       "683276            42439576  115943.00     504.9            0.00     116447.90   \n",
       "\n",
       "        Retirement  Health and Dental  Other Benefits  Total Benefits  \\\n",
       "0         11253.16           11961.34         4532.63        27747.13   \n",
       "1         10284.88            7176.80         4755.14        22216.82   \n",
       "2         12495.83           12918.24         4702.71        30116.78   \n",
       "3         19644.45           12918.24         7458.76        40021.45   \n",
       "4          1083.90             956.91          387.50         2428.31   \n",
       "...            ...                ...             ...             ...   \n",
       "683272    20540.24           15275.18         8019.49        43834.91   \n",
       "683273     1904.43            1468.77          743.51         4116.71   \n",
       "683274    20241.56           14100.16         7897.00        42238.72   \n",
       "683275    24188.37           15275.18         9018.34        48481.89   \n",
       "683276    24188.37           15275.18         9516.61        48980.16   \n",
       "\n",
       "        Total Compensation  \n",
       "0                 85281.78  \n",
       "1                 79895.32  \n",
       "2                 93649.71  \n",
       "3                134237.37  \n",
       "4                  7512.31  \n",
       "...                    ...  \n",
       "683272           142279.85  \n",
       "683273            13533.42  \n",
       "683274           139289.72  \n",
       "683275           164424.89  \n",
       "683276           165428.06  \n",
       "\n",
       "[682919 rows x 22 columns]"
      ]
     },
     "execution_count": 67,
     "metadata": {},
     "output_type": "execute_result"
    }
   ],
   "source": [
    "data1"
   ]
  },
  {
   "cell_type": "code",
   "execution_count": 68,
   "metadata": {},
   "outputs": [
    {
     "name": "stdout",
     "output_type": "stream",
     "text": [
      "(683277, 22)\n",
      "(682919, 22)\n"
     ]
    }
   ],
   "source": [
    "print (data.shape)\n",
    "print (data1.shape)"
   ]
  },
  {
   "cell_type": "code",
   "execution_count": 44,
   "metadata": {},
   "outputs": [
    {
     "name": "stdout",
     "output_type": "stream",
     "text": [
      "<class 'pandas.core.frame.DataFrame'>\n",
      "Int64Index: 682919 entries, 1 to 6\n",
      "Data columns (total 21 columns):\n",
      " #   Column               Non-Null Count   Dtype  \n",
      "---  ------               --------------   -----  \n",
      " 0   Job Family Code      682919 non-null  object \n",
      " 1   Job Code             682919 non-null  object \n",
      " 2   Year Type            682919 non-null  object \n",
      " 3   Year                 682919 non-null  int64  \n",
      " 4   Organization Group   682919 non-null  object \n",
      " 5   Department Code      682919 non-null  object \n",
      " 6   Department           682919 non-null  object \n",
      " 7   Union Code           682919 non-null  float64\n",
      " 8   Union                682919 non-null  object \n",
      " 9   Job Family           682919 non-null  object \n",
      " 10  Job                  682919 non-null  object \n",
      " 11  Employee Identifier  682919 non-null  int64  \n",
      " 12  Salaries             682919 non-null  float64\n",
      " 13  Overtime             682919 non-null  float64\n",
      " 14  Other Salaries       682919 non-null  float64\n",
      " 15  Total Salary         682919 non-null  float64\n",
      " 16  Retirement           682919 non-null  float64\n",
      " 17  Health and Dental    682919 non-null  float64\n",
      " 18  Other Benefits       682919 non-null  float64\n",
      " 19  Total Benefits       682919 non-null  float64\n",
      " 20  Total Compensation   682919 non-null  float64\n",
      "dtypes: float64(10), int64(2), object(9)\n",
      "memory usage: 114.6+ MB\n"
     ]
    }
   ],
   "source": [
    "# see the info about my new data\n",
    "data1.info()"
   ]
  },
  {
   "cell_type": "code",
   "execution_count": 45,
   "metadata": {},
   "outputs": [
    {
     "data": {
      "text/plain": [
       "Job Family Code        0\n",
       "Job Code               0\n",
       "Year Type              0\n",
       "Year                   0\n",
       "Organization Group     0\n",
       "Department Code        0\n",
       "Department             0\n",
       "Union Code             0\n",
       "Union                  0\n",
       "Job Family             0\n",
       "Job                    0\n",
       "Employee Identifier    0\n",
       "Salaries               0\n",
       "Overtime               0\n",
       "Other Salaries         0\n",
       "Total Salary           0\n",
       "Retirement             0\n",
       "Health and Dental      0\n",
       "Other Benefits         0\n",
       "Total Benefits         0\n",
       "Total Compensation     0\n",
       "dtype: int64"
      ]
     },
     "execution_count": 45,
     "metadata": {},
     "output_type": "execute_result"
    }
   ],
   "source": [
    "data1.isnull().sum()"
   ]
  },
  {
   "cell_type": "code",
   "execution_count": 15,
   "metadata": {},
   "outputs": [
    {
     "name": "stdout",
     "output_type": "stream",
     "text": [
      "column Organization Group Code  has : 7 Unique values\n",
      "column Job Family Code  has : 59 Unique values\n",
      "column Job Code  has : 1210 Unique values\n",
      "column Year Type  has : 2 Unique values\n",
      "column Year  has : 8 Unique values\n",
      "column Organization Group  has : 7 Unique values\n",
      "column Department Code  has : 60 Unique values\n",
      "column Department  has : 109 Unique values\n",
      "column Union Code  has : 70 Unique values\n",
      "column Union  has : 129 Unique values\n",
      "column Job Family  has : 59 Unique values\n",
      "column Job  has : 1348 Unique values\n",
      "column Employee Identifier  has : 309658 Unique values\n",
      "column Salaries  has : 498267 Unique values\n",
      "column Overtime  has : 261976 Unique values\n",
      "column Other Salaries  has : 307729 Unique values\n",
      "column Total Salary  has : 614930 Unique values\n",
      "column Retirement  has : 451568 Unique values\n",
      "column Health and Dental  has : 209844 Unique values\n",
      "column Other Benefits  has : 496051 Unique values\n",
      "column Total Benefits  has : 616180 Unique values\n",
      "column Total Compensation  has : 658354 Unique values\n"
     ]
    }
   ],
   "source": [
    "# see the unique value for each column \n",
    "col_name=data1.columns\n",
    "for i in col_name:\n",
    "    print('column',i,' has :',data1[i].nunique(),\"Unique values\")"
   ]
  },
  {
   "cell_type": "code",
   "execution_count": 16,
   "metadata": {},
   "outputs": [
    {
     "data": {
      "text/plain": [
       "array(['IS Administrator 1', 'IS Administrator 3', 'IS Trainer-Assistant',\n",
       "       ..., 'Customer Service Rep Trainee', 'Customer Service Rep Spv',\n",
       "       'Mayoral Staff I'], dtype=object)"
      ]
     },
     "execution_count": 16,
     "metadata": {},
     "output_type": "execute_result"
    }
   ],
   "source": [
    "data1.Job.unique()"
   ]
  },
  {
   "cell_type": "code",
   "execution_count": 17,
   "metadata": {},
   "outputs": [
    {
     "data": {
      "text/plain": [
       "Organization Group Code      int64\n",
       "Job Family Code             object\n",
       "Job Code                    object\n",
       "Year Type                   object\n",
       "Year                         int64\n",
       "Organization Group          object\n",
       "Department Code             object\n",
       "Department                  object\n",
       "Union Code                 float64\n",
       "Union                       object\n",
       "Job Family                  object\n",
       "Job                         object\n",
       "Employee Identifier          int64\n",
       "Salaries                   float64\n",
       "Overtime                   float64\n",
       "Other Salaries             float64\n",
       "Total Salary               float64\n",
       "Retirement                 float64\n",
       "Health and Dental          float64\n",
       "Other Benefits             float64\n",
       "Total Benefits             float64\n",
       "Total Compensation         float64\n",
       "dtype: object"
      ]
     },
     "execution_count": 17,
     "metadata": {},
     "output_type": "execute_result"
    }
   ],
   "source": [
    "data1.dtypes"
   ]
  },
  {
   "cell_type": "markdown",
   "metadata": {},
   "source": [
    "# What all parameters do we need to give to our clustering algorithm?"
   ]
  },
  {
   "cell_type": "markdown",
   "metadata": {},
   "source": [
    "We need parameters that will have an impact on our analyses so for the clustering algorithm I will choose 4 parameters that are: Salaries 'Overtime', 'Other Salaries', 'Retirement','Health and Dental', 'Other Benefits']]\n",
    "\n",
    "As we can see in the described problem: Normal salaries paid to permanent or temporary City employee so we have to include it because is important for analyses Overtime is the fact a kind of salary, but I include it in our analyses because we have an employee who would be temporary or not work 40h. Those employees are not include in the overtime category Other Salaries like the problem described, it may include SC, irregular payments made to City employees including premium pay,"
   ]
  },
  {
   "cell_type": "markdown",
   "metadata": {},
   "source": [
    "# drop all variable that we do not need\n"
   ]
  },
  {
   "cell_type": "code",
   "execution_count": 69,
   "metadata": {},
   "outputs": [
    {
     "name": "stdout",
     "output_type": "stream",
     "text": [
      "<class 'pandas.core.frame.DataFrame'>\n",
      "Int64Index: 682919 entries, 0 to 683276\n",
      "Data columns (total 22 columns):\n",
      " #   Column                   Non-Null Count   Dtype  \n",
      "---  ------                   --------------   -----  \n",
      " 0   Organization Group Code  682919 non-null  int64  \n",
      " 1   Job Family Code          682919 non-null  object \n",
      " 2   Job Code                 682919 non-null  object \n",
      " 3   Year Type                682919 non-null  object \n",
      " 4   Year                     682919 non-null  int64  \n",
      " 5   Organization Group       682919 non-null  object \n",
      " 6   Department Code          682919 non-null  object \n",
      " 7   Department               682919 non-null  object \n",
      " 8   Union Code               682919 non-null  float64\n",
      " 9   Union                    682919 non-null  object \n",
      " 10  Job Family               682919 non-null  object \n",
      " 11  Job                      682919 non-null  object \n",
      " 12  Employee Identifier      682919 non-null  int64  \n",
      " 13  Salaries                 682919 non-null  float64\n",
      " 14  Overtime                 682919 non-null  float64\n",
      " 15  Other Salaries           682919 non-null  float64\n",
      " 16  Total Salary             682919 non-null  float64\n",
      " 17  Retirement               682919 non-null  float64\n",
      " 18  Health and Dental        682919 non-null  float64\n",
      " 19  Other Benefits           682919 non-null  float64\n",
      " 20  Total Benefits           682919 non-null  float64\n",
      " 21  Total Compensation       682919 non-null  float64\n",
      "dtypes: float64(10), int64(3), object(9)\n",
      "memory usage: 119.8+ MB\n"
     ]
    }
   ],
   "source": [
    "data1.info()"
   ]
  },
  {
   "cell_type": "code",
   "execution_count": 71,
   "metadata": {},
   "outputs": [],
   "source": [
    "features_to_drop=['Organization Group Code','Job Family Code','Job Code','Year Type','Organization Group','Department Code',\n",
    "                  'Department','Union','Job Family','Job',\n",
    "       'Year','Union Code','Employee Identifier', 'Total Salary', 'Total Benefits',\n",
    "       'Total Compensation']"
   ]
  },
  {
   "cell_type": "code",
   "execution_count": 103,
   "metadata": {},
   "outputs": [],
   "source": [
    "final_data=data1.drop(features_to_drop,axis=1)"
   ]
  },
  {
   "cell_type": "code",
   "execution_count": 50,
   "metadata": {},
   "outputs": [
    {
     "name": "stdout",
     "output_type": "stream",
     "text": [
      "<class 'pandas.core.frame.DataFrame'>\n",
      "Int64Index: 682919 entries, 0 to 683276\n",
      "Data columns (total 6 columns):\n",
      " #   Column             Non-Null Count   Dtype  \n",
      "---  ------             --------------   -----  \n",
      " 0   Salaries           682919 non-null  float64\n",
      " 1   Overtime           682919 non-null  float64\n",
      " 2   Other Salaries     682919 non-null  float64\n",
      " 3   Retirement         682919 non-null  float64\n",
      " 4   Health and Dental  682919 non-null  float64\n",
      " 5   Other Benefits     682919 non-null  float64\n",
      "dtypes: float64(6)\n",
      "memory usage: 56.5 MB\n"
     ]
    }
   ],
   "source": [
    "final_data.info()"
   ]
  },
  {
   "cell_type": "code",
   "execution_count": 22,
   "metadata": {},
   "outputs": [
    {
     "name": "stderr",
     "output_type": "stream",
     "text": [
      "C:\\Users\\marce\\anaconda3\\lib\\site-packages\\seaborn\\distributions.py:2551: FutureWarning: `distplot` is a deprecated function and will be removed in a future version. Please adapt your code to use either `displot` (a figure-level function with similar flexibility) or `histplot` (an axes-level function for histograms).\n",
      "  warnings.warn(msg, FutureWarning)\n"
     ]
    },
    {
     "data": {
      "image/png": "[encoded data removed]",
      "text/plain": [
       "<Figure size 432x288 with 1 Axes>"
      ]
     },
     "metadata": {
      "needs_background": "light"
     },
     "output_type": "display_data"
    }
   ],
   "source": [
    "sns.distplot(data1['Health and Dental'])\n",
    "plt.show()"
   ]
  },
  {
   "cell_type": "markdown",
   "metadata": {},
   "source": [
    "Skewness is a measure of symmetry, or more precisely, the lack of symmetry. A distribution, or data set, is symmetric if it looks the same to the left and right of the center point.\n",
    "\n",
    "Kurtosis is a measure of whether the data are heavy-tailed or light-tailed relative to a normal distribution. That is, data sets with high kurtosis tend to have heavy tails, or outliers. Data sets with low kurtosis tend to have light tails, or a lack of outliers. A uniform distribution would be the extreme case.\n",
    "\n",
    "==============================================================\n",
    "\n",
    "https://www.itl.nist.gov/div898/handbook/eda/section3/eda35b.htm#:~:text=Skewness%20is%20a%20measure%20of,precisely%2C%20the%20lack%20of%20symmetry.&text=Kurtosis%20is%20a%20measure%20of,have%20heavy%20tails%2C%20or%20outlier"
   ]
  },
  {
   "cell_type": "code",
   "execution_count": 23,
   "metadata": {},
   "outputs": [
    {
     "name": "stdout",
     "output_type": "stream",
     "text": [
      "Skewness: 0.575171\n",
      "Kurtosis: 0.711238\n"
     ]
    }
   ],
   "source": [
    "print(\"Skewness: %f\" % data1['Salaries'].skew())\n",
    "print(\"Kurtosis: %f\" % data1['Salaries'].kurt())\n"
   ]
  },
  {
   "cell_type": "code",
   "execution_count": 24,
   "metadata": {},
   "outputs": [
    {
     "data": {
      "text/plain": [
       "<AxesSubplot:ylabel='count'>"
      ]
     },
     "execution_count": 24,
     "metadata": {},
     "output_type": "execute_result"
    },
    {
     "data": {
      "image/png": "[encoded data removed]",
      "text/plain": [
       "<Figure size 864x360 with 1 Axes>"
      ]
     },
     "metadata": {
      "needs_background": "light"
     },
     "output_type": "display_data"
    }
   ],
   "source": [
    "# let's see the range salary , overtime and all others informatiom for those variable that i considered by ploting the bar plot\n",
    "fig_dims = (12, 5)\n",
    "fig, ax = plt.subplots(figsize=fig_dims)\n",
    "sns.countplot(data=final_data)"
   ]
  },
  {
   "cell_type": "code",
   "execution_count": null,
   "metadata": {},
   "outputs": [],
   "source": []
  },
  {
   "cell_type": "code",
   "execution_count": 73,
   "metadata": {},
   "outputs": [],
   "source": [
    "from sklearn.cluster import KMeans"
   ]
  },
  {
   "cell_type": "code",
   "execution_count": 74,
   "metadata": {},
   "outputs": [
    {
     "data": {
      "text/plain": [
       "KMeans(n_clusters=3)"
      ]
     },
     "execution_count": 74,
     "metadata": {},
     "output_type": "execute_result"
    }
   ],
   "source": [
    "kmeans=KMeans(n_clusters=3)\n",
    "kmeans"
   ]
  },
  {
   "cell_type": "markdown",
   "metadata": {},
   "source": [
    "# fit the data to a clustering model."
   ]
  },
  {
   "cell_type": "code",
   "execution_count": 53,
   "metadata": {},
   "outputs": [],
   "source": [
    "y_predict=kmeans.fit_predict(data1[[ 'Salaries', 'Overtime', 'Other Salaries', 'Retirement',\n",
    "       'Health and Dental', 'Other Benefits']])"
   ]
  },
  {
   "cell_type": "code",
   "execution_count": 54,
   "metadata": {},
   "outputs": [
    {
     "name": "stdout",
     "output_type": "stream",
     "text": [
      "[[ 73354.83187703   5699.21139785   3267.55032415  14826.59485629\n",
      "   12584.60460496   6056.8034754 ]\n",
      " [ 15301.38602918    567.57889815   1543.77066127   2285.7645795\n",
      "    2864.03739998   1324.5149819 ]\n",
      " [134951.53064213  11659.20302448   7998.81778347  26709.87174741\n",
      "   14272.62207492   8034.375513  ]]\n"
     ]
    }
   ],
   "source": [
    "print(kmeans.cluster_centers_)"
   ]
  },
  {
   "cell_type": "code",
   "execution_count": 55,
   "metadata": {},
   "outputs": [
    {
     "name": "stdout",
     "output_type": "stream",
     "text": [
      "[0 0 0 ... 0 2 2]\n"
     ]
    }
   ],
   "source": [
    "y=kmeans.labels_\n",
    "print(y)"
   ]
  },
  {
   "cell_type": "code",
   "execution_count": 56,
   "metadata": {},
   "outputs": [
    {
     "data": {
      "text/html": [
       "<div>\n",
       "<style scoped>\n",
       "    .dataframe tbody tr th:only-of-type {\n",
       "        vertical-align: middle;\n",
       "    }\n",
       "\n",
       "    .dataframe tbody tr th {\n",
       "        vertical-align: top;\n",
       "    }\n",
       "\n",
       "    .dataframe thead th {\n",
       "        text-align: right;\n",
       "    }\n",
       "</style>\n",
       "<table border=\"1\" class=\"dataframe\">\n",
       "  <thead>\n",
       "    <tr style=\"text-align: right;\">\n",
       "      <th></th>\n",
       "      <th>Salaries</th>\n",
       "      <th>Overtime</th>\n",
       "      <th>Other Salaries</th>\n",
       "      <th>Retirement</th>\n",
       "      <th>Health and Dental</th>\n",
       "      <th>Other Benefits</th>\n",
       "      <th>cluster</th>\n",
       "    </tr>\n",
       "  </thead>\n",
       "  <tbody>\n",
       "    <tr>\n",
       "      <th>0</th>\n",
       "      <td>57534.65</td>\n",
       "      <td>0.0</td>\n",
       "      <td>0.00</td>\n",
       "      <td>11253.16</td>\n",
       "      <td>11961.34</td>\n",
       "      <td>4532.63</td>\n",
       "      <td>0</td>\n",
       "    </tr>\n",
       "    <tr>\n",
       "      <th>1</th>\n",
       "      <td>57678.50</td>\n",
       "      <td>0.0</td>\n",
       "      <td>0.00</td>\n",
       "      <td>10284.88</td>\n",
       "      <td>7176.80</td>\n",
       "      <td>4755.14</td>\n",
       "      <td>0</td>\n",
       "    </tr>\n",
       "    <tr>\n",
       "      <th>2</th>\n",
       "      <td>63532.93</td>\n",
       "      <td>0.0</td>\n",
       "      <td>0.00</td>\n",
       "      <td>12495.83</td>\n",
       "      <td>12918.24</td>\n",
       "      <td>4702.71</td>\n",
       "      <td>0</td>\n",
       "    </tr>\n",
       "    <tr>\n",
       "      <th>3</th>\n",
       "      <td>101274.51</td>\n",
       "      <td>0.0</td>\n",
       "      <td>-7058.59</td>\n",
       "      <td>19644.45</td>\n",
       "      <td>12918.24</td>\n",
       "      <td>7458.76</td>\n",
       "      <td>0</td>\n",
       "    </tr>\n",
       "    <tr>\n",
       "      <th>4</th>\n",
       "      <td>5084.00</td>\n",
       "      <td>0.0</td>\n",
       "      <td>0.00</td>\n",
       "      <td>1083.90</td>\n",
       "      <td>956.91</td>\n",
       "      <td>387.50</td>\n",
       "      <td>1</td>\n",
       "    </tr>\n",
       "    <tr>\n",
       "      <th>5</th>\n",
       "      <td>34456.00</td>\n",
       "      <td>0.0</td>\n",
       "      <td>0.00</td>\n",
       "      <td>7346.00</td>\n",
       "      <td>3827.63</td>\n",
       "      <td>2579.95</td>\n",
       "      <td>1</td>\n",
       "    </tr>\n",
       "    <tr>\n",
       "      <th>6</th>\n",
       "      <td>139889.00</td>\n",
       "      <td>0.0</td>\n",
       "      <td>0.00</td>\n",
       "      <td>26799.23</td>\n",
       "      <td>12918.24</td>\n",
       "      <td>9791.54</td>\n",
       "      <td>2</td>\n",
       "    </tr>\n",
       "    <tr>\n",
       "      <th>7</th>\n",
       "      <td>46572.00</td>\n",
       "      <td>0.0</td>\n",
       "      <td>0.00</td>\n",
       "      <td>9929.16</td>\n",
       "      <td>5741.44</td>\n",
       "      <td>3822.28</td>\n",
       "      <td>0</td>\n",
       "    </tr>\n",
       "    <tr>\n",
       "      <th>8</th>\n",
       "      <td>84681.53</td>\n",
       "      <td>0.0</td>\n",
       "      <td>0.00</td>\n",
       "      <td>16661.84</td>\n",
       "      <td>12918.24</td>\n",
       "      <td>6838.44</td>\n",
       "      <td>0</td>\n",
       "    </tr>\n",
       "    <tr>\n",
       "      <th>9</th>\n",
       "      <td>10611.01</td>\n",
       "      <td>0.0</td>\n",
       "      <td>0.00</td>\n",
       "      <td>1879.20</td>\n",
       "      <td>1435.36</td>\n",
       "      <td>827.09</td>\n",
       "      <td>1</td>\n",
       "    </tr>\n",
       "    <tr>\n",
       "      <th>10</th>\n",
       "      <td>43171.50</td>\n",
       "      <td>0.0</td>\n",
       "      <td>0.00</td>\n",
       "      <td>9061.62</td>\n",
       "      <td>6698.35</td>\n",
       "      <td>3502.18</td>\n",
       "      <td>1</td>\n",
       "    </tr>\n",
       "    <tr>\n",
       "      <th>11</th>\n",
       "      <td>3155.01</td>\n",
       "      <td>0.0</td>\n",
       "      <td>0.00</td>\n",
       "      <td>574.53</td>\n",
       "      <td>0.00</td>\n",
       "      <td>218.78</td>\n",
       "      <td>1</td>\n",
       "    </tr>\n",
       "    <tr>\n",
       "      <th>12</th>\n",
       "      <td>10611.00</td>\n",
       "      <td>0.0</td>\n",
       "      <td>0.00</td>\n",
       "      <td>1879.20</td>\n",
       "      <td>1435.36</td>\n",
       "      <td>804.35</td>\n",
       "      <td>1</td>\n",
       "    </tr>\n",
       "    <tr>\n",
       "      <th>13</th>\n",
       "      <td>38491.83</td>\n",
       "      <td>0.0</td>\n",
       "      <td>0.00</td>\n",
       "      <td>8161.75</td>\n",
       "      <td>6028.51</td>\n",
       "      <td>3094.21</td>\n",
       "      <td>1</td>\n",
       "    </tr>\n",
       "    <tr>\n",
       "      <th>14</th>\n",
       "      <td>54645.50</td>\n",
       "      <td>0.0</td>\n",
       "      <td>0.00</td>\n",
       "      <td>10473.72</td>\n",
       "      <td>8612.16</td>\n",
       "      <td>4389.44</td>\n",
       "      <td>0</td>\n",
       "    </tr>\n",
       "    <tr>\n",
       "      <th>15</th>\n",
       "      <td>91826.22</td>\n",
       "      <td>0.0</td>\n",
       "      <td>0.00</td>\n",
       "      <td>18072.56</td>\n",
       "      <td>12918.24</td>\n",
       "      <td>7811.62</td>\n",
       "      <td>0</td>\n",
       "    </tr>\n",
       "    <tr>\n",
       "      <th>16</th>\n",
       "      <td>77486.52</td>\n",
       "      <td>0.0</td>\n",
       "      <td>0.00</td>\n",
       "      <td>14861.12</td>\n",
       "      <td>10047.52</td>\n",
       "      <td>6402.01</td>\n",
       "      <td>0</td>\n",
       "    </tr>\n",
       "    <tr>\n",
       "      <th>17</th>\n",
       "      <td>40380.11</td>\n",
       "      <td>0.0</td>\n",
       "      <td>0.00</td>\n",
       "      <td>7872.99</td>\n",
       "      <td>5262.99</td>\n",
       "      <td>3227.20</td>\n",
       "      <td>1</td>\n",
       "    </tr>\n",
       "    <tr>\n",
       "      <th>18</th>\n",
       "      <td>88016.50</td>\n",
       "      <td>0.0</td>\n",
       "      <td>0.00</td>\n",
       "      <td>17332.00</td>\n",
       "      <td>12918.24</td>\n",
       "      <td>6760.28</td>\n",
       "      <td>0</td>\n",
       "    </tr>\n",
       "    <tr>\n",
       "      <th>19</th>\n",
       "      <td>91540.61</td>\n",
       "      <td>0.0</td>\n",
       "      <td>0.00</td>\n",
       "      <td>18011.68</td>\n",
       "      <td>12918.24</td>\n",
       "      <td>7268.43</td>\n",
       "      <td>0</td>\n",
       "    </tr>\n",
       "  </tbody>\n",
       "</table>\n",
       "</div>"
      ],
      "text/plain": [
       "     Salaries  Overtime  Other Salaries  Retirement  Health and Dental  \\\n",
       "0    57534.65       0.0            0.00    11253.16           11961.34   \n",
       "1    57678.50       0.0            0.00    10284.88            7176.80   \n",
       "2    63532.93       0.0            0.00    12495.83           12918.24   \n",
       "3   101274.51       0.0        -7058.59    19644.45           12918.24   \n",
       "4     5084.00       0.0            0.00     1083.90             956.91   \n",
       "5    34456.00       0.0            0.00     7346.00            3827.63   \n",
       "6   139889.00       0.0            0.00    26799.23           12918.24   \n",
       "7    46572.00       0.0            0.00     9929.16            5741.44   \n",
       "8    84681.53       0.0            0.00    16661.84           12918.24   \n",
       "9    10611.01       0.0            0.00     1879.20            1435.36   \n",
       "10   43171.50       0.0            0.00     9061.62            6698.35   \n",
       "11    3155.01       0.0            0.00      574.53               0.00   \n",
       "12   10611.00       0.0            0.00     1879.20            1435.36   \n",
       "13   38491.83       0.0            0.00     8161.75            6028.51   \n",
       "14   54645.50       0.0            0.00    10473.72            8612.16   \n",
       "15   91826.22       0.0            0.00    18072.56           12918.24   \n",
       "16   77486.52       0.0            0.00    14861.12           10047.52   \n",
       "17   40380.11       0.0            0.00     7872.99            5262.99   \n",
       "18   88016.50       0.0            0.00    17332.00           12918.24   \n",
       "19   91540.61       0.0            0.00    18011.68           12918.24   \n",
       "\n",
       "    Other Benefits  cluster  \n",
       "0          4532.63        0  \n",
       "1          4755.14        0  \n",
       "2          4702.71        0  \n",
       "3          7458.76        0  \n",
       "4           387.50        1  \n",
       "5          2579.95        1  \n",
       "6          9791.54        2  \n",
       "7          3822.28        0  \n",
       "8          6838.44        0  \n",
       "9           827.09        1  \n",
       "10         3502.18        1  \n",
       "11          218.78        1  \n",
       "12          804.35        1  \n",
       "13         3094.21        1  \n",
       "14         4389.44        0  \n",
       "15         7811.62        0  \n",
       "16         6402.01        0  \n",
       "17         3227.20        1  \n",
       "18         6760.28        0  \n",
       "19         7268.43        0  "
      ]
     },
     "execution_count": 56,
     "metadata": {},
     "output_type": "execute_result"
    }
   ],
   "source": [
    "# appedent my y_predict in my data frame to see how it look like\n",
    "final_data['cluster']=y_predict\n",
    "\n",
    "final_data.head(20)"
   ]
  },
  {
   "cell_type": "code",
   "execution_count": 68,
   "metadata": {},
   "outputs": [
    {
     "data": {
      "image/png": "[encoded data removed]",
      "text/plain": [
       "<Figure size 432x288 with 1 Axes>"
      ]
     },
     "metadata": {},
     "output_type": "display_data"
    }
   ],
   "source": [
    "# see if my data is balanced or not by using the countplot \n",
    "sns.countplot(x=kmeans.labels_, palette='Oranges')\n",
    "plt.show()"
   ]
  },
  {
   "cell_type": "code",
   "execution_count": 20,
   "metadata": {},
   "outputs": [],
   "source": [
    "# As we can see in the counterplot, we can say that our data are balanced because we do not have disproportionality between clustering 0,1 and 2\n",
    "# even now that we have more number 2 than 0 or 1\n"
   ]
  },
  {
   "cell_type": "markdown",
   "metadata": {},
   "source": [
    "# # Find the number of clusters for the data."
   ]
  },
  {
   "cell_type": "code",
   "execution_count": 21,
   "metadata": {},
   "outputs": [],
   "source": [
    "from scipy.spatial.distance import cdist, pdist\n",
    "from sklearn.cluster import KMeans"
   ]
  },
  {
   "cell_type": "code",
   "execution_count": 22,
   "metadata": {},
   "outputs": [],
   "source": [
    "k_rang=range(1,10)\n",
    "sse=[] # my some of squere error is an array\n",
    "for k in range(1,10):\n",
    "    km=KMeans(n_clusters=k) # for each iteration i create a new model which cluster =k\n",
    "    km.fit(final_data[['Salaries','Overtime','Other Salaries','Retirement','Health and Dental','Other Benefits']])\n",
    "    # to get the sum of square error i will call the inertia parameter\n",
    "    sse.append(km.inertia_)"
   ]
  },
  {
   "cell_type": "code",
   "execution_count": 24,
   "metadata": {},
   "outputs": [
    {
     "data": {
      "text/plain": [
       "[1825681970334543.0,\n",
       " 768126299929963.9,\n",
       " 432490869029015.1,\n",
       " 323969802683583.44,\n",
       " 266733714252492.75,\n",
       " 217756560298422.1,\n",
       " 190906125701392.28,\n",
       " 171214034600359.6,\n",
       " 155988004184880.66]"
      ]
     },
     "execution_count": 24,
     "metadata": {},
     "output_type": "execute_result"
    }
   ],
   "source": [
    "sse "
   ]
  },
  {
   "cell_type": "code",
   "execution_count": 87,
   "metadata": {},
   "outputs": [
    {
     "data": {
      "text/plain": [
       "[<matplotlib.lines.Line2D at 0x2333dd12a30>]"
      ]
     },
     "execution_count": 87,
     "metadata": {},
     "output_type": "execute_result"
    },
    {
     "data": {
      "image/png": "[encoded data removed]",
      "text/plain": [
       "<Figure size 432x288 with 1 Axes>"
      ]
     },
     "metadata": {},
     "output_type": "display_data"
    }
   ],
   "source": [
    "plt.xlabel('k')\n",
    "plt.ylabel('Sum of squere')\n",
    "plt.plot(k_rang,sse)"
   ]
  },
  {
   "cell_type": "markdown",
   "metadata": {},
   "source": [
    "The number of clustering is 3"
   ]
  },
  {
   "cell_type": "code",
   "execution_count": 88,
   "metadata": {},
   "outputs": [
    {
     "ename": "NameError",
     "evalue": "name 'varExplained' is not defined",
     "output_type": "error",
     "traceback": [
      "\u001b[1;31m---------------------------------------------------------------------------\u001b[0m",
      "\u001b[1;31mNameError\u001b[0m                                 Traceback (most recent call last)",
      "\u001b[1;32m<ipython-input-88-f501f1a5e8c0>\u001b[0m in \u001b[0;36m<module>\u001b[1;34m\u001b[0m\n\u001b[0;32m     13\u001b[0m \u001b[0mplt\u001b[0m\u001b[1;33m.\u001b[0m\u001b[0mtitle\u001b[0m\u001b[1;33m(\u001b[0m\u001b[1;34m'Elbow for KMeans clustering'\u001b[0m\u001b[1;33m)\u001b[0m\u001b[1;33m\u001b[0m\u001b[1;33m\u001b[0m\u001b[0m\n\u001b[0;32m     14\u001b[0m \u001b[0mplt\u001b[0m\u001b[1;33m.\u001b[0m\u001b[0msubplot\u001b[0m\u001b[1;33m(\u001b[0m\u001b[1;36m1\u001b[0m\u001b[1;33m,\u001b[0m \u001b[1;36m2\u001b[0m\u001b[1;33m,\u001b[0m \u001b[1;36m2\u001b[0m\u001b[1;33m)\u001b[0m\u001b[1;33m\u001b[0m\u001b[1;33m\u001b[0m\u001b[0m\n\u001b[1;32m---> 15\u001b[1;33m \u001b[0mplt\u001b[0m\u001b[1;33m.\u001b[0m\u001b[0mplot\u001b[0m\u001b[1;33m(\u001b[0m\u001b[0mK\u001b[0m\u001b[1;33m,\u001b[0m \u001b[0mvarExplained\u001b[0m\u001b[1;33m,\u001b[0m \u001b[1;34m'b*-'\u001b[0m\u001b[1;33m)\u001b[0m\u001b[1;33m\u001b[0m\u001b[1;33m\u001b[0m\u001b[0m\n\u001b[0m\u001b[0;32m     16\u001b[0m plt.plot(K[kIdx], varExplained[kIdx], marker='o', markersize=12,\n\u001b[0;32m     17\u001b[0m markeredgewidth=2, markeredgecolor='r', markerfacecolor='None')\n",
      "\u001b[1;31mNameError\u001b[0m: name 'varExplained' is not defined"
     ]
    },
    {
     "data": {
      "image/png": "[encoded data removed]",
      "text/plain": [
       "<Figure size 720x288 with 2 Axes>"
      ]
     },
     "metadata": {},
     "output_type": "display_data"
    }
   ],
   "source": [
    "kIdx = 2\n",
    "\n",
    "# elbow curve\n",
    "# Set the size of the plot\n",
    "plt.figure(figsize=(10,4))\n",
    "plt.subplot(1, 2, 1)\n",
    "plt.plot(K, avgWithinSS, 'b*-')\n",
    "plt.plot(K[kIdx], avgWithinSS[kIdx], marker='o', markersize=12,\n",
    "markeredgewidth=2, markeredgecolor='r', markerfacecolor='None')\n",
    "plt.grid(True)\n",
    "plt.xlabel('Number of clusters')\n",
    "plt.ylabel('Average within-cluster sum of squares')\n",
    "plt.title('Elbow for KMeans clustering')\n",
    "plt.subplot(1, 2, 2)\n",
    "plt.plot(K, varExplained, 'b*-')\n",
    "plt.plot(K[kIdx], varExplained[kIdx], marker='o', markersize=12,\n",
    "markeredgewidth=2, markeredgecolor='r', markerfacecolor='None')\n",
    "plt.grid(True)\n",
    "plt.xlabel('Number of clusters')\n",
    "plt.ylabel('Percentage of variance explained')\n",
    "plt.title('Elbow for KMeans clustering')\n",
    "plt.tight_layout()"
   ]
  },
  {
   "cell_type": "markdown",
   "metadata": {},
   "source": [
    "# Try fitting the model to both the clustering algorithms you have learnt,K-Means and Hierarchical clustering."
   ]
  },
  {
   "cell_type": "code",
   "execution_count": 83,
   "metadata": {},
   "outputs": [
    {
     "data": {
      "image/png": "[encoded data removed]",
      "text/plain": [
       "<Figure size 432x288 with 1 Axes>"
      ]
     },
     "metadata": {},
     "output_type": "display_data"
    }
   ],
   "source": [
    "plt.scatter(final_data.iloc[:,0].values,final_data.iloc[:,3].values, c=kmeans.labels_, cmap=\"rainbow\")\n",
    "plt.show()"
   ]
  },
  {
   "cell_type": "code",
   "execution_count": 69,
   "metadata": {},
   "outputs": [
    {
     "data": {
      "text/plain": [
       "<matplotlib.collections.PathCollection at 0x2333dfb8640>"
      ]
     },
     "execution_count": 69,
     "metadata": {},
     "output_type": "execute_result"
    },
    {
     "data": {
      "image/png": "[encoded data removed]",
      "text/plain": [
       "<Figure size 432x288 with 1 Axes>"
      ]
     },
     "metadata": {},
     "output_type": "display_data"
    }
   ],
   "source": [
    "centers = np.array(kmeans.cluster_centers_)\n",
    "plt.scatter(centers[:,0], centers[:,1], marker=\"x\", color='k')"
   ]
  },
  {
   "cell_type": "code",
   "execution_count": null,
   "metadata": {},
   "outputs": [],
   "source": []
  },
  {
   "cell_type": "code",
   "execution_count": 82,
   "metadata": {},
   "outputs": [
    {
     "data": {
      "image/png": "[encoded data removed]",
      "text/plain": [
       "<Figure size 432x288 with 1 Axes>"
      ]
     },
     "metadata": {},
     "output_type": "display_data"
    }
   ],
   "source": [
    "plt.scatter(final_data.iloc[:,0].values,final_data.iloc[:,3].values, c=kmeans.labels_, cmap=\"rainbow\")\n",
    "centers = np.array(kmeans.cluster_centers_)\n",
    "plt.scatter(centers[:,0], centers[:,1], marker=\"X\", color='k')\n",
    "plt.show()\n"
   ]
  },
  {
   "cell_type": "markdown",
   "metadata": {},
   "source": []
  },
  {
   "cell_type": "markdown",
   "metadata": {},
   "source": [
    "We can see the 3 clustering with the centroid "
   ]
  },
  {
   "cell_type": "markdown",
   "metadata": {},
   "source": [
    "# Now let's try fitting the model using the Hierarchical clustering model"
   ]
  },
  {
   "cell_type": "code",
   "execution_count": 25,
   "metadata": {},
   "outputs": [],
   "source": [
    "import scipy\n",
    "from scipy.cluster.hierarchy import dendrogram,linkage\n",
    "from scipy.cluster.hierarchy import fcluster\n",
    "from scipy.cluster.hierarchy import cophenet\n",
    "from scipy.spatial.distance import pdist\n"
   ]
  },
  {
   "cell_type": "code",
   "execution_count": 26,
   "metadata": {},
   "outputs": [],
   "source": [
    "from pylab import rcParams\n",
    "from sklearn.cluster import AgglomerativeClustering\n",
    "import sklearn.metrics as sm"
   ]
  },
  {
   "cell_type": "code",
   "execution_count": 27,
   "metadata": {},
   "outputs": [
    {
     "data": {
      "text/plain": [
       "['Solarize_Light2',\n",
       " '_classic_test_patch',\n",
       " 'bmh',\n",
       " 'classic',\n",
       " 'dark_background',\n",
       " 'fast',\n",
       " 'fivethirtyeight',\n",
       " 'ggplot',\n",
       " 'grayscale',\n",
       " 'seaborn',\n",
       " 'seaborn-bright',\n",
       " 'seaborn-colorblind',\n",
       " 'seaborn-dark',\n",
       " 'seaborn-dark-palette',\n",
       " 'seaborn-darkgrid',\n",
       " 'seaborn-deep',\n",
       " 'seaborn-muted',\n",
       " 'seaborn-notebook',\n",
       " 'seaborn-paper',\n",
       " 'seaborn-pastel',\n",
       " 'seaborn-poster',\n",
       " 'seaborn-talk',\n",
       " 'seaborn-ticks',\n",
       " 'seaborn-white',\n",
       " 'seaborn-whitegrid',\n",
       " 'tableau-colorblind10']"
      ]
     },
     "execution_count": 27,
     "metadata": {},
     "output_type": "execute_result"
    }
   ],
   "source": [
    "plt.style.available"
   ]
  },
  {
   "cell_type": "code",
   "execution_count": 77,
   "metadata": {},
   "outputs": [
    {
     "name": "stderr",
     "output_type": "stream",
     "text": [
      "C:\\Users\\marce\\anaconda3\\lib\\site-packages\\pandas\\core\\indexes\\base.py:4111: FutureWarning: Using a non-tuple sequence for multidimensional indexing is deprecated; use `arr[tuple(seq)]` instead of `arr[seq]`. In the future this will be interpreted as an array index, `arr[np.array(seq)]`, which will result either in an error or a different result.\n",
      "  result = getitem(key)\n"
     ]
    },
    {
     "ename": "IndexError",
     "evalue": "only integers, slices (`:`), ellipsis (`...`), numpy.newaxis (`None`) and integer or boolean arrays are valid indices",
     "output_type": "error",
     "traceback": [
      "\u001b[1;31m---------------------------------------------------------------------------\u001b[0m",
      "\u001b[1;31mIndexError\u001b[0m                                Traceback (most recent call last)",
      "\u001b[1;32m<ipython-input-77-12962c359938>\u001b[0m in \u001b[0;36m<module>\u001b[1;34m\u001b[0m\n\u001b[0;32m      1\u001b[0m \u001b[1;31m#final_data = final_data.drop('cluster')\u001b[0m\u001b[1;33m\u001b[0m\u001b[1;33m\u001b[0m\u001b[1;33m\u001b[0m\u001b[0m\n\u001b[1;32m----> 2\u001b[1;33m \u001b[0mfinal_data\u001b[0m \u001b[1;33m=\u001b[0m \u001b[0mfinal_data\u001b[0m\u001b[1;33m.\u001b[0m\u001b[0mdrop\u001b[0m\u001b[1;33m(\u001b[0m\u001b[0mfinal_data\u001b[0m\u001b[1;33m.\u001b[0m\u001b[0mcolumns\u001b[0m\u001b[1;33m[\u001b[0m\u001b[1;33m[\u001b[0m\u001b[1;34m'cluster'\u001b[0m\u001b[1;33m]\u001b[0m\u001b[1;33m]\u001b[0m\u001b[1;33m,\u001b[0m \u001b[0maxis\u001b[0m\u001b[1;33m=\u001b[0m\u001b[1;36m1\u001b[0m\u001b[1;33m)\u001b[0m\u001b[1;33m\u001b[0m\u001b[1;33m\u001b[0m\u001b[0m\n\u001b[0m",
      "\u001b[1;32m~\\anaconda3\\lib\\site-packages\\pandas\\core\\indexes\\base.py\u001b[0m in \u001b[0;36m__getitem__\u001b[1;34m(self, key)\u001b[0m\n\u001b[0;32m   4109\u001b[0m             \u001b[0mkey\u001b[0m \u001b[1;33m=\u001b[0m \u001b[0mnp\u001b[0m\u001b[1;33m.\u001b[0m\u001b[0masarray\u001b[0m\u001b[1;33m(\u001b[0m\u001b[0mkey\u001b[0m\u001b[1;33m,\u001b[0m \u001b[0mdtype\u001b[0m\u001b[1;33m=\u001b[0m\u001b[0mbool\u001b[0m\u001b[1;33m)\u001b[0m\u001b[1;33m\u001b[0m\u001b[1;33m\u001b[0m\u001b[0m\n\u001b[0;32m   4110\u001b[0m \u001b[1;33m\u001b[0m\u001b[0m\n\u001b[1;32m-> 4111\u001b[1;33m         \u001b[0mresult\u001b[0m \u001b[1;33m=\u001b[0m \u001b[0mgetitem\u001b[0m\u001b[1;33m(\u001b[0m\u001b[0mkey\u001b[0m\u001b[1;33m)\u001b[0m\u001b[1;33m\u001b[0m\u001b[1;33m\u001b[0m\u001b[0m\n\u001b[0m\u001b[0;32m   4112\u001b[0m         \u001b[1;32mif\u001b[0m \u001b[1;32mnot\u001b[0m \u001b[0mis_scalar\u001b[0m\u001b[1;33m(\u001b[0m\u001b[0mresult\u001b[0m\u001b[1;33m)\u001b[0m\u001b[1;33m:\u001b[0m\u001b[1;33m\u001b[0m\u001b[1;33m\u001b[0m\u001b[0m\n\u001b[0;32m   4113\u001b[0m             \u001b[1;32mif\u001b[0m \u001b[0mnp\u001b[0m\u001b[1;33m.\u001b[0m\u001b[0mndim\u001b[0m\u001b[1;33m(\u001b[0m\u001b[0mresult\u001b[0m\u001b[1;33m)\u001b[0m \u001b[1;33m>\u001b[0m \u001b[1;36m1\u001b[0m\u001b[1;33m:\u001b[0m\u001b[1;33m\u001b[0m\u001b[1;33m\u001b[0m\u001b[0m\n",
      "\u001b[1;31mIndexError\u001b[0m: only integers, slices (`:`), ellipsis (`...`), numpy.newaxis (`None`) and integer or boolean arrays are valid indices"
     ]
    }
   ],
   "source": [
    "#final_data = final_data.drop('cluster')\n",
    "final_data = final_data.drop(final_data.columns[['cluster']], axis=1)"
   ]
  },
  {
   "cell_type": "code",
   "execution_count": 78,
   "metadata": {},
   "outputs": [
    {
     "data": {
      "text/html": [
       "<div>\n",
       "<style scoped>\n",
       "    .dataframe tbody tr th:only-of-type {\n",
       "        vertical-align: middle;\n",
       "    }\n",
       "\n",
       "    .dataframe tbody tr th {\n",
       "        vertical-align: top;\n",
       "    }\n",
       "\n",
       "    .dataframe thead th {\n",
       "        text-align: right;\n",
       "    }\n",
       "</style>\n",
       "<table border=\"1\" class=\"dataframe\">\n",
       "  <thead>\n",
       "    <tr style=\"text-align: right;\">\n",
       "      <th></th>\n",
       "      <th>Salaries</th>\n",
       "      <th>Overtime</th>\n",
       "      <th>Other Salaries</th>\n",
       "      <th>Retirement</th>\n",
       "      <th>Health and Dental</th>\n",
       "      <th>Other Benefits</th>\n",
       "    </tr>\n",
       "  </thead>\n",
       "  <tbody>\n",
       "    <tr>\n",
       "      <th>0</th>\n",
       "      <td>57534.65</td>\n",
       "      <td>0.0</td>\n",
       "      <td>0.00</td>\n",
       "      <td>11253.16</td>\n",
       "      <td>11961.34</td>\n",
       "      <td>4532.63</td>\n",
       "    </tr>\n",
       "    <tr>\n",
       "      <th>1</th>\n",
       "      <td>57678.50</td>\n",
       "      <td>0.0</td>\n",
       "      <td>0.00</td>\n",
       "      <td>10284.88</td>\n",
       "      <td>7176.80</td>\n",
       "      <td>4755.14</td>\n",
       "    </tr>\n",
       "    <tr>\n",
       "      <th>2</th>\n",
       "      <td>63532.93</td>\n",
       "      <td>0.0</td>\n",
       "      <td>0.00</td>\n",
       "      <td>12495.83</td>\n",
       "      <td>12918.24</td>\n",
       "      <td>4702.71</td>\n",
       "    </tr>\n",
       "    <tr>\n",
       "      <th>3</th>\n",
       "      <td>101274.51</td>\n",
       "      <td>0.0</td>\n",
       "      <td>-7058.59</td>\n",
       "      <td>19644.45</td>\n",
       "      <td>12918.24</td>\n",
       "      <td>7458.76</td>\n",
       "    </tr>\n",
       "    <tr>\n",
       "      <th>4</th>\n",
       "      <td>5084.00</td>\n",
       "      <td>0.0</td>\n",
       "      <td>0.00</td>\n",
       "      <td>1083.90</td>\n",
       "      <td>956.91</td>\n",
       "      <td>387.50</td>\n",
       "    </tr>\n",
       "    <tr>\n",
       "      <th>...</th>\n",
       "      <td>...</td>\n",
       "      <td>...</td>\n",
       "      <td>...</td>\n",
       "      <td>...</td>\n",
       "      <td>...</td>\n",
       "      <td>...</td>\n",
       "    </tr>\n",
       "    <tr>\n",
       "      <th>683272</th>\n",
       "      <td>98444.94</td>\n",
       "      <td>0.0</td>\n",
       "      <td>0.00</td>\n",
       "      <td>20540.24</td>\n",
       "      <td>15275.18</td>\n",
       "      <td>8019.49</td>\n",
       "    </tr>\n",
       "    <tr>\n",
       "      <th>683273</th>\n",
       "      <td>9416.71</td>\n",
       "      <td>0.0</td>\n",
       "      <td>0.00</td>\n",
       "      <td>1904.43</td>\n",
       "      <td>1468.77</td>\n",
       "      <td>743.51</td>\n",
       "    </tr>\n",
       "    <tr>\n",
       "      <th>683274</th>\n",
       "      <td>96475.00</td>\n",
       "      <td>0.0</td>\n",
       "      <td>576.00</td>\n",
       "      <td>20241.56</td>\n",
       "      <td>14100.16</td>\n",
       "      <td>7897.00</td>\n",
       "    </tr>\n",
       "    <tr>\n",
       "      <th>683275</th>\n",
       "      <td>115943.00</td>\n",
       "      <td>0.0</td>\n",
       "      <td>0.00</td>\n",
       "      <td>24188.37</td>\n",
       "      <td>15275.18</td>\n",
       "      <td>9018.34</td>\n",
       "    </tr>\n",
       "    <tr>\n",
       "      <th>683276</th>\n",
       "      <td>115943.00</td>\n",
       "      <td>504.9</td>\n",
       "      <td>0.00</td>\n",
       "      <td>24188.37</td>\n",
       "      <td>15275.18</td>\n",
       "      <td>9516.61</td>\n",
       "    </tr>\n",
       "  </tbody>\n",
       "</table>\n",
       "<p>682919 rows × 6 columns</p>\n",
       "</div>"
      ],
      "text/plain": [
       "         Salaries  Overtime  Other Salaries  Retirement  Health and Dental  \\\n",
       "0        57534.65       0.0            0.00    11253.16           11961.34   \n",
       "1        57678.50       0.0            0.00    10284.88            7176.80   \n",
       "2        63532.93       0.0            0.00    12495.83           12918.24   \n",
       "3       101274.51       0.0        -7058.59    19644.45           12918.24   \n",
       "4         5084.00       0.0            0.00     1083.90             956.91   \n",
       "...           ...       ...             ...         ...                ...   \n",
       "683272   98444.94       0.0            0.00    20540.24           15275.18   \n",
       "683273    9416.71       0.0            0.00     1904.43            1468.77   \n",
       "683274   96475.00       0.0          576.00    20241.56           14100.16   \n",
       "683275  115943.00       0.0            0.00    24188.37           15275.18   \n",
       "683276  115943.00     504.9            0.00    24188.37           15275.18   \n",
       "\n",
       "        Other Benefits  \n",
       "0              4532.63  \n",
       "1              4755.14  \n",
       "2              4702.71  \n",
       "3              7458.76  \n",
       "4               387.50  \n",
       "...                ...  \n",
       "683272         8019.49  \n",
       "683273          743.51  \n",
       "683274         7897.00  \n",
       "683275         9018.34  \n",
       "683276         9516.61  \n",
       "\n",
       "[682919 rows x 6 columns]"
      ]
     },
     "execution_count": 78,
     "metadata": {},
     "output_type": "execute_result"
    }
   ],
   "source": [
    "final_data"
   ]
  },
  {
   "cell_type": "code",
   "execution_count": 81,
   "metadata": {},
   "outputs": [
    {
     "ename": "MemoryError",
     "evalue": "Unable to allocate 1.70 TiB for an array with shape (233188838821,) and data type float64",
     "output_type": "error",
     "traceback": [
      "\u001b[1;31m---------------------------------------------------------------------------\u001b[0m",
      "\u001b[1;31mMemoryError\u001b[0m                               Traceback (most recent call last)",
      "\u001b[1;32m<ipython-input-81-30b8d5c20fd0>\u001b[0m in \u001b[0;36m<module>\u001b[1;34m\u001b[0m\n\u001b[0;32m      1\u001b[0m \u001b[0mplt\u001b[0m\u001b[1;33m.\u001b[0m\u001b[0mfigure\u001b[0m\u001b[1;33m(\u001b[0m\u001b[0mfigsize\u001b[0m\u001b[1;33m=\u001b[0m\u001b[1;33m(\u001b[0m\u001b[1;36m15\u001b[0m\u001b[1;33m,\u001b[0m\u001b[1;36m10\u001b[0m\u001b[1;33m)\u001b[0m\u001b[1;33m)\u001b[0m\u001b[1;33m\u001b[0m\u001b[1;33m\u001b[0m\u001b[0m\n\u001b[1;32m----> 2\u001b[1;33m \u001b[0mZ\u001b[0m\u001b[1;33m=\u001b[0m\u001b[0mlinkage\u001b[0m\u001b[1;33m(\u001b[0m\u001b[0mfinal_data\u001b[0m\u001b[1;33m,\u001b[0m\u001b[0mmethod\u001b[0m\u001b[1;33m=\u001b[0m\u001b[1;34m'single'\u001b[0m\u001b[1;33m)\u001b[0m\u001b[1;33m\u001b[0m\u001b[1;33m\u001b[0m\u001b[0m\n\u001b[0m\u001b[0;32m      3\u001b[0m \u001b[0mprint\u001b[0m\u001b[1;33m(\u001b[0m\u001b[1;34m\"Z-Shape:\"\u001b[0m\u001b[1;33m,\u001b[0m\u001b[0mZ\u001b[0m\u001b[1;33m.\u001b[0m\u001b[0mshape\u001b[0m\u001b[1;33m)\u001b[0m\u001b[1;33m\u001b[0m\u001b[1;33m\u001b[0m\u001b[0m\n\u001b[0;32m      4\u001b[0m \u001b[0mplt\u001b[0m\u001b[1;33m.\u001b[0m\u001b[0mtitle\u001b[0m\u001b[1;33m(\u001b[0m\u001b[1;34m\"Single\"\u001b[0m\u001b[1;33m,\u001b[0m\u001b[0msize\u001b[0m\u001b[1;33m=\u001b[0m\u001b[1;36m30\u001b[0m\u001b[1;33m)\u001b[0m\u001b[1;33m\u001b[0m\u001b[1;33m\u001b[0m\u001b[0m\n\u001b[0;32m      5\u001b[0m \u001b[0mdendrogram\u001b[0m\u001b[1;33m(\u001b[0m\u001b[0mZ\u001b[0m\u001b[1;33m,\u001b[0m\u001b[0morientation\u001b[0m\u001b[1;33m=\u001b[0m\u001b[1;34m'top'\u001b[0m\u001b[1;33m,\u001b[0m\u001b[0mtruncate_mode\u001b[0m\u001b[1;33m=\u001b[0m\u001b[1;34m'lastp'\u001b[0m\u001b[1;33m,\u001b[0m\u001b[0mp\u001b[0m\u001b[1;33m=\u001b[0m\u001b[1;36m12\u001b[0m\u001b[1;33m,\u001b[0m\u001b[0mget_leaves\u001b[0m\u001b[1;33m=\u001b[0m\u001b[1;32mFalse\u001b[0m\u001b[1;33m,\u001b[0m\u001b[0mleaf_rotation\u001b[0m\u001b[1;33m=\u001b[0m\u001b[1;36m45\u001b[0m\u001b[1;33m,\u001b[0m\u001b[0mleaf_font_size\u001b[0m\u001b[1;33m=\u001b[0m\u001b[1;36m15\u001b[0m\u001b[1;33m,\u001b[0m\u001b[0mshow_contracted\u001b[0m\u001b[1;33m=\u001b[0m\u001b[1;32mTrue\u001b[0m\u001b[1;33m,\u001b[0m\u001b[1;33m)\u001b[0m\u001b[1;33m\u001b[0m\u001b[1;33m\u001b[0m\u001b[0m\n",
      "\u001b[1;32m~\\anaconda3\\lib\\site-packages\\scipy\\cluster\\hierarchy.py\u001b[0m in \u001b[0;36mlinkage\u001b[1;34m(y, method, metric, optimal_ordering)\u001b[0m\n\u001b[0;32m   1050\u001b[0m                          \u001b[1;34m'matrix looks suspiciously like an uncondensed '\u001b[0m\u001b[1;33m\u001b[0m\u001b[1;33m\u001b[0m\u001b[0m\n\u001b[0;32m   1051\u001b[0m                          'distance matrix')\n\u001b[1;32m-> 1052\u001b[1;33m         \u001b[0my\u001b[0m \u001b[1;33m=\u001b[0m \u001b[0mdistance\u001b[0m\u001b[1;33m.\u001b[0m\u001b[0mpdist\u001b[0m\u001b[1;33m(\u001b[0m\u001b[0my\u001b[0m\u001b[1;33m,\u001b[0m \u001b[0mmetric\u001b[0m\u001b[1;33m)\u001b[0m\u001b[1;33m\u001b[0m\u001b[1;33m\u001b[0m\u001b[0m\n\u001b[0m\u001b[0;32m   1053\u001b[0m     \u001b[1;32melse\u001b[0m\u001b[1;33m:\u001b[0m\u001b[1;33m\u001b[0m\u001b[1;33m\u001b[0m\u001b[0m\n\u001b[0;32m   1054\u001b[0m         \u001b[1;32mraise\u001b[0m \u001b[0mValueError\u001b[0m\u001b[1;33m(\u001b[0m\u001b[1;34m\"`y` must be 1 or 2 dimensional.\"\u001b[0m\u001b[1;33m)\u001b[0m\u001b[1;33m\u001b[0m\u001b[1;33m\u001b[0m\u001b[0m\n",
      "\u001b[1;32m~\\anaconda3\\lib\\site-packages\\scipy\\spatial\\distance.py\u001b[0m in \u001b[0;36mpdist\u001b[1;34m(X, metric, *args, **kwargs)\u001b[0m\n\u001b[0;32m   1993\u001b[0m     \u001b[0mout\u001b[0m \u001b[1;33m=\u001b[0m \u001b[0mkwargs\u001b[0m\u001b[1;33m.\u001b[0m\u001b[0mpop\u001b[0m\u001b[1;33m(\u001b[0m\u001b[1;34m\"out\"\u001b[0m\u001b[1;33m,\u001b[0m \u001b[1;32mNone\u001b[0m\u001b[1;33m)\u001b[0m\u001b[1;33m\u001b[0m\u001b[1;33m\u001b[0m\u001b[0m\n\u001b[0;32m   1994\u001b[0m     \u001b[1;32mif\u001b[0m \u001b[0mout\u001b[0m \u001b[1;32mis\u001b[0m \u001b[1;32mNone\u001b[0m\u001b[1;33m:\u001b[0m\u001b[1;33m\u001b[0m\u001b[1;33m\u001b[0m\u001b[0m\n\u001b[1;32m-> 1995\u001b[1;33m         \u001b[0mdm\u001b[0m \u001b[1;33m=\u001b[0m \u001b[0mnp\u001b[0m\u001b[1;33m.\u001b[0m\u001b[0mempty\u001b[0m\u001b[1;33m(\u001b[0m\u001b[1;33m(\u001b[0m\u001b[0mm\u001b[0m \u001b[1;33m*\u001b[0m \u001b[1;33m(\u001b[0m\u001b[0mm\u001b[0m \u001b[1;33m-\u001b[0m \u001b[1;36m1\u001b[0m\u001b[1;33m)\u001b[0m\u001b[1;33m)\u001b[0m \u001b[1;33m//\u001b[0m \u001b[1;36m2\u001b[0m\u001b[1;33m,\u001b[0m \u001b[0mdtype\u001b[0m\u001b[1;33m=\u001b[0m\u001b[0mnp\u001b[0m\u001b[1;33m.\u001b[0m\u001b[0mdouble\u001b[0m\u001b[1;33m)\u001b[0m\u001b[1;33m\u001b[0m\u001b[1;33m\u001b[0m\u001b[0m\n\u001b[0m\u001b[0;32m   1996\u001b[0m     \u001b[1;32melse\u001b[0m\u001b[1;33m:\u001b[0m\u001b[1;33m\u001b[0m\u001b[1;33m\u001b[0m\u001b[0m\n\u001b[0;32m   1997\u001b[0m         \u001b[1;32mif\u001b[0m \u001b[0mout\u001b[0m\u001b[1;33m.\u001b[0m\u001b[0mshape\u001b[0m \u001b[1;33m!=\u001b[0m \u001b[1;33m(\u001b[0m\u001b[0mm\u001b[0m \u001b[1;33m*\u001b[0m \u001b[1;33m(\u001b[0m\u001b[0mm\u001b[0m \u001b[1;33m-\u001b[0m \u001b[1;36m1\u001b[0m\u001b[1;33m)\u001b[0m \u001b[1;33m//\u001b[0m \u001b[1;36m2\u001b[0m\u001b[1;33m,\u001b[0m\u001b[1;33m)\u001b[0m\u001b[1;33m:\u001b[0m\u001b[1;33m\u001b[0m\u001b[1;33m\u001b[0m\u001b[0m\n",
      "\u001b[1;31mMemoryError\u001b[0m: Unable to allocate 1.70 TiB for an array with shape (233188838821,) and data type float64"
     ]
    },
    {
     "data": {
      "text/plain": [
       "<Figure size 1080x720 with 0 Axes>"
      ]
     },
     "metadata": {},
     "output_type": "display_data"
    }
   ],
   "source": [
    "plt.figure(figsize=(15,10))\n",
    "Z=linkage(final_data,method='single')\n",
    "print(\"Z-Shape:\",Z.shape)\n",
    "plt.title(\"Single\",size=30)\n",
    "dendrogram(Z,orientation='top',truncate_mode='lastp',p=12,get_leaves=False,leaf_rotation=45,leaf_font_size=15,show_contracted=True,)\n",
    "plt.xlabel(\"Cluster Size\",fontsize=30)\n",
    "plt.ylabel(\"Distances\",fontsize=30)\n",
    "plt.show()"
   ]
  },
  {
   "cell_type": "code",
   "execution_count": 86,
   "metadata": {},
   "outputs": [],
   "source": [
    "\"\"\" dtypes = {\n",
    "        'ip'            : 'uint32',\n",
    "        'app'           : 'uint16',\n",
    "        'device'        : 'uint16',\n",
    "        'os'            : 'uint16',\n",
    "        'channel'       : 'uint16',\n",
    "        'is_attributed' : 'uint8',\n",
    "        }\n",
    "\"\"\""
   ]
  },
  {
   "cell_type": "code",
   "execution_count": 92,
   "metadata": {},
   "outputs": [],
   "source": [
    "# I had problem with the memory, so i will reduce the reduce element in my data by specify number of rows to import. For exampe:   nrows=10000) will only read the first 10000 rows (including the heading).."
   ]
  },
  {
   "cell_type": "code",
   "execution_count": 90,
   "metadata": {},
   "outputs": [],
   "source": [
    "Hierarchical_data=pd.read_csv(\"C:\\\\Users\\\\marce\\\\OneDrive\\\\Ambiente de Trabalho\\\\DataScience\\\\Unsupervisor_learning\\\\Clustering\\\\employee-compensation.csv\",nrows=10000)\n"
   ]
  },
  {
   "cell_type": "code",
   "execution_count": 91,
   "metadata": {},
   "outputs": [
    {
     "data": {
      "text/html": [
       "<div>\n",
       "<style scoped>\n",
       "    .dataframe tbody tr th:only-of-type {\n",
       "        vertical-align: middle;\n",
       "    }\n",
       "\n",
       "    .dataframe tbody tr th {\n",
       "        vertical-align: top;\n",
       "    }\n",
       "\n",
       "    .dataframe thead th {\n",
       "        text-align: right;\n",
       "    }\n",
       "</style>\n",
       "<table border=\"1\" class=\"dataframe\">\n",
       "  <thead>\n",
       "    <tr style=\"text-align: right;\">\n",
       "      <th></th>\n",
       "      <th>Organization Group Code</th>\n",
       "      <th>Job Family Code</th>\n",
       "      <th>Job Code</th>\n",
       "      <th>Year Type</th>\n",
       "      <th>Year</th>\n",
       "      <th>Organization Group</th>\n",
       "      <th>Department Code</th>\n",
       "      <th>Department</th>\n",
       "      <th>Union Code</th>\n",
       "      <th>Union</th>\n",
       "      <th>...</th>\n",
       "      <th>Employee Identifier</th>\n",
       "      <th>Salaries</th>\n",
       "      <th>Overtime</th>\n",
       "      <th>Other Salaries</th>\n",
       "      <th>Total Salary</th>\n",
       "      <th>Retirement</th>\n",
       "      <th>Health and Dental</th>\n",
       "      <th>Other Benefits</th>\n",
       "      <th>Total Benefits</th>\n",
       "      <th>Total Compensation</th>\n",
       "    </tr>\n",
       "  </thead>\n",
       "  <tbody>\n",
       "    <tr>\n",
       "      <th>0</th>\n",
       "      <td>1</td>\n",
       "      <td>1000</td>\n",
       "      <td>1021</td>\n",
       "      <td>Calendar</td>\n",
       "      <td>2013</td>\n",
       "      <td>Public Protection</td>\n",
       "      <td>ADP</td>\n",
       "      <td>ADP Adult Probation</td>\n",
       "      <td>21</td>\n",
       "      <td>Prof &amp; Tech Engineers - Miscellaneous, Local 21</td>\n",
       "      <td>...</td>\n",
       "      <td>37730</td>\n",
       "      <td>57534.65</td>\n",
       "      <td>0.0</td>\n",
       "      <td>0.00</td>\n",
       "      <td>57534.65</td>\n",
       "      <td>11253.16</td>\n",
       "      <td>11961.34</td>\n",
       "      <td>4532.63</td>\n",
       "      <td>27747.13</td>\n",
       "      <td>85281.78</td>\n",
       "    </tr>\n",
       "    <tr>\n",
       "      <th>1</th>\n",
       "      <td>1</td>\n",
       "      <td>1000</td>\n",
       "      <td>1023</td>\n",
       "      <td>Calendar</td>\n",
       "      <td>2013</td>\n",
       "      <td>Public Protection</td>\n",
       "      <td>ADP</td>\n",
       "      <td>ADP Adult Probation</td>\n",
       "      <td>21</td>\n",
       "      <td>Prof &amp; Tech Engineers - Miscellaneous, Local 21</td>\n",
       "      <td>...</td>\n",
       "      <td>26574</td>\n",
       "      <td>57678.50</td>\n",
       "      <td>0.0</td>\n",
       "      <td>0.00</td>\n",
       "      <td>57678.50</td>\n",
       "      <td>10284.88</td>\n",
       "      <td>7176.80</td>\n",
       "      <td>4755.14</td>\n",
       "      <td>22216.82</td>\n",
       "      <td>79895.32</td>\n",
       "    </tr>\n",
       "    <tr>\n",
       "      <th>2</th>\n",
       "      <td>1</td>\n",
       "      <td>1000</td>\n",
       "      <td>1031</td>\n",
       "      <td>Calendar</td>\n",
       "      <td>2013</td>\n",
       "      <td>Public Protection</td>\n",
       "      <td>ADP</td>\n",
       "      <td>ADP Adult Probation</td>\n",
       "      <td>21</td>\n",
       "      <td>Prof &amp; Tech Engineers - Miscellaneous, Local 21</td>\n",
       "      <td>...</td>\n",
       "      <td>8148</td>\n",
       "      <td>63532.93</td>\n",
       "      <td>0.0</td>\n",
       "      <td>0.00</td>\n",
       "      <td>63532.93</td>\n",
       "      <td>12495.83</td>\n",
       "      <td>12918.24</td>\n",
       "      <td>4702.71</td>\n",
       "      <td>30116.78</td>\n",
       "      <td>93649.71</td>\n",
       "    </tr>\n",
       "    <tr>\n",
       "      <th>3</th>\n",
       "      <td>1</td>\n",
       "      <td>1000</td>\n",
       "      <td>1054</td>\n",
       "      <td>Calendar</td>\n",
       "      <td>2013</td>\n",
       "      <td>Public Protection</td>\n",
       "      <td>ADP</td>\n",
       "      <td>ADP Adult Probation</td>\n",
       "      <td>21</td>\n",
       "      <td>Prof &amp; Tech Engineers - Miscellaneous, Local 21</td>\n",
       "      <td>...</td>\n",
       "      <td>27436</td>\n",
       "      <td>101274.51</td>\n",
       "      <td>0.0</td>\n",
       "      <td>-7058.59</td>\n",
       "      <td>94215.92</td>\n",
       "      <td>19644.45</td>\n",
       "      <td>12918.24</td>\n",
       "      <td>7458.76</td>\n",
       "      <td>40021.45</td>\n",
       "      <td>134237.37</td>\n",
       "    </tr>\n",
       "    <tr>\n",
       "      <th>4</th>\n",
       "      <td>1</td>\n",
       "      <td>1000</td>\n",
       "      <td>1062</td>\n",
       "      <td>Calendar</td>\n",
       "      <td>2013</td>\n",
       "      <td>Public Protection</td>\n",
       "      <td>ADP</td>\n",
       "      <td>ADP Adult Probation</td>\n",
       "      <td>21</td>\n",
       "      <td>Prof &amp; Tech Engineers - Miscellaneous, Local 21</td>\n",
       "      <td>...</td>\n",
       "      <td>37730</td>\n",
       "      <td>5084.00</td>\n",
       "      <td>0.0</td>\n",
       "      <td>0.00</td>\n",
       "      <td>5084.00</td>\n",
       "      <td>1083.90</td>\n",
       "      <td>956.91</td>\n",
       "      <td>387.50</td>\n",
       "      <td>2428.31</td>\n",
       "      <td>7512.31</td>\n",
       "    </tr>\n",
       "  </tbody>\n",
       "</table>\n",
       "<p>5 rows × 22 columns</p>\n",
       "</div>"
      ],
      "text/plain": [
       "   Organization Group Code Job Family Code Job Code Year Type  Year  \\\n",
       "0                        1            1000     1021  Calendar  2013   \n",
       "1                        1            1000     1023  Calendar  2013   \n",
       "2                        1            1000     1031  Calendar  2013   \n",
       "3                        1            1000     1054  Calendar  2013   \n",
       "4                        1            1000     1062  Calendar  2013   \n",
       "\n",
       "  Organization Group Department Code           Department  Union Code  \\\n",
       "0  Public Protection             ADP  ADP Adult Probation          21   \n",
       "1  Public Protection             ADP  ADP Adult Probation          21   \n",
       "2  Public Protection             ADP  ADP Adult Probation          21   \n",
       "3  Public Protection             ADP  ADP Adult Probation          21   \n",
       "4  Public Protection             ADP  ADP Adult Probation          21   \n",
       "\n",
       "                                             Union  ... Employee Identifier  \\\n",
       "0  Prof & Tech Engineers - Miscellaneous, Local 21  ...               37730   \n",
       "1  Prof & Tech Engineers - Miscellaneous, Local 21  ...               26574   \n",
       "2  Prof & Tech Engineers - Miscellaneous, Local 21  ...                8148   \n",
       "3  Prof & Tech Engineers - Miscellaneous, Local 21  ...               27436   \n",
       "4  Prof & Tech Engineers - Miscellaneous, Local 21  ...               37730   \n",
       "\n",
       "    Salaries  Overtime  Other Salaries  Total Salary  Retirement  \\\n",
       "0   57534.65       0.0            0.00      57534.65    11253.16   \n",
       "1   57678.50       0.0            0.00      57678.50    10284.88   \n",
       "2   63532.93       0.0            0.00      63532.93    12495.83   \n",
       "3  101274.51       0.0        -7058.59      94215.92    19644.45   \n",
       "4    5084.00       0.0            0.00       5084.00     1083.90   \n",
       "\n",
       "   Health and Dental  Other Benefits  Total Benefits  Total Compensation  \n",
       "0           11961.34         4532.63        27747.13            85281.78  \n",
       "1            7176.80         4755.14        22216.82            79895.32  \n",
       "2           12918.24         4702.71        30116.78            93649.71  \n",
       "3           12918.24         7458.76        40021.45           134237.37  \n",
       "4             956.91          387.50         2428.31             7512.31  \n",
       "\n",
       "[5 rows x 22 columns]"
      ]
     },
     "execution_count": 91,
     "metadata": {},
     "output_type": "execute_result"
    }
   ],
   "source": [
    "Hierarchical_data.head()"
   ]
  },
  {
   "cell_type": "markdown",
   "metadata": {},
   "source": []
  },
  {
   "cell_type": "code",
   "execution_count": 97,
   "metadata": {},
   "outputs": [
    {
     "data": {
      "text/plain": [
       "(10000, 22)"
      ]
     },
     "execution_count": 97,
     "metadata": {},
     "output_type": "execute_result"
    }
   ],
   "source": [
    "Hierarchical_data.shape"
   ]
  },
  {
   "cell_type": "code",
   "execution_count": 102,
   "metadata": {},
   "outputs": [
    {
     "data": {
      "text/plain": [
       "<bound method DataFrame.info of       Organization Group Code Job Family Code Job Code Year Type  Year  \\\n",
       "0                           1            1000     1021  Calendar  2013   \n",
       "1                           1            1000     1023  Calendar  2013   \n",
       "2                           1            1000     1031  Calendar  2013   \n",
       "3                           1            1000     1054  Calendar  2013   \n",
       "4                           1            1000     1062  Calendar  2013   \n",
       "...                       ...             ...      ...       ...   ...   \n",
       "9995                        2            7200     7252  Calendar  2013   \n",
       "9996                        2            7200     7252  Calendar  2013   \n",
       "9997                        2            7200     7252  Calendar  2013   \n",
       "9998                        2            7200     7252  Calendar  2013   \n",
       "9999                        2            7200     7252  Calendar  2013   \n",
       "\n",
       "                           Organization Group Department Code  \\\n",
       "0                           Public Protection             ADP   \n",
       "1                           Public Protection             ADP   \n",
       "2                           Public Protection             ADP   \n",
       "3                           Public Protection             ADP   \n",
       "4                           Public Protection             ADP   \n",
       "...                                       ...             ...   \n",
       "9995  Public Works, Transportation & Commerce             CWP   \n",
       "9996  Public Works, Transportation & Commerce             CWP   \n",
       "9997  Public Works, Transportation & Commerce             CWP   \n",
       "9998  Public Works, Transportation & Commerce             CWP   \n",
       "9999  Public Works, Transportation & Commerce             CWP   \n",
       "\n",
       "                     Department  Union Code  \\\n",
       "0           ADP Adult Probation          21   \n",
       "1           ADP Adult Probation          21   \n",
       "2           ADP Adult Probation          21   \n",
       "3           ADP Adult Probation          21   \n",
       "4           ADP Adult Probation          21   \n",
       "...                         ...         ...   \n",
       "9995  WWE Wastewater Enterprise          39   \n",
       "9996  WWE Wastewater Enterprise          39   \n",
       "9997  WWE Wastewater Enterprise          39   \n",
       "9998  WWE Wastewater Enterprise          39   \n",
       "9999  WWE Wastewater Enterprise          39   \n",
       "\n",
       "                                                Union  ...  \\\n",
       "0     Prof & Tech Engineers - Miscellaneous, Local 21  ...   \n",
       "1     Prof & Tech Engineers - Miscellaneous, Local 21  ...   \n",
       "2     Prof & Tech Engineers - Miscellaneous, Local 21  ...   \n",
       "3     Prof & Tech Engineers - Miscellaneous, Local 21  ...   \n",
       "4     Prof & Tech Engineers - Miscellaneous, Local 21  ...   \n",
       "...                                               ...  ...   \n",
       "9995                   Stationary Engineers, Local 39  ...   \n",
       "9996                   Stationary Engineers, Local 39  ...   \n",
       "9997                   Stationary Engineers, Local 39  ...   \n",
       "9998                   Stationary Engineers, Local 39  ...   \n",
       "9999                   Stationary Engineers, Local 39  ...   \n",
       "\n",
       "     Employee Identifier   Salaries  Overtime  Other Salaries  Total Salary  \\\n",
       "0                  37730   57534.65      0.00            0.00      57534.65   \n",
       "1                  26574   57678.50      0.00            0.00      57678.50   \n",
       "2                   8148   63532.93      0.00            0.00      63532.93   \n",
       "3                  27436  101274.51      0.00        -7058.59      94215.92   \n",
       "4                  37730    5084.00      0.00            0.00       5084.00   \n",
       "...                  ...        ...       ...             ...           ...   \n",
       "9995               25087  112706.52      0.00         8062.71     120769.23   \n",
       "9996               28982  110095.97      0.00         8251.51     118347.48   \n",
       "9997               29318  109742.06   7612.45         8048.60     125403.11   \n",
       "9998               32951  114150.59  12086.52         8086.49     134323.60   \n",
       "9999               35949  109730.02  18982.31        13339.80     142052.13   \n",
       "\n",
       "      Retirement  Health and Dental  Other Benefits  Total Benefits  \\\n",
       "0       11253.16           11961.34         4532.63        27747.13   \n",
       "1       10284.88            7176.80         4755.14        22216.82   \n",
       "2       12495.83           12918.24         4702.71        30116.78   \n",
       "3       19644.45           12918.24         7458.76        40021.45   \n",
       "4        1083.90             956.91          387.50         2428.31   \n",
       "...          ...                ...             ...             ...   \n",
       "9995    23153.16           12918.25         9490.50        45561.91   \n",
       "9996    22678.77           12918.24         9432.85        45029.86   \n",
       "9997    22568.33           12918.24         9609.54        45096.11   \n",
       "9998    23402.94           12918.24         9703.29        46024.47   \n",
       "9999    23017.47           12918.24         9699.59        45635.30   \n",
       "\n",
       "      Total Compensation  \n",
       "0               85281.78  \n",
       "1               79895.32  \n",
       "2               93649.71  \n",
       "3              134237.37  \n",
       "4                7512.31  \n",
       "...                  ...  \n",
       "9995           166331.14  \n",
       "9996           163377.34  \n",
       "9997           170499.22  \n",
       "9998           180348.07  \n",
       "9999           187687.43  \n",
       "\n",
       "[10000 rows x 22 columns]>"
      ]
     },
     "execution_count": 102,
     "metadata": {},
     "output_type": "execute_result"
    }
   ],
   "source": [
    "Hierarchical_data.info"
   ]
  },
  {
   "cell_type": "markdown",
   "metadata": {},
   "source": []
  },
  {
   "cell_type": "code",
   "execution_count": 104,
   "metadata": {},
   "outputs": [],
   "source": [
    "features_to_drop=['Organization Group Code','Job Family Code','Job Code','Year Type','Organization Group','Department Code',\n",
    "                  'Department','Union','Job Family','Job',\n",
    "       'Year','Union Code','Employee Identifier', 'Total Salary', 'Total Benefits',\n",
    "       'Total Compensation']"
   ]
  },
  {
   "cell_type": "code",
   "execution_count": 105,
   "metadata": {},
   "outputs": [],
   "source": [
    "Hierarchical_final_data=Hierarchical_data.drop(features_to_drop,axis=1)"
   ]
  },
  {
   "cell_type": "code",
   "execution_count": 106,
   "metadata": {},
   "outputs": [
    {
     "data": {
      "text/html": [
       "<div>\n",
       "<style scoped>\n",
       "    .dataframe tbody tr th:only-of-type {\n",
       "        vertical-align: middle;\n",
       "    }\n",
       "\n",
       "    .dataframe tbody tr th {\n",
       "        vertical-align: top;\n",
       "    }\n",
       "\n",
       "    .dataframe thead th {\n",
       "        text-align: right;\n",
       "    }\n",
       "</style>\n",
       "<table border=\"1\" class=\"dataframe\">\n",
       "  <thead>\n",
       "    <tr style=\"text-align: right;\">\n",
       "      <th></th>\n",
       "      <th>Salaries</th>\n",
       "      <th>Overtime</th>\n",
       "      <th>Other Salaries</th>\n",
       "      <th>Retirement</th>\n",
       "      <th>Health and Dental</th>\n",
       "      <th>Other Benefits</th>\n",
       "    </tr>\n",
       "  </thead>\n",
       "  <tbody>\n",
       "    <tr>\n",
       "      <th>0</th>\n",
       "      <td>57534.65</td>\n",
       "      <td>0.00</td>\n",
       "      <td>0.00</td>\n",
       "      <td>11253.16</td>\n",
       "      <td>11961.34</td>\n",
       "      <td>4532.63</td>\n",
       "    </tr>\n",
       "    <tr>\n",
       "      <th>1</th>\n",
       "      <td>57678.50</td>\n",
       "      <td>0.00</td>\n",
       "      <td>0.00</td>\n",
       "      <td>10284.88</td>\n",
       "      <td>7176.80</td>\n",
       "      <td>4755.14</td>\n",
       "    </tr>\n",
       "    <tr>\n",
       "      <th>2</th>\n",
       "      <td>63532.93</td>\n",
       "      <td>0.00</td>\n",
       "      <td>0.00</td>\n",
       "      <td>12495.83</td>\n",
       "      <td>12918.24</td>\n",
       "      <td>4702.71</td>\n",
       "    </tr>\n",
       "    <tr>\n",
       "      <th>3</th>\n",
       "      <td>101274.51</td>\n",
       "      <td>0.00</td>\n",
       "      <td>-7058.59</td>\n",
       "      <td>19644.45</td>\n",
       "      <td>12918.24</td>\n",
       "      <td>7458.76</td>\n",
       "    </tr>\n",
       "    <tr>\n",
       "      <th>4</th>\n",
       "      <td>5084.00</td>\n",
       "      <td>0.00</td>\n",
       "      <td>0.00</td>\n",
       "      <td>1083.90</td>\n",
       "      <td>956.91</td>\n",
       "      <td>387.50</td>\n",
       "    </tr>\n",
       "    <tr>\n",
       "      <th>...</th>\n",
       "      <td>...</td>\n",
       "      <td>...</td>\n",
       "      <td>...</td>\n",
       "      <td>...</td>\n",
       "      <td>...</td>\n",
       "      <td>...</td>\n",
       "    </tr>\n",
       "    <tr>\n",
       "      <th>9995</th>\n",
       "      <td>112706.52</td>\n",
       "      <td>0.00</td>\n",
       "      <td>8062.71</td>\n",
       "      <td>23153.16</td>\n",
       "      <td>12918.25</td>\n",
       "      <td>9490.50</td>\n",
       "    </tr>\n",
       "    <tr>\n",
       "      <th>9996</th>\n",
       "      <td>110095.97</td>\n",
       "      <td>0.00</td>\n",
       "      <td>8251.51</td>\n",
       "      <td>22678.77</td>\n",
       "      <td>12918.24</td>\n",
       "      <td>9432.85</td>\n",
       "    </tr>\n",
       "    <tr>\n",
       "      <th>9997</th>\n",
       "      <td>109742.06</td>\n",
       "      <td>7612.45</td>\n",
       "      <td>8048.60</td>\n",
       "      <td>22568.33</td>\n",
       "      <td>12918.24</td>\n",
       "      <td>9609.54</td>\n",
       "    </tr>\n",
       "    <tr>\n",
       "      <th>9998</th>\n",
       "      <td>114150.59</td>\n",
       "      <td>12086.52</td>\n",
       "      <td>8086.49</td>\n",
       "      <td>23402.94</td>\n",
       "      <td>12918.24</td>\n",
       "      <td>9703.29</td>\n",
       "    </tr>\n",
       "    <tr>\n",
       "      <th>9999</th>\n",
       "      <td>109730.02</td>\n",
       "      <td>18982.31</td>\n",
       "      <td>13339.80</td>\n",
       "      <td>23017.47</td>\n",
       "      <td>12918.24</td>\n",
       "      <td>9699.59</td>\n",
       "    </tr>\n",
       "  </tbody>\n",
       "</table>\n",
       "<p>10000 rows × 6 columns</p>\n",
       "</div>"
      ],
      "text/plain": [
       "       Salaries  Overtime  Other Salaries  Retirement  Health and Dental  \\\n",
       "0      57534.65      0.00            0.00    11253.16           11961.34   \n",
       "1      57678.50      0.00            0.00    10284.88            7176.80   \n",
       "2      63532.93      0.00            0.00    12495.83           12918.24   \n",
       "3     101274.51      0.00        -7058.59    19644.45           12918.24   \n",
       "4       5084.00      0.00            0.00     1083.90             956.91   \n",
       "...         ...       ...             ...         ...                ...   \n",
       "9995  112706.52      0.00         8062.71    23153.16           12918.25   \n",
       "9996  110095.97      0.00         8251.51    22678.77           12918.24   \n",
       "9997  109742.06   7612.45         8048.60    22568.33           12918.24   \n",
       "9998  114150.59  12086.52         8086.49    23402.94           12918.24   \n",
       "9999  109730.02  18982.31        13339.80    23017.47           12918.24   \n",
       "\n",
       "      Other Benefits  \n",
       "0            4532.63  \n",
       "1            4755.14  \n",
       "2            4702.71  \n",
       "3            7458.76  \n",
       "4             387.50  \n",
       "...              ...  \n",
       "9995         9490.50  \n",
       "9996         9432.85  \n",
       "9997         9609.54  \n",
       "9998         9703.29  \n",
       "9999         9699.59  \n",
       "\n",
       "[10000 rows x 6 columns]"
      ]
     },
     "execution_count": 106,
     "metadata": {},
     "output_type": "execute_result"
    }
   ],
   "source": [
    "Hierarchical_final_data"
   ]
  },
  {
   "cell_type": "code",
   "execution_count": 107,
   "metadata": {},
   "outputs": [
    {
     "name": "stdout",
     "output_type": "stream",
     "text": [
      "Z-Shape: (9999, 4)\n"
     ]
    },
    {
     "data": {
      "image/png": "[encoded data removed]",
      "text/plain": [
       "<Figure size 1080x720 with 1 Axes>"
      ]
     },
     "metadata": {
      "needs_background": "light"
     },
     "output_type": "display_data"
    }
   ],
   "source": [
    "plt.figure(figsize=(15,10))\n",
    "Z=linkage(Hierarchical_final_data,method='single')\n",
    "print(\"Z-Shape:\",Z.shape)\n",
    "plt.title(\"Single\",size=30)\n",
    "dendrogram(Z,orientation='top',truncate_mode='lastp',p=12,get_leaves=False,leaf_rotation=45,leaf_font_size=15,show_contracted=True,)\n",
    "plt.xlabel(\"Cluster Size\",fontsize=30)\n",
    "plt.ylabel(\"Distances\",fontsize=30)\n",
    "plt.show()"
   ]
  },
  {
   "cell_type": "code",
   "execution_count": 171,
   "metadata": {},
   "outputs": [],
   "source": [
    "from sklearn.cluster import AgglomerativeClustering\n",
    "hc = AgglomerativeClustering(n_clusters = 5, affinity = 'euclidean', linkage = 'single')\n",
    "y_hc = hc.fit_predict(Hierarchical_final_data)\n"
   ]
  },
  {
   "cell_type": "code",
   "execution_count": 170,
   "metadata": {},
   "outputs": [
    {
     "data": {
      "image/png": "[encoded data removed]",
      "text/plain": [
       "<Figure size 432x288 with 1 Axes>"
      ]
     },
     "metadata": {
      "needs_background": "light"
     },
     "output_type": "display_data"
    }
   ],
   "source": [
    "# Visualising the clusters\n",
    "plt.scatter(X[y_hc == 0, 0], X[y_hc == 0, 1], s = 50, c = 'red', label = 'Careful')\n",
    "plt.scatter(X[y_hc == 1, 0], X[y_hc == 1, 1], s = 50, c = 'blue', label = 'Standard')\n",
    "plt.scatter(X[y_hc == 2, 0], X[y_hc == 2, 1], s = 50, c = 'green', label = 'Target')\n",
    "plt.scatter(X[y_hc == 3, 0], X[y_hc == 3, 1], s = 50, c = 'cyan', label = 'Careless')\n",
    "plt.scatter(X[y_hc == 4, 0], X[y_hc == 4, 1], s = 50, c = 'magenta', label = 'Sensible')\n",
    "plt.title('Clusters of customers')\n",
    "plt.legend()\n",
    "plt.show()"
   ]
  },
  {
   "cell_type": "code",
   "execution_count": null,
   "metadata": {},
   "outputs": [],
   "source": [
    "# method complete"
   ]
  },
  {
   "cell_type": "code",
   "execution_count": 109,
   "metadata": {},
   "outputs": [
    {
     "name": "stdout",
     "output_type": "stream",
     "text": [
      "Z-Shape: (9999, 4)\n"
     ]
    },
    {
     "data": {
      "image/png": "[encoded data removed]",
      "text/plain": [
       "<Figure size 1080x720 with 1 Axes>"
      ]
     },
     "metadata": {
      "needs_background": "light"
     },
     "output_type": "display_data"
    }
   ],
   "source": [
    "plt.figure(figsize=(15,10))\n",
    "Z=linkage(Hierarchical_final_data,method='complete')\n",
    "print(\"Z-Shape:\",Z.shape)\n",
    "plt.title(\"COMPLETE\",size=30)\n",
    "dendrogram(Z,orientation='top',truncate_mode='lastp',p=12,get_leaves=False,leaf_rotation=45,leaf_font_size=15,show_contracted=True,)\n",
    "plt.xlabel(\"Cluster Size\",fontsize=30)\n",
    "plt.ylabel(\"Distances\",fontsize=30)\n",
    "plt.show()"
   ]
  },
  {
   "cell_type": "code",
   "execution_count": 165,
   "metadata": {},
   "outputs": [
    {
     "name": "stdout",
     "output_type": "stream",
     "text": [
      "[[ 57534.65      0.        0.    11253.16  11961.34   4532.63]\n",
      " [ 57678.5       0.        0.    10284.88   7176.8    4755.14]\n",
      " [ 63532.93      0.        0.    12495.83  12918.24   4702.71]\n",
      " ...\n",
      " [109742.06   7612.45   8048.6   22568.33  12918.24   9609.54]\n",
      " [114150.59  12086.52   8086.49  23402.94  12918.24   9703.29]\n",
      " [109730.02  18982.31  13339.8   23017.47  12918.24   9699.59]]\n"
     ]
    }
   ],
   "source": [
    "from sklearn.cluster import AgglomerativeClustering\n",
    "hc = AgglomerativeClustering(n_clusters = 5, affinity = 'euclidean', linkage = 'complete')\n",
    "y_hc = hc.fit_predict(Hierarchical_final_data)\n",
    "X = Hierarchical_final_data.iloc[:, :].values\n",
    "\n",
    "print (X)"
   ]
  },
  {
   "cell_type": "code",
   "execution_count": 172,
   "metadata": {},
   "outputs": [
    {
     "data": {
      "image/png": "[encoded data removed]",
      "text/plain": [
       "<Figure size 432x288 with 1 Axes>"
      ]
     },
     "metadata": {
      "needs_background": "light"
     },
     "output_type": "display_data"
    }
   ],
   "source": [
    "# Visualising the clusters\n",
    "plt.scatter(X[y_hc == 0, 0], X[y_hc == 0, 1], s = 50, c = 'red', label = 'Careful')\n",
    "plt.scatter(X[y_hc == 1, 0], X[y_hc == 1, 1], s = 50, c = 'blue', label = 'Standard')\n",
    "plt.scatter(X[y_hc == 2, 0], X[y_hc == 2, 1], s = 50, c = 'green', label = 'Target')\n",
    "plt.scatter(X[y_hc == 3, 0], X[y_hc == 3, 1], s = 50, c = 'cyan', label = 'Careless')\n",
    "plt.scatter(X[y_hc == 4, 0], X[y_hc == 4, 1], s = 50, c = 'magenta', label = 'Sensible')\n",
    "plt.title('Clusters of customers')\n",
    "\n",
    "plt.legend()\n",
    "plt.show()"
   ]
  },
  {
   "cell_type": "code",
   "execution_count": 173,
   "metadata": {},
   "outputs": [
    {
     "name": "stdout",
     "output_type": "stream",
     "text": [
      "Z-Shape: (9999, 4)\n"
     ]
    },
    {
     "data": {
      "image/png": "[encoded data removed]",
      "text/plain": [
       "<Figure size 1080x720 with 1 Axes>"
      ]
     },
     "metadata": {
      "needs_background": "light"
     },
     "output_type": "display_data"
    }
   ],
   "source": [
    "# average method \n",
    "\n",
    "plt.figure(figsize=(15,10))\n",
    "Z=linkage(Hierarchical_final_data,method='average')\n",
    "print(\"Z-Shape:\",Z.shape)\n",
    "plt.title(\"Average\",loc='center',size=30)\n",
    "dendrogram(Z,orientation='top',truncate_mode='lastp',p=12,get_leaves=False,leaf_rotation=45,leaf_font_size=15,show_contracted=True,)\n",
    "plt.xlabel(\"Cluster Size\",fontsize=30)\n",
    "plt.ylabel(\"Distances\",fontsize=30)\n",
    "plt.show()"
   ]
  },
  {
   "cell_type": "code",
   "execution_count": 111,
   "metadata": {},
   "outputs": [
    {
     "name": "stdout",
     "output_type": "stream",
     "text": [
      "Z-Shape: (9999, 4)\n"
     ]
    },
    {
     "data": {
      "image/png": "[encoded data removed]",
      "text/plain": [
       "<Figure size 1080x720 with 1 Axes>"
      ]
     },
     "metadata": {
      "needs_background": "light"
     },
     "output_type": "display_data"
    }
   ],
   "source": [
    "#weighted method \n",
    "plt.figure(figsize=(15,10))\n",
    "Z=linkage(Hierarchical_final_data,method='weighted')\n",
    "print(\"Z-Shape:\",Z.shape)\n",
    "plt.title(\"Weighted\",loc='center',size=30)\n",
    "dendrogram(Z,orientation='top',truncate_mode='lastp',p=12,get_leaves=False,leaf_rotation=45,leaf_font_size=15,show_contracted=True,)\n",
    "plt.xlabel(\"Cluster Size\",fontsize=30)\n",
    "plt.ylabel(\"Distances\",fontsize=30)\n",
    "plt.show()"
   ]
  },
  {
   "cell_type": "code",
   "execution_count": 112,
   "metadata": {},
   "outputs": [
    {
     "name": "stdout",
     "output_type": "stream",
     "text": [
      "Z-Shape: (9999, 4)\n"
     ]
    },
    {
     "data": {
      "image/png": "[encoded data removed]",
      "text/plain": [
       "<Figure size 1080x720 with 1 Axes>"
      ]
     },
     "metadata": {
      "needs_background": "light"
     },
     "output_type": "display_data"
    }
   ],
   "source": [
    "# centroid method\n",
    "plt.figure(figsize=(15,10))\n",
    "Z=linkage(Hierarchical_final_data,method='centroid')\n",
    "print(\"Z-Shape:\",Z.shape)\n",
    "plt.title(\"CENTROID\",loc='center',size=30)\n",
    "dendrogram(Z,orientation='top',truncate_mode='lastp',p=12,get_leaves=False,leaf_rotation=45,leaf_font_size=15,show_contracted=True,)\n",
    "plt.xlabel(\"Cluster Size\",fontsize=30)\n",
    "plt.ylabel(\"Distances\",fontsize=30)\n",
    "plt.show()"
   ]
  },
  {
   "cell_type": "code",
   "execution_count": null,
   "metadata": {},
   "outputs": [],
   "source": []
  },
  {
   "cell_type": "code",
   "execution_count": null,
   "metadata": {},
   "outputs": [],
   "source": []
  },
  {
   "cell_type": "code",
   "execution_count": null,
   "metadata": {},
   "outputs": [],
   "source": []
  },
  {
   "cell_type": "code",
   "execution_count": 113,
   "metadata": {},
   "outputs": [
    {
     "name": "stdout",
     "output_type": "stream",
     "text": [
      "Z-Shape: (9999, 4)\n"
     ]
    },
    {
     "data": {
      "image/png": "[encoded data removed]",
      "text/plain": [
       "<Figure size 1080x720 with 1 Axes>"
      ]
     },
     "metadata": {
      "needs_background": "light"
     },
     "output_type": "display_data"
    }
   ],
   "source": [
    "# ward method\n",
    "plt.figure(figsize=(15,10))\n",
    "Z=linkage(Hierarchical_final_data,method='ward')\n",
    "print(\"Z-Shape:\",Z.shape)\n",
    "plt.title(\"WARD\",size=30)\n",
    "dendrogram(Z,orientation='top',truncate_mode='lastp',p=12,get_leaves=False,leaf_rotation=45,leaf_font_size=15,show_contracted=True,)\n",
    "plt.xlabel(\"Cluster Size\",fontsize=30)\n",
    "plt.ylabel(\"Distances\",fontsize=30)\n",
    "plt.axhline(y=500)\n",
    "plt.axhline(y=1500)\n",
    "plt.show()"
   ]
  },
  {
   "cell_type": "code",
   "execution_count": 155,
   "metadata": {},
   "outputs": [],
   "source": [
    "from sklearn.cluster import AgglomerativeClustering\n",
    "hc = AgglomerativeClustering(n_clusters = 5, affinity = 'euclidean', linkage = 'ward')\n",
    "y_hc = hc.fit_predict(Hierarchical_final_data)"
   ]
  },
  {
   "cell_type": "code",
   "execution_count": 156,
   "metadata": {},
   "outputs": [
    {
     "name": "stdout",
     "output_type": "stream",
     "text": [
      "[[ 57534.65      0.        0.    11253.16  11961.34   4532.63]\n",
      " [ 57678.5       0.        0.    10284.88   7176.8    4755.14]\n",
      " [ 63532.93      0.        0.    12495.83  12918.24   4702.71]\n",
      " ...\n",
      " [109742.06   7612.45   8048.6   22568.33  12918.24   9609.54]\n",
      " [114150.59  12086.52   8086.49  23402.94  12918.24   9703.29]\n",
      " [109730.02  18982.31  13339.8   23017.47  12918.24   9699.59]]\n"
     ]
    }
   ],
   "source": [
    "X = Hierarchical_final_data.iloc[:, :].values\n",
    "# X = Hierarchical_final_data.iloc[:, [0, 5]].values\n",
    "print (X)"
   ]
  },
  {
   "cell_type": "code",
   "execution_count": 158,
   "metadata": {},
   "outputs": [
    {
     "data": {
      "image/png": "[encoded data removed]",
      "text/plain": [
       "<Figure size 432x288 with 1 Axes>"
      ]
     },
     "metadata": {
      "needs_background": "light"
     },
     "output_type": "display_data"
    }
   ],
   "source": [
    "# Visualising the clusters\n",
    "plt.scatter(X[y_hc == 0, 0], X[y_hc == 0, 1], s = 50, c = 'red', label = 'Careful')\n",
    "plt.scatter(X[y_hc == 1, 0], X[y_hc == 1, 1], s = 50, c = 'blue', label = 'Standard')\n",
    "plt.scatter(X[y_hc == 2, 0], X[y_hc == 2, 1], s = 50, c = 'green', label = 'Target')\n",
    "plt.scatter(X[y_hc == 3, 0], X[y_hc == 3, 1], s = 50, c = 'cyan', label = 'Careless')\n",
    "plt.scatter(X[y_hc == 4, 0], X[y_hc == 4, 1], s = 50, c = 'magenta', label = 'Sensible')\n",
    "plt.title('Clusters of customers')\n",
    "plt.show()"
   ]
  },
  {
   "cell_type": "code",
   "execution_count": null,
   "metadata": {},
   "outputs": [],
   "source": []
  },
  {
   "cell_type": "code",
   "execution_count": null,
   "metadata": {},
   "outputs": [],
   "source": []
  }
 ],
 "metadata": {
  "kernelspec": {
   "display_name": "Python 3",
   "language": "python",
   "name": "python3"
  },
  "language_info": {
   "codemirror_mode": {
    "name": "ipython",
    "version": 3
   },
   "file_extension": ".py",
   "mimetype": "text/x-python",
   "name": "python",
   "nbconvert_exporter": "python",
   "pygments_lexer": "ipython3",
   "version": "3.8.5"
  }
 },
 "nbformat": 4,
 "nbformat_minor": 4
}
