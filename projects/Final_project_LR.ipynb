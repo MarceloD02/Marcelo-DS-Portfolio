{
 "cells": [
  {
   "cell_type": "code",
   "execution_count": 1,
   "metadata": {},
   "outputs": [],
   "source": [
    "# @ Marcelo Goncalves\n",
    "# this is myt first project in logistic regression.\n",
    "# this project is releted a marketing company(phones calls) of a portugues bank institution\n",
    "# and the goal in this project is to predict if the client will subscrebe a term deposit or not.\n"
   ]
  },
  {
   "cell_type": "code",
   "execution_count": 2,
   "metadata": {},
   "outputs": [],
   "source": [
    "# I will use some phases in This project\n",
    "# In first step I will loading my data and analize it, by checking the information about data such as: shape my data to see how\n",
    "# many row and colunm that I have, name of my column, loking for some statictis \n",
    "# like mean,std, and also loking for missing value in my data."
   ]
  },
  {
   "cell_type": "code",
   "execution_count": 3,
   "metadata": {},
   "outputs": [],
   "source": [
    "# first of all, let me import all the pyhton libraries that i will use durint this project"
   ]
  },
  {
   "cell_type": "raw",
   "metadata": {},
   "source": [
    "\n"
   ]
  },
  {
   "cell_type": "code",
   "execution_count": 4,
   "metadata": {},
   "outputs": [
    {
     "name": "stdout",
     "output_type": "stream",
     "text": [
      "Collecting matplotlib\n",
      "  Using cached matplotlib-3.3.4-cp38-cp38-win_amd64.whl (8.5 MB)\n",
      "Collecting kiwisolver>=1.0.1\n",
      "  Using cached kiwisolver-1.3.1-cp38-cp38-win_amd64.whl (51 kB)\n",
      "Collecting numpy>=1.15\n",
      "  Using cached numpy-1.20.1-cp38-cp38-win_amd64.whl (13.7 MB)\n",
      "Collecting python-dateutil>=2.1\n",
      "  Using cached python_dateutil-2.8.1-py2.py3-none-any.whl (227 kB)\n",
      "Collecting pillow>=6.2.0\n",
      "  Using cached Pillow-8.1.2-cp38-cp38-win_amd64.whl (2.2 MB)\n",
      "Collecting cycler>=0.10\n",
      "  Using cached cycler-0.10.0-py2.py3-none-any.whl (6.5 kB)\n",
      "Collecting pyparsing!=2.0.4,!=2.1.2,!=2.1.6,>=2.0.3\n",
      "  Using cached pyparsing-2.4.7-py2.py3-none-any.whl (67 kB)\n",
      "Collecting six>=1.5\n",
      "  Using cached six-1.15.0-py2.py3-none-any.whl (10 kB)\n",
      "Installing collected packages: kiwisolver, numpy, six, python-dateutil, pillow, cycler, pyparsing, matplotlib\n",
      "  Attempting uninstall: kiwisolver\n",
      "    Found existing installation: kiwisolver 1.3.1\n",
      "    Uninstalling kiwisolver-1.3.1:\n",
      "      Successfully uninstalled kiwisolver-1.3.1\n",
      "  Attempting uninstall: numpy\n",
      "    Found existing installation: numpy 1.20.1\n",
      "    Uninstalling numpy-1.20.1:\n",
      "      Successfully uninstalled numpy-1.20.1\n",
      "  Attempting uninstall: six\n",
      "    Found existing installation: six 1.15.0\n",
      "    Uninstalling six-1.15.0:\n",
      "      Successfully uninstalled six-1.15.0\n",
      "  Attempting uninstall: python-dateutil\n",
      "    Found existing installation: python-dateutil 2.8.1\n",
      "    Uninstalling python-dateutil-2.8.1:\n",
      "      Successfully uninstalled python-dateutil-2.8.1\n",
      "  Attempting uninstall: pillow\n",
      "    Found existing installation: Pillow 8.1.2\n",
      "    Uninstalling Pillow-8.1.2:\n",
      "      Successfully uninstalled Pillow-8.1.2\n",
      "  Attempting uninstall: cycler\n",
      "    Found existing installation: cycler 0.10.0\n",
      "    Uninstalling cycler-0.10.0:\n",
      "      Successfully uninstalled cycler-0.10.0\n",
      "  Attempting uninstall: pyparsing\n",
      "    Found existing installation: pyparsing 2.4.7\n",
      "    Uninstalling pyparsing-2.4.7:\n",
      "      Successfully uninstalled pyparsing-2.4.7\n",
      "Successfully installed cycler-0.10.0 kiwisolver-1.3.1 matplotlib-3.3.4 numpy-1.20.1 pillow-8.1.2 pyparsing-2.4.7 python-dateutil-2.8.1 six-1.15.0\n",
      "Note: you may need to restart the kernel to use updated packages.\n"
     ]
    }
   ],
   "source": [
    "\n",
    "\n",
    "pip install matplotlib --force-reinstall"
   ]
  },
  {
   "cell_type": "code",
   "execution_count": 5,
   "metadata": {},
   "outputs": [
    {
     "name": "stdout",
     "output_type": "stream",
     "text": [
      "Collecting package metadata (current_repodata.json): ...working... done\n",
      "Solving environment: ...working... done\n",
      "\n",
      "# All requested packages already installed.\n",
      "\n",
      "\n",
      "Note: you may need to restart the kernel to use updated packages.\n"
     ]
    }
   ],
   "source": [
    "conda install matplotlib"
   ]
  },
  {
   "cell_type": "code",
   "execution_count": 6,
   "metadata": {},
   "outputs": [],
   "source": [
    "# now i have all my libraries, let's start by loading my data\n",
    "# this project will be divived in differents steps"
   ]
  },
  {
   "cell_type": "code",
   "execution_count": null,
   "metadata": {},
   "outputs": [],
   "source": [
    "conda install seaborn\n"
   ]
  },
  {
   "cell_type": "code",
   "execution_count": 4,
   "metadata": {},
   "outputs": [],
   "source": [
    "import pandas as pd\n",
    "import numpy as np\n",
    "import matplotlib.pyplot as plt\n",
    "import seaborn as sns\n",
    "from sklearn.metrics import classification_report\n",
    "from sklearn.metrics import accuracy_score\n",
    "from sklearn.model_selection import train_test_split\n",
    "from sklearn.metrics import mean_squared_error,mean_absolute_error, r2_score"
   ]
  },
  {
   "cell_type": "markdown",
   "metadata": {},
   "source": [
    "## Section I : Data Loading"
   ]
  },
  {
   "cell_type": "markdown",
   "metadata": {},
   "source": [
    " Part I : Load the dataset into the notebook"
   ]
  },
  {
   "cell_type": "code",
   "execution_count": 5,
   "metadata": {},
   "outputs": [
    {
     "name": "stderr",
     "output_type": "stream",
     "text": [
      "C:\\Users\\marce\\anaconda3\\lib\\site-packages\\IPython\\core\\interactiveshell.py:3146: DtypeWarning: Columns (0) have mixed types.Specify dtype option on import or set low_memory=False.\n",
      "  has_raised = await self.run_ast_nodes(code_ast.body, cell_name,\n"
     ]
    }
   ],
   "source": [
    "data=pd.read_csv(\"C:\\\\Users\\\\marce\\\\OneDrive\\\\Ambiente de Trabalho\\\\DataScience\\\\logistic_regression\\\\Portugal_bank\\\\portu_banking_final.csv\")"
   ]
  },
  {
   "cell_type": "code",
   "execution_count": 6,
   "metadata": {},
   "outputs": [
    {
     "data": {
      "text/html": [
       "<div>\n",
       "<style scoped>\n",
       "    .dataframe tbody tr th:only-of-type {\n",
       "        vertical-align: middle;\n",
       "    }\n",
       "\n",
       "    .dataframe tbody tr th {\n",
       "        vertical-align: top;\n",
       "    }\n",
       "\n",
       "    .dataframe thead th {\n",
       "        text-align: right;\n",
       "    }\n",
       "</style>\n",
       "<table border=\"1\" class=\"dataframe\">\n",
       "  <thead>\n",
       "    <tr style=\"text-align: right;\">\n",
       "      <th></th>\n",
       "      <th>age</th>\n",
       "      <th>job</th>\n",
       "      <th>marital</th>\n",
       "      <th>education</th>\n",
       "      <th>default</th>\n",
       "      <th>housing</th>\n",
       "      <th>loan</th>\n",
       "      <th>contact</th>\n",
       "      <th>month</th>\n",
       "      <th>day_of_week</th>\n",
       "      <th>...</th>\n",
       "      <th>campaign</th>\n",
       "      <th>pdays</th>\n",
       "      <th>previous</th>\n",
       "      <th>poutcome</th>\n",
       "      <th>emp_var_rate</th>\n",
       "      <th>cons_price_idx</th>\n",
       "      <th>cons_conf_idx</th>\n",
       "      <th>euribor3m</th>\n",
       "      <th>nr_employed</th>\n",
       "      <th>y</th>\n",
       "    </tr>\n",
       "  </thead>\n",
       "  <tbody>\n",
       "    <tr>\n",
       "      <th>0</th>\n",
       "      <td>44</td>\n",
       "      <td>blue-collar</td>\n",
       "      <td>married</td>\n",
       "      <td>basic.4y</td>\n",
       "      <td>unknown</td>\n",
       "      <td>yes</td>\n",
       "      <td>no</td>\n",
       "      <td>cellular</td>\n",
       "      <td>aug</td>\n",
       "      <td>thu</td>\n",
       "      <td>...</td>\n",
       "      <td>1</td>\n",
       "      <td>999.0</td>\n",
       "      <td>0</td>\n",
       "      <td>nonexistent</td>\n",
       "      <td>1.4</td>\n",
       "      <td>93.444</td>\n",
       "      <td>-36.1</td>\n",
       "      <td>4.963</td>\n",
       "      <td>5228.1</td>\n",
       "      <td>0</td>\n",
       "    </tr>\n",
       "    <tr>\n",
       "      <th>1</th>\n",
       "      <td>53</td>\n",
       "      <td>technician</td>\n",
       "      <td>married</td>\n",
       "      <td>unknown</td>\n",
       "      <td>no</td>\n",
       "      <td>no</td>\n",
       "      <td>no</td>\n",
       "      <td>cellular</td>\n",
       "      <td>nov</td>\n",
       "      <td>fri</td>\n",
       "      <td>...</td>\n",
       "      <td>1</td>\n",
       "      <td>999.0</td>\n",
       "      <td>0</td>\n",
       "      <td>nonexistent</td>\n",
       "      <td>-0.1</td>\n",
       "      <td>93.200</td>\n",
       "      <td>-42.0</td>\n",
       "      <td>4.021</td>\n",
       "      <td>5195.8</td>\n",
       "      <td>0</td>\n",
       "    </tr>\n",
       "    <tr>\n",
       "      <th>2</th>\n",
       "      <td>28</td>\n",
       "      <td>management</td>\n",
       "      <td>single</td>\n",
       "      <td>university.degree</td>\n",
       "      <td>no</td>\n",
       "      <td>yes</td>\n",
       "      <td>no</td>\n",
       "      <td>cellular</td>\n",
       "      <td>jun</td>\n",
       "      <td>thu</td>\n",
       "      <td>...</td>\n",
       "      <td>3</td>\n",
       "      <td>6.0</td>\n",
       "      <td>2</td>\n",
       "      <td>success</td>\n",
       "      <td>-1.7</td>\n",
       "      <td>94.055</td>\n",
       "      <td>-39.8</td>\n",
       "      <td>0.729</td>\n",
       "      <td>4991.6</td>\n",
       "      <td>1</td>\n",
       "    </tr>\n",
       "    <tr>\n",
       "      <th>3</th>\n",
       "      <td>39</td>\n",
       "      <td>services</td>\n",
       "      <td>married</td>\n",
       "      <td>high.school</td>\n",
       "      <td>no</td>\n",
       "      <td>no</td>\n",
       "      <td>no</td>\n",
       "      <td>cellular</td>\n",
       "      <td>apr</td>\n",
       "      <td>fri</td>\n",
       "      <td>...</td>\n",
       "      <td>2</td>\n",
       "      <td>999.0</td>\n",
       "      <td>0</td>\n",
       "      <td>nonexistent</td>\n",
       "      <td>-1.8</td>\n",
       "      <td>93.075</td>\n",
       "      <td>-47.1</td>\n",
       "      <td>1.405</td>\n",
       "      <td>5099.1</td>\n",
       "      <td>0</td>\n",
       "    </tr>\n",
       "    <tr>\n",
       "      <th>4</th>\n",
       "      <td>55</td>\n",
       "      <td>retired</td>\n",
       "      <td>married</td>\n",
       "      <td>basic.4y</td>\n",
       "      <td>no</td>\n",
       "      <td>yes</td>\n",
       "      <td>no</td>\n",
       "      <td>cellular</td>\n",
       "      <td>aug</td>\n",
       "      <td>fri</td>\n",
       "      <td>...</td>\n",
       "      <td>1</td>\n",
       "      <td>3.0</td>\n",
       "      <td>1</td>\n",
       "      <td>success</td>\n",
       "      <td>-2.9</td>\n",
       "      <td>92.201</td>\n",
       "      <td>-31.4</td>\n",
       "      <td>0.869</td>\n",
       "      <td>5076.2</td>\n",
       "      <td>1</td>\n",
       "    </tr>\n",
       "    <tr>\n",
       "      <th>...</th>\n",
       "      <td>...</td>\n",
       "      <td>...</td>\n",
       "      <td>...</td>\n",
       "      <td>...</td>\n",
       "      <td>...</td>\n",
       "      <td>...</td>\n",
       "      <td>...</td>\n",
       "      <td>...</td>\n",
       "      <td>...</td>\n",
       "      <td>...</td>\n",
       "      <td>...</td>\n",
       "      <td>...</td>\n",
       "      <td>...</td>\n",
       "      <td>...</td>\n",
       "      <td>...</td>\n",
       "      <td>...</td>\n",
       "      <td>...</td>\n",
       "      <td>...</td>\n",
       "      <td>...</td>\n",
       "      <td>...</td>\n",
       "      <td>...</td>\n",
       "    </tr>\n",
       "    <tr>\n",
       "      <th>41183</th>\n",
       "      <td>59</td>\n",
       "      <td>retired</td>\n",
       "      <td>married</td>\n",
       "      <td>high.school</td>\n",
       "      <td>unknown</td>\n",
       "      <td>no</td>\n",
       "      <td>yes</td>\n",
       "      <td>telephone</td>\n",
       "      <td>jun</td>\n",
       "      <td>thu</td>\n",
       "      <td>...</td>\n",
       "      <td>1</td>\n",
       "      <td>999.0</td>\n",
       "      <td>0</td>\n",
       "      <td>nonexistent</td>\n",
       "      <td>1.4</td>\n",
       "      <td>94.465</td>\n",
       "      <td>-41.8</td>\n",
       "      <td>4.866</td>\n",
       "      <td>5228.1</td>\n",
       "      <td>0</td>\n",
       "    </tr>\n",
       "    <tr>\n",
       "      <th>41184</th>\n",
       "      <td>31</td>\n",
       "      <td>housemaid</td>\n",
       "      <td>married</td>\n",
       "      <td>basic.4y</td>\n",
       "      <td>unknown</td>\n",
       "      <td>no</td>\n",
       "      <td>no</td>\n",
       "      <td>telephone</td>\n",
       "      <td>may</td>\n",
       "      <td>thu</td>\n",
       "      <td>...</td>\n",
       "      <td>2</td>\n",
       "      <td>999.0</td>\n",
       "      <td>0</td>\n",
       "      <td>nonexistent</td>\n",
       "      <td>1.1</td>\n",
       "      <td>93.994</td>\n",
       "      <td>-36.4</td>\n",
       "      <td>4.860</td>\n",
       "      <td>5191.0</td>\n",
       "      <td>0</td>\n",
       "    </tr>\n",
       "    <tr>\n",
       "      <th>41185</th>\n",
       "      <td>42</td>\n",
       "      <td>admin.</td>\n",
       "      <td>single</td>\n",
       "      <td>university.degree</td>\n",
       "      <td>unknown</td>\n",
       "      <td>yes</td>\n",
       "      <td>yes</td>\n",
       "      <td>telephone</td>\n",
       "      <td>may</td>\n",
       "      <td>wed</td>\n",
       "      <td>...</td>\n",
       "      <td>3</td>\n",
       "      <td>999.0</td>\n",
       "      <td>0</td>\n",
       "      <td>nonexistent</td>\n",
       "      <td>1.1</td>\n",
       "      <td>93.994</td>\n",
       "      <td>-36.4</td>\n",
       "      <td>4.857</td>\n",
       "      <td>5191.0</td>\n",
       "      <td>0</td>\n",
       "    </tr>\n",
       "    <tr>\n",
       "      <th>41186</th>\n",
       "      <td>48</td>\n",
       "      <td>technician</td>\n",
       "      <td>married</td>\n",
       "      <td>professional.course</td>\n",
       "      <td>no</td>\n",
       "      <td>no</td>\n",
       "      <td>yes</td>\n",
       "      <td>telephone</td>\n",
       "      <td>oct</td>\n",
       "      <td>tue</td>\n",
       "      <td>...</td>\n",
       "      <td>2</td>\n",
       "      <td>999.0</td>\n",
       "      <td>0</td>\n",
       "      <td>nonexistent</td>\n",
       "      <td>-3.4</td>\n",
       "      <td>92.431</td>\n",
       "      <td>-26.9</td>\n",
       "      <td>0.742</td>\n",
       "      <td>5017.5</td>\n",
       "      <td>0</td>\n",
       "    </tr>\n",
       "    <tr>\n",
       "      <th>41187</th>\n",
       "      <td>25</td>\n",
       "      <td>student</td>\n",
       "      <td>single</td>\n",
       "      <td>high.school</td>\n",
       "      <td>no</td>\n",
       "      <td>no</td>\n",
       "      <td>no</td>\n",
       "      <td>telephone</td>\n",
       "      <td>may</td>\n",
       "      <td>fri</td>\n",
       "      <td>...</td>\n",
       "      <td>4</td>\n",
       "      <td>999.0</td>\n",
       "      <td>0</td>\n",
       "      <td>nonexistent</td>\n",
       "      <td>1.1</td>\n",
       "      <td>93.994</td>\n",
       "      <td>-36.4</td>\n",
       "      <td>4.859</td>\n",
       "      <td>5191.0</td>\n",
       "      <td>0</td>\n",
       "    </tr>\n",
       "  </tbody>\n",
       "</table>\n",
       "<p>41188 rows × 21 columns</p>\n",
       "</div>"
      ],
      "text/plain": [
       "      age          job  marital            education  default housing loan  \\\n",
       "0      44  blue-collar  married             basic.4y  unknown     yes   no   \n",
       "1      53   technician  married              unknown       no      no   no   \n",
       "2      28   management   single    university.degree       no     yes   no   \n",
       "3      39     services  married          high.school       no      no   no   \n",
       "4      55      retired  married             basic.4y       no     yes   no   \n",
       "...    ..          ...      ...                  ...      ...     ...  ...   \n",
       "41183  59      retired  married          high.school  unknown      no  yes   \n",
       "41184  31    housemaid  married             basic.4y  unknown      no   no   \n",
       "41185  42       admin.   single    university.degree  unknown     yes  yes   \n",
       "41186  48   technician  married  professional.course       no      no  yes   \n",
       "41187  25      student   single          high.school       no      no   no   \n",
       "\n",
       "         contact month day_of_week  ...  campaign  pdays  previous  \\\n",
       "0       cellular   aug         thu  ...         1  999.0         0   \n",
       "1       cellular   nov         fri  ...         1  999.0         0   \n",
       "2       cellular   jun         thu  ...         3    6.0         2   \n",
       "3       cellular   apr         fri  ...         2  999.0         0   \n",
       "4       cellular   aug         fri  ...         1    3.0         1   \n",
       "...          ...   ...         ...  ...       ...    ...       ...   \n",
       "41183  telephone   jun         thu  ...         1  999.0         0   \n",
       "41184  telephone   may         thu  ...         2  999.0         0   \n",
       "41185  telephone   may         wed  ...         3  999.0         0   \n",
       "41186  telephone   oct         tue  ...         2  999.0         0   \n",
       "41187  telephone   may         fri  ...         4  999.0         0   \n",
       "\n",
       "          poutcome emp_var_rate  cons_price_idx  cons_conf_idx  euribor3m  \\\n",
       "0      nonexistent          1.4          93.444          -36.1      4.963   \n",
       "1      nonexistent         -0.1          93.200          -42.0      4.021   \n",
       "2          success         -1.7          94.055          -39.8      0.729   \n",
       "3      nonexistent         -1.8          93.075          -47.1      1.405   \n",
       "4          success         -2.9          92.201          -31.4      0.869   \n",
       "...            ...          ...             ...            ...        ...   \n",
       "41183  nonexistent          1.4          94.465          -41.8      4.866   \n",
       "41184  nonexistent          1.1          93.994          -36.4      4.860   \n",
       "41185  nonexistent          1.1          93.994          -36.4      4.857   \n",
       "41186  nonexistent         -3.4          92.431          -26.9      0.742   \n",
       "41187  nonexistent          1.1          93.994          -36.4      4.859   \n",
       "\n",
       "       nr_employed  y  \n",
       "0           5228.1  0  \n",
       "1           5195.8  0  \n",
       "2           4991.6  1  \n",
       "3           5099.1  0  \n",
       "4           5076.2  1  \n",
       "...            ... ..  \n",
       "41183       5228.1  0  \n",
       "41184       5191.0  0  \n",
       "41185       5191.0  0  \n",
       "41186       5017.5  0  \n",
       "41187       5191.0  0  \n",
       "\n",
       "[41188 rows x 21 columns]"
      ]
     },
     "execution_count": 6,
     "metadata": {},
     "output_type": "execute_result"
    }
   ],
   "source": [
    "data"
   ]
  },
  {
   "cell_type": "markdown",
   "metadata": {},
   "source": [
    " Part II : Explore and make note of Attribute Information from UCI"
   ]
  },
  {
   "cell_type": "code",
   "execution_count": 4,
   "metadata": {},
   "outputs": [
    {
     "name": "stdout",
     "output_type": "stream",
     "text": [
      "<class 'pandas.core.frame.DataFrame'>\n",
      "RangeIndex: 41188 entries, 0 to 41187\n",
      "Data columns (total 21 columns):\n",
      " #   Column          Non-Null Count  Dtype  \n",
      "---  ------          --------------  -----  \n",
      " 0   age             41188 non-null  object \n",
      " 1   job             41188 non-null  object \n",
      " 2   marital         41188 non-null  object \n",
      " 3   education       41188 non-null  object \n",
      " 4   default         41188 non-null  object \n",
      " 5   housing         41188 non-null  object \n",
      " 6   loan            41188 non-null  object \n",
      " 7   contact         41188 non-null  object \n",
      " 8   month           41188 non-null  object \n",
      " 9   day_of_week     41188 non-null  object \n",
      " 10  duration        41188 non-null  int64  \n",
      " 11  campaign        41188 non-null  int64  \n",
      " 12  pdays           41188 non-null  float64\n",
      " 13  previous        41188 non-null  int64  \n",
      " 14  poutcome        41188 non-null  object \n",
      " 15  emp_var_rate    41188 non-null  float64\n",
      " 16  cons_price_idx  41188 non-null  float64\n",
      " 17  cons_conf_idx   41188 non-null  float64\n",
      " 18  euribor3m       41188 non-null  float64\n",
      " 19  nr_employed     41188 non-null  float64\n",
      " 20  y               41188 non-null  int64  \n",
      "dtypes: float64(6), int64(4), object(11)\n",
      "memory usage: 6.6+ MB\n"
     ]
    }
   ],
   "source": [
    "# get the information about my data\n",
    "data.info()"
   ]
  },
  {
   "cell_type": "code",
   "execution_count": null,
   "metadata": {},
   "outputs": [],
   "source": [
    "# As we can see in information, we have 3 type of data, int float and categorical data. 6 data floating type, 4 int and 11 caterogical"
   ]
  },
  {
   "cell_type": "code",
   "execution_count": 5,
   "metadata": {},
   "outputs": [
    {
     "data": {
      "text/plain": [
       "Index(['age', 'job', 'marital', 'education', 'default', 'housing', 'loan',\n",
       "       'contact', 'month', 'day_of_week', 'duration', 'campaign', 'pdays',\n",
       "       'previous', 'poutcome', 'emp_var_rate', 'cons_price_idx',\n",
       "       'cons_conf_idx', 'euribor3m', 'nr_employed', 'y'],\n",
       "      dtype='object')"
      ]
     },
     "execution_count": 5,
     "metadata": {},
     "output_type": "execute_result"
    }
   ],
   "source": [
    "data.columns"
   ]
  },
  {
   "cell_type": "code",
   "execution_count": null,
   "metadata": {},
   "outputs": [],
   "source": [
    "# we have 21 element in our column "
   ]
  },
  {
   "cell_type": "code",
   "execution_count": 6,
   "metadata": {},
   "outputs": [
    {
     "data": {
      "text/html": [
       "<div>\n",
       "<style scoped>\n",
       "    .dataframe tbody tr th:only-of-type {\n",
       "        vertical-align: middle;\n",
       "    }\n",
       "\n",
       "    .dataframe tbody tr th {\n",
       "        vertical-align: top;\n",
       "    }\n",
       "\n",
       "    .dataframe thead th {\n",
       "        text-align: right;\n",
       "    }\n",
       "</style>\n",
       "<table border=\"1\" class=\"dataframe\">\n",
       "  <thead>\n",
       "    <tr style=\"text-align: right;\">\n",
       "      <th></th>\n",
       "      <th>duration</th>\n",
       "      <th>campaign</th>\n",
       "      <th>pdays</th>\n",
       "      <th>previous</th>\n",
       "      <th>emp_var_rate</th>\n",
       "      <th>cons_price_idx</th>\n",
       "      <th>cons_conf_idx</th>\n",
       "      <th>euribor3m</th>\n",
       "      <th>nr_employed</th>\n",
       "      <th>y</th>\n",
       "    </tr>\n",
       "  </thead>\n",
       "  <tbody>\n",
       "    <tr>\n",
       "      <th>count</th>\n",
       "      <td>41188.000000</td>\n",
       "      <td>41188.000000</td>\n",
       "      <td>41188.000000</td>\n",
       "      <td>41188.000000</td>\n",
       "      <td>41188.000000</td>\n",
       "      <td>41188.000000</td>\n",
       "      <td>41188.000000</td>\n",
       "      <td>41188.000000</td>\n",
       "      <td>41188.000000</td>\n",
       "      <td>41188.000000</td>\n",
       "    </tr>\n",
       "    <tr>\n",
       "      <th>mean</th>\n",
       "      <td>258.285010</td>\n",
       "      <td>2.567593</td>\n",
       "      <td>963.568005</td>\n",
       "      <td>0.172963</td>\n",
       "      <td>0.081886</td>\n",
       "      <td>93.575664</td>\n",
       "      <td>-40.502600</td>\n",
       "      <td>3.621291</td>\n",
       "      <td>5167.035911</td>\n",
       "      <td>0.112654</td>\n",
       "    </tr>\n",
       "    <tr>\n",
       "      <th>std</th>\n",
       "      <td>259.279249</td>\n",
       "      <td>2.770014</td>\n",
       "      <td>211.772296</td>\n",
       "      <td>0.494901</td>\n",
       "      <td>1.570960</td>\n",
       "      <td>0.578840</td>\n",
       "      <td>4.628198</td>\n",
       "      <td>1.734447</td>\n",
       "      <td>72.251528</td>\n",
       "      <td>0.316173</td>\n",
       "    </tr>\n",
       "    <tr>\n",
       "      <th>min</th>\n",
       "      <td>0.000000</td>\n",
       "      <td>1.000000</td>\n",
       "      <td>0.000000</td>\n",
       "      <td>0.000000</td>\n",
       "      <td>-3.400000</td>\n",
       "      <td>92.201000</td>\n",
       "      <td>-50.800000</td>\n",
       "      <td>0.634000</td>\n",
       "      <td>4963.600000</td>\n",
       "      <td>0.000000</td>\n",
       "    </tr>\n",
       "    <tr>\n",
       "      <th>25%</th>\n",
       "      <td>102.000000</td>\n",
       "      <td>1.000000</td>\n",
       "      <td>999.000000</td>\n",
       "      <td>0.000000</td>\n",
       "      <td>-1.800000</td>\n",
       "      <td>93.075000</td>\n",
       "      <td>-42.700000</td>\n",
       "      <td>1.344000</td>\n",
       "      <td>5099.100000</td>\n",
       "      <td>0.000000</td>\n",
       "    </tr>\n",
       "    <tr>\n",
       "      <th>50%</th>\n",
       "      <td>180.000000</td>\n",
       "      <td>2.000000</td>\n",
       "      <td>999.000000</td>\n",
       "      <td>0.000000</td>\n",
       "      <td>1.100000</td>\n",
       "      <td>93.749000</td>\n",
       "      <td>-41.800000</td>\n",
       "      <td>4.857000</td>\n",
       "      <td>5191.000000</td>\n",
       "      <td>0.000000</td>\n",
       "    </tr>\n",
       "    <tr>\n",
       "      <th>75%</th>\n",
       "      <td>319.000000</td>\n",
       "      <td>3.000000</td>\n",
       "      <td>999.000000</td>\n",
       "      <td>0.000000</td>\n",
       "      <td>1.400000</td>\n",
       "      <td>93.994000</td>\n",
       "      <td>-36.400000</td>\n",
       "      <td>4.961000</td>\n",
       "      <td>5228.100000</td>\n",
       "      <td>0.000000</td>\n",
       "    </tr>\n",
       "    <tr>\n",
       "      <th>max</th>\n",
       "      <td>4918.000000</td>\n",
       "      <td>56.000000</td>\n",
       "      <td>9999.000000</td>\n",
       "      <td>7.000000</td>\n",
       "      <td>1.400000</td>\n",
       "      <td>94.767000</td>\n",
       "      <td>-26.900000</td>\n",
       "      <td>5.045000</td>\n",
       "      <td>5228.100000</td>\n",
       "      <td>1.000000</td>\n",
       "    </tr>\n",
       "  </tbody>\n",
       "</table>\n",
       "</div>"
      ],
      "text/plain": [
       "           duration      campaign         pdays      previous  emp_var_rate  \\\n",
       "count  41188.000000  41188.000000  41188.000000  41188.000000  41188.000000   \n",
       "mean     258.285010      2.567593    963.568005      0.172963      0.081886   \n",
       "std      259.279249      2.770014    211.772296      0.494901      1.570960   \n",
       "min        0.000000      1.000000      0.000000      0.000000     -3.400000   \n",
       "25%      102.000000      1.000000    999.000000      0.000000     -1.800000   \n",
       "50%      180.000000      2.000000    999.000000      0.000000      1.100000   \n",
       "75%      319.000000      3.000000    999.000000      0.000000      1.400000   \n",
       "max     4918.000000     56.000000   9999.000000      7.000000      1.400000   \n",
       "\n",
       "       cons_price_idx  cons_conf_idx     euribor3m   nr_employed             y  \n",
       "count    41188.000000   41188.000000  41188.000000  41188.000000  41188.000000  \n",
       "mean        93.575664     -40.502600      3.621291   5167.035911      0.112654  \n",
       "std          0.578840       4.628198      1.734447     72.251528      0.316173  \n",
       "min         92.201000     -50.800000      0.634000   4963.600000      0.000000  \n",
       "25%         93.075000     -42.700000      1.344000   5099.100000      0.000000  \n",
       "50%         93.749000     -41.800000      4.857000   5191.000000      0.000000  \n",
       "75%         93.994000     -36.400000      4.961000   5228.100000      0.000000  \n",
       "max         94.767000     -26.900000      5.045000   5228.100000      1.000000  "
      ]
     },
     "execution_count": 6,
     "metadata": {},
     "output_type": "execute_result"
    }
   ],
   "source": [
    "data.describe() "
   ]
  },
  {
   "cell_type": "code",
   "execution_count": null,
   "metadata": {},
   "outputs": [],
   "source": [
    "#  In this describe function, we can see some statistic of my data, like mean quantils and std"
   ]
  },
  {
   "cell_type": "code",
   "execution_count": 7,
   "metadata": {},
   "outputs": [
    {
     "data": {
      "text/plain": [
       "(41188, 21)"
      ]
     },
     "execution_count": 7,
     "metadata": {},
     "output_type": "execute_result"
    }
   ],
   "source": [
    "# check the number of rows and columns in the DataFrame\n",
    "data.shape"
   ]
  },
  {
   "cell_type": "code",
   "execution_count": null,
   "metadata": {},
   "outputs": [],
   "source": [
    "# as we can see, we have 41188 row and 21 column, that describe the information about a client, like\n",
    "# age, contact information,housing,."
   ]
  },
  {
   "cell_type": "code",
   "execution_count": 9,
   "metadata": {},
   "outputs": [],
   "source": [
    " # loking form missing value in my data (data preprocessing)\n",
    "missing_value=data.isnull().sum()"
   ]
  },
  {
   "cell_type": "code",
   "execution_count": 10,
   "metadata": {},
   "outputs": [
    {
     "data": {
      "text/plain": [
       "age               0\n",
       "job               0\n",
       "marital           0\n",
       "education         0\n",
       "default           0\n",
       "housing           0\n",
       "loan              0\n",
       "contact           0\n",
       "month             0\n",
       "day_of_week       0\n",
       "duration          0\n",
       "campaign          0\n",
       "pdays             0\n",
       "previous          0\n",
       "poutcome          0\n",
       "emp_var_rate      0\n",
       "cons_price_idx    0\n",
       "cons_conf_idx     0\n",
       "euribor3m         0\n",
       "nr_employed       0\n",
       "y                 0\n",
       "dtype: int64"
      ]
     },
     "execution_count": 10,
     "metadata": {},
     "output_type": "execute_result"
    }
   ],
   "source": [
    "missing_value"
   ]
  },
  {
   "cell_type": "code",
   "execution_count": null,
   "metadata": {},
   "outputs": [],
   "source": [
    "# As we can see we do not have missing value per feature \n",
    "# if I have missing value I can visualize than by using the bellow code\n",
    "#data[data['poutcome'].isnull()]\n",
    "# as see can see, not missing value"
   ]
  },
  {
   "cell_type": "markdown",
   "metadata": {},
   "source": [
    "============================================================="
   ]
  },
  {
   "cell_type": "code",
   "execution_count": null,
   "metadata": {},
   "outputs": [],
   "source": []
  },
  {
   "cell_type": "markdown",
   "metadata": {},
   "source": [
    "Part III : What is the significance of the y column in the dataset and what are the value counts of the y column?"
   ]
  },
  {
   "cell_type": "code",
   "execution_count": null,
   "metadata": {},
   "outputs": [],
   "source": [
    "# y column is the column that tell us if the client subscribe a term deposit or not. We call that column : variable dependent. That column takes value 0 for not subscribe\n",
    "# and 1 for subscribe a term deposit"
   ]
  },
  {
   "cell_type": "markdown",
   "metadata": {},
   "source": [
    "Part IV : What is the ratio of the two classes ? Are they balanced ?"
   ]
  },
  {
   "cell_type": "code",
   "execution_count": null,
   "metadata": {},
   "outputs": [],
   "source": [
    "# N/A"
   ]
  },
  {
   "cell_type": "markdown",
   "metadata": {},
   "source": [
    "## Section II : Data Cleaning"
   ]
  },
  {
   "cell_type": "markdown",
   "metadata": {},
   "source": [
    "Part I : Get the dtypes of all the columns of our dataset"
   ]
  },
  {
   "cell_type": "code",
   "execution_count": 11,
   "metadata": {},
   "outputs": [
    {
     "data": {
      "text/plain": [
       "age                object\n",
       "job                object\n",
       "marital            object\n",
       "education          object\n",
       "default            object\n",
       "housing            object\n",
       "loan               object\n",
       "contact            object\n",
       "month              object\n",
       "day_of_week        object\n",
       "duration            int64\n",
       "campaign            int64\n",
       "pdays             float64\n",
       "previous            int64\n",
       "poutcome           object\n",
       "emp_var_rate      float64\n",
       "cons_price_idx    float64\n",
       "cons_conf_idx     float64\n",
       "euribor3m         float64\n",
       "nr_employed       float64\n",
       "y                   int64\n",
       "dtype: object"
      ]
     },
     "execution_count": 11,
     "metadata": {},
     "output_type": "execute_result"
    }
   ],
   "source": [
    "data.dtypes"
   ]
  },
  {
   "cell_type": "markdown",
   "metadata": {},
   "source": [
    "Part II : Refering to the UCI data description , explore the data in your columns and check if there are any errors"
   ]
  },
  {
   "cell_type": "code",
   "execution_count": 12,
   "metadata": {},
   "outputs": [
    {
     "data": {
      "text/plain": [
       "0    0.887346\n",
       "1    0.112654\n",
       "Name: y, dtype: float64"
      ]
     },
     "execution_count": 12,
     "metadata": {},
     "output_type": "execute_result"
    }
   ],
   "source": [
    "data['y'].value_counts()\n",
    "data['y'].value_counts(normalize=True)"
   ]
  },
  {
   "cell_type": "code",
   "execution_count": null,
   "metadata": {},
   "outputs": [],
   "source": [
    "# as we can see, we have 36548 client who do not acept to subscribe a term deposit and 4640 who adhered to a term deposit\n",
    "# we can see that, 89% of the client do not acept the term deposit and jut 11% acept it "
   ]
  },
  {
   "cell_type": "code",
   "execution_count": 13,
   "metadata": {},
   "outputs": [
    {
     "data": {
      "image/png": "[encoded data removed]",
      "text/plain": [
       "<Figure size 1800x1800 with 110 Axes>"
      ]
     },
     "metadata": {
      "needs_background": "light"
     },
     "output_type": "display_data"
    }
   ],
   "source": [
    "# see if we have outlier in the numeric variable (emp_var_rate,cons_price_idx,cons_conf_idx\n",
    "# euribor3m , nr_employed ,pdays and y )\n",
    "out_num=sns.pairplot(data)"
   ]
  },
  {
   "cell_type": "code",
   "execution_count": null,
   "metadata": {},
   "outputs": [],
   "source": [
    "# if see look at the graf of numerical data, in the pdays, we can see of value around 10000, and it can be considered outler \n",
    "# I will leave like data because when I try to select value > 5000 for pdays to remove I find object value as well that \n",
    "#i can not remove\n"
   ]
  },
  {
   "cell_type": "code",
   "execution_count": null,
   "metadata": {},
   "outputs": [],
   "source": [
    "\n"
   ]
  },
  {
   "cell_type": "markdown",
   "metadata": {},
   "source": [
    "========================================================"
   ]
  },
  {
   "cell_type": "code",
   "execution_count": null,
   "metadata": {},
   "outputs": [],
   "source": []
  },
  {
   "cell_type": "code",
   "execution_count": 14,
   "metadata": {},
   "outputs": [
    {
     "data": {
      "text/plain": [
       "0        44\n",
       "1        53\n",
       "2        28\n",
       "3        39\n",
       "4        55\n",
       "         ..\n",
       "41183    59\n",
       "41184    31\n",
       "41185    42\n",
       "41186    48\n",
       "41187    25\n",
       "Name: age, Length: 41188, dtype: object"
      ]
     },
     "execution_count": 14,
     "metadata": {},
     "output_type": "execute_result"
    }
   ],
   "source": [
    "data['age']"
   ]
  },
  {
   "cell_type": "code",
   "execution_count": null,
   "metadata": {},
   "outputs": [],
   "source": [
    "print(data['age'].isnull())"
   ]
  },
  {
   "cell_type": "code",
   "execution_count": 15,
   "metadata": {},
   "outputs": [
    {
     "data": {
      "text/plain": [
       "0        44\n",
       "1        53\n",
       "2        28\n",
       "3        39\n",
       "4        55\n",
       "         ..\n",
       "41183    59\n",
       "41184    31\n",
       "41185    42\n",
       "41186    48\n",
       "41187    25\n",
       "Name: age, Length: 41188, dtype: object"
      ]
     },
     "execution_count": 15,
     "metadata": {},
     "output_type": "execute_result"
    }
   ],
   "source": [
    "data['age']"
   ]
  },
  {
   "cell_type": "code",
   "execution_count": null,
   "metadata": {},
   "outputs": [],
   "source": []
  },
  {
   "cell_type": "markdown",
   "metadata": {},
   "source": [
    "Part III : Make note of the deviation in the dataset compared to the description provided by UCI"
   ]
  },
  {
   "cell_type": "code",
   "execution_count": null,
   "metadata": {},
   "outputs": [],
   "source": []
  },
  {
   "cell_type": "markdown",
   "metadata": {},
   "source": [
    "============================================================================="
   ]
  },
  {
   "cell_type": "markdown",
   "metadata": {},
   "source": [
    "Part IV : Using Data Cleaning principles you learned from Pandas Tutorial) figure out the best ways to get rid of the dirty data Part V : Print the cleaned data"
   ]
  },
  {
   "cell_type": "code",
   "execution_count": 16,
   "metadata": {},
   "outputs": [
    {
     "data": {
      "text/html": [
       "<div>\n",
       "<style scoped>\n",
       "    .dataframe tbody tr th:only-of-type {\n",
       "        vertical-align: middle;\n",
       "    }\n",
       "\n",
       "    .dataframe tbody tr th {\n",
       "        vertical-align: top;\n",
       "    }\n",
       "\n",
       "    .dataframe thead th {\n",
       "        text-align: right;\n",
       "    }\n",
       "</style>\n",
       "<table border=\"1\" class=\"dataframe\">\n",
       "  <thead>\n",
       "    <tr style=\"text-align: right;\">\n",
       "      <th></th>\n",
       "      <th>age</th>\n",
       "      <th>job</th>\n",
       "      <th>marital</th>\n",
       "      <th>education</th>\n",
       "      <th>default</th>\n",
       "      <th>housing</th>\n",
       "      <th>loan</th>\n",
       "      <th>contact</th>\n",
       "      <th>month</th>\n",
       "      <th>day_of_week</th>\n",
       "      <th>...</th>\n",
       "      <th>campaign</th>\n",
       "      <th>pdays</th>\n",
       "      <th>previous</th>\n",
       "      <th>poutcome</th>\n",
       "      <th>emp_var_rate</th>\n",
       "      <th>cons_price_idx</th>\n",
       "      <th>cons_conf_idx</th>\n",
       "      <th>euribor3m</th>\n",
       "      <th>nr_employed</th>\n",
       "      <th>y</th>\n",
       "    </tr>\n",
       "  </thead>\n",
       "  <tbody>\n",
       "    <tr>\n",
       "      <th>0</th>\n",
       "      <td>44</td>\n",
       "      <td>blue-collar</td>\n",
       "      <td>married</td>\n",
       "      <td>basic.4y</td>\n",
       "      <td>unknown</td>\n",
       "      <td>yes</td>\n",
       "      <td>no</td>\n",
       "      <td>cellular</td>\n",
       "      <td>aug</td>\n",
       "      <td>thu</td>\n",
       "      <td>...</td>\n",
       "      <td>1</td>\n",
       "      <td>999.0</td>\n",
       "      <td>0</td>\n",
       "      <td>nonexistent</td>\n",
       "      <td>1.4</td>\n",
       "      <td>93.444</td>\n",
       "      <td>-36.1</td>\n",
       "      <td>4.963</td>\n",
       "      <td>5228.1</td>\n",
       "      <td>0</td>\n",
       "    </tr>\n",
       "    <tr>\n",
       "      <th>1</th>\n",
       "      <td>53</td>\n",
       "      <td>technician</td>\n",
       "      <td>married</td>\n",
       "      <td>unknown</td>\n",
       "      <td>no</td>\n",
       "      <td>no</td>\n",
       "      <td>no</td>\n",
       "      <td>cellular</td>\n",
       "      <td>nov</td>\n",
       "      <td>fri</td>\n",
       "      <td>...</td>\n",
       "      <td>1</td>\n",
       "      <td>999.0</td>\n",
       "      <td>0</td>\n",
       "      <td>nonexistent</td>\n",
       "      <td>-0.1</td>\n",
       "      <td>93.200</td>\n",
       "      <td>-42.0</td>\n",
       "      <td>4.021</td>\n",
       "      <td>5195.8</td>\n",
       "      <td>0</td>\n",
       "    </tr>\n",
       "    <tr>\n",
       "      <th>2</th>\n",
       "      <td>28</td>\n",
       "      <td>management</td>\n",
       "      <td>single</td>\n",
       "      <td>university.degree</td>\n",
       "      <td>no</td>\n",
       "      <td>yes</td>\n",
       "      <td>no</td>\n",
       "      <td>cellular</td>\n",
       "      <td>jun</td>\n",
       "      <td>thu</td>\n",
       "      <td>...</td>\n",
       "      <td>3</td>\n",
       "      <td>6.0</td>\n",
       "      <td>2</td>\n",
       "      <td>success</td>\n",
       "      <td>-1.7</td>\n",
       "      <td>94.055</td>\n",
       "      <td>-39.8</td>\n",
       "      <td>0.729</td>\n",
       "      <td>4991.6</td>\n",
       "      <td>1</td>\n",
       "    </tr>\n",
       "    <tr>\n",
       "      <th>3</th>\n",
       "      <td>39</td>\n",
       "      <td>services</td>\n",
       "      <td>married</td>\n",
       "      <td>high.school</td>\n",
       "      <td>no</td>\n",
       "      <td>no</td>\n",
       "      <td>no</td>\n",
       "      <td>cellular</td>\n",
       "      <td>apr</td>\n",
       "      <td>fri</td>\n",
       "      <td>...</td>\n",
       "      <td>2</td>\n",
       "      <td>999.0</td>\n",
       "      <td>0</td>\n",
       "      <td>nonexistent</td>\n",
       "      <td>-1.8</td>\n",
       "      <td>93.075</td>\n",
       "      <td>-47.1</td>\n",
       "      <td>1.405</td>\n",
       "      <td>5099.1</td>\n",
       "      <td>0</td>\n",
       "    </tr>\n",
       "    <tr>\n",
       "      <th>4</th>\n",
       "      <td>55</td>\n",
       "      <td>retired</td>\n",
       "      <td>married</td>\n",
       "      <td>basic.4y</td>\n",
       "      <td>no</td>\n",
       "      <td>yes</td>\n",
       "      <td>no</td>\n",
       "      <td>cellular</td>\n",
       "      <td>aug</td>\n",
       "      <td>fri</td>\n",
       "      <td>...</td>\n",
       "      <td>1</td>\n",
       "      <td>3.0</td>\n",
       "      <td>1</td>\n",
       "      <td>success</td>\n",
       "      <td>-2.9</td>\n",
       "      <td>92.201</td>\n",
       "      <td>-31.4</td>\n",
       "      <td>0.869</td>\n",
       "      <td>5076.2</td>\n",
       "      <td>1</td>\n",
       "    </tr>\n",
       "  </tbody>\n",
       "</table>\n",
       "<p>5 rows × 21 columns</p>\n",
       "</div>"
      ],
      "text/plain": [
       "  age          job  marital          education  default housing loan  \\\n",
       "0  44  blue-collar  married           basic.4y  unknown     yes   no   \n",
       "1  53   technician  married            unknown       no      no   no   \n",
       "2  28   management   single  university.degree       no     yes   no   \n",
       "3  39     services  married        high.school       no      no   no   \n",
       "4  55      retired  married           basic.4y       no     yes   no   \n",
       "\n",
       "    contact month day_of_week  ...  campaign  pdays  previous     poutcome  \\\n",
       "0  cellular   aug         thu  ...         1  999.0         0  nonexistent   \n",
       "1  cellular   nov         fri  ...         1  999.0         0  nonexistent   \n",
       "2  cellular   jun         thu  ...         3    6.0         2      success   \n",
       "3  cellular   apr         fri  ...         2  999.0         0  nonexistent   \n",
       "4  cellular   aug         fri  ...         1    3.0         1      success   \n",
       "\n",
       "  emp_var_rate  cons_price_idx  cons_conf_idx  euribor3m  nr_employed  y  \n",
       "0          1.4          93.444          -36.1      4.963       5228.1  0  \n",
       "1         -0.1          93.200          -42.0      4.021       5195.8  0  \n",
       "2         -1.7          94.055          -39.8      0.729       4991.6  1  \n",
       "3         -1.8          93.075          -47.1      1.405       5099.1  0  \n",
       "4         -2.9          92.201          -31.4      0.869       5076.2  1  \n",
       "\n",
       "[5 rows x 21 columns]"
      ]
     },
     "execution_count": 16,
     "metadata": {},
     "output_type": "execute_result"
    }
   ],
   "source": [
    "data.head(5)"
   ]
  },
  {
   "cell_type": "code",
   "execution_count": 18,
   "metadata": {},
   "outputs": [
    {
     "data": {
      "text/plain": [
       "admin.           10420\n",
       "blue-collar       9253\n",
       "technician        6742\n",
       "services          3966\n",
       "management        2923\n",
       "retired           1717\n",
       "entrepreneur      1456\n",
       "self-employed     1421\n",
       "housemaid         1059\n",
       "unemployed        1014\n",
       "student            873\n",
       "unknown            329\n",
       "RETIRED              3\n",
       "SERVICES             3\n",
       "STUDENT              2\n",
       "ADMIN.               2\n",
       "MANAGEMENT           1\n",
       "UNKNOWN              1\n",
       "HOUSEMAID            1\n",
       "BLUE-COLLAR          1\n",
       "TECHNICIAN           1\n",
       "Name: job, dtype: int64"
      ]
     },
     "execution_count": 18,
     "metadata": {},
     "output_type": "execute_result"
    }
   ],
   "source": [
    "data['job'].value_counts()"
   ]
  },
  {
   "cell_type": "code",
   "execution_count": null,
   "metadata": {},
   "outputs": [],
   "source": [
    "# in the job we can see that, RETIRED,SERVICES,ADMIN,STUDENT,HOUSEMAID,MANAGEMENT,UNKNOWN,TECHNICIAN and BLUE-COLLAR \n",
    "# have value very low compared to the rest. but if we see the data, we can understand that for thoses variable, we have the same\n",
    "# but with lower case, so let's use the lambda and apply function to work just with lower case variable"
   ]
  },
  {
   "cell_type": "code",
   "execution_count": 20,
   "metadata": {},
   "outputs": [],
   "source": [
    "data['job']=data['job'].apply(lambda x: x.lower())"
   ]
  },
  {
   "cell_type": "code",
   "execution_count": 21,
   "metadata": {},
   "outputs": [
    {
     "data": {
      "text/plain": [
       "admin.           10422\n",
       "blue-collar       9254\n",
       "technician        6743\n",
       "services          3969\n",
       "management        2924\n",
       "retired           1720\n",
       "entrepreneur      1456\n",
       "self-employed     1421\n",
       "housemaid         1060\n",
       "unemployed        1014\n",
       "student            875\n",
       "unknown            330\n",
       "Name: job, dtype: int64"
      ]
     },
     "execution_count": 21,
     "metadata": {},
     "output_type": "execute_result"
    }
   ],
   "source": [
    "data['job'].value_counts()"
   ]
  },
  {
   "cell_type": "code",
   "execution_count": null,
   "metadata": {},
   "outputs": [],
   "source": [
    "# let's work in our second variable marital"
   ]
  },
  {
   "cell_type": "code",
   "execution_count": 22,
   "metadata": {},
   "outputs": [
    {
     "data": {
      "text/plain": [
       "married     24923\n",
       "single      11565\n",
       "divorced     4608\n",
       "unknown        80\n",
       "M               5\n",
       "D               4\n",
       "S               3\n",
       "Name: marital, dtype: int64"
      ]
     },
     "execution_count": 22,
     "metadata": {},
     "output_type": "execute_result"
    }
   ],
   "source": [
    "data['marital'].value_counts() "
   ]
  },
  {
   "cell_type": "code",
   "execution_count": 23,
   "metadata": {},
   "outputs": [],
   "source": [
    "# the samething, that happed with job variable is happening with marital variable, we have\n",
    "# the same variable but, one in lower case and another in upper case with just abrevation, M,D and S \n",
    "# so let's create a fubction call full_name and use the stantiment condition if, elif and else to solve this problem"
   ]
  },
  {
   "cell_type": "code",
   "execution_count": 24,
   "metadata": {},
   "outputs": [],
   "source": [
    "def full_name(m_state):\n",
    "    if m_state=='M':\n",
    "        return 'married'\n",
    "    elif m_state=='D':\n",
    "        return 'divorced'\n",
    "    elif m_state=='S':\n",
    "        return 'single'\n",
    "    else:\n",
    "        return m_state\n",
    "    \n"
   ]
  },
  {
   "cell_type": "code",
   "execution_count": 25,
   "metadata": {},
   "outputs": [],
   "source": [
    "data['marital']=data['marital'].apply(full_name)"
   ]
  },
  {
   "cell_type": "code",
   "execution_count": 26,
   "metadata": {},
   "outputs": [
    {
     "data": {
      "text/plain": [
       "married     24928\n",
       "single      11568\n",
       "divorced     4612\n",
       "unknown        80\n",
       "Name: marital, dtype: int64"
      ]
     },
     "execution_count": 26,
     "metadata": {},
     "output_type": "execute_result"
    }
   ],
   "source": [
    "# let's se our marital now.\n",
    "data['marital'].value_counts() "
   ]
  },
  {
   "cell_type": "code",
   "execution_count": 27,
   "metadata": {},
   "outputs": [],
   "source": [
    "# now, let's wprk in educstion variable"
   ]
  },
  {
   "cell_type": "code",
   "execution_count": 28,
   "metadata": {},
   "outputs": [
    {
     "data": {
      "text/plain": [
       "university.degree      12168\n",
       "high.school             9515\n",
       "basic.9y                6035\n",
       "professional.course     5243\n",
       "basic.4y                4164\n",
       "basic.6y                2286\n",
       "unknown                 1731\n",
       "illiterate                18\n",
       "basic-4y                  12\n",
       "basic-9y                  10\n",
       "basic-6y                   6\n",
       "Name: education, dtype: int64"
      ]
     },
     "execution_count": 28,
     "metadata": {},
     "output_type": "execute_result"
    }
   ],
   "source": [
    "data['education'].value_counts()"
   ]
  },
  {
   "cell_type": "code",
   "execution_count": 29,
   "metadata": {},
   "outputs": [],
   "source": [
    "# as we can see hire. we have the same name of variable, but one with '. ' and others with '-',\n",
    "# so those variable with '-' have let's value. let's use the replace function to convert thoses - into . \n",
    "# also insteat using the function to do the replaciment, i will use the lambda function"
   ]
  },
  {
   "cell_type": "code",
   "execution_count": 30,
   "metadata": {},
   "outputs": [],
   "source": [
    "data['education']=data['education'].apply(lambda x: x.replace('-', '.'))"
   ]
  },
  {
   "cell_type": "code",
   "execution_count": 31,
   "metadata": {},
   "outputs": [
    {
     "data": {
      "text/plain": [
       "university.degree      12168\n",
       "high.school             9515\n",
       "basic.9y                6045\n",
       "professional.course     5243\n",
       "basic.4y                4176\n",
       "basic.6y                2292\n",
       "unknown                 1731\n",
       "illiterate                18\n",
       "Name: education, dtype: int64"
      ]
     },
     "execution_count": 31,
     "metadata": {},
     "output_type": "execute_result"
    }
   ],
   "source": [
    "# let's see how education look like now \n",
    "data['education'].value_counts()"
   ]
  },
  {
   "cell_type": "code",
   "execution_count": 32,
   "metadata": {},
   "outputs": [],
   "source": [
    "# as we can see, now we do not have those small basic-, those value was added in the basic . for example now we can see that\n",
    "# the basci.9y is 6045 and not 6035"
   ]
  },
  {
   "cell_type": "markdown",
   "metadata": {},
   "source": [
    "================================================================="
   ]
  },
  {
   "cell_type": "code",
   "execution_count": 33,
   "metadata": {},
   "outputs": [],
   "source": [
    "# now let's work in the default variable"
   ]
  },
  {
   "cell_type": "code",
   "execution_count": 34,
   "metadata": {},
   "outputs": [
    {
     "data": {
      "text/plain": [
       "no         32588\n",
       "unknown     8597\n",
       "yes            3\n",
       "Name: default, dtype: int64"
      ]
     },
     "execution_count": 34,
     "metadata": {},
     "output_type": "execute_result"
    }
   ],
   "source": [
    "data['default'].value_counts()"
   ]
  },
  {
   "cell_type": "code",
   "execution_count": 35,
   "metadata": {},
   "outputs": [],
   "source": [
    "# default variable looks good, so I do not to have to clean or make any change in that variable "
   ]
  },
  {
   "cell_type": "markdown",
   "metadata": {},
   "source": [
    "============================================================="
   ]
  },
  {
   "cell_type": "code",
   "execution_count": 36,
   "metadata": {},
   "outputs": [
    {
     "data": {
      "text/plain": [
       "yes        21576\n",
       "no         18622\n",
       "unknown      990\n",
       "Name: housing, dtype: int64"
      ]
     },
     "execution_count": 36,
     "metadata": {},
     "output_type": "execute_result"
    }
   ],
   "source": [
    "data['housing'].value_counts()"
   ]
  },
  {
   "cell_type": "code",
   "execution_count": 37,
   "metadata": {},
   "outputs": [],
   "source": [
    "# housing variable looks good, so I do not to have to clean or make any change in that variable "
   ]
  },
  {
   "cell_type": "markdown",
   "metadata": {},
   "source": [
    "======================================================================"
   ]
  },
  {
   "cell_type": "code",
   "execution_count": 38,
   "metadata": {},
   "outputs": [
    {
     "data": {
      "text/plain": [
       "no         33950\n",
       "yes         6248\n",
       "unknown      990\n",
       "Name: loan, dtype: int64"
      ]
     },
     "execution_count": 38,
     "metadata": {},
     "output_type": "execute_result"
    }
   ],
   "source": [
    "data['loan'].value_counts()"
   ]
  },
  {
   "cell_type": "code",
   "execution_count": 39,
   "metadata": {},
   "outputs": [],
   "source": [
    "# loan variable looks good, so I do not to have to clean or make any change in that variable "
   ]
  },
  {
   "cell_type": "markdown",
   "metadata": {},
   "source": [
    "====================================================================================="
   ]
  },
  {
   "cell_type": "code",
   "execution_count": 40,
   "metadata": {},
   "outputs": [
    {
     "data": {
      "text/plain": [
       "cellular     26144\n",
       "telephone    15044\n",
       "Name: contact, dtype: int64"
      ]
     },
     "execution_count": 40,
     "metadata": {},
     "output_type": "execute_result"
    }
   ],
   "source": [
    "data['contact'].value_counts()    "
   ]
  },
  {
   "cell_type": "code",
   "execution_count": 41,
   "metadata": {},
   "outputs": [],
   "source": [
    "# contact variable looks good, so I do not to have to clean or make any change in that variable "
   ]
  },
  {
   "cell_type": "markdown",
   "metadata": {},
   "source": [
    "====================================================================================="
   ]
  },
  {
   "cell_type": "code",
   "execution_count": 42,
   "metadata": {},
   "outputs": [
    {
     "data": {
      "text/plain": [
       "may    13769\n",
       "jul     7174\n",
       "aug     6178\n",
       "jun     5318\n",
       "nov     4101\n",
       "apr     2632\n",
       "oct      718\n",
       "sep      570\n",
       "mar      546\n",
       "dec      182\n",
       "Name: month, dtype: int64"
      ]
     },
     "execution_count": 42,
     "metadata": {},
     "output_type": "execute_result"
    }
   ],
   "source": [
    "data['month'].value_counts()                "
   ]
  },
  {
   "cell_type": "code",
   "execution_count": 43,
   "metadata": {},
   "outputs": [],
   "source": [
    "# month variable looks good, so I do not to have to clean or make any change in that variable "
   ]
  },
  {
   "cell_type": "markdown",
   "metadata": {},
   "source": [
    "=============================================================================="
   ]
  },
  {
   "cell_type": "code",
   "execution_count": 44,
   "metadata": {},
   "outputs": [
    {
     "data": {
      "text/plain": [
       "thu    8623\n",
       "mon    8514\n",
       "wed    8134\n",
       "tue    8090\n",
       "fri    7827\n",
       "Name: day_of_week, dtype: int64"
      ]
     },
     "execution_count": 44,
     "metadata": {},
     "output_type": "execute_result"
    }
   ],
   "source": [
    "data['day_of_week'].value_counts()                "
   ]
  },
  {
   "cell_type": "code",
   "execution_count": 45,
   "metadata": {},
   "outputs": [],
   "source": [
    "# day_of_week variable looks good, so I do not to have to clean or make any change in that variable "
   ]
  },
  {
   "cell_type": "markdown",
   "metadata": {},
   "source": [
    "## Section III : Exploring data with Group by\n"
   ]
  },
  {
   "cell_type": "markdown",
   "metadata": {},
   "source": [
    "Use the groupby function on the mean of the following columns :"
   ]
  },
  {
   "cell_type": "markdown",
   "metadata": {},
   "source": [
    "I : y"
   ]
  },
  {
   "cell_type": "code",
   "execution_count": 7,
   "metadata": {},
   "outputs": [],
   "source": [
    "grouy_y=data.groupby('y') # Use the groupby function on the mean of the following columns "
   ]
  },
  {
   "cell_type": "code",
   "execution_count": 8,
   "metadata": {},
   "outputs": [
    {
     "data": {
      "text/plain": [
       "<pandas.core.groupby.generic.DataFrameGroupBy object at 0x000001D17E80EF10>"
      ]
     },
     "execution_count": 8,
     "metadata": {},
     "output_type": "execute_result"
    }
   ],
   "source": [
    "grouy_y"
   ]
  },
  {
   "cell_type": "code",
   "execution_count": 48,
   "metadata": {},
   "outputs": [],
   "source": [
    "grouy_y.mean=grouy_y.mean()"
   ]
  },
  {
   "cell_type": "code",
   "execution_count": 49,
   "metadata": {},
   "outputs": [
    {
     "data": {
      "text/html": [
       "<div>\n",
       "<style scoped>\n",
       "    .dataframe tbody tr th:only-of-type {\n",
       "        vertical-align: middle;\n",
       "    }\n",
       "\n",
       "    .dataframe tbody tr th {\n",
       "        vertical-align: top;\n",
       "    }\n",
       "\n",
       "    .dataframe thead th {\n",
       "        text-align: right;\n",
       "    }\n",
       "</style>\n",
       "<table border=\"1\" class=\"dataframe\">\n",
       "  <thead>\n",
       "    <tr style=\"text-align: right;\">\n",
       "      <th></th>\n",
       "      <th>duration</th>\n",
       "      <th>campaign</th>\n",
       "      <th>pdays</th>\n",
       "      <th>previous</th>\n",
       "      <th>emp_var_rate</th>\n",
       "      <th>cons_price_idx</th>\n",
       "      <th>cons_conf_idx</th>\n",
       "      <th>euribor3m</th>\n",
       "      <th>nr_employed</th>\n",
       "    </tr>\n",
       "    <tr>\n",
       "      <th>y</th>\n",
       "      <th></th>\n",
       "      <th></th>\n",
       "      <th></th>\n",
       "      <th></th>\n",
       "      <th></th>\n",
       "      <th></th>\n",
       "      <th></th>\n",
       "      <th></th>\n",
       "      <th></th>\n",
       "    </tr>\n",
       "  </thead>\n",
       "  <tbody>\n",
       "    <tr>\n",
       "      <th>0</th>\n",
       "      <td>220.844807</td>\n",
       "      <td>2.633085</td>\n",
       "      <td>985.345135</td>\n",
       "      <td>0.132374</td>\n",
       "      <td>0.248875</td>\n",
       "      <td>93.603757</td>\n",
       "      <td>-40.593097</td>\n",
       "      <td>3.811491</td>\n",
       "      <td>5176.166600</td>\n",
       "    </tr>\n",
       "    <tr>\n",
       "      <th>1</th>\n",
       "      <td>553.191164</td>\n",
       "      <td>2.051724</td>\n",
       "      <td>792.035560</td>\n",
       "      <td>0.492672</td>\n",
       "      <td>-1.233448</td>\n",
       "      <td>93.354386</td>\n",
       "      <td>-39.789784</td>\n",
       "      <td>2.123135</td>\n",
       "      <td>5095.115991</td>\n",
       "    </tr>\n",
       "  </tbody>\n",
       "</table>\n",
       "</div>"
      ],
      "text/plain": [
       "     duration  campaign       pdays  previous  emp_var_rate  cons_price_idx  \\\n",
       "y                                                                             \n",
       "0  220.844807  2.633085  985.345135  0.132374      0.248875       93.603757   \n",
       "1  553.191164  2.051724  792.035560  0.492672     -1.233448       93.354386   \n",
       "\n",
       "   cons_conf_idx  euribor3m  nr_employed  \n",
       "y                                         \n",
       "0     -40.593097   3.811491  5176.166600  \n",
       "1     -39.789784   2.123135  5095.115991  "
      ]
     },
     "execution_count": 49,
     "metadata": {},
     "output_type": "execute_result"
    }
   ],
   "source": [
    "grouy_y.mean"
   ]
  },
  {
   "cell_type": "code",
   "execution_count": 50,
   "metadata": {},
   "outputs": [],
   "source": [
    "# you can see that, the mean of age of people who do not subscribe a term deposit are in 40 years old and who subscribe a term deposit \n",
    "# are in age of 41. so people who have more age has more clarity in subscribe.\n",
    "# for the duration of phone call, we can say that, the campany took 553 minute to convense the client to subscribe a term deposit\n",
    "# for the campaign to convence each client, the campany had to call at least 2 time each  for  client.\n",
    "# pdays it took 792 days after the client was last contacted from a previous campaign to convence than to subscribe a term deposit\n"
   ]
  },
  {
   "cell_type": "markdown",
   "metadata": {},
   "source": [
    "====================================================================================="
   ]
  },
  {
   "cell_type": "markdown",
   "metadata": {},
   "source": [
    "II : job"
   ]
  },
  {
   "cell_type": "code",
   "execution_count": 9,
   "metadata": {},
   "outputs": [
    {
     "data": {
      "text/html": [
       "<div>\n",
       "<style scoped>\n",
       "    .dataframe tbody tr th:only-of-type {\n",
       "        vertical-align: middle;\n",
       "    }\n",
       "\n",
       "    .dataframe tbody tr th {\n",
       "        vertical-align: top;\n",
       "    }\n",
       "\n",
       "    .dataframe thead th {\n",
       "        text-align: right;\n",
       "    }\n",
       "</style>\n",
       "<table border=\"1\" class=\"dataframe\">\n",
       "  <thead>\n",
       "    <tr style=\"text-align: right;\">\n",
       "      <th></th>\n",
       "      <th>duration</th>\n",
       "      <th>campaign</th>\n",
       "      <th>pdays</th>\n",
       "      <th>previous</th>\n",
       "      <th>emp_var_rate</th>\n",
       "      <th>cons_price_idx</th>\n",
       "      <th>cons_conf_idx</th>\n",
       "      <th>euribor3m</th>\n",
       "      <th>nr_employed</th>\n",
       "      <th>y</th>\n",
       "    </tr>\n",
       "    <tr>\n",
       "      <th>job</th>\n",
       "      <th></th>\n",
       "      <th></th>\n",
       "      <th></th>\n",
       "      <th></th>\n",
       "      <th></th>\n",
       "      <th></th>\n",
       "      <th></th>\n",
       "      <th></th>\n",
       "      <th></th>\n",
       "      <th></th>\n",
       "    </tr>\n",
       "  </thead>\n",
       "  <tbody>\n",
       "    <tr>\n",
       "      <th>ADMIN.</th>\n",
       "      <td>637.000000</td>\n",
       "      <td>1.500000</td>\n",
       "      <td>999.000000</td>\n",
       "      <td>0.000000</td>\n",
       "      <td>1.100000</td>\n",
       "      <td>93.994000</td>\n",
       "      <td>-36.400000</td>\n",
       "      <td>4.858500</td>\n",
       "      <td>5191.000000</td>\n",
       "      <td>0.000000</td>\n",
       "    </tr>\n",
       "    <tr>\n",
       "      <th>BLUE-COLLAR</th>\n",
       "      <td>5.000000</td>\n",
       "      <td>7.000000</td>\n",
       "      <td>999.000000</td>\n",
       "      <td>1.000000</td>\n",
       "      <td>-1.800000</td>\n",
       "      <td>92.893000</td>\n",
       "      <td>-46.200000</td>\n",
       "      <td>1.281000</td>\n",
       "      <td>5099.100000</td>\n",
       "      <td>0.000000</td>\n",
       "    </tr>\n",
       "    <tr>\n",
       "      <th>HOUSEMAID</th>\n",
       "      <td>84.000000</td>\n",
       "      <td>1.000000</td>\n",
       "      <td>999.000000</td>\n",
       "      <td>0.000000</td>\n",
       "      <td>-0.100000</td>\n",
       "      <td>93.200000</td>\n",
       "      <td>-42.000000</td>\n",
       "      <td>4.153000</td>\n",
       "      <td>5195.800000</td>\n",
       "      <td>0.000000</td>\n",
       "    </tr>\n",
       "    <tr>\n",
       "      <th>MANAGEMENT</th>\n",
       "      <td>1225.000000</td>\n",
       "      <td>2.000000</td>\n",
       "      <td>999.000000</td>\n",
       "      <td>0.000000</td>\n",
       "      <td>-2.900000</td>\n",
       "      <td>92.201000</td>\n",
       "      <td>-31.400000</td>\n",
       "      <td>0.884000</td>\n",
       "      <td>5076.200000</td>\n",
       "      <td>0.000000</td>\n",
       "    </tr>\n",
       "    <tr>\n",
       "      <th>RETIRED</th>\n",
       "      <td>545.000000</td>\n",
       "      <td>1.666667</td>\n",
       "      <td>668.000000</td>\n",
       "      <td>1.000000</td>\n",
       "      <td>-1.566667</td>\n",
       "      <td>93.142667</td>\n",
       "      <td>-37.233333</td>\n",
       "      <td>1.976667</td>\n",
       "      <td>5087.866667</td>\n",
       "      <td>0.333333</td>\n",
       "    </tr>\n",
       "    <tr>\n",
       "      <th>SERVICES</th>\n",
       "      <td>238.333333</td>\n",
       "      <td>2.000000</td>\n",
       "      <td>999.000000</td>\n",
       "      <td>0.000000</td>\n",
       "      <td>1.200000</td>\n",
       "      <td>94.151000</td>\n",
       "      <td>-38.200000</td>\n",
       "      <td>4.892000</td>\n",
       "      <td>5203.366667</td>\n",
       "      <td>0.000000</td>\n",
       "    </tr>\n",
       "    <tr>\n",
       "      <th>STUDENT</th>\n",
       "      <td>638.500000</td>\n",
       "      <td>1.500000</td>\n",
       "      <td>505.500000</td>\n",
       "      <td>0.500000</td>\n",
       "      <td>-1.750000</td>\n",
       "      <td>94.045500</td>\n",
       "      <td>-40.150000</td>\n",
       "      <td>0.752500</td>\n",
       "      <td>5000.150000</td>\n",
       "      <td>1.000000</td>\n",
       "    </tr>\n",
       "    <tr>\n",
       "      <th>TECHNICIAN</th>\n",
       "      <td>834.000000</td>\n",
       "      <td>9.000000</td>\n",
       "      <td>999.000000</td>\n",
       "      <td>0.000000</td>\n",
       "      <td>1.100000</td>\n",
       "      <td>93.994000</td>\n",
       "      <td>-36.400000</td>\n",
       "      <td>4.855000</td>\n",
       "      <td>5191.000000</td>\n",
       "      <td>0.000000</td>\n",
       "    </tr>\n",
       "    <tr>\n",
       "      <th>UNKNOWN</th>\n",
       "      <td>54.000000</td>\n",
       "      <td>4.000000</td>\n",
       "      <td>999.000000</td>\n",
       "      <td>0.000000</td>\n",
       "      <td>1.100000</td>\n",
       "      <td>93.994000</td>\n",
       "      <td>-36.400000</td>\n",
       "      <td>4.864000</td>\n",
       "      <td>5191.000000</td>\n",
       "      <td>0.000000</td>\n",
       "    </tr>\n",
       "    <tr>\n",
       "      <th>admin.</th>\n",
       "      <td>254.238676</td>\n",
       "      <td>2.623704</td>\n",
       "      <td>956.038100</td>\n",
       "      <td>0.189060</td>\n",
       "      <td>0.015355</td>\n",
       "      <td>93.533965</td>\n",
       "      <td>-40.246171</td>\n",
       "      <td>3.550023</td>\n",
       "      <td>5164.120192</td>\n",
       "      <td>0.129750</td>\n",
       "    </tr>\n",
       "    <tr>\n",
       "      <th>blue-collar</th>\n",
       "      <td>264.570410</td>\n",
       "      <td>2.557981</td>\n",
       "      <td>987.104182</td>\n",
       "      <td>0.122447</td>\n",
       "      <td>0.249216</td>\n",
       "      <td>93.656738</td>\n",
       "      <td>-41.375294</td>\n",
       "      <td>3.772265</td>\n",
       "      <td>5175.623419</td>\n",
       "      <td>0.068951</td>\n",
       "    </tr>\n",
       "    <tr>\n",
       "      <th>entrepreneur</th>\n",
       "      <td>263.267857</td>\n",
       "      <td>2.535714</td>\n",
       "      <td>987.448489</td>\n",
       "      <td>0.138736</td>\n",
       "      <td>0.158723</td>\n",
       "      <td>93.605372</td>\n",
       "      <td>-41.283654</td>\n",
       "      <td>3.791120</td>\n",
       "      <td>5176.313530</td>\n",
       "      <td>0.085165</td>\n",
       "    </tr>\n",
       "    <tr>\n",
       "      <th>housemaid</th>\n",
       "      <td>250.611898</td>\n",
       "      <td>2.641171</td>\n",
       "      <td>960.542965</td>\n",
       "      <td>0.137866</td>\n",
       "      <td>0.433900</td>\n",
       "      <td>93.677026</td>\n",
       "      <td>-39.492918</td>\n",
       "      <td>4.009510</td>\n",
       "      <td>5179.514259</td>\n",
       "      <td>0.100094</td>\n",
       "    </tr>\n",
       "    <tr>\n",
       "      <th>management</th>\n",
       "      <td>256.726993</td>\n",
       "      <td>2.476223</td>\n",
       "      <td>962.634622</td>\n",
       "      <td>0.185084</td>\n",
       "      <td>-0.011700</td>\n",
       "      <td>93.523208</td>\n",
       "      <td>-40.492576</td>\n",
       "      <td>3.612249</td>\n",
       "      <td>5166.681457</td>\n",
       "      <td>0.112213</td>\n",
       "    </tr>\n",
       "    <tr>\n",
       "      <th>retired</th>\n",
       "      <td>273.238206</td>\n",
       "      <td>2.478160</td>\n",
       "      <td>898.337798</td>\n",
       "      <td>0.326150</td>\n",
       "      <td>-0.696797</td>\n",
       "      <td>93.431289</td>\n",
       "      <td>-38.575422</td>\n",
       "      <td>2.771453</td>\n",
       "      <td>5122.322248</td>\n",
       "      <td>0.252184</td>\n",
       "    </tr>\n",
       "    <tr>\n",
       "      <th>self-employed</th>\n",
       "      <td>264.142153</td>\n",
       "      <td>2.660802</td>\n",
       "      <td>976.621393</td>\n",
       "      <td>0.143561</td>\n",
       "      <td>0.094159</td>\n",
       "      <td>93.559982</td>\n",
       "      <td>-40.488107</td>\n",
       "      <td>3.689376</td>\n",
       "      <td>5170.674384</td>\n",
       "      <td>0.104856</td>\n",
       "    </tr>\n",
       "    <tr>\n",
       "      <th>services</th>\n",
       "      <td>258.413263</td>\n",
       "      <td>2.588250</td>\n",
       "      <td>979.959657</td>\n",
       "      <td>0.155068</td>\n",
       "      <td>0.174584</td>\n",
       "      <td>93.634268</td>\n",
       "      <td>-41.292385</td>\n",
       "      <td>3.698284</td>\n",
       "      <td>5171.576097</td>\n",
       "      <td>0.081442</td>\n",
       "    </tr>\n",
       "    <tr>\n",
       "      <th>student</th>\n",
       "      <td>282.870561</td>\n",
       "      <td>2.105384</td>\n",
       "      <td>840.983963</td>\n",
       "      <td>0.524628</td>\n",
       "      <td>-1.407216</td>\n",
       "      <td>93.329977</td>\n",
       "      <td>-40.187629</td>\n",
       "      <td>1.886817</td>\n",
       "      <td>5086.135624</td>\n",
       "      <td>0.312715</td>\n",
       "    </tr>\n",
       "    <tr>\n",
       "      <th>technician</th>\n",
       "      <td>250.145654</td>\n",
       "      <td>2.576387</td>\n",
       "      <td>964.402996</td>\n",
       "      <td>0.153812</td>\n",
       "      <td>0.274444</td>\n",
       "      <td>93.561407</td>\n",
       "      <td>-39.928093</td>\n",
       "      <td>3.820247</td>\n",
       "      <td>5175.646114</td>\n",
       "      <td>0.108276</td>\n",
       "    </tr>\n",
       "    <tr>\n",
       "      <th>unemployed</th>\n",
       "      <td>249.451677</td>\n",
       "      <td>2.564103</td>\n",
       "      <td>935.316568</td>\n",
       "      <td>0.199211</td>\n",
       "      <td>-0.111736</td>\n",
       "      <td>93.563781</td>\n",
       "      <td>-40.007594</td>\n",
       "      <td>3.466583</td>\n",
       "      <td>5157.156509</td>\n",
       "      <td>0.142012</td>\n",
       "    </tr>\n",
       "    <tr>\n",
       "      <th>unknown</th>\n",
       "      <td>240.240122</td>\n",
       "      <td>2.644377</td>\n",
       "      <td>938.544073</td>\n",
       "      <td>0.155015</td>\n",
       "      <td>0.355623</td>\n",
       "      <td>93.718106</td>\n",
       "      <td>-38.805167</td>\n",
       "      <td>3.946252</td>\n",
       "      <td>5172.876900</td>\n",
       "      <td>0.112462</td>\n",
       "    </tr>\n",
       "  </tbody>\n",
       "</table>\n",
       "</div>"
      ],
      "text/plain": [
       "                  duration  campaign       pdays  previous  emp_var_rate  \\\n",
       "job                                                                        \n",
       "ADMIN.          637.000000  1.500000  999.000000  0.000000      1.100000   \n",
       "BLUE-COLLAR       5.000000  7.000000  999.000000  1.000000     -1.800000   \n",
       "HOUSEMAID        84.000000  1.000000  999.000000  0.000000     -0.100000   \n",
       "MANAGEMENT     1225.000000  2.000000  999.000000  0.000000     -2.900000   \n",
       "RETIRED         545.000000  1.666667  668.000000  1.000000     -1.566667   \n",
       "SERVICES        238.333333  2.000000  999.000000  0.000000      1.200000   \n",
       "STUDENT         638.500000  1.500000  505.500000  0.500000     -1.750000   \n",
       "TECHNICIAN      834.000000  9.000000  999.000000  0.000000      1.100000   \n",
       "UNKNOWN          54.000000  4.000000  999.000000  0.000000      1.100000   \n",
       "admin.          254.238676  2.623704  956.038100  0.189060      0.015355   \n",
       "blue-collar     264.570410  2.557981  987.104182  0.122447      0.249216   \n",
       "entrepreneur    263.267857  2.535714  987.448489  0.138736      0.158723   \n",
       "housemaid       250.611898  2.641171  960.542965  0.137866      0.433900   \n",
       "management      256.726993  2.476223  962.634622  0.185084     -0.011700   \n",
       "retired         273.238206  2.478160  898.337798  0.326150     -0.696797   \n",
       "self-employed   264.142153  2.660802  976.621393  0.143561      0.094159   \n",
       "services        258.413263  2.588250  979.959657  0.155068      0.174584   \n",
       "student         282.870561  2.105384  840.983963  0.524628     -1.407216   \n",
       "technician      250.145654  2.576387  964.402996  0.153812      0.274444   \n",
       "unemployed      249.451677  2.564103  935.316568  0.199211     -0.111736   \n",
       "unknown         240.240122  2.644377  938.544073  0.155015      0.355623   \n",
       "\n",
       "               cons_price_idx  cons_conf_idx  euribor3m  nr_employed         y  \n",
       "job                                                                             \n",
       "ADMIN.              93.994000     -36.400000   4.858500  5191.000000  0.000000  \n",
       "BLUE-COLLAR         92.893000     -46.200000   1.281000  5099.100000  0.000000  \n",
       "HOUSEMAID           93.200000     -42.000000   4.153000  5195.800000  0.000000  \n",
       "MANAGEMENT          92.201000     -31.400000   0.884000  5076.200000  0.000000  \n",
       "RETIRED             93.142667     -37.233333   1.976667  5087.866667  0.333333  \n",
       "SERVICES            94.151000     -38.200000   4.892000  5203.366667  0.000000  \n",
       "STUDENT             94.045500     -40.150000   0.752500  5000.150000  1.000000  \n",
       "TECHNICIAN          93.994000     -36.400000   4.855000  5191.000000  0.000000  \n",
       "UNKNOWN             93.994000     -36.400000   4.864000  5191.000000  0.000000  \n",
       "admin.              93.533965     -40.246171   3.550023  5164.120192  0.129750  \n",
       "blue-collar         93.656738     -41.375294   3.772265  5175.623419  0.068951  \n",
       "entrepreneur        93.605372     -41.283654   3.791120  5176.313530  0.085165  \n",
       "housemaid           93.677026     -39.492918   4.009510  5179.514259  0.100094  \n",
       "management          93.523208     -40.492576   3.612249  5166.681457  0.112213  \n",
       "retired             93.431289     -38.575422   2.771453  5122.322248  0.252184  \n",
       "self-employed       93.559982     -40.488107   3.689376  5170.674384  0.104856  \n",
       "services            93.634268     -41.292385   3.698284  5171.576097  0.081442  \n",
       "student             93.329977     -40.187629   1.886817  5086.135624  0.312715  \n",
       "technician          93.561407     -39.928093   3.820247  5175.646114  0.108276  \n",
       "unemployed          93.563781     -40.007594   3.466583  5157.156509  0.142012  \n",
       "unknown             93.718106     -38.805167   3.946252  5172.876900  0.112462  "
      ]
     },
     "execution_count": 9,
     "metadata": {},
     "output_type": "execute_result"
    }
   ],
   "source": [
    "grouy_job=data.groupby('job')\n",
    "grouy_job.mean=grouy_job.mean()\n",
    "grouy_job.mean"
   ]
  },
  {
   "cell_type": "markdown",
   "metadata": {},
   "source": [
    "==============================================================================="
   ]
  },
  {
   "cell_type": "markdown",
   "metadata": {},
   "source": [
    "III : marital"
   ]
  },
  {
   "cell_type": "code",
   "execution_count": 10,
   "metadata": {},
   "outputs": [
    {
     "data": {
      "text/html": [
       "<div>\n",
       "<style scoped>\n",
       "    .dataframe tbody tr th:only-of-type {\n",
       "        vertical-align: middle;\n",
       "    }\n",
       "\n",
       "    .dataframe tbody tr th {\n",
       "        vertical-align: top;\n",
       "    }\n",
       "\n",
       "    .dataframe thead th {\n",
       "        text-align: right;\n",
       "    }\n",
       "</style>\n",
       "<table border=\"1\" class=\"dataframe\">\n",
       "  <thead>\n",
       "    <tr style=\"text-align: right;\">\n",
       "      <th></th>\n",
       "      <th>duration</th>\n",
       "      <th>campaign</th>\n",
       "      <th>pdays</th>\n",
       "      <th>previous</th>\n",
       "      <th>emp_var_rate</th>\n",
       "      <th>cons_price_idx</th>\n",
       "      <th>cons_conf_idx</th>\n",
       "      <th>euribor3m</th>\n",
       "      <th>nr_employed</th>\n",
       "      <th>y</th>\n",
       "    </tr>\n",
       "    <tr>\n",
       "      <th>marital</th>\n",
       "      <th></th>\n",
       "      <th></th>\n",
       "      <th></th>\n",
       "      <th></th>\n",
       "      <th></th>\n",
       "      <th></th>\n",
       "      <th></th>\n",
       "      <th></th>\n",
       "      <th></th>\n",
       "      <th></th>\n",
       "    </tr>\n",
       "  </thead>\n",
       "  <tbody>\n",
       "    <tr>\n",
       "      <th>D</th>\n",
       "      <td>87.500000</td>\n",
       "      <td>1.250000</td>\n",
       "      <td>999.000000</td>\n",
       "      <td>0.000000</td>\n",
       "      <td>1.250000</td>\n",
       "      <td>93.974250</td>\n",
       "      <td>-37.675000</td>\n",
       "      <td>4.909750</td>\n",
       "      <td>5209.550000</td>\n",
       "      <td>0.000000</td>\n",
       "    </tr>\n",
       "    <tr>\n",
       "      <th>M</th>\n",
       "      <td>418.400000</td>\n",
       "      <td>2.600000</td>\n",
       "      <td>999.000000</td>\n",
       "      <td>0.200000</td>\n",
       "      <td>-0.960000</td>\n",
       "      <td>92.931400</td>\n",
       "      <td>-37.560000</td>\n",
       "      <td>2.589200</td>\n",
       "      <td>5141.540000</td>\n",
       "      <td>0.000000</td>\n",
       "    </tr>\n",
       "    <tr>\n",
       "      <th>S</th>\n",
       "      <td>283.333333</td>\n",
       "      <td>2.000000</td>\n",
       "      <td>999.000000</td>\n",
       "      <td>0.000000</td>\n",
       "      <td>-0.233333</td>\n",
       "      <td>93.396333</td>\n",
       "      <td>-34.733333</td>\n",
       "      <td>3.531333</td>\n",
       "      <td>5152.733333</td>\n",
       "      <td>0.000000</td>\n",
       "    </tr>\n",
       "    <tr>\n",
       "      <th>divorced</th>\n",
       "      <td>253.934679</td>\n",
       "      <td>2.614583</td>\n",
       "      <td>968.613498</td>\n",
       "      <td>0.168837</td>\n",
       "      <td>0.163043</td>\n",
       "      <td>93.606244</td>\n",
       "      <td>-40.709701</td>\n",
       "      <td>3.714567</td>\n",
       "      <td>5170.845074</td>\n",
       "      <td>0.103299</td>\n",
       "    </tr>\n",
       "    <tr>\n",
       "      <th>married</th>\n",
       "      <td>257.406332</td>\n",
       "      <td>2.572804</td>\n",
       "      <td>967.963528</td>\n",
       "      <td>0.155599</td>\n",
       "      <td>0.183854</td>\n",
       "      <td>93.597501</td>\n",
       "      <td>-40.271203</td>\n",
       "      <td>3.746064</td>\n",
       "      <td>5171.854853</td>\n",
       "      <td>0.101593</td>\n",
       "    </tr>\n",
       "    <tr>\n",
       "      <th>single</th>\n",
       "      <td>261.518720</td>\n",
       "      <td>2.533939</td>\n",
       "      <td>952.231474</td>\n",
       "      <td>0.211414</td>\n",
       "      <td>-0.167972</td>\n",
       "      <td>93.517331</td>\n",
       "      <td>-40.920303</td>\n",
       "      <td>3.317391</td>\n",
       "      <td>5155.199905</td>\n",
       "      <td>0.140078</td>\n",
       "    </tr>\n",
       "    <tr>\n",
       "      <th>unknown</th>\n",
       "      <td>312.725000</td>\n",
       "      <td>3.187500</td>\n",
       "      <td>937.100000</td>\n",
       "      <td>0.275000</td>\n",
       "      <td>-0.221250</td>\n",
       "      <td>93.471250</td>\n",
       "      <td>-40.820000</td>\n",
       "      <td>3.313038</td>\n",
       "      <td>5157.393750</td>\n",
       "      <td>0.150000</td>\n",
       "    </tr>\n",
       "  </tbody>\n",
       "</table>\n",
       "</div>"
      ],
      "text/plain": [
       "            duration  campaign       pdays  previous  emp_var_rate  \\\n",
       "marital                                                              \n",
       "D          87.500000  1.250000  999.000000  0.000000      1.250000   \n",
       "M         418.400000  2.600000  999.000000  0.200000     -0.960000   \n",
       "S         283.333333  2.000000  999.000000  0.000000     -0.233333   \n",
       "divorced  253.934679  2.614583  968.613498  0.168837      0.163043   \n",
       "married   257.406332  2.572804  967.963528  0.155599      0.183854   \n",
       "single    261.518720  2.533939  952.231474  0.211414     -0.167972   \n",
       "unknown   312.725000  3.187500  937.100000  0.275000     -0.221250   \n",
       "\n",
       "          cons_price_idx  cons_conf_idx  euribor3m  nr_employed         y  \n",
       "marital                                                                    \n",
       "D              93.974250     -37.675000   4.909750  5209.550000  0.000000  \n",
       "M              92.931400     -37.560000   2.589200  5141.540000  0.000000  \n",
       "S              93.396333     -34.733333   3.531333  5152.733333  0.000000  \n",
       "divorced       93.606244     -40.709701   3.714567  5170.845074  0.103299  \n",
       "married        93.597501     -40.271203   3.746064  5171.854853  0.101593  \n",
       "single         93.517331     -40.920303   3.317391  5155.199905  0.140078  \n",
       "unknown        93.471250     -40.820000   3.313038  5157.393750  0.150000  "
      ]
     },
     "execution_count": 10,
     "metadata": {},
     "output_type": "execute_result"
    }
   ],
   "source": [
    "grouy_marital=data.groupby('marital')\n",
    "grouy_marital.mean=grouy_marital.mean()\n",
    "grouy_marital.mean"
   ]
  },
  {
   "cell_type": "markdown",
   "metadata": {},
   "source": [
    "IV : education"
   ]
  },
  {
   "cell_type": "code",
   "execution_count": 11,
   "metadata": {},
   "outputs": [
    {
     "data": {
      "text/html": [
       "<div>\n",
       "<style scoped>\n",
       "    .dataframe tbody tr th:only-of-type {\n",
       "        vertical-align: middle;\n",
       "    }\n",
       "\n",
       "    .dataframe tbody tr th {\n",
       "        vertical-align: top;\n",
       "    }\n",
       "\n",
       "    .dataframe thead th {\n",
       "        text-align: right;\n",
       "    }\n",
       "</style>\n",
       "<table border=\"1\" class=\"dataframe\">\n",
       "  <thead>\n",
       "    <tr style=\"text-align: right;\">\n",
       "      <th></th>\n",
       "      <th>duration</th>\n",
       "      <th>campaign</th>\n",
       "      <th>pdays</th>\n",
       "      <th>previous</th>\n",
       "      <th>emp_var_rate</th>\n",
       "      <th>cons_price_idx</th>\n",
       "      <th>cons_conf_idx</th>\n",
       "      <th>euribor3m</th>\n",
       "      <th>nr_employed</th>\n",
       "      <th>y</th>\n",
       "    </tr>\n",
       "    <tr>\n",
       "      <th>education</th>\n",
       "      <th></th>\n",
       "      <th></th>\n",
       "      <th></th>\n",
       "      <th></th>\n",
       "      <th></th>\n",
       "      <th></th>\n",
       "      <th></th>\n",
       "      <th></th>\n",
       "      <th></th>\n",
       "      <th></th>\n",
       "    </tr>\n",
       "  </thead>\n",
       "  <tbody>\n",
       "    <tr>\n",
       "      <th>basic-4y</th>\n",
       "      <td>259.750000</td>\n",
       "      <td>4.250000</td>\n",
       "      <td>915.916667</td>\n",
       "      <td>0.250000</td>\n",
       "      <td>0.166667</td>\n",
       "      <td>93.747500</td>\n",
       "      <td>-42.225000</td>\n",
       "      <td>3.615083</td>\n",
       "      <td>5167.266667</td>\n",
       "      <td>0.083333</td>\n",
       "    </tr>\n",
       "    <tr>\n",
       "      <th>basic-6y</th>\n",
       "      <td>222.500000</td>\n",
       "      <td>2.500000</td>\n",
       "      <td>999.000000</td>\n",
       "      <td>0.000000</td>\n",
       "      <td>0.766667</td>\n",
       "      <td>93.784667</td>\n",
       "      <td>-39.933333</td>\n",
       "      <td>4.313333</td>\n",
       "      <td>5194.233333</td>\n",
       "      <td>0.000000</td>\n",
       "    </tr>\n",
       "    <tr>\n",
       "      <th>basic-9y</th>\n",
       "      <td>144.900000</td>\n",
       "      <td>1.600000</td>\n",
       "      <td>999.000000</td>\n",
       "      <td>0.200000</td>\n",
       "      <td>0.270000</td>\n",
       "      <td>93.732300</td>\n",
       "      <td>-42.120000</td>\n",
       "      <td>3.716900</td>\n",
       "      <td>5161.490000</td>\n",
       "      <td>0.000000</td>\n",
       "    </tr>\n",
       "    <tr>\n",
       "      <th>basic.4y</th>\n",
       "      <td>264.842459</td>\n",
       "      <td>2.595821</td>\n",
       "      <td>970.171230</td>\n",
       "      <td>0.146734</td>\n",
       "      <td>0.216066</td>\n",
       "      <td>93.658052</td>\n",
       "      <td>-40.234150</td>\n",
       "      <td>3.752162</td>\n",
       "      <td>5170.133117</td>\n",
       "      <td>0.102546</td>\n",
       "    </tr>\n",
       "    <tr>\n",
       "      <th>basic.6y</th>\n",
       "      <td>264.524497</td>\n",
       "      <td>2.556430</td>\n",
       "      <td>980.319335</td>\n",
       "      <td>0.129484</td>\n",
       "      <td>0.229746</td>\n",
       "      <td>93.649709</td>\n",
       "      <td>-41.131015</td>\n",
       "      <td>3.771524</td>\n",
       "      <td>5174.666842</td>\n",
       "      <td>0.082240</td>\n",
       "    </tr>\n",
       "    <tr>\n",
       "      <th>basic.9y</th>\n",
       "      <td>261.484673</td>\n",
       "      <td>2.533886</td>\n",
       "      <td>979.100249</td>\n",
       "      <td>0.141342</td>\n",
       "      <td>0.159056</td>\n",
       "      <td>93.623218</td>\n",
       "      <td>-41.325435</td>\n",
       "      <td>3.697932</td>\n",
       "      <td>5172.311914</td>\n",
       "      <td>0.078376</td>\n",
       "    </tr>\n",
       "    <tr>\n",
       "      <th>high.school</th>\n",
       "      <td>260.886810</td>\n",
       "      <td>2.568576</td>\n",
       "      <td>964.358382</td>\n",
       "      <td>0.185917</td>\n",
       "      <td>0.032937</td>\n",
       "      <td>93.584857</td>\n",
       "      <td>-40.940641</td>\n",
       "      <td>3.556157</td>\n",
       "      <td>5164.994735</td>\n",
       "      <td>0.108355</td>\n",
       "    </tr>\n",
       "    <tr>\n",
       "      <th>illiterate</th>\n",
       "      <td>276.777778</td>\n",
       "      <td>2.277778</td>\n",
       "      <td>943.833333</td>\n",
       "      <td>0.111111</td>\n",
       "      <td>-0.133333</td>\n",
       "      <td>93.317333</td>\n",
       "      <td>-39.950000</td>\n",
       "      <td>3.516556</td>\n",
       "      <td>5171.777778</td>\n",
       "      <td>0.222222</td>\n",
       "    </tr>\n",
       "    <tr>\n",
       "      <th>professional.course</th>\n",
       "      <td>252.533855</td>\n",
       "      <td>2.586115</td>\n",
       "      <td>962.482548</td>\n",
       "      <td>0.163075</td>\n",
       "      <td>0.173012</td>\n",
       "      <td>93.569864</td>\n",
       "      <td>-40.124108</td>\n",
       "      <td>3.710457</td>\n",
       "      <td>5170.155979</td>\n",
       "      <td>0.113485</td>\n",
       "    </tr>\n",
       "    <tr>\n",
       "      <th>university.degree</th>\n",
       "      <td>253.223373</td>\n",
       "      <td>2.563527</td>\n",
       "      <td>953.286982</td>\n",
       "      <td>0.192390</td>\n",
       "      <td>-0.028090</td>\n",
       "      <td>93.493466</td>\n",
       "      <td>-39.975805</td>\n",
       "      <td>3.529663</td>\n",
       "      <td>5163.226298</td>\n",
       "      <td>0.137245</td>\n",
       "    </tr>\n",
       "    <tr>\n",
       "      <th>unknown</th>\n",
       "      <td>262.390526</td>\n",
       "      <td>2.596187</td>\n",
       "      <td>942.830734</td>\n",
       "      <td>0.226459</td>\n",
       "      <td>0.059099</td>\n",
       "      <td>93.658615</td>\n",
       "      <td>-39.877816</td>\n",
       "      <td>3.571098</td>\n",
       "      <td>5159.549509</td>\n",
       "      <td>0.145003</td>\n",
       "    </tr>\n",
       "  </tbody>\n",
       "</table>\n",
       "</div>"
      ],
      "text/plain": [
       "                       duration  campaign       pdays  previous  emp_var_rate  \\\n",
       "education                                                                       \n",
       "basic-4y             259.750000  4.250000  915.916667  0.250000      0.166667   \n",
       "basic-6y             222.500000  2.500000  999.000000  0.000000      0.766667   \n",
       "basic-9y             144.900000  1.600000  999.000000  0.200000      0.270000   \n",
       "basic.4y             264.842459  2.595821  970.171230  0.146734      0.216066   \n",
       "basic.6y             264.524497  2.556430  980.319335  0.129484      0.229746   \n",
       "basic.9y             261.484673  2.533886  979.100249  0.141342      0.159056   \n",
       "high.school          260.886810  2.568576  964.358382  0.185917      0.032937   \n",
       "illiterate           276.777778  2.277778  943.833333  0.111111     -0.133333   \n",
       "professional.course  252.533855  2.586115  962.482548  0.163075      0.173012   \n",
       "university.degree    253.223373  2.563527  953.286982  0.192390     -0.028090   \n",
       "unknown              262.390526  2.596187  942.830734  0.226459      0.059099   \n",
       "\n",
       "                     cons_price_idx  cons_conf_idx  euribor3m  nr_employed  \\\n",
       "education                                                                    \n",
       "basic-4y                  93.747500     -42.225000   3.615083  5167.266667   \n",
       "basic-6y                  93.784667     -39.933333   4.313333  5194.233333   \n",
       "basic-9y                  93.732300     -42.120000   3.716900  5161.490000   \n",
       "basic.4y                  93.658052     -40.234150   3.752162  5170.133117   \n",
       "basic.6y                  93.649709     -41.131015   3.771524  5174.666842   \n",
       "basic.9y                  93.623218     -41.325435   3.697932  5172.311914   \n",
       "high.school               93.584857     -40.940641   3.556157  5164.994735   \n",
       "illiterate                93.317333     -39.950000   3.516556  5171.777778   \n",
       "professional.course       93.569864     -40.124108   3.710457  5170.155979   \n",
       "university.degree         93.493466     -39.975805   3.529663  5163.226298   \n",
       "unknown                   93.658615     -39.877816   3.571098  5159.549509   \n",
       "\n",
       "                            y  \n",
       "education                      \n",
       "basic-4y             0.083333  \n",
       "basic-6y             0.000000  \n",
       "basic-9y             0.000000  \n",
       "basic.4y             0.102546  \n",
       "basic.6y             0.082240  \n",
       "basic.9y             0.078376  \n",
       "high.school          0.108355  \n",
       "illiterate           0.222222  \n",
       "professional.course  0.113485  \n",
       "university.degree    0.137245  \n",
       "unknown              0.145003  "
      ]
     },
     "execution_count": 11,
     "metadata": {},
     "output_type": "execute_result"
    }
   ],
   "source": [
    "grouy_education=data.groupby('education')\n",
    "grouy_education.mean=grouy_education.mean()\n",
    "grouy_education.mean"
   ]
  },
  {
   "cell_type": "markdown",
   "metadata": {},
   "source": [
    "Make a note of what you learn from the outputs !\n",
    "\n"
   ]
  },
  {
   "cell_type": "code",
   "execution_count": null,
   "metadata": {},
   "outputs": [],
   "source": []
  },
  {
   "cell_type": "markdown",
   "metadata": {},
   "source": [
    "## Section III : Exploratory Data Analysis"
   ]
  },
  {
   "cell_type": "markdown",
   "metadata": {},
   "source": [
    "Part I : Create bar graphs to the frequency of purchase with respect to the job , martial etc"
   ]
  },
  {
   "cell_type": "code",
   "execution_count": 54,
   "metadata": {},
   "outputs": [
    {
     "name": "stderr",
     "output_type": "stream",
     "text": [
      "C:\\Users\\marce\\anaconda3\\lib\\site-packages\\seaborn\\_decorators.py:36: FutureWarning: Pass the following variables as keyword args: x, y. From version 0.12, the only valid positional argument will be `data`, and passing other arguments without an explicit keyword will result in an error or misinterpretation.\n",
      "  warnings.warn(\n"
     ]
    },
    {
     "data": {
      "text/plain": [
       "<AxesSubplot:xlabel='campaign', ylabel='housing'>"
      ]
     },
     "execution_count": 54,
     "metadata": {},
     "output_type": "execute_result"
    },
    {
     "data": {
      "image/png": "[encoded data removed]",
      "text/plain": [
       "<Figure size 432x288 with 1 Axes>"
      ]
     },
     "metadata": {
      "needs_background": "light"
     },
     "output_type": "display_data"
    }
   ],
   "source": [
    "# regular bar plot\n",
    "sns.barplot(data['campaign'], data['housing'],hue=data['poutcome'])"
   ]
  },
  {
   "cell_type": "markdown",
   "metadata": {},
   "source": [
    "Part II : Also create stacked bars to same data columns with respect to"
   ]
  },
  {
   "cell_type": "code",
   "execution_count": 55,
   "metadata": {},
   "outputs": [
    {
     "name": "stderr",
     "output_type": "stream",
     "text": [
      "C:\\Users\\marce\\anaconda3\\lib\\site-packages\\seaborn\\_decorators.py:36: FutureWarning: Pass the following variables as keyword args: x, y. From version 0.12, the only valid positional argument will be `data`, and passing other arguments without an explicit keyword will result in an error or misinterpretation.\n",
      "  warnings.warn(\n"
     ]
    },
    {
     "data": {
      "text/plain": [
       "<AxesSubplot:xlabel='emp_var_rate', ylabel='cons_price_idx'>"
      ]
     },
     "execution_count": 55,
     "metadata": {},
     "output_type": "execute_result"
    },
    {
     "data": {
      "image/png": "[encoded data removed]",
      "text/plain": [
       "<Figure size 432x288 with 1 Axes>"
      ]
     },
     "metadata": {
      "needs_background": "light"
     },
     "output_type": "display_data"
    }
   ],
   "source": [
    "# regular bar plot\n",
    "sns.scatterplot(data['emp_var_rate'], data['cons_price_idx'],hue=data['y'])"
   ]
  },
  {
   "cell_type": "markdown",
   "metadata": {},
   "source": [
    "Part III : Explore the age column using a histogram and note down your observations"
   ]
  },
  {
   "cell_type": "code",
   "execution_count": 56,
   "metadata": {},
   "outputs": [
    {
     "data": {
      "image/png": "[encoded data removed]",
      "text/plain": [
       "<Figure size 432x288 with 12 Axes>"
      ]
     },
     "metadata": {
      "needs_background": "light"
     },
     "output_type": "display_data"
    }
   ],
   "source": [
    "hist = data.hist(bins=4)"
   ]
  },
  {
   "cell_type": "code",
   "execution_count": 57,
   "metadata": {},
   "outputs": [
    {
     "data": {
      "text/plain": [
       "<AxesSubplot:ylabel='Frequency'>"
      ]
     },
     "execution_count": 57,
     "metadata": {},
     "output_type": "execute_result"
    },
    {
     "data": {
      "image/png": "[encoded data removed]",
      "text/plain": [
       "<Figure size 432x288 with 1 Axes>"
      ]
     },
     "metadata": {
      "needs_background": "light"
     },
     "output_type": "display_data"
    }
   ],
   "source": [
    "data.plot.hist(bins=20, alpha=0.7)"
   ]
  },
  {
   "cell_type": "code",
   "execution_count": 58,
   "metadata": {},
   "outputs": [
    {
     "ename": "TypeError",
     "evalue": "'PlotAccessor' object is not subscriptable",
     "output_type": "error",
     "traceback": [
      "\u001b[1;31m---------------------------------------------------------------------------\u001b[0m",
      "\u001b[1;31mTypeError\u001b[0m                                 Traceback (most recent call last)",
      "\u001b[1;32m<ipython-input-58-fea4bd71460c>\u001b[0m in \u001b[0;36m<module>\u001b[1;34m\u001b[0m\n\u001b[1;32m----> 1\u001b[1;33m \u001b[0mdata\u001b[0m\u001b[1;33m.\u001b[0m\u001b[0mplot\u001b[0m\u001b[1;33m[\u001b[0m\u001b[1;34m'age'\u001b[0m\u001b[1;33m]\u001b[0m\u001b[1;33m.\u001b[0m\u001b[0mhist\u001b[0m\u001b[1;33m(\u001b[0m\u001b[0mbins\u001b[0m\u001b[1;33m=\u001b[0m\u001b[1;36m20\u001b[0m\u001b[1;33m,\u001b[0m \u001b[0malpha\u001b[0m\u001b[1;33m=\u001b[0m\u001b[1;36m0.7\u001b[0m\u001b[1;33m)\u001b[0m\u001b[1;33m\u001b[0m\u001b[1;33m\u001b[0m\u001b[0m\n\u001b[0m",
      "\u001b[1;31mTypeError\u001b[0m: 'PlotAccessor' object is not subscriptable"
     ]
    }
   ],
   "source": [
    "data.plot['age'].hist(bins=20, alpha=0.7)"
   ]
  },
  {
   "cell_type": "markdown",
   "metadata": {},
   "source": [
    "## Section IV : Categorical Variable Encoding\n"
   ]
  },
  {
   "cell_type": "markdown",
   "metadata": {},
   "source": [
    "Part I : Create dummy variables for your categorial variables"
   ]
  },
  {
   "cell_type": "code",
   "execution_count": 59,
   "metadata": {},
   "outputs": [],
   "source": [
    "# hire the idea is to convert all object varible(categorical variable) in numeric variable, so that when we start to traing the data, everything will\n",
    "# be more logival and easy"
   ]
  },
  {
   "cell_type": "code",
   "execution_count": 60,
   "metadata": {},
   "outputs": [],
   "source": [
    "# so let's work with all abject variable (categorical variable). I will call my info function to see how many object variable that i have.\n",
    "# as we can see above i have 11 object variable [age,job,marital,education,default,housing,loan, contact,month,day_of_week and poutcome]\\\n",
    "# so let's create a dummy function for each of those variable mentione above."
   ]
  },
  {
   "cell_type": "code",
   "execution_count": 113,
   "metadata": {},
   "outputs": [
    {
     "data": {
      "text/plain": [
       "array(['44', '53', '28', '39', '55', '30', '37', '36', '27', '34', '41',\n",
       "       '33', '26', '52', '35', '40', '32', '49', '38', '47', '46', '29',\n",
       "       '54', '42', '72', '48', '43', '56', '31', '24', '68', '59', '50',\n",
       "       '45', '35-30', '25', '57', '63', '58', '60', '30-35', '64', '51',\n",
       "       '23', '20', '74', '80', '61', '25-30', '62', '75', '21', '82',\n",
       "       '77', '18-25', '30-32', '70', '50-55', '76', '73', '66', '22',\n",
       "       '71', '19', '79', '88', '65', '67', '81', '18', '84', '69', '98',\n",
       "       '85', '83', '78', '92', '45-50', '20-25', '20-40', '35-40', '86',\n",
       "       '94', '17', '91', '89', '87', '95', '30-40', 56, 39, 30, 53, 37,\n",
       "       22, 45, 31, 24, 50, 58, 33, 27, 28, 32, 51, 41, 49, 43, 44, 35, 29,\n",
       "       26, 57, 25, 42, 48, 46, 67, 38, 34, 54, 40, 23, 47, 62, 75, 55, 36,\n",
       "       52, 59, 78, 70, 60, 20, 66, 61, 21, 88, 18, 68, 71, 73, 80, 79, 63,\n",
       "       76, 83, 65, 19, 86, 17, 72, 69, 81, 64, 77, 74, 85, 82],\n",
       "      dtype=object)"
      ]
     },
     "execution_count": 113,
     "metadata": {},
     "output_type": "execute_result"
    }
   ],
   "source": [
    "data['age'].unique() # as we can see, those value are "
   ]
  },
  {
   "cell_type": "code",
   "execution_count": 12,
   "metadata": {},
   "outputs": [],
   "source": [
    "age_dummies=pd.get_dummies(data['age'])"
   ]
  },
  {
   "cell_type": "code",
   "execution_count": 115,
   "metadata": {},
   "outputs": [
    {
     "data": {
      "text/html": [
       "<div>\n",
       "<style scoped>\n",
       "    .dataframe tbody tr th:only-of-type {\n",
       "        vertical-align: middle;\n",
       "    }\n",
       "\n",
       "    .dataframe tbody tr th {\n",
       "        vertical-align: top;\n",
       "    }\n",
       "\n",
       "    .dataframe thead th {\n",
       "        text-align: right;\n",
       "    }\n",
       "</style>\n",
       "<table border=\"1\" class=\"dataframe\">\n",
       "  <thead>\n",
       "    <tr style=\"text-align: right;\">\n",
       "      <th></th>\n",
       "      <th>17</th>\n",
       "      <th>18</th>\n",
       "      <th>19</th>\n",
       "      <th>20</th>\n",
       "      <th>21</th>\n",
       "      <th>22</th>\n",
       "      <th>23</th>\n",
       "      <th>24</th>\n",
       "      <th>25</th>\n",
       "      <th>26</th>\n",
       "      <th>...</th>\n",
       "      <th>85</th>\n",
       "      <th>86</th>\n",
       "      <th>87</th>\n",
       "      <th>88</th>\n",
       "      <th>89</th>\n",
       "      <th>91</th>\n",
       "      <th>92</th>\n",
       "      <th>94</th>\n",
       "      <th>95</th>\n",
       "      <th>98</th>\n",
       "    </tr>\n",
       "  </thead>\n",
       "  <tbody>\n",
       "    <tr>\n",
       "      <th>0</th>\n",
       "      <td>0</td>\n",
       "      <td>0</td>\n",
       "      <td>0</td>\n",
       "      <td>0</td>\n",
       "      <td>0</td>\n",
       "      <td>0</td>\n",
       "      <td>0</td>\n",
       "      <td>0</td>\n",
       "      <td>0</td>\n",
       "      <td>0</td>\n",
       "      <td>...</td>\n",
       "      <td>0</td>\n",
       "      <td>0</td>\n",
       "      <td>0</td>\n",
       "      <td>0</td>\n",
       "      <td>0</td>\n",
       "      <td>0</td>\n",
       "      <td>0</td>\n",
       "      <td>0</td>\n",
       "      <td>0</td>\n",
       "      <td>0</td>\n",
       "    </tr>\n",
       "    <tr>\n",
       "      <th>1</th>\n",
       "      <td>0</td>\n",
       "      <td>0</td>\n",
       "      <td>0</td>\n",
       "      <td>0</td>\n",
       "      <td>0</td>\n",
       "      <td>0</td>\n",
       "      <td>0</td>\n",
       "      <td>0</td>\n",
       "      <td>0</td>\n",
       "      <td>0</td>\n",
       "      <td>...</td>\n",
       "      <td>0</td>\n",
       "      <td>0</td>\n",
       "      <td>0</td>\n",
       "      <td>0</td>\n",
       "      <td>0</td>\n",
       "      <td>0</td>\n",
       "      <td>0</td>\n",
       "      <td>0</td>\n",
       "      <td>0</td>\n",
       "      <td>0</td>\n",
       "    </tr>\n",
       "    <tr>\n",
       "      <th>2</th>\n",
       "      <td>0</td>\n",
       "      <td>0</td>\n",
       "      <td>0</td>\n",
       "      <td>0</td>\n",
       "      <td>0</td>\n",
       "      <td>0</td>\n",
       "      <td>0</td>\n",
       "      <td>0</td>\n",
       "      <td>0</td>\n",
       "      <td>0</td>\n",
       "      <td>...</td>\n",
       "      <td>0</td>\n",
       "      <td>0</td>\n",
       "      <td>0</td>\n",
       "      <td>0</td>\n",
       "      <td>0</td>\n",
       "      <td>0</td>\n",
       "      <td>0</td>\n",
       "      <td>0</td>\n",
       "      <td>0</td>\n",
       "      <td>0</td>\n",
       "    </tr>\n",
       "    <tr>\n",
       "      <th>3</th>\n",
       "      <td>0</td>\n",
       "      <td>0</td>\n",
       "      <td>0</td>\n",
       "      <td>0</td>\n",
       "      <td>0</td>\n",
       "      <td>0</td>\n",
       "      <td>0</td>\n",
       "      <td>0</td>\n",
       "      <td>0</td>\n",
       "      <td>0</td>\n",
       "      <td>...</td>\n",
       "      <td>0</td>\n",
       "      <td>0</td>\n",
       "      <td>0</td>\n",
       "      <td>0</td>\n",
       "      <td>0</td>\n",
       "      <td>0</td>\n",
       "      <td>0</td>\n",
       "      <td>0</td>\n",
       "      <td>0</td>\n",
       "      <td>0</td>\n",
       "    </tr>\n",
       "    <tr>\n",
       "      <th>4</th>\n",
       "      <td>0</td>\n",
       "      <td>0</td>\n",
       "      <td>0</td>\n",
       "      <td>0</td>\n",
       "      <td>0</td>\n",
       "      <td>0</td>\n",
       "      <td>0</td>\n",
       "      <td>0</td>\n",
       "      <td>0</td>\n",
       "      <td>0</td>\n",
       "      <td>...</td>\n",
       "      <td>0</td>\n",
       "      <td>0</td>\n",
       "      <td>0</td>\n",
       "      <td>0</td>\n",
       "      <td>0</td>\n",
       "      <td>0</td>\n",
       "      <td>0</td>\n",
       "      <td>0</td>\n",
       "      <td>0</td>\n",
       "      <td>0</td>\n",
       "    </tr>\n",
       "    <tr>\n",
       "      <th>...</th>\n",
       "      <td>...</td>\n",
       "      <td>...</td>\n",
       "      <td>...</td>\n",
       "      <td>...</td>\n",
       "      <td>...</td>\n",
       "      <td>...</td>\n",
       "      <td>...</td>\n",
       "      <td>...</td>\n",
       "      <td>...</td>\n",
       "      <td>...</td>\n",
       "      <td>...</td>\n",
       "      <td>...</td>\n",
       "      <td>...</td>\n",
       "      <td>...</td>\n",
       "      <td>...</td>\n",
       "      <td>...</td>\n",
       "      <td>...</td>\n",
       "      <td>...</td>\n",
       "      <td>...</td>\n",
       "      <td>...</td>\n",
       "      <td>...</td>\n",
       "    </tr>\n",
       "    <tr>\n",
       "      <th>41183</th>\n",
       "      <td>0</td>\n",
       "      <td>0</td>\n",
       "      <td>0</td>\n",
       "      <td>0</td>\n",
       "      <td>0</td>\n",
       "      <td>0</td>\n",
       "      <td>0</td>\n",
       "      <td>0</td>\n",
       "      <td>0</td>\n",
       "      <td>0</td>\n",
       "      <td>...</td>\n",
       "      <td>0</td>\n",
       "      <td>0</td>\n",
       "      <td>0</td>\n",
       "      <td>0</td>\n",
       "      <td>0</td>\n",
       "      <td>0</td>\n",
       "      <td>0</td>\n",
       "      <td>0</td>\n",
       "      <td>0</td>\n",
       "      <td>0</td>\n",
       "    </tr>\n",
       "    <tr>\n",
       "      <th>41184</th>\n",
       "      <td>0</td>\n",
       "      <td>0</td>\n",
       "      <td>0</td>\n",
       "      <td>0</td>\n",
       "      <td>0</td>\n",
       "      <td>0</td>\n",
       "      <td>0</td>\n",
       "      <td>0</td>\n",
       "      <td>0</td>\n",
       "      <td>0</td>\n",
       "      <td>...</td>\n",
       "      <td>0</td>\n",
       "      <td>0</td>\n",
       "      <td>0</td>\n",
       "      <td>0</td>\n",
       "      <td>0</td>\n",
       "      <td>0</td>\n",
       "      <td>0</td>\n",
       "      <td>0</td>\n",
       "      <td>0</td>\n",
       "      <td>0</td>\n",
       "    </tr>\n",
       "    <tr>\n",
       "      <th>41185</th>\n",
       "      <td>0</td>\n",
       "      <td>0</td>\n",
       "      <td>0</td>\n",
       "      <td>0</td>\n",
       "      <td>0</td>\n",
       "      <td>0</td>\n",
       "      <td>0</td>\n",
       "      <td>0</td>\n",
       "      <td>0</td>\n",
       "      <td>0</td>\n",
       "      <td>...</td>\n",
       "      <td>0</td>\n",
       "      <td>0</td>\n",
       "      <td>0</td>\n",
       "      <td>0</td>\n",
       "      <td>0</td>\n",
       "      <td>0</td>\n",
       "      <td>0</td>\n",
       "      <td>0</td>\n",
       "      <td>0</td>\n",
       "      <td>0</td>\n",
       "    </tr>\n",
       "    <tr>\n",
       "      <th>41186</th>\n",
       "      <td>0</td>\n",
       "      <td>0</td>\n",
       "      <td>0</td>\n",
       "      <td>0</td>\n",
       "      <td>0</td>\n",
       "      <td>0</td>\n",
       "      <td>0</td>\n",
       "      <td>0</td>\n",
       "      <td>0</td>\n",
       "      <td>0</td>\n",
       "      <td>...</td>\n",
       "      <td>0</td>\n",
       "      <td>0</td>\n",
       "      <td>0</td>\n",
       "      <td>0</td>\n",
       "      <td>0</td>\n",
       "      <td>0</td>\n",
       "      <td>0</td>\n",
       "      <td>0</td>\n",
       "      <td>0</td>\n",
       "      <td>0</td>\n",
       "    </tr>\n",
       "    <tr>\n",
       "      <th>41187</th>\n",
       "      <td>0</td>\n",
       "      <td>0</td>\n",
       "      <td>0</td>\n",
       "      <td>0</td>\n",
       "      <td>0</td>\n",
       "      <td>0</td>\n",
       "      <td>0</td>\n",
       "      <td>0</td>\n",
       "      <td>1</td>\n",
       "      <td>0</td>\n",
       "      <td>...</td>\n",
       "      <td>0</td>\n",
       "      <td>0</td>\n",
       "      <td>0</td>\n",
       "      <td>0</td>\n",
       "      <td>0</td>\n",
       "      <td>0</td>\n",
       "      <td>0</td>\n",
       "      <td>0</td>\n",
       "      <td>0</td>\n",
       "      <td>0</td>\n",
       "    </tr>\n",
       "  </tbody>\n",
       "</table>\n",
       "<p>41188 rows × 159 columns</p>\n",
       "</div>"
      ],
      "text/plain": [
       "       17  18  19  20  21  22  23  24  25  26  ...  85  86  87  88  89  91  \\\n",
       "0       0   0   0   0   0   0   0   0   0   0  ...   0   0   0   0   0   0   \n",
       "1       0   0   0   0   0   0   0   0   0   0  ...   0   0   0   0   0   0   \n",
       "2       0   0   0   0   0   0   0   0   0   0  ...   0   0   0   0   0   0   \n",
       "3       0   0   0   0   0   0   0   0   0   0  ...   0   0   0   0   0   0   \n",
       "4       0   0   0   0   0   0   0   0   0   0  ...   0   0   0   0   0   0   \n",
       "...    ..  ..  ..  ..  ..  ..  ..  ..  ..  ..  ...  ..  ..  ..  ..  ..  ..   \n",
       "41183   0   0   0   0   0   0   0   0   0   0  ...   0   0   0   0   0   0   \n",
       "41184   0   0   0   0   0   0   0   0   0   0  ...   0   0   0   0   0   0   \n",
       "41185   0   0   0   0   0   0   0   0   0   0  ...   0   0   0   0   0   0   \n",
       "41186   0   0   0   0   0   0   0   0   0   0  ...   0   0   0   0   0   0   \n",
       "41187   0   0   0   0   0   0   0   0   1   0  ...   0   0   0   0   0   0   \n",
       "\n",
       "       92  94  95  98  \n",
       "0       0   0   0   0  \n",
       "1       0   0   0   0  \n",
       "2       0   0   0   0  \n",
       "3       0   0   0   0  \n",
       "4       0   0   0   0  \n",
       "...    ..  ..  ..  ..  \n",
       "41183   0   0   0   0  \n",
       "41184   0   0   0   0  \n",
       "41185   0   0   0   0  \n",
       "41186   0   0   0   0  \n",
       "41187   0   0   0   0  \n",
       "\n",
       "[41188 rows x 159 columns]"
      ]
     },
     "execution_count": 115,
     "metadata": {},
     "output_type": "execute_result"
    }
   ],
   "source": [
    "age_dummies # my age_dummies will be 0, for first column, 1 for second and ... \n"
   ]
  },
  {
   "cell_type": "code",
   "execution_count": 64,
   "metadata": {},
   "outputs": [
    {
     "name": "stdout",
     "output_type": "stream",
     "text": [
      "<class 'pandas.core.frame.DataFrame'>\n",
      "RangeIndex: 41188 entries, 0 to 41187\n",
      "Columns: 159 entries, 17 to 98\n",
      "dtypes: uint8(159)\n",
      "memory usage: 6.2 MB\n"
     ]
    }
   ],
   "source": [
    "age_dummies.info()"
   ]
  },
  {
   "cell_type": "code",
   "execution_count": 65,
   "metadata": {},
   "outputs": [],
   "source": [
    "# so now i have my age_dummies, let's add it into my data. so for that, i will create an variable called final_dummies and store\n",
    "# all new variable into it."
   ]
  },
  {
   "cell_type": "code",
   "execution_count": 13,
   "metadata": {},
   "outputs": [],
   "source": [
    "final_dummies=pd.concat([data,age_dummies],axis=1) # as we can see, my age_dummies because a lit strange, but ask questions?\n",
    "# now that i have my age_dummies, i am suppot to drop de age column. but for now i will leave like that until speak with my tutor"
   ]
  },
  {
   "cell_type": "code",
   "execution_count": 14,
   "metadata": {},
   "outputs": [],
   "source": [
    "features=['age', 'job','marital','default','housing','loan',\n",
    "                                           'contact','month','day_of_week','poutcome','education']\n"
   ]
  },
  {
   "cell_type": "code",
   "execution_count": 15,
   "metadata": {},
   "outputs": [
    {
     "name": "stdout",
     "output_type": "stream",
     "text": [
      "(41188, 21)\n",
      "(41188, 237)\n"
     ]
    }
   ],
   "source": [
    "final_data=pd.get_dummies(data,columns=features)\n",
    "print (data.shape)\n",
    "print (final_data.shape)"
   ]
  },
  {
   "cell_type": "code",
   "execution_count": 68,
   "metadata": {},
   "outputs": [],
   "source": [
    "# now let's remove the age column \n",
    "#final_dummies=final_dummies.drop('age',axis=1,inplace=True)"
   ]
  },
  {
   "cell_type": "code",
   "execution_count": 128,
   "metadata": {},
   "outputs": [],
   "source": [
    "#final_dummies"
   ]
  },
  {
   "cell_type": "markdown",
   "metadata": {},
   "source": [
    "========================================================================================================"
   ]
  },
  {
   "cell_type": "code",
   "execution_count": 160,
   "metadata": {},
   "outputs": [],
   "source": [
    "# let do the same, for de second categorical variable that is job\n",
    "#data['job'].unique()"
   ]
  },
  {
   "cell_type": "code",
   "execution_count": 130,
   "metadata": {},
   "outputs": [],
   "source": [
    "# as we can see, we have 12 unique job variable. so let's use the dummy function to converte those variable into numerical "
   ]
  },
  {
   "cell_type": "code",
   "execution_count": 131,
   "metadata": {},
   "outputs": [],
   "source": [
    "#job_dummies=pd.get_dummies(data['job'])"
   ]
  },
  {
   "cell_type": "code",
   "execution_count": 132,
   "metadata": {},
   "outputs": [],
   "source": [
    "#job_dummies"
   ]
  },
  {
   "cell_type": "code",
   "execution_count": 133,
   "metadata": {},
   "outputs": [],
   "source": [
    "# so now i have my job_dummies, let's add it into my data. so for that, i will create an variable called final_dummies and store\n",
    "# all new variable into it. \n",
    "#final_dummies=pd.concat([data,job_dummies],axis=1)"
   ]
  },
  {
   "cell_type": "code",
   "execution_count": 134,
   "metadata": {},
   "outputs": [],
   "source": [
    "#final_dummies"
   ]
  },
  {
   "cell_type": "code",
   "execution_count": 135,
   "metadata": {},
   "outputs": [],
   "source": [
    "#final_dummies=final_dummies.drop('job',axis=1, inplace=True)"
   ]
  },
  {
   "cell_type": "code",
   "execution_count": 136,
   "metadata": {},
   "outputs": [],
   "source": [
    "#final_dummies"
   ]
  },
  {
   "cell_type": "markdown",
   "metadata": {},
   "source": [
    "=========================================================================================================="
   ]
  },
  {
   "cell_type": "code",
   "execution_count": 137,
   "metadata": {},
   "outputs": [
    {
     "data": {
      "text/plain": [
       "\"marital_dummies=pd.get_dummies(data['marital'])\\nfinal_dummies=pd.concat([data,marital_dummies],axis=1)\\nfinal_dummies\""
      ]
     },
     "execution_count": 137,
     "metadata": {},
     "output_type": "execute_result"
    }
   ],
   "source": [
    "\"\"\"marital_dummies=pd.get_dummies(data['marital'])\n",
    "final_dummies=pd.concat([data,marital_dummies],axis=1)\n",
    "final_dummies\"\"\""
   ]
  },
  {
   "cell_type": "code",
   "execution_count": 161,
   "metadata": {},
   "outputs": [
    {
     "data": {
      "text/plain": [
       "array(['married', 'single', 'divorced', 'unknown'], dtype=object)"
      ]
     },
     "execution_count": 161,
     "metadata": {},
     "output_type": "execute_result"
    }
   ],
   "source": [
    "#final_dummies=final_dummies.drop('marital',axis=1)\n",
    "#data['marital'].unique()"
   ]
  },
  {
   "cell_type": "code",
   "execution_count": 138,
   "metadata": {},
   "outputs": [],
   "source": [
    "# now let's remove the age column \n",
    "#final_dummies"
   ]
  },
  {
   "cell_type": "markdown",
   "metadata": {},
   "source": [
    "==============================================================================================================="
   ]
  },
  {
   "cell_type": "code",
   "execution_count": 139,
   "metadata": {},
   "outputs": [],
   "source": [
    "#education_dummies=pd.get_dummies(data['education'])\n",
    "#final_dummies=pd.concat([data,education_dummies],axis=1)\n",
    "#final_dummies"
   ]
  },
  {
   "cell_type": "code",
   "execution_count": 126,
   "metadata": {},
   "outputs": [],
   "source": [
    "#final_dummies=final_dummies.drop('education',axis=1)"
   ]
  },
  {
   "cell_type": "code",
   "execution_count": 140,
   "metadata": {},
   "outputs": [],
   "source": [
    "#final_dummies"
   ]
  },
  {
   "cell_type": "markdown",
   "metadata": {},
   "source": [
    "================================================================================================================="
   ]
  },
  {
   "cell_type": "code",
   "execution_count": 141,
   "metadata": {},
   "outputs": [],
   "source": [
    "#default_dummies=pd.get_dummies(data['default'])\n",
    "#final_dummies=pd.concat([data,default_dummies],axis=1)\n",
    "#final_dummies"
   ]
  },
  {
   "cell_type": "code",
   "execution_count": 85,
   "metadata": {},
   "outputs": [],
   "source": [
    "#final_dummies=final_dummies.drop('default',axis=1)"
   ]
  },
  {
   "cell_type": "code",
   "execution_count": 142,
   "metadata": {},
   "outputs": [],
   "source": [
    "#final_dummies"
   ]
  },
  {
   "cell_type": "markdown",
   "metadata": {},
   "source": [
    "=================================================================================================================="
   ]
  },
  {
   "cell_type": "code",
   "execution_count": 143,
   "metadata": {},
   "outputs": [],
   "source": [
    "#housing_dummies=pd.get_dummies(data['housing'])\n",
    "#final_dummies=pd.concat([data,housing_dummies],axis=1)\n",
    "#final_dummies "
   ]
  },
  {
   "cell_type": "code",
   "execution_count": 88,
   "metadata": {},
   "outputs": [],
   "source": [
    "#final_dummies=final_dummies.drop('housing',axis=1)"
   ]
  },
  {
   "cell_type": "code",
   "execution_count": 144,
   "metadata": {},
   "outputs": [],
   "source": [
    "#final_dummies"
   ]
  },
  {
   "cell_type": "markdown",
   "metadata": {},
   "source": [
    "================================================================================================================"
   ]
  },
  {
   "cell_type": "code",
   "execution_count": 145,
   "metadata": {},
   "outputs": [],
   "source": [
    "#loan_dummies=pd.get_dummies(data['loan'])\n",
    "#final_dummies=pd.concat([data,loan_dummies],axis=1)\n",
    "#final_dummies"
   ]
  },
  {
   "cell_type": "code",
   "execution_count": 91,
   "metadata": {},
   "outputs": [],
   "source": [
    "#final_dummies=final_dummies.drop('loan',axis=1)"
   ]
  },
  {
   "cell_type": "code",
   "execution_count": 146,
   "metadata": {},
   "outputs": [],
   "source": [
    "#final_dummies"
   ]
  },
  {
   "cell_type": "markdown",
   "metadata": {},
   "source": [
    "==========================================================================================================="
   ]
  },
  {
   "cell_type": "code",
   "execution_count": 147,
   "metadata": {},
   "outputs": [],
   "source": [
    "#contact_dummies=pd.get_dummies(data['contact'])\n",
    "#final_dummies=pd.concat([data,contact_dummies],axis=1)\n",
    "#final_dummies"
   ]
  },
  {
   "cell_type": "code",
   "execution_count": 94,
   "metadata": {},
   "outputs": [],
   "source": [
    "#final_dummies=final_dummies.drop('contact',axis=1)"
   ]
  },
  {
   "cell_type": "code",
   "execution_count": 148,
   "metadata": {},
   "outputs": [],
   "source": [
    "#final_dummies"
   ]
  },
  {
   "cell_type": "markdown",
   "metadata": {},
   "source": [
    "============================================================================================"
   ]
  },
  {
   "cell_type": "code",
   "execution_count": 149,
   "metadata": {},
   "outputs": [],
   "source": [
    "#month_dummies=pd.get_dummies(data['month'])\n",
    "#final_dummies=pd.concat([data,month_dummies],axis=1)\n",
    "#final_dummies"
   ]
  },
  {
   "cell_type": "code",
   "execution_count": 97,
   "metadata": {},
   "outputs": [],
   "source": [
    "#final_dummies=final_dummies.drop('month',axis=1)"
   ]
  },
  {
   "cell_type": "code",
   "execution_count": 150,
   "metadata": {},
   "outputs": [],
   "source": [
    "#final_dummies"
   ]
  },
  {
   "cell_type": "markdown",
   "metadata": {},
   "source": [
    "=================================================================================="
   ]
  },
  {
   "cell_type": "code",
   "execution_count": 151,
   "metadata": {},
   "outputs": [],
   "source": [
    "#day_of_week_dummies=pd.get_dummies(data['day_of_week'])\n",
    "#final_dummies=pd.concat([data,day_of_week_dummies],axis=1)\n",
    "#final_dummies"
   ]
  },
  {
   "cell_type": "code",
   "execution_count": 100,
   "metadata": {},
   "outputs": [],
   "source": [
    "#final_dummies=final_dummies.drop('day_of_week',axis=1)"
   ]
  },
  {
   "cell_type": "code",
   "execution_count": 152,
   "metadata": {},
   "outputs": [],
   "source": [
    "#final_dummies"
   ]
  },
  {
   "cell_type": "code",
   "execution_count": 153,
   "metadata": {},
   "outputs": [],
   "source": [
    "#poutcome_dummies=pd.get_dummies(data['poutcome'])\n",
    "#poutcome_dummies\n"
   ]
  },
  {
   "cell_type": "code",
   "execution_count": 103,
   "metadata": {},
   "outputs": [],
   "source": [
    "#final_dummies=pd.concat([data,poutcome_dummies],axis=1)"
   ]
  },
  {
   "cell_type": "code",
   "execution_count": 104,
   "metadata": {},
   "outputs": [],
   "source": [
    "#final_dummies=final_dummies.drop('poutcome',axis=1)"
   ]
  },
  {
   "cell_type": "code",
   "execution_count": 154,
   "metadata": {},
   "outputs": [],
   "source": [
    "#final_dummies"
   ]
  },
  {
   "cell_type": "code",
   "execution_count": 157,
   "metadata": {},
   "outputs": [],
   "source": [
    "#final_dummies = final_dummies.drop(columns=['age', 'job','marital','default','housing','loan',\n",
    "                                          # 'contact','month','day_of_week','poutcome','education'],errors='ignore')\n",
    "#final_dummies"
   ]
  },
  {
   "cell_type": "code",
   "execution_count": null,
   "metadata": {},
   "outputs": [],
   "source": []
  },
  {
   "cell_type": "markdown",
   "metadata": {},
   "source": [
    "===================================================================================="
   ]
  },
  {
   "cell_type": "code",
   "execution_count": null,
   "metadata": {},
   "outputs": [],
   "source": [
    "# now i have all my dummies variable, let's drop all object variable\n",
    "#final_dummies = final_dummies.drop([\"age\", \"job\",\"marital\",\"education\",\"default\",\"housing\",\"loan\",\"contact\"], axis=1)"
   ]
  },
  {
   "cell_type": "markdown",
   "metadata": {},
   "source": [
    "part II : Explore your new dataset with these new dummy variables !"
   ]
  },
  {
   "cell_type": "code",
   "execution_count": 16,
   "metadata": {},
   "outputs": [
    {
     "name": "stdout",
     "output_type": "stream",
     "text": [
      "(41188, 21)\n",
      "(41188, 237)\n"
     ]
    }
   ],
   "source": [
    "print (data.shape)\n",
    "print (final_data.shape)"
   ]
  },
  {
   "cell_type": "code",
   "execution_count": null,
   "metadata": {},
   "outputs": [],
   "source": [
    "# as we can see now (after get all categorical variable in dummies variable(numerical)) we have 222 column instead of 21\n",
    "# that's because when we do variable.unique, we can get 4 unique value. AS an example marital have 4 uniques values\n",
    "#('married', 'single', 'divorced', 'unknown') so just for marital the column increase 4 element. "
   ]
  },
  {
   "cell_type": "code",
   "execution_count": 163,
   "metadata": {},
   "outputs": [
    {
     "data": {
      "text/plain": [
       "<AxesSubplot:ylabel='Frequency'>"
      ]
     },
     "execution_count": 163,
     "metadata": {},
     "output_type": "execute_result"
    },
    {
     "data": {
      "image/png": "[encoded data removed]",
      "text/plain": [
       "<Figure size 432x288 with 1 Axes>"
      ]
     },
     "metadata": {
      "needs_background": "light"
     },
     "output_type": "display_data"
    }
   ],
   "source": [
    "final_data.plot.hist(bins=10, alpha=0.5)"
   ]
  },
  {
   "cell_type": "code",
   "execution_count": 17,
   "metadata": {},
   "outputs": [
    {
     "data": {
      "text/html": [
       "<div>\n",
       "<style scoped>\n",
       "    .dataframe tbody tr th:only-of-type {\n",
       "        vertical-align: middle;\n",
       "    }\n",
       "\n",
       "    .dataframe tbody tr th {\n",
       "        vertical-align: top;\n",
       "    }\n",
       "\n",
       "    .dataframe thead th {\n",
       "        text-align: right;\n",
       "    }\n",
       "</style>\n",
       "<table border=\"1\" class=\"dataframe\">\n",
       "  <thead>\n",
       "    <tr style=\"text-align: right;\">\n",
       "      <th></th>\n",
       "      <th>duration</th>\n",
       "      <th>campaign</th>\n",
       "      <th>pdays</th>\n",
       "      <th>previous</th>\n",
       "      <th>emp_var_rate</th>\n",
       "      <th>cons_price_idx</th>\n",
       "      <th>cons_conf_idx</th>\n",
       "      <th>euribor3m</th>\n",
       "      <th>nr_employed</th>\n",
       "      <th>y</th>\n",
       "      <th>...</th>\n",
       "      <th>education_basic-6y</th>\n",
       "      <th>education_basic-9y</th>\n",
       "      <th>education_basic.4y</th>\n",
       "      <th>education_basic.6y</th>\n",
       "      <th>education_basic.9y</th>\n",
       "      <th>education_high.school</th>\n",
       "      <th>education_illiterate</th>\n",
       "      <th>education_professional.course</th>\n",
       "      <th>education_university.degree</th>\n",
       "      <th>education_unknown</th>\n",
       "    </tr>\n",
       "  </thead>\n",
       "  <tbody>\n",
       "    <tr>\n",
       "      <th>0</th>\n",
       "      <td>210</td>\n",
       "      <td>1</td>\n",
       "      <td>999.0</td>\n",
       "      <td>0</td>\n",
       "      <td>1.4</td>\n",
       "      <td>93.444</td>\n",
       "      <td>-36.1</td>\n",
       "      <td>4.963</td>\n",
       "      <td>5228.1</td>\n",
       "      <td>0</td>\n",
       "      <td>...</td>\n",
       "      <td>0</td>\n",
       "      <td>0</td>\n",
       "      <td>1</td>\n",
       "      <td>0</td>\n",
       "      <td>0</td>\n",
       "      <td>0</td>\n",
       "      <td>0</td>\n",
       "      <td>0</td>\n",
       "      <td>0</td>\n",
       "      <td>0</td>\n",
       "    </tr>\n",
       "    <tr>\n",
       "      <th>1</th>\n",
       "      <td>138</td>\n",
       "      <td>1</td>\n",
       "      <td>999.0</td>\n",
       "      <td>0</td>\n",
       "      <td>-0.1</td>\n",
       "      <td>93.200</td>\n",
       "      <td>-42.0</td>\n",
       "      <td>4.021</td>\n",
       "      <td>5195.8</td>\n",
       "      <td>0</td>\n",
       "      <td>...</td>\n",
       "      <td>0</td>\n",
       "      <td>0</td>\n",
       "      <td>0</td>\n",
       "      <td>0</td>\n",
       "      <td>0</td>\n",
       "      <td>0</td>\n",
       "      <td>0</td>\n",
       "      <td>0</td>\n",
       "      <td>0</td>\n",
       "      <td>1</td>\n",
       "    </tr>\n",
       "    <tr>\n",
       "      <th>2</th>\n",
       "      <td>339</td>\n",
       "      <td>3</td>\n",
       "      <td>6.0</td>\n",
       "      <td>2</td>\n",
       "      <td>-1.7</td>\n",
       "      <td>94.055</td>\n",
       "      <td>-39.8</td>\n",
       "      <td>0.729</td>\n",
       "      <td>4991.6</td>\n",
       "      <td>1</td>\n",
       "      <td>...</td>\n",
       "      <td>0</td>\n",
       "      <td>0</td>\n",
       "      <td>0</td>\n",
       "      <td>0</td>\n",
       "      <td>0</td>\n",
       "      <td>0</td>\n",
       "      <td>0</td>\n",
       "      <td>0</td>\n",
       "      <td>1</td>\n",
       "      <td>0</td>\n",
       "    </tr>\n",
       "    <tr>\n",
       "      <th>3</th>\n",
       "      <td>185</td>\n",
       "      <td>2</td>\n",
       "      <td>999.0</td>\n",
       "      <td>0</td>\n",
       "      <td>-1.8</td>\n",
       "      <td>93.075</td>\n",
       "      <td>-47.1</td>\n",
       "      <td>1.405</td>\n",
       "      <td>5099.1</td>\n",
       "      <td>0</td>\n",
       "      <td>...</td>\n",
       "      <td>0</td>\n",
       "      <td>0</td>\n",
       "      <td>0</td>\n",
       "      <td>0</td>\n",
       "      <td>0</td>\n",
       "      <td>1</td>\n",
       "      <td>0</td>\n",
       "      <td>0</td>\n",
       "      <td>0</td>\n",
       "      <td>0</td>\n",
       "    </tr>\n",
       "    <tr>\n",
       "      <th>4</th>\n",
       "      <td>137</td>\n",
       "      <td>1</td>\n",
       "      <td>3.0</td>\n",
       "      <td>1</td>\n",
       "      <td>-2.9</td>\n",
       "      <td>92.201</td>\n",
       "      <td>-31.4</td>\n",
       "      <td>0.869</td>\n",
       "      <td>5076.2</td>\n",
       "      <td>1</td>\n",
       "      <td>...</td>\n",
       "      <td>0</td>\n",
       "      <td>0</td>\n",
       "      <td>1</td>\n",
       "      <td>0</td>\n",
       "      <td>0</td>\n",
       "      <td>0</td>\n",
       "      <td>0</td>\n",
       "      <td>0</td>\n",
       "      <td>0</td>\n",
       "      <td>0</td>\n",
       "    </tr>\n",
       "  </tbody>\n",
       "</table>\n",
       "<p>5 rows × 237 columns</p>\n",
       "</div>"
      ],
      "text/plain": [
       "   duration  campaign  pdays  previous  emp_var_rate  cons_price_idx  \\\n",
       "0       210         1  999.0         0           1.4          93.444   \n",
       "1       138         1  999.0         0          -0.1          93.200   \n",
       "2       339         3    6.0         2          -1.7          94.055   \n",
       "3       185         2  999.0         0          -1.8          93.075   \n",
       "4       137         1    3.0         1          -2.9          92.201   \n",
       "\n",
       "   cons_conf_idx  euribor3m  nr_employed  y  ...  education_basic-6y  \\\n",
       "0          -36.1      4.963       5228.1  0  ...                   0   \n",
       "1          -42.0      4.021       5195.8  0  ...                   0   \n",
       "2          -39.8      0.729       4991.6  1  ...                   0   \n",
       "3          -47.1      1.405       5099.1  0  ...                   0   \n",
       "4          -31.4      0.869       5076.2  1  ...                   0   \n",
       "\n",
       "   education_basic-9y  education_basic.4y  education_basic.6y  \\\n",
       "0                   0                   1                   0   \n",
       "1                   0                   0                   0   \n",
       "2                   0                   0                   0   \n",
       "3                   0                   0                   0   \n",
       "4                   0                   1                   0   \n",
       "\n",
       "   education_basic.9y  education_high.school  education_illiterate  \\\n",
       "0                   0                      0                     0   \n",
       "1                   0                      0                     0   \n",
       "2                   0                      0                     0   \n",
       "3                   0                      1                     0   \n",
       "4                   0                      0                     0   \n",
       "\n",
       "   education_professional.course  education_university.degree  \\\n",
       "0                              0                            0   \n",
       "1                              0                            0   \n",
       "2                              0                            1   \n",
       "3                              0                            0   \n",
       "4                              0                            0   \n",
       "\n",
       "   education_unknown  \n",
       "0                  0  \n",
       "1                  1  \n",
       "2                  0  \n",
       "3                  0  \n",
       "4                  0  \n",
       "\n",
       "[5 rows x 237 columns]"
      ]
     },
     "execution_count": 17,
     "metadata": {},
     "output_type": "execute_result"
    }
   ],
   "source": [
    "final_data.head(5)"
   ]
  },
  {
   "cell_type": "code",
   "execution_count": 167,
   "metadata": {},
   "outputs": [
    {
     "data": {
      "text/html": [
       "<div>\n",
       "<style scoped>\n",
       "    .dataframe tbody tr th:only-of-type {\n",
       "        vertical-align: middle;\n",
       "    }\n",
       "\n",
       "    .dataframe tbody tr th {\n",
       "        vertical-align: top;\n",
       "    }\n",
       "\n",
       "    .dataframe thead th {\n",
       "        text-align: right;\n",
       "    }\n",
       "</style>\n",
       "<table border=\"1\" class=\"dataframe\">\n",
       "  <thead>\n",
       "    <tr style=\"text-align: right;\">\n",
       "      <th></th>\n",
       "      <th>duration</th>\n",
       "      <th>campaign</th>\n",
       "      <th>pdays</th>\n",
       "      <th>previous</th>\n",
       "      <th>emp_var_rate</th>\n",
       "      <th>cons_price_idx</th>\n",
       "      <th>cons_conf_idx</th>\n",
       "      <th>euribor3m</th>\n",
       "      <th>nr_employed</th>\n",
       "      <th>y</th>\n",
       "      <th>...</th>\n",
       "      <th>poutcome_nonexistent</th>\n",
       "      <th>poutcome_success</th>\n",
       "      <th>education_basic.4y</th>\n",
       "      <th>education_basic.6y</th>\n",
       "      <th>education_basic.9y</th>\n",
       "      <th>education_high.school</th>\n",
       "      <th>education_illiterate</th>\n",
       "      <th>education_professional.course</th>\n",
       "      <th>education_university.degree</th>\n",
       "      <th>education_unknown</th>\n",
       "    </tr>\n",
       "  </thead>\n",
       "  <tbody>\n",
       "    <tr>\n",
       "      <th>count</th>\n",
       "      <td>41188.000000</td>\n",
       "      <td>41188.000000</td>\n",
       "      <td>41188.000000</td>\n",
       "      <td>41188.000000</td>\n",
       "      <td>41188.000000</td>\n",
       "      <td>41188.000000</td>\n",
       "      <td>41188.000000</td>\n",
       "      <td>41188.000000</td>\n",
       "      <td>41188.000000</td>\n",
       "      <td>41188.000000</td>\n",
       "      <td>...</td>\n",
       "      <td>41188.000000</td>\n",
       "      <td>41188.000000</td>\n",
       "      <td>41188.000000</td>\n",
       "      <td>41188.000000</td>\n",
       "      <td>41188.000000</td>\n",
       "      <td>41188.000000</td>\n",
       "      <td>41188.000000</td>\n",
       "      <td>41188.000000</td>\n",
       "      <td>41188.000000</td>\n",
       "      <td>41188.000000</td>\n",
       "    </tr>\n",
       "    <tr>\n",
       "      <th>mean</th>\n",
       "      <td>258.285010</td>\n",
       "      <td>2.567593</td>\n",
       "      <td>963.568005</td>\n",
       "      <td>0.172963</td>\n",
       "      <td>0.081886</td>\n",
       "      <td>93.575664</td>\n",
       "      <td>-40.502600</td>\n",
       "      <td>3.621291</td>\n",
       "      <td>5167.035911</td>\n",
       "      <td>0.112654</td>\n",
       "      <td>...</td>\n",
       "      <td>0.863431</td>\n",
       "      <td>0.033335</td>\n",
       "      <td>0.101389</td>\n",
       "      <td>0.055647</td>\n",
       "      <td>0.146766</td>\n",
       "      <td>0.231014</td>\n",
       "      <td>0.000437</td>\n",
       "      <td>0.127294</td>\n",
       "      <td>0.295426</td>\n",
       "      <td>0.042027</td>\n",
       "    </tr>\n",
       "    <tr>\n",
       "      <th>std</th>\n",
       "      <td>259.279249</td>\n",
       "      <td>2.770014</td>\n",
       "      <td>211.772296</td>\n",
       "      <td>0.494901</td>\n",
       "      <td>1.570960</td>\n",
       "      <td>0.578840</td>\n",
       "      <td>4.628198</td>\n",
       "      <td>1.734447</td>\n",
       "      <td>72.251528</td>\n",
       "      <td>0.316173</td>\n",
       "      <td>...</td>\n",
       "      <td>0.343396</td>\n",
       "      <td>0.179512</td>\n",
       "      <td>0.301846</td>\n",
       "      <td>0.229242</td>\n",
       "      <td>0.353877</td>\n",
       "      <td>0.421486</td>\n",
       "      <td>0.020901</td>\n",
       "      <td>0.333306</td>\n",
       "      <td>0.456239</td>\n",
       "      <td>0.200653</td>\n",
       "    </tr>\n",
       "    <tr>\n",
       "      <th>min</th>\n",
       "      <td>0.000000</td>\n",
       "      <td>1.000000</td>\n",
       "      <td>0.000000</td>\n",
       "      <td>0.000000</td>\n",
       "      <td>-3.400000</td>\n",
       "      <td>92.201000</td>\n",
       "      <td>-50.800000</td>\n",
       "      <td>0.634000</td>\n",
       "      <td>4963.600000</td>\n",
       "      <td>0.000000</td>\n",
       "      <td>...</td>\n",
       "      <td>0.000000</td>\n",
       "      <td>0.000000</td>\n",
       "      <td>0.000000</td>\n",
       "      <td>0.000000</td>\n",
       "      <td>0.000000</td>\n",
       "      <td>0.000000</td>\n",
       "      <td>0.000000</td>\n",
       "      <td>0.000000</td>\n",
       "      <td>0.000000</td>\n",
       "      <td>0.000000</td>\n",
       "    </tr>\n",
       "    <tr>\n",
       "      <th>25%</th>\n",
       "      <td>102.000000</td>\n",
       "      <td>1.000000</td>\n",
       "      <td>999.000000</td>\n",
       "      <td>0.000000</td>\n",
       "      <td>-1.800000</td>\n",
       "      <td>93.075000</td>\n",
       "      <td>-42.700000</td>\n",
       "      <td>1.344000</td>\n",
       "      <td>5099.100000</td>\n",
       "      <td>0.000000</td>\n",
       "      <td>...</td>\n",
       "      <td>1.000000</td>\n",
       "      <td>0.000000</td>\n",
       "      <td>0.000000</td>\n",
       "      <td>0.000000</td>\n",
       "      <td>0.000000</td>\n",
       "      <td>0.000000</td>\n",
       "      <td>0.000000</td>\n",
       "      <td>0.000000</td>\n",
       "      <td>0.000000</td>\n",
       "      <td>0.000000</td>\n",
       "    </tr>\n",
       "    <tr>\n",
       "      <th>50%</th>\n",
       "      <td>180.000000</td>\n",
       "      <td>2.000000</td>\n",
       "      <td>999.000000</td>\n",
       "      <td>0.000000</td>\n",
       "      <td>1.100000</td>\n",
       "      <td>93.749000</td>\n",
       "      <td>-41.800000</td>\n",
       "      <td>4.857000</td>\n",
       "      <td>5191.000000</td>\n",
       "      <td>0.000000</td>\n",
       "      <td>...</td>\n",
       "      <td>1.000000</td>\n",
       "      <td>0.000000</td>\n",
       "      <td>0.000000</td>\n",
       "      <td>0.000000</td>\n",
       "      <td>0.000000</td>\n",
       "      <td>0.000000</td>\n",
       "      <td>0.000000</td>\n",
       "      <td>0.000000</td>\n",
       "      <td>0.000000</td>\n",
       "      <td>0.000000</td>\n",
       "    </tr>\n",
       "    <tr>\n",
       "      <th>75%</th>\n",
       "      <td>319.000000</td>\n",
       "      <td>3.000000</td>\n",
       "      <td>999.000000</td>\n",
       "      <td>0.000000</td>\n",
       "      <td>1.400000</td>\n",
       "      <td>93.994000</td>\n",
       "      <td>-36.400000</td>\n",
       "      <td>4.961000</td>\n",
       "      <td>5228.100000</td>\n",
       "      <td>0.000000</td>\n",
       "      <td>...</td>\n",
       "      <td>1.000000</td>\n",
       "      <td>0.000000</td>\n",
       "      <td>0.000000</td>\n",
       "      <td>0.000000</td>\n",
       "      <td>0.000000</td>\n",
       "      <td>0.000000</td>\n",
       "      <td>0.000000</td>\n",
       "      <td>0.000000</td>\n",
       "      <td>1.000000</td>\n",
       "      <td>0.000000</td>\n",
       "    </tr>\n",
       "    <tr>\n",
       "      <th>max</th>\n",
       "      <td>4918.000000</td>\n",
       "      <td>56.000000</td>\n",
       "      <td>9999.000000</td>\n",
       "      <td>7.000000</td>\n",
       "      <td>1.400000</td>\n",
       "      <td>94.767000</td>\n",
       "      <td>-26.900000</td>\n",
       "      <td>5.045000</td>\n",
       "      <td>5228.100000</td>\n",
       "      <td>1.000000</td>\n",
       "      <td>...</td>\n",
       "      <td>1.000000</td>\n",
       "      <td>1.000000</td>\n",
       "      <td>1.000000</td>\n",
       "      <td>1.000000</td>\n",
       "      <td>1.000000</td>\n",
       "      <td>1.000000</td>\n",
       "      <td>1.000000</td>\n",
       "      <td>1.000000</td>\n",
       "      <td>1.000000</td>\n",
       "      <td>1.000000</td>\n",
       "    </tr>\n",
       "  </tbody>\n",
       "</table>\n",
       "<p>8 rows × 222 columns</p>\n",
       "</div>"
      ],
      "text/plain": [
       "           duration      campaign         pdays      previous  emp_var_rate  \\\n",
       "count  41188.000000  41188.000000  41188.000000  41188.000000  41188.000000   \n",
       "mean     258.285010      2.567593    963.568005      0.172963      0.081886   \n",
       "std      259.279249      2.770014    211.772296      0.494901      1.570960   \n",
       "min        0.000000      1.000000      0.000000      0.000000     -3.400000   \n",
       "25%      102.000000      1.000000    999.000000      0.000000     -1.800000   \n",
       "50%      180.000000      2.000000    999.000000      0.000000      1.100000   \n",
       "75%      319.000000      3.000000    999.000000      0.000000      1.400000   \n",
       "max     4918.000000     56.000000   9999.000000      7.000000      1.400000   \n",
       "\n",
       "       cons_price_idx  cons_conf_idx     euribor3m   nr_employed  \\\n",
       "count    41188.000000   41188.000000  41188.000000  41188.000000   \n",
       "mean        93.575664     -40.502600      3.621291   5167.035911   \n",
       "std          0.578840       4.628198      1.734447     72.251528   \n",
       "min         92.201000     -50.800000      0.634000   4963.600000   \n",
       "25%         93.075000     -42.700000      1.344000   5099.100000   \n",
       "50%         93.749000     -41.800000      4.857000   5191.000000   \n",
       "75%         93.994000     -36.400000      4.961000   5228.100000   \n",
       "max         94.767000     -26.900000      5.045000   5228.100000   \n",
       "\n",
       "                  y  ...  poutcome_nonexistent  poutcome_success  \\\n",
       "count  41188.000000  ...          41188.000000      41188.000000   \n",
       "mean       0.112654  ...              0.863431          0.033335   \n",
       "std        0.316173  ...              0.343396          0.179512   \n",
       "min        0.000000  ...              0.000000          0.000000   \n",
       "25%        0.000000  ...              1.000000          0.000000   \n",
       "50%        0.000000  ...              1.000000          0.000000   \n",
       "75%        0.000000  ...              1.000000          0.000000   \n",
       "max        1.000000  ...              1.000000          1.000000   \n",
       "\n",
       "       education_basic.4y  education_basic.6y  education_basic.9y  \\\n",
       "count        41188.000000        41188.000000        41188.000000   \n",
       "mean             0.101389            0.055647            0.146766   \n",
       "std              0.301846            0.229242            0.353877   \n",
       "min              0.000000            0.000000            0.000000   \n",
       "25%              0.000000            0.000000            0.000000   \n",
       "50%              0.000000            0.000000            0.000000   \n",
       "75%              0.000000            0.000000            0.000000   \n",
       "max              1.000000            1.000000            1.000000   \n",
       "\n",
       "       education_high.school  education_illiterate  \\\n",
       "count           41188.000000          41188.000000   \n",
       "mean                0.231014              0.000437   \n",
       "std                 0.421486              0.020901   \n",
       "min                 0.000000              0.000000   \n",
       "25%                 0.000000              0.000000   \n",
       "50%                 0.000000              0.000000   \n",
       "75%                 0.000000              0.000000   \n",
       "max                 1.000000              1.000000   \n",
       "\n",
       "       education_professional.course  education_university.degree  \\\n",
       "count                   41188.000000                 41188.000000   \n",
       "mean                        0.127294                     0.295426   \n",
       "std                         0.333306                     0.456239   \n",
       "min                         0.000000                     0.000000   \n",
       "25%                         0.000000                     0.000000   \n",
       "50%                         0.000000                     0.000000   \n",
       "75%                         0.000000                     1.000000   \n",
       "max                         1.000000                     1.000000   \n",
       "\n",
       "       education_unknown  \n",
       "count       41188.000000  \n",
       "mean            0.042027  \n",
       "std             0.200653  \n",
       "min             0.000000  \n",
       "25%             0.000000  \n",
       "50%             0.000000  \n",
       "75%             0.000000  \n",
       "max             1.000000  \n",
       "\n",
       "[8 rows x 222 columns]"
      ]
     },
     "execution_count": 167,
     "metadata": {},
     "output_type": "execute_result"
    }
   ],
   "source": [
    "\n",
    "final_data.describe()"
   ]
  },
  {
   "cell_type": "code",
   "execution_count": 170,
   "metadata": {},
   "outputs": [
    {
     "data": {
      "text/plain": [
       "duration                         0\n",
       "campaign                         0\n",
       "pdays                            0\n",
       "previous                         0\n",
       "emp_var_rate                     0\n",
       "                                ..\n",
       "education_high.school            0\n",
       "education_illiterate             0\n",
       "education_professional.course    0\n",
       "education_university.degree      0\n",
       "education_unknown                0\n",
       "Length: 222, dtype: int64"
      ]
     },
     "execution_count": 170,
     "metadata": {},
     "output_type": "execute_result"
    }
   ],
   "source": [
    " #check the number of null values for each column in the dataset \n",
    "final_data.isnull().sum()"
   ]
  },
  {
   "cell_type": "code",
   "execution_count": 171,
   "metadata": {},
   "outputs": [
    {
     "data": {
      "text/html": [
       "<div>\n",
       "<style scoped>\n",
       "    .dataframe tbody tr th:only-of-type {\n",
       "        vertical-align: middle;\n",
       "    }\n",
       "\n",
       "    .dataframe tbody tr th {\n",
       "        vertical-align: top;\n",
       "    }\n",
       "\n",
       "    .dataframe thead th {\n",
       "        text-align: right;\n",
       "    }\n",
       "</style>\n",
       "<table border=\"1\" class=\"dataframe\">\n",
       "  <thead>\n",
       "    <tr style=\"text-align: right;\">\n",
       "      <th></th>\n",
       "      <th>duration</th>\n",
       "      <th>campaign</th>\n",
       "      <th>pdays</th>\n",
       "      <th>previous</th>\n",
       "      <th>emp_var_rate</th>\n",
       "      <th>cons_price_idx</th>\n",
       "      <th>cons_conf_idx</th>\n",
       "      <th>euribor3m</th>\n",
       "      <th>nr_employed</th>\n",
       "      <th>y</th>\n",
       "      <th>...</th>\n",
       "      <th>poutcome_nonexistent</th>\n",
       "      <th>poutcome_success</th>\n",
       "      <th>education_basic.4y</th>\n",
       "      <th>education_basic.6y</th>\n",
       "      <th>education_basic.9y</th>\n",
       "      <th>education_high.school</th>\n",
       "      <th>education_illiterate</th>\n",
       "      <th>education_professional.course</th>\n",
       "      <th>education_university.degree</th>\n",
       "      <th>education_unknown</th>\n",
       "    </tr>\n",
       "  </thead>\n",
       "  <tbody>\n",
       "    <tr>\n",
       "      <th>duration</th>\n",
       "      <td>1.000000</td>\n",
       "      <td>-0.071699</td>\n",
       "      <td>-0.044035</td>\n",
       "      <td>0.020640</td>\n",
       "      <td>-0.027968</td>\n",
       "      <td>0.005312</td>\n",
       "      <td>-0.008173</td>\n",
       "      <td>-0.032897</td>\n",
       "      <td>-0.044703</td>\n",
       "      <td>0.405274</td>\n",
       "      <td>...</td>\n",
       "      <td>-0.011665</td>\n",
       "      <td>0.044876</td>\n",
       "      <td>0.008476</td>\n",
       "      <td>0.005739</td>\n",
       "      <td>0.004810</td>\n",
       "      <td>0.005500</td>\n",
       "      <td>0.001491</td>\n",
       "      <td>-0.008472</td>\n",
       "      <td>-0.012641</td>\n",
       "      <td>0.003317</td>\n",
       "    </tr>\n",
       "    <tr>\n",
       "      <th>campaign</th>\n",
       "      <td>-0.071699</td>\n",
       "      <td>1.000000</td>\n",
       "      <td>0.045353</td>\n",
       "      <td>-0.079141</td>\n",
       "      <td>0.150754</td>\n",
       "      <td>0.127836</td>\n",
       "      <td>-0.013733</td>\n",
       "      <td>0.135133</td>\n",
       "      <td>0.144095</td>\n",
       "      <td>-0.066357</td>\n",
       "      <td>...</td>\n",
       "      <td>0.087645</td>\n",
       "      <td>-0.050893</td>\n",
       "      <td>0.004000</td>\n",
       "      <td>-0.000991</td>\n",
       "      <td>-0.005278</td>\n",
       "      <td>0.000195</td>\n",
       "      <td>-0.002188</td>\n",
       "      <td>0.002554</td>\n",
       "      <td>-0.000950</td>\n",
       "      <td>0.002162</td>\n",
       "    </tr>\n",
       "    <tr>\n",
       "      <th>pdays</th>\n",
       "      <td>-0.044035</td>\n",
       "      <td>0.045353</td>\n",
       "      <td>1.000000</td>\n",
       "      <td>-0.518260</td>\n",
       "      <td>0.241416</td>\n",
       "      <td>0.070331</td>\n",
       "      <td>-0.082578</td>\n",
       "      <td>0.263918</td>\n",
       "      <td>0.331380</td>\n",
       "      <td>-0.288609</td>\n",
       "      <td>...</td>\n",
       "      <td>0.432717</td>\n",
       "      <td>-0.840049</td>\n",
       "      <td>0.010226</td>\n",
       "      <td>0.019258</td>\n",
       "      <td>0.030484</td>\n",
       "      <td>0.002046</td>\n",
       "      <td>-0.001949</td>\n",
       "      <td>-0.001958</td>\n",
       "      <td>-0.031436</td>\n",
       "      <td>-0.020510</td>\n",
       "    </tr>\n",
       "    <tr>\n",
       "      <th>previous</th>\n",
       "      <td>0.020640</td>\n",
       "      <td>-0.079141</td>\n",
       "      <td>-0.518260</td>\n",
       "      <td>1.000000</td>\n",
       "      <td>-0.420489</td>\n",
       "      <td>-0.203130</td>\n",
       "      <td>-0.050936</td>\n",
       "      <td>-0.454494</td>\n",
       "      <td>-0.501333</td>\n",
       "      <td>0.230181</td>\n",
       "      <td>...</td>\n",
       "      <td>-0.878776</td>\n",
       "      <td>0.524045</td>\n",
       "      <td>-0.017601</td>\n",
       "      <td>-0.021493</td>\n",
       "      <td>-0.026418</td>\n",
       "      <td>0.014347</td>\n",
       "      <td>-0.002613</td>\n",
       "      <td>-0.007631</td>\n",
       "      <td>0.025419</td>\n",
       "      <td>0.022641</td>\n",
       "    </tr>\n",
       "    <tr>\n",
       "      <th>emp_var_rate</th>\n",
       "      <td>-0.027968</td>\n",
       "      <td>0.150754</td>\n",
       "      <td>0.241416</td>\n",
       "      <td>-0.420489</td>\n",
       "      <td>1.000000</td>\n",
       "      <td>0.775334</td>\n",
       "      <td>0.196041</td>\n",
       "      <td>0.972245</td>\n",
       "      <td>0.906970</td>\n",
       "      <td>-0.298334</td>\n",
       "      <td>...</td>\n",
       "      <td>0.472501</td>\n",
       "      <td>-0.256886</td>\n",
       "      <td>0.028660</td>\n",
       "      <td>0.023065</td>\n",
       "      <td>0.020422</td>\n",
       "      <td>-0.017078</td>\n",
       "      <td>-0.002865</td>\n",
       "      <td>0.022154</td>\n",
       "      <td>-0.045331</td>\n",
       "      <td>-0.003038</td>\n",
       "    </tr>\n",
       "    <tr>\n",
       "      <th>...</th>\n",
       "      <td>...</td>\n",
       "      <td>...</td>\n",
       "      <td>...</td>\n",
       "      <td>...</td>\n",
       "      <td>...</td>\n",
       "      <td>...</td>\n",
       "      <td>...</td>\n",
       "      <td>...</td>\n",
       "      <td>...</td>\n",
       "      <td>...</td>\n",
       "      <td>...</td>\n",
       "      <td>...</td>\n",
       "      <td>...</td>\n",
       "      <td>...</td>\n",
       "      <td>...</td>\n",
       "      <td>...</td>\n",
       "      <td>...</td>\n",
       "      <td>...</td>\n",
       "      <td>...</td>\n",
       "      <td>...</td>\n",
       "      <td>...</td>\n",
       "    </tr>\n",
       "    <tr>\n",
       "      <th>education_high.school</th>\n",
       "      <td>0.005500</td>\n",
       "      <td>0.000195</td>\n",
       "      <td>0.002046</td>\n",
       "      <td>0.014347</td>\n",
       "      <td>-0.017078</td>\n",
       "      <td>0.008704</td>\n",
       "      <td>-0.051876</td>\n",
       "      <td>-0.020583</td>\n",
       "      <td>-0.015485</td>\n",
       "      <td>-0.007452</td>\n",
       "      <td>...</td>\n",
       "      <td>-0.019047</td>\n",
       "      <td>-0.007439</td>\n",
       "      <td>-0.184106</td>\n",
       "      <td>-0.133050</td>\n",
       "      <td>-0.227320</td>\n",
       "      <td>1.000000</td>\n",
       "      <td>-0.011461</td>\n",
       "      <td>-0.209330</td>\n",
       "      <td>-0.354912</td>\n",
       "      <td>-0.114801</td>\n",
       "    </tr>\n",
       "    <tr>\n",
       "      <th>education_illiterate</th>\n",
       "      <td>0.001491</td>\n",
       "      <td>-0.002188</td>\n",
       "      <td>-0.001949</td>\n",
       "      <td>-0.002613</td>\n",
       "      <td>-0.002865</td>\n",
       "      <td>-0.009332</td>\n",
       "      <td>0.002497</td>\n",
       "      <td>-0.001263</td>\n",
       "      <td>0.001372</td>\n",
       "      <td>0.007246</td>\n",
       "      <td>...</td>\n",
       "      <td>0.001550</td>\n",
       "      <td>0.002588</td>\n",
       "      <td>-0.007024</td>\n",
       "      <td>-0.005076</td>\n",
       "      <td>-0.008672</td>\n",
       "      <td>-0.011461</td>\n",
       "      <td>1.000000</td>\n",
       "      <td>-0.007986</td>\n",
       "      <td>-0.013540</td>\n",
       "      <td>-0.004380</td>\n",
       "    </tr>\n",
       "    <tr>\n",
       "      <th>education_professional.course</th>\n",
       "      <td>-0.008472</td>\n",
       "      <td>0.002554</td>\n",
       "      <td>-0.001958</td>\n",
       "      <td>-0.007631</td>\n",
       "      <td>0.022154</td>\n",
       "      <td>-0.003827</td>\n",
       "      <td>0.031234</td>\n",
       "      <td>0.019634</td>\n",
       "      <td>0.016493</td>\n",
       "      <td>0.001003</td>\n",
       "      <td>...</td>\n",
       "      <td>0.006370</td>\n",
       "      <td>0.003338</td>\n",
       "      <td>-0.128286</td>\n",
       "      <td>-0.092710</td>\n",
       "      <td>-0.158398</td>\n",
       "      <td>-0.209330</td>\n",
       "      <td>-0.007986</td>\n",
       "      <td>1.000000</td>\n",
       "      <td>-0.247304</td>\n",
       "      <td>-0.079994</td>\n",
       "    </tr>\n",
       "    <tr>\n",
       "      <th>education_university.degree</th>\n",
       "      <td>-0.012641</td>\n",
       "      <td>-0.000950</td>\n",
       "      <td>-0.031436</td>\n",
       "      <td>0.025419</td>\n",
       "      <td>-0.045331</td>\n",
       "      <td>-0.091954</td>\n",
       "      <td>0.073705</td>\n",
       "      <td>-0.034208</td>\n",
       "      <td>-0.034143</td>\n",
       "      <td>0.050364</td>\n",
       "      <td>...</td>\n",
       "      <td>-0.017547</td>\n",
       "      <td>0.037762</td>\n",
       "      <td>-0.217505</td>\n",
       "      <td>-0.157187</td>\n",
       "      <td>-0.268559</td>\n",
       "      <td>-0.354912</td>\n",
       "      <td>-0.013540</td>\n",
       "      <td>-0.247304</td>\n",
       "      <td>1.000000</td>\n",
       "      <td>-0.135627</td>\n",
       "    </tr>\n",
       "    <tr>\n",
       "      <th>education_unknown</th>\n",
       "      <td>0.003317</td>\n",
       "      <td>0.002162</td>\n",
       "      <td>-0.020510</td>\n",
       "      <td>0.022641</td>\n",
       "      <td>-0.003038</td>\n",
       "      <td>0.030016</td>\n",
       "      <td>0.028275</td>\n",
       "      <td>-0.006061</td>\n",
       "      <td>-0.021703</td>\n",
       "      <td>0.021430</td>\n",
       "      <td>...</td>\n",
       "      <td>-0.011839</td>\n",
       "      <td>0.018400</td>\n",
       "      <td>-0.070355</td>\n",
       "      <td>-0.050844</td>\n",
       "      <td>-0.086869</td>\n",
       "      <td>-0.114801</td>\n",
       "      <td>-0.004380</td>\n",
       "      <td>-0.079994</td>\n",
       "      <td>-0.135627</td>\n",
       "      <td>1.000000</td>\n",
       "    </tr>\n",
       "  </tbody>\n",
       "</table>\n",
       "<p>222 rows × 222 columns</p>\n",
       "</div>"
      ],
      "text/plain": [
       "                               duration  campaign     pdays  previous  \\\n",
       "duration                       1.000000 -0.071699 -0.044035  0.020640   \n",
       "campaign                      -0.071699  1.000000  0.045353 -0.079141   \n",
       "pdays                         -0.044035  0.045353  1.000000 -0.518260   \n",
       "previous                       0.020640 -0.079141 -0.518260  1.000000   \n",
       "emp_var_rate                  -0.027968  0.150754  0.241416 -0.420489   \n",
       "...                                 ...       ...       ...       ...   \n",
       "education_high.school          0.005500  0.000195  0.002046  0.014347   \n",
       "education_illiterate           0.001491 -0.002188 -0.001949 -0.002613   \n",
       "education_professional.course -0.008472  0.002554 -0.001958 -0.007631   \n",
       "education_university.degree   -0.012641 -0.000950 -0.031436  0.025419   \n",
       "education_unknown              0.003317  0.002162 -0.020510  0.022641   \n",
       "\n",
       "                               emp_var_rate  cons_price_idx  cons_conf_idx  \\\n",
       "duration                          -0.027968        0.005312      -0.008173   \n",
       "campaign                           0.150754        0.127836      -0.013733   \n",
       "pdays                              0.241416        0.070331      -0.082578   \n",
       "previous                          -0.420489       -0.203130      -0.050936   \n",
       "emp_var_rate                       1.000000        0.775334       0.196041   \n",
       "...                                     ...             ...            ...   \n",
       "education_high.school             -0.017078        0.008704      -0.051876   \n",
       "education_illiterate              -0.002865       -0.009332       0.002497   \n",
       "education_professional.course      0.022154       -0.003827       0.031234   \n",
       "education_university.degree       -0.045331       -0.091954       0.073705   \n",
       "education_unknown                 -0.003038        0.030016       0.028275   \n",
       "\n",
       "                               euribor3m  nr_employed         y  ...  \\\n",
       "duration                       -0.032897    -0.044703  0.405274  ...   \n",
       "campaign                        0.135133     0.144095 -0.066357  ...   \n",
       "pdays                           0.263918     0.331380 -0.288609  ...   \n",
       "previous                       -0.454494    -0.501333  0.230181  ...   \n",
       "emp_var_rate                    0.972245     0.906970 -0.298334  ...   \n",
       "...                                  ...          ...       ...  ...   \n",
       "education_high.school          -0.020583    -0.015485 -0.007452  ...   \n",
       "education_illiterate           -0.001263     0.001372  0.007246  ...   \n",
       "education_professional.course   0.019634     0.016493  0.001003  ...   \n",
       "education_university.degree    -0.034208    -0.034143  0.050364  ...   \n",
       "education_unknown              -0.006061    -0.021703  0.021430  ...   \n",
       "\n",
       "                               poutcome_nonexistent  poutcome_success  \\\n",
       "duration                                  -0.011665          0.044876   \n",
       "campaign                                   0.087645         -0.050893   \n",
       "pdays                                      0.432717         -0.840049   \n",
       "previous                                  -0.878776          0.524045   \n",
       "emp_var_rate                               0.472501         -0.256886   \n",
       "...                                             ...               ...   \n",
       "education_high.school                     -0.019047         -0.007439   \n",
       "education_illiterate                       0.001550          0.002588   \n",
       "education_professional.course              0.006370          0.003338   \n",
       "education_university.degree               -0.017547          0.037762   \n",
       "education_unknown                         -0.011839          0.018400   \n",
       "\n",
       "                               education_basic.4y  education_basic.6y  \\\n",
       "duration                                 0.008476            0.005739   \n",
       "campaign                                 0.004000           -0.000991   \n",
       "pdays                                    0.010226            0.019258   \n",
       "previous                                -0.017601           -0.021493   \n",
       "emp_var_rate                             0.028660            0.023065   \n",
       "...                                           ...                 ...   \n",
       "education_high.school                   -0.184106           -0.133050   \n",
       "education_illiterate                    -0.007024           -0.005076   \n",
       "education_professional.course           -0.128286           -0.092710   \n",
       "education_university.degree             -0.217505           -0.157187   \n",
       "education_unknown                       -0.070355           -0.050844   \n",
       "\n",
       "                               education_basic.9y  education_high.school  \\\n",
       "duration                                 0.004810               0.005500   \n",
       "campaign                                -0.005278               0.000195   \n",
       "pdays                                    0.030484               0.002046   \n",
       "previous                                -0.026418               0.014347   \n",
       "emp_var_rate                             0.020422              -0.017078   \n",
       "...                                           ...                    ...   \n",
       "education_high.school                   -0.227320               1.000000   \n",
       "education_illiterate                    -0.008672              -0.011461   \n",
       "education_professional.course           -0.158398              -0.209330   \n",
       "education_university.degree             -0.268559              -0.354912   \n",
       "education_unknown                       -0.086869              -0.114801   \n",
       "\n",
       "                               education_illiterate  \\\n",
       "duration                                   0.001491   \n",
       "campaign                                  -0.002188   \n",
       "pdays                                     -0.001949   \n",
       "previous                                  -0.002613   \n",
       "emp_var_rate                              -0.002865   \n",
       "...                                             ...   \n",
       "education_high.school                     -0.011461   \n",
       "education_illiterate                       1.000000   \n",
       "education_professional.course             -0.007986   \n",
       "education_university.degree               -0.013540   \n",
       "education_unknown                         -0.004380   \n",
       "\n",
       "                               education_professional.course  \\\n",
       "duration                                           -0.008472   \n",
       "campaign                                            0.002554   \n",
       "pdays                                              -0.001958   \n",
       "previous                                           -0.007631   \n",
       "emp_var_rate                                        0.022154   \n",
       "...                                                      ...   \n",
       "education_high.school                              -0.209330   \n",
       "education_illiterate                               -0.007986   \n",
       "education_professional.course                       1.000000   \n",
       "education_university.degree                        -0.247304   \n",
       "education_unknown                                  -0.079994   \n",
       "\n",
       "                               education_university.degree  education_unknown  \n",
       "duration                                         -0.012641           0.003317  \n",
       "campaign                                         -0.000950           0.002162  \n",
       "pdays                                            -0.031436          -0.020510  \n",
       "previous                                          0.025419           0.022641  \n",
       "emp_var_rate                                     -0.045331          -0.003038  \n",
       "...                                                    ...                ...  \n",
       "education_high.school                            -0.354912          -0.114801  \n",
       "education_illiterate                             -0.013540          -0.004380  \n",
       "education_professional.course                    -0.247304          -0.079994  \n",
       "education_university.degree                       1.000000          -0.135627  \n",
       "education_unknown                                -0.135627           1.000000  \n",
       "\n",
       "[222 rows x 222 columns]"
      ]
     },
     "execution_count": 171,
     "metadata": {},
     "output_type": "execute_result"
    }
   ],
   "source": [
    "final_data.corr()"
   ]
  },
  {
   "cell_type": "code",
   "execution_count": null,
   "metadata": {},
   "outputs": [],
   "source": []
  },
  {
   "cell_type": "code",
   "execution_count": null,
   "metadata": {},
   "outputs": [],
   "source": []
  },
  {
   "cell_type": "code",
   "execution_count": null,
   "metadata": {},
   "outputs": [],
   "source": []
  },
  {
   "cell_type": "code",
   "execution_count": null,
   "metadata": {},
   "outputs": [],
   "source": []
  },
  {
   "cell_type": "code",
   "execution_count": null,
   "metadata": {},
   "outputs": [],
   "source": []
  },
  {
   "cell_type": "markdown",
   "metadata": {},
   "source": [
    "## Section V : Preliminary Training\n"
   ]
  },
  {
   "cell_type": "markdown",
   "metadata": {},
   "source": [
    "Part I : Import your Logisitc Regression libraries"
   ]
  },
  {
   "cell_type": "code",
   "execution_count": 18,
   "metadata": {},
   "outputs": [],
   "source": [
    "from sklearn.linear_model import LogisticRegression"
   ]
  },
  {
   "cell_type": "markdown",
   "metadata": {},
   "source": [
    "Part II : Split your train and test dataset and train on the data\n"
   ]
  },
  {
   "cell_type": "code",
   "execution_count": 36,
   "metadata": {},
   "outputs": [],
   "source": [
    "from sklearn.model_selection import train_test_split"
   ]
  },
  {
   "cell_type": "code",
   "execution_count": 37,
   "metadata": {},
   "outputs": [],
   "source": [
    "# define my variable dependent and independent "
   ]
  },
  {
   "cell_type": "code",
   "execution_count": 38,
   "metadata": {},
   "outputs": [],
   "source": [
    "# determine my x and y variable"
   ]
  },
  {
   "cell_type": "code",
   "execution_count": 39,
   "metadata": {},
   "outputs": [],
   "source": [
    "y=final_data['y'].values"
   ]
  },
  {
   "cell_type": "code",
   "execution_count": 40,
   "metadata": {},
   "outputs": [
    {
     "data": {
      "text/plain": [
       "array([0, 0, 1, ..., 0, 0, 0], dtype=int64)"
      ]
     },
     "execution_count": 40,
     "metadata": {},
     "output_type": "execute_result"
    }
   ],
   "source": [
    "y"
   ]
  },
  {
   "cell_type": "code",
   "execution_count": 41,
   "metadata": {},
   "outputs": [],
   "source": [
    "# define my x variable"
   ]
  },
  {
   "cell_type": "code",
   "execution_count": 42,
   "metadata": {},
   "outputs": [],
   "source": [
    "x=final_data.drop('y',axis=1).values"
   ]
  },
  {
   "cell_type": "code",
   "execution_count": 43,
   "metadata": {},
   "outputs": [
    {
     "data": {
      "text/plain": [
       "array([[210.,   1., 999., ...,   0.,   0.,   0.],\n",
       "       [138.,   1., 999., ...,   0.,   0.,   1.],\n",
       "       [339.,   3.,   6., ...,   0.,   1.,   0.],\n",
       "       ...,\n",
       "       [ 62.,   3., 999., ...,   0.,   1.,   0.],\n",
       "       [200.,   2., 999., ...,   1.,   0.,   0.],\n",
       "       [112.,   4., 999., ...,   0.,   0.,   0.]])"
      ]
     },
     "execution_count": 43,
     "metadata": {},
     "output_type": "execute_result"
    }
   ],
   "source": [
    "x"
   ]
  },
  {
   "cell_type": "code",
   "execution_count": 44,
   "metadata": {},
   "outputs": [],
   "source": [
    "# print the x and y shape to see if my data is corect"
   ]
  },
  {
   "cell_type": "code",
   "execution_count": 45,
   "metadata": {},
   "outputs": [
    {
     "name": "stdout",
     "output_type": "stream",
     "text": [
      "(41188,)\n",
      "(41188, 236)\n"
     ]
    }
   ],
   "source": [
    "print (y.shape)\n",
    "print(x.shape)"
   ]
  },
  {
   "cell_type": "code",
   "execution_count": null,
   "metadata": {},
   "outputs": [],
   "source": []
  },
  {
   "cell_type": "code",
   "execution_count": 46,
   "metadata": {},
   "outputs": [],
   "source": [
    "# split my data\n",
    "# usinf function train_test_function"
   ]
  },
  {
   "cell_type": "code",
   "execution_count": 47,
   "metadata": {},
   "outputs": [],
   "source": [
    "x_train,x_test,y_train,y_test=train_test_split(x, y,train_size=0.8,test_size=0.2, random_state=0)\n",
    "# i will use 80% to train my data and % 20 to test it"
   ]
  },
  {
   "cell_type": "code",
   "execution_count": 48,
   "metadata": {},
   "outputs": [
    {
     "name": "stdout",
     "output_type": "stream",
     "text": [
      "X_train:  [[ 42.   7. 999. ...   1.   0.   0.]\n",
      " [514.   7. 999. ...   0.   1.   0.]\n",
      " [319.   2. 999. ...   0.   0.   0.]\n",
      " ...\n",
      " [371.   2. 999. ...   1.   0.   0.]\n",
      " [202.   2. 999. ...   0.   0.   0.]\n",
      " [128.   1. 999. ...   1.   0.   0.]]\n",
      "y_train:  [0 0 0 ... 1 0 0]\n",
      "X_test:  [[104.   4. 999. ...   0.   0.   0.]\n",
      " [551.   3. 999. ...   1.   0.   0.]\n",
      " [116.   2. 999. ...   0.   0.   0.]\n",
      " ...\n",
      " [  5.   1. 999. ...   0.   1.   0.]\n",
      " [374.   1. 999. ...   0.   0.   0.]\n",
      " [ 21.  35. 999. ...   0.   0.   0.]]\n",
      "y_test:  [0 0 0 ... 0 0 0]\n"
     ]
    }
   ],
   "source": [
    "print (\"X_train: \", x_train)\n",
    "print (\"y_train: \", y_train)\n",
    "print(\"X_test: \", x_test)\n",
    "print (\"y_test: \", y_test)"
   ]
  },
  {
   "cell_type": "code",
   "execution_count": 49,
   "metadata": {},
   "outputs": [
    {
     "name": "stdout",
     "output_type": "stream",
     "text": [
      "(32950, 236)\n",
      "(32950,)\n",
      "(8238, 236)\n",
      "(8238,)\n"
     ]
    }
   ],
   "source": [
    "print(x_train.shape)\n",
    "print(y_train.shape)\n",
    "print(x_test.shape)\n",
    "print(y_test.shape)"
   ]
  },
  {
   "cell_type": "code",
   "execution_count": null,
   "metadata": {},
   "outputs": [],
   "source": []
  },
  {
   "cell_type": "code",
   "execution_count": null,
   "metadata": {},
   "outputs": [],
   "source": []
  },
  {
   "cell_type": "code",
   "execution_count": 50,
   "metadata": {},
   "outputs": [],
   "source": [
    "from sklearn.preprocessing import StandardScaler\n",
    "sc_X = StandardScaler()\n",
    "x_train = sc_X.fit_transform(x_train)\n",
    "x_test = sc_X.transform(x_test)"
   ]
  },
  {
   "cell_type": "code",
   "execution_count": null,
   "metadata": {},
   "outputs": [],
   "source": [
    "\n"
   ]
  },
  {
   "cell_type": "markdown",
   "metadata": {},
   "source": [
    "Part III : Make note of the classification report and other metrics\n",
    "\n"
   ]
  },
  {
   "cell_type": "code",
   "execution_count": 51,
   "metadata": {},
   "outputs": [
    {
     "name": "stderr",
     "output_type": "stream",
     "text": [
      "[Parallel(n_jobs=1)]: Using backend SequentialBackend with 1 concurrent workers.\n",
      "C:\\Users\\marce\\anaconda3\\lib\\site-packages\\sklearn\\linear_model\\_logistic.py:763: ConvergenceWarning: lbfgs failed to converge (status=1):\n",
      "STOP: TOTAL NO. of ITERATIONS REACHED LIMIT.\n",
      "\n",
      "Increase the number of iterations (max_iter) or scale the data as shown in:\n",
      "    https://scikit-learn.org/stable/modules/preprocessing.html\n",
      "Please also refer to the documentation for alternative solver options:\n",
      "    https://scikit-learn.org/stable/modules/linear_model.html#logistic-regression\n",
      "  n_iter_i = _check_optimize_result(\n",
      "[Parallel(n_jobs=1)]: Done   1 out of   1 | elapsed:    0.7s finished\n"
     ]
    },
    {
     "data": {
      "text/plain": [
       "LogisticRegression(verbose=1)"
      ]
     },
     "execution_count": 51,
     "metadata": {},
     "output_type": "execute_result"
    }
   ],
   "source": [
    "model = LogisticRegression(verbose=1)\n",
    "model.fit(x_train, y_train) #Training the model by fiting my data"
   ]
  },
  {
   "cell_type": "code",
   "execution_count": 64,
   "metadata": {},
   "outputs": [
    {
     "name": "stdout",
     "output_type": "stream",
     "text": [
      "Logistic Regress Train accuracy is 0.9128072837632777\n",
      "Logistic Regression Test accuracy is 0.9127215343529983\n"
     ]
    }
   ],
   "source": [
    "#Test my model using prediction\n",
    "y_pred_model  = model .predict(x_test) #Making predictions to test the model on test data\n",
    "print('Logistic Regress Train accuracy is %s' % model .score(x_train, y_train)) #Train accuracy\n",
    "\n",
    "print('Logistic Regression Test accuracy is %s' % accuracy_score(y_pred_model , y_test)) #Test accuracy\n",
    "\n",
    "\n",
    "\n"
   ]
  },
  {
   "cell_type": "code",
   "execution_count": 53,
   "metadata": {},
   "outputs": [
    {
     "name": "stdout",
     "output_type": "stream",
     "text": [
      "the train accuracy is  0.9128072837632777\n",
      "the test accuracy is  0.9127215343529983\n"
     ]
    }
   ],
   "source": [
    "# the accuracy of my test data is 0.91%, however, my model know this data and he knows this data\n",
    " \n",
    "print (\"the train accuracy is \",model.score(x_train,y_train))\n",
    "\n",
    "#==============\n",
    "# so now, let's use the data that we did not use to train the model\n",
    "print (\"the test accuracy is \",model.score(x_test,y_test))\n",
    "# the test accuracy is 0.9127. this is not really good because we shuld to expect lower % in the model that our model did not know the data"
   ]
  },
  {
   "cell_type": "code",
   "execution_count": 54,
   "metadata": {},
   "outputs": [
    {
     "data": {
      "text/plain": [
       "array([[0.99135557, 0.00864443],\n",
       "       [0.9109815 , 0.0890185 ],\n",
       "       [0.97133933, 0.02866067],\n",
       "       ...,\n",
       "       [0.92909076, 0.07090924],\n",
       "       [0.95984164, 0.04015836],\n",
       "       [0.97236035, 0.02763965]])"
      ]
     },
     "execution_count": 54,
     "metadata": {},
     "output_type": "execute_result"
    }
   ],
   "source": [
    "model.predict_proba( x_train) #probability accuracy\n"
   ]
  },
  {
   "cell_type": "code",
   "execution_count": 55,
   "metadata": {},
   "outputs": [],
   "source": [
    "# that's mean for the first column in my vector, the probability of subscrebe a term deposit is almost zero (0.00902042)\n",
    "# and the probability of not subscrebe is very high .99097958"
   ]
  },
  {
   "cell_type": "code",
   "execution_count": 66,
   "metadata": {},
   "outputs": [],
   "source": [
    "# coeficient of my feature\n"
   ]
  },
  {
   "cell_type": "code",
   "execution_count": 67,
   "metadata": {},
   "outputs": [
    {
     "name": "stdout",
     "output_type": "stream",
     "text": [
      "              precision    recall  f1-score   support\n",
      "\n",
      "           0       0.93      0.97      0.95      7325\n",
      "           1       0.66      0.43      0.52       913\n",
      "\n",
      "    accuracy                           0.91      8238\n",
      "   macro avg       0.80      0.70      0.74      8238\n",
      "weighted avg       0.90      0.91      0.90      8238\n",
      "\n"
     ]
    }
   ],
   "source": [
    "# print classification report\n",
    "print(classification_report(y_test, y_pred_model))"
   ]
  },
  {
   "cell_type": "markdown",
   "metadata": {},
   "source": [
    "## Section VI : Let's Improve the performance"
   ]
  },
  {
   "cell_type": "markdown",
   "metadata": {},
   "source": [
    "Part 0 : What was your answer to Section - Part IV? Do you think class imbalance affects the model performance? Explore SMOTE implementation"
   ]
  },
  {
   "cell_type": "code",
   "execution_count": 57,
   "metadata": {},
   "outputs": [],
   "source": [
    "# another way to evaluente my model is create a confusion matrix function \n",
    "from sklearn import svm, datasets\n",
    "from sklearn.model_selection import train_test_split\n",
    "from sklearn.metrics import plot_confusion_matrix\n",
    "from sklearn.metrics import confusion_matrix\n",
    "\n"
   ]
  },
  {
   "cell_type": "code",
   "execution_count": 58,
   "metadata": {},
   "outputs": [],
   "source": [
    "def plot_conf_matrix(cm,classes=None,title='Confusion matrix'):\n",
    "    if classes is not None:\n",
    "        sns.heatmap(cm,xticklabels=classes,yticklabels=classes,vmin=0.,vmax=1.,annot=True,annot_kws={'size':50})\n",
    "    else:\n",
    "        sns.heatmap(cm,vmin=0., vmax=1.)\n",
    "        plt.title(title)\n",
    "        plt.xlabel('True label')\n",
    "        plt.ylabel('Predicted label')\n",
    "        "
   ]
  },
  {
   "cell_type": "code",
   "execution_count": 59,
   "metadata": {},
   "outputs": [
    {
     "data": {
      "text/plain": [
       "array([[7127,  198],\n",
       "       [ 521,  392]], dtype=int64)"
      ]
     },
     "execution_count": 59,
     "metadata": {},
     "output_type": "execute_result"
    }
   ],
   "source": [
    "# vizualize my CM\n",
    "cm=confusion_matrix(y_test,y_pred_model)\n",
    "cm"
   ]
  },
  {
   "cell_type": "code",
   "execution_count": 60,
   "metadata": {},
   "outputs": [],
   "source": [
    "#  I preditc 7128 corect to not be subscrebe a term deposit and at the same level a predict 197 wrong Those number is supost to be subscrebe \n"
   ]
  },
  {
   "cell_type": "code",
   "execution_count": 61,
   "metadata": {},
   "outputs": [
    {
     "data": {
      "text/plain": [
       "array([[0.97296928, 0.02703072],\n",
       "       [0.57064622, 0.42935378]])"
      ]
     },
     "execution_count": 61,
     "metadata": {},
     "output_type": "execute_result"
    }
   ],
   "source": [
    "# normalize the confusion matrix\n",
    "cm_norm=cm/cm.sum(axis=1).reshape(-1,1)\n",
    "cm_norm"
   ]
  },
  {
   "cell_type": "markdown",
   "metadata": {},
   "source": [
    "Part I : Make note of the performance from the last training"
   ]
  },
  {
   "cell_type": "markdown",
   "metadata": {},
   "source": [
    "As we can see in the report, we have 0.93% of client who will not subscrebe a term deposit and 0.66 % of client who will subscrebe\n",
    "For the f1-score we have 91% of  accurancy "
   ]
  },
  {
   "cell_type": "code",
   "execution_count": null,
   "metadata": {},
   "outputs": [],
   "source": []
  },
  {
   "cell_type": "markdown",
   "metadata": {},
   "source": [
    "Part II : Try implementing SMOTE to balance the two class labels"
   ]
  },
  {
   "cell_type": "code",
   "execution_count": 62,
   "metadata": {},
   "outputs": [
    {
     "name": "stdout",
     "output_type": "stream",
     "text": [
      "Before OverSampling, counts of label '1': 3727\n",
      "Before OverSampling, counts of label '0': 29223 \n",
      "\n",
      "After OverSampling, the shape of train_X: (58446, 236)\n",
      "After OverSampling, the shape of train_y: (58446,) \n",
      "\n",
      "After OverSampling, counts of label '1': 29223\n",
      "After OverSampling, counts of label '0': 29223\n"
     ]
    }
   ],
   "source": [
    "print(\"Before OverSampling, counts of label '1': {}\".format(sum(y_train == 1)))\n",
    "print(\"Before OverSampling, counts of label '0': {} \\n\".format(sum(y_train == 0)))\n",
    "\n",
    "###===========================================================\n",
    "\n",
    "from imblearn.over_sampling import SMOTE\n",
    "sm = SMOTE(random_state = 2)\n",
    "X_train_res, y_train_res = sm.fit_sample(x_train, y_train.ravel())\n",
    "\n",
    "\n",
    "\n",
    "##======================================\n",
    "\n",
    "print('After OverSampling, the shape of train_X: {}'.format(X_train_res.shape))\n",
    "print('After OverSampling, the shape of train_y: {} \\n'.format(y_train_res.shape))\n",
    "  \n",
    "print(\"After OverSampling, counts of label '1': {}\".format(sum(y_train_res == 1)))\n",
    "print(\"After OverSampling, counts of label '0': {}\".format(sum(y_train_res == 0)))"
   ]
  },
  {
   "cell_type": "code",
   "execution_count": 65,
   "metadata": {},
   "outputs": [
    {
     "name": "stderr",
     "output_type": "stream",
     "text": [
      "[Parallel(n_jobs=1)]: Using backend SequentialBackend with 1 concurrent workers.\n"
     ]
    },
    {
     "name": "stdout",
     "output_type": "stream",
     "text": [
      "              precision    recall  f1-score   support\n",
      "\n",
      "           0       0.98      0.86      0.92      7325\n",
      "           1       0.44      0.85      0.58       913\n",
      "\n",
      "    accuracy                           0.86      8238\n",
      "   macro avg       0.71      0.86      0.75      8238\n",
      "weighted avg       0.92      0.86      0.88      8238\n",
      "\n"
     ]
    },
    {
     "name": "stderr",
     "output_type": "stream",
     "text": [
      "C:\\Users\\marce\\anaconda3\\lib\\site-packages\\sklearn\\linear_model\\_logistic.py:763: ConvergenceWarning: lbfgs failed to converge (status=1):\n",
      "STOP: TOTAL NO. of ITERATIONS REACHED LIMIT.\n",
      "\n",
      "Increase the number of iterations (max_iter) or scale the data as shown in:\n",
      "    https://scikit-learn.org/stable/modules/preprocessing.html\n",
      "Please also refer to the documentation for alternative solver options:\n",
      "    https://scikit-learn.org/stable/modules/linear_model.html#logistic-regression\n",
      "  n_iter_i = _check_optimize_result(\n",
      "[Parallel(n_jobs=1)]: Done   1 out of   1 | elapsed:    1.4s finished\n"
     ]
    }
   ],
   "source": [
    "model1 = LogisticRegression(verbose=1)\n",
    "model1.fit(X_train_res, y_train_res) #Training the model by fiting my data\n",
    "\n",
    "pred1 = model1.predict(x_test)\n",
    "\n",
    "#======================================================================\n",
    "# print classification report\n",
    "print(classification_report(y_test, pred1))"
   ]
  },
  {
   "cell_type": "markdown",
   "metadata": {},
   "source": [
    "Part III : Make note of the y label data now , what are the rations now ?"
   ]
  },
  {
   "cell_type": "markdown",
   "metadata": {},
   "source": [
    "After apply the SMOTE, as we can see in the result the precision for not subscrebe a term deposit increase in 5% \n",
    "and the precision for subscrebe a term deposit decrease in 22%. \n",
    "As we can see the SMOTE application help us to improve the perfomace of the result. "
   ]
  },
  {
   "cell_type": "markdown",
   "metadata": {},
   "source": [
    "## Section VII : Let us Re-Train!"
   ]
  },
  {
   "cell_type": "markdown",
   "metadata": {},
   "source": [
    "Part I : Explore what RFE means"
   ]
  },
  {
   "cell_type": "markdown",
   "metadata": {},
   "source": [
    "The Recursive Feature Elimination (RFE) method is a feature selection approach. It works by recursively removing attributes and building a model on those attributes that remain. It uses the model accuracy to identify which attributes (and combination of attributes) contribute the most to predicting the target attribute.\n",
    "\n",
    "-------------------------------------------------------------------\n",
    "\n",
    "https://machinelearningmastery.com/feature-selection-in-python-with-scikit-learn/"
   ]
  },
  {
   "cell_type": "markdown",
   "metadata": {},
   "source": [
    "Part II : Implement your training process inside the RFE"
   ]
  },
  {
   "cell_type": "code",
   "execution_count": 70,
   "metadata": {},
   "outputs": [],
   "source": [
    "from sklearn import datasets\n",
    "from sklearn.feature_selection import RFE\n",
    "from sklearn.linear_model import LogisticRegression"
   ]
  },
  {
   "cell_type": "code",
   "execution_count": 74,
   "metadata": {},
   "outputs": [
    {
     "ename": "ValueError",
     "evalue": "Unknown label type: 'continuous'",
     "output_type": "error",
     "traceback": [
      "\u001b[1;31m---------------------------------------------------------------------------\u001b[0m",
      "\u001b[1;31mValueError\u001b[0m                                Traceback (most recent call last)",
      "\u001b[1;32m<ipython-input-74-018bc71c6e6b>\u001b[0m in \u001b[0;36m<module>\u001b[1;34m\u001b[0m\n\u001b[0;32m      1\u001b[0m \u001b[0mmodel\u001b[0m \u001b[1;33m=\u001b[0m \u001b[0mLogisticRegression\u001b[0m\u001b[1;33m(\u001b[0m\u001b[1;33m)\u001b[0m\u001b[1;33m\u001b[0m\u001b[1;33m\u001b[0m\u001b[0m\n\u001b[0;32m      2\u001b[0m \u001b[0mrfe\u001b[0m \u001b[1;33m=\u001b[0m \u001b[0mRFE\u001b[0m\u001b[1;33m(\u001b[0m\u001b[0mmodel\u001b[0m\u001b[1;33m,\u001b[0m \u001b[1;36m3\u001b[0m\u001b[1;33m)\u001b[0m\u001b[1;33m\u001b[0m\u001b[1;33m\u001b[0m\u001b[0m\n\u001b[1;32m----> 3\u001b[1;33m \u001b[0mfit\u001b[0m \u001b[1;33m=\u001b[0m \u001b[0mrfe\u001b[0m\u001b[1;33m.\u001b[0m\u001b[0mfit\u001b[0m\u001b[1;33m(\u001b[0m\u001b[0mX\u001b[0m\u001b[1;33m,\u001b[0m \u001b[0my\u001b[0m\u001b[1;33m)\u001b[0m\u001b[1;33m\u001b[0m\u001b[1;33m\u001b[0m\u001b[0m\n\u001b[0m\u001b[0;32m      4\u001b[0m \u001b[0mprint\u001b[0m\u001b[1;33m(\u001b[0m\u001b[1;34m\"Num Features: %s\"\u001b[0m \u001b[1;33m%\u001b[0m \u001b[1;33m(\u001b[0m\u001b[0mfit\u001b[0m\u001b[1;33m.\u001b[0m\u001b[0mn_features_\u001b[0m\u001b[1;33m)\u001b[0m\u001b[1;33m)\u001b[0m\u001b[1;33m\u001b[0m\u001b[1;33m\u001b[0m\u001b[0m\n\u001b[0;32m      5\u001b[0m \u001b[0mprint\u001b[0m\u001b[1;33m(\u001b[0m\u001b[1;34m\"Selected Features: %s\"\u001b[0m \u001b[1;33m%\u001b[0m \u001b[1;33m(\u001b[0m\u001b[0mfit\u001b[0m\u001b[1;33m.\u001b[0m\u001b[0msupport_\u001b[0m\u001b[1;33m)\u001b[0m\u001b[1;33m)\u001b[0m\u001b[1;33m\u001b[0m\u001b[1;33m\u001b[0m\u001b[0m\n",
      "\u001b[1;32m~\\anaconda3\\lib\\site-packages\\sklearn\\feature_selection\\_rfe.py\u001b[0m in \u001b[0;36mfit\u001b[1;34m(self, X, y)\u001b[0m\n\u001b[0;32m    182\u001b[0m             \u001b[0mThe\u001b[0m \u001b[0mtarget\u001b[0m \u001b[0mvalues\u001b[0m\u001b[1;33m.\u001b[0m\u001b[1;33m\u001b[0m\u001b[1;33m\u001b[0m\u001b[0m\n\u001b[0;32m    183\u001b[0m         \"\"\"\n\u001b[1;32m--> 184\u001b[1;33m         \u001b[1;32mreturn\u001b[0m \u001b[0mself\u001b[0m\u001b[1;33m.\u001b[0m\u001b[0m_fit\u001b[0m\u001b[1;33m(\u001b[0m\u001b[0mX\u001b[0m\u001b[1;33m,\u001b[0m \u001b[0my\u001b[0m\u001b[1;33m)\u001b[0m\u001b[1;33m\u001b[0m\u001b[1;33m\u001b[0m\u001b[0m\n\u001b[0m\u001b[0;32m    185\u001b[0m \u001b[1;33m\u001b[0m\u001b[0m\n\u001b[0;32m    186\u001b[0m     \u001b[1;32mdef\u001b[0m \u001b[0m_fit\u001b[0m\u001b[1;33m(\u001b[0m\u001b[0mself\u001b[0m\u001b[1;33m,\u001b[0m \u001b[0mX\u001b[0m\u001b[1;33m,\u001b[0m \u001b[0my\u001b[0m\u001b[1;33m,\u001b[0m \u001b[0mstep_score\u001b[0m\u001b[1;33m=\u001b[0m\u001b[1;32mNone\u001b[0m\u001b[1;33m)\u001b[0m\u001b[1;33m:\u001b[0m\u001b[1;33m\u001b[0m\u001b[1;33m\u001b[0m\u001b[0m\n",
      "\u001b[1;32m~\\anaconda3\\lib\\site-packages\\sklearn\\feature_selection\\_rfe.py\u001b[0m in \u001b[0;36m_fit\u001b[1;34m(self, X, y, step_score)\u001b[0m\n\u001b[0;32m    239\u001b[0m                 \u001b[0mprint\u001b[0m\u001b[1;33m(\u001b[0m\u001b[1;34m\"Fitting estimator with %d features.\"\u001b[0m \u001b[1;33m%\u001b[0m \u001b[0mnp\u001b[0m\u001b[1;33m.\u001b[0m\u001b[0msum\u001b[0m\u001b[1;33m(\u001b[0m\u001b[0msupport_\u001b[0m\u001b[1;33m)\u001b[0m\u001b[1;33m)\u001b[0m\u001b[1;33m\u001b[0m\u001b[1;33m\u001b[0m\u001b[0m\n\u001b[0;32m    240\u001b[0m \u001b[1;33m\u001b[0m\u001b[0m\n\u001b[1;32m--> 241\u001b[1;33m             \u001b[0mestimator\u001b[0m\u001b[1;33m.\u001b[0m\u001b[0mfit\u001b[0m\u001b[1;33m(\u001b[0m\u001b[0mX\u001b[0m\u001b[1;33m[\u001b[0m\u001b[1;33m:\u001b[0m\u001b[1;33m,\u001b[0m \u001b[0mfeatures\u001b[0m\u001b[1;33m]\u001b[0m\u001b[1;33m,\u001b[0m \u001b[0my\u001b[0m\u001b[1;33m)\u001b[0m\u001b[1;33m\u001b[0m\u001b[1;33m\u001b[0m\u001b[0m\n\u001b[0m\u001b[0;32m    242\u001b[0m \u001b[1;33m\u001b[0m\u001b[0m\n\u001b[0;32m    243\u001b[0m             \u001b[1;31m# Get importance and rank them\u001b[0m\u001b[1;33m\u001b[0m\u001b[1;33m\u001b[0m\u001b[1;33m\u001b[0m\u001b[0m\n",
      "\u001b[1;32m~\\anaconda3\\lib\\site-packages\\sklearn\\linear_model\\_logistic.py\u001b[0m in \u001b[0;36mfit\u001b[1;34m(self, X, y, sample_weight)\u001b[0m\n\u001b[0;32m   1345\u001b[0m                                    \u001b[0morder\u001b[0m\u001b[1;33m=\u001b[0m\u001b[1;34m\"C\"\u001b[0m\u001b[1;33m,\u001b[0m\u001b[1;33m\u001b[0m\u001b[1;33m\u001b[0m\u001b[0m\n\u001b[0;32m   1346\u001b[0m                                    accept_large_sparse=solver != 'liblinear')\n\u001b[1;32m-> 1347\u001b[1;33m         \u001b[0mcheck_classification_targets\u001b[0m\u001b[1;33m(\u001b[0m\u001b[0my\u001b[0m\u001b[1;33m)\u001b[0m\u001b[1;33m\u001b[0m\u001b[1;33m\u001b[0m\u001b[0m\n\u001b[0m\u001b[0;32m   1348\u001b[0m         \u001b[0mself\u001b[0m\u001b[1;33m.\u001b[0m\u001b[0mclasses_\u001b[0m \u001b[1;33m=\u001b[0m \u001b[0mnp\u001b[0m\u001b[1;33m.\u001b[0m\u001b[0munique\u001b[0m\u001b[1;33m(\u001b[0m\u001b[0my\u001b[0m\u001b[1;33m)\u001b[0m\u001b[1;33m\u001b[0m\u001b[1;33m\u001b[0m\u001b[0m\n\u001b[0;32m   1349\u001b[0m \u001b[1;33m\u001b[0m\u001b[0m\n",
      "\u001b[1;32m~\\anaconda3\\lib\\site-packages\\sklearn\\utils\\multiclass.py\u001b[0m in \u001b[0;36mcheck_classification_targets\u001b[1;34m(y)\u001b[0m\n\u001b[0;32m    181\u001b[0m     if y_type not in ['binary', 'multiclass', 'multiclass-multioutput',\n\u001b[0;32m    182\u001b[0m                       'multilabel-indicator', 'multilabel-sequences']:\n\u001b[1;32m--> 183\u001b[1;33m         \u001b[1;32mraise\u001b[0m \u001b[0mValueError\u001b[0m\u001b[1;33m(\u001b[0m\u001b[1;34m\"Unknown label type: %r\"\u001b[0m \u001b[1;33m%\u001b[0m \u001b[0my_type\u001b[0m\u001b[1;33m)\u001b[0m\u001b[1;33m\u001b[0m\u001b[1;33m\u001b[0m\u001b[0m\n\u001b[0m\u001b[0;32m    184\u001b[0m \u001b[1;33m\u001b[0m\u001b[0m\n\u001b[0;32m    185\u001b[0m \u001b[1;33m\u001b[0m\u001b[0m\n",
      "\u001b[1;31mValueError\u001b[0m: Unknown label type: 'continuous'"
     ]
    }
   ],
   "source": [
    "model = LogisticRegression()\n",
    "rfe = RFE(model, 3)\n",
    "fit = rfe.fit(X, y)\n",
    "print(\"Num Features: %s\" % (fit.n_features_))\n",
    "print(\"Selected Features: %s\" % (fit.support_))\n",
    "print(\"Feature Ranking: %s\" % (fit.ranking_))"
   ]
  },
  {
   "cell_type": "markdown",
   "metadata": {},
   "source": [
    "Part III : What are the best columns that your RFE found? Please make a list of it"
   ]
  },
  {
   "cell_type": "code",
   "execution_count": null,
   "metadata": {},
   "outputs": [],
   "source": []
  },
  {
   "cell_type": "code",
   "execution_count": null,
   "metadata": {},
   "outputs": [],
   "source": []
  },
  {
   "cell_type": "markdown",
   "metadata": {},
   "source": [
    "## Section VIII : Training time !\n"
   ]
  },
  {
   "cell_type": "markdown",
   "metadata": {},
   "source": [
    "Now that you have found the best columns for this problem\n",
    "\n"
   ]
  },
  {
   "cell_type": "markdown",
   "metadata": {},
   "source": [
    "Part I : Now train the model with the new data you have created after the RFE\n"
   ]
  },
  {
   "cell_type": "code",
   "execution_count": null,
   "metadata": {},
   "outputs": [],
   "source": []
  },
  {
   "cell_type": "markdown",
   "metadata": {},
   "source": [
    "Part II : Create the prediction system to get the metrics such as accuracy"
   ]
  },
  {
   "cell_type": "code",
   "execution_count": null,
   "metadata": {},
   "outputs": [],
   "source": []
  },
  {
   "cell_type": "markdown",
   "metadata": {},
   "source": [
    "## Section IX : Additional Metrics\n"
   ]
  },
  {
   "cell_type": "markdown",
   "metadata": {},
   "source": [
    "Accuracy is not always the best metric\n",
    "\n",
    "Part I : Explore what Confusion Matrix means\n"
   ]
  },
  {
   "cell_type": "markdown",
   "metadata": {},
   "source": [
    "Confusion Matrix is a performance measurement for machine learning classification problem where output can be two or more classes\n",
    "in the CM we have 4 differente combination of predited value. True Positive(when you predict positive and it is positive),\n",
    "True negative (you predict negative and is negative ), False positive(you predict positive and it is not positive)\n",
    "and False negative (you predict negative and it's poisitve )\n",
    "Confusion Matrix is useful for measuring Recall, Precision, Specificity, Accuracy and most importantly AUC-ROC Curve\n",
    "\n",
    "===========================================================================================\n",
    "https://towardsdatascience.com/understanding-confusion-matrix-a9ad42dcfd62"
   ]
  },
  {
   "cell_type": "markdown",
   "metadata": {},
   "source": [
    "Part II : Create the confusion matrix for the predictions and make note of the outputs\n"
   ]
  },
  {
   "cell_type": "code",
   "execution_count": 210,
   "metadata": {},
   "outputs": [
    {
     "name": "stdout",
     "output_type": "stream",
     "text": [
      "[[8904  252]\n",
      " [ 655  486]]\n",
      "              precision    recall  f1-score   support\n",
      "\n",
      "           0       0.93      0.97      0.95      9156\n",
      "           1       0.66      0.43      0.52      1141\n",
      "\n",
      "    accuracy                           0.91     10297\n",
      "   macro avg       0.80      0.70      0.73     10297\n",
      "weighted avg       0.90      0.91      0.90     10297\n",
      "\n"
     ]
    }
   ],
   "source": [
    "# Importing the dependancies\n",
    "from sklearn import metrics\n",
    "# Printing the confusion matrix\n",
    "# The columns will show the instances predicted for each label,\n",
    "# and the rows will show the actual number of instances for each label.\n",
    "print(metrics.confusion_matrix(y_test, predictions, labels=[0, 1]))\n",
    "# Printing the precision and recall, among other metrics\n",
    "print(metrics.classification_report(y_test, predictions, labels=[0, 1]))"
   ]
  },
  {
   "cell_type": "markdown",
   "metadata": {},
   "source": [
    "Part III : Create a classification report and make note of various outputs\n",
    "\n"
   ]
  },
  {
   "cell_type": "code",
   "execution_count": 211,
   "metadata": {},
   "outputs": [
    {
     "ename": "ValueError",
     "evalue": "X has 2 features per sample; expecting 221",
     "output_type": "error",
     "traceback": [
      "\u001b[1;31m---------------------------------------------------------------------------\u001b[0m",
      "\u001b[1;31mValueError\u001b[0m                                Traceback (most recent call last)",
      "\u001b[1;32m<ipython-input-211-8574aedc4f93>\u001b[0m in \u001b[0;36m<module>\u001b[1;34m\u001b[0m\n\u001b[0;32m      4\u001b[0m X1, X2 = np.meshgrid(np.arange(start = X_set[:, 0].min() - 1, stop = X_set[:, 0].max() + 1, step = 0.01),\n\u001b[0;32m      5\u001b[0m                      np.arange(start = X_set[:, 1].min() - 1, stop = X_set[:, 1].max() + 1, step = 0.01))#here we set the limit \n\u001b[1;32m----> 6\u001b[1;33m plt.contourf(X1, X2, model.predict(np.array([X1.ravel(), X2.ravel()]).T).reshape(X1.shape),#real magic starts here\n\u001b[0m\u001b[0;32m      7\u001b[0m              alpha = 0.75, cmap = ListedColormap(('red', 'green')))\n\u001b[0;32m      8\u001b[0m \u001b[0mplt\u001b[0m\u001b[1;33m.\u001b[0m\u001b[0mxlim\u001b[0m\u001b[1;33m(\u001b[0m\u001b[0mX1\u001b[0m\u001b[1;33m.\u001b[0m\u001b[0mmin\u001b[0m\u001b[1;33m(\u001b[0m\u001b[1;33m)\u001b[0m\u001b[1;33m,\u001b[0m \u001b[0mX1\u001b[0m\u001b[1;33m.\u001b[0m\u001b[0mmax\u001b[0m\u001b[1;33m(\u001b[0m\u001b[1;33m)\u001b[0m\u001b[1;33m)\u001b[0m\u001b[1;33m\u001b[0m\u001b[1;33m\u001b[0m\u001b[0m\n",
      "\u001b[1;32m~\\anaconda3\\lib\\site-packages\\sklearn\\linear_model\\_base.py\u001b[0m in \u001b[0;36mpredict\u001b[1;34m(self, X)\u001b[0m\n\u001b[0;32m    305\u001b[0m             \u001b[0mPredicted\u001b[0m \u001b[1;32mclass\u001b[0m \u001b[0mlabel\u001b[0m \u001b[0mper\u001b[0m \u001b[0msample\u001b[0m\u001b[1;33m.\u001b[0m\u001b[1;33m\u001b[0m\u001b[1;33m\u001b[0m\u001b[0m\n\u001b[0;32m    306\u001b[0m         \"\"\"\n\u001b[1;32m--> 307\u001b[1;33m         \u001b[0mscores\u001b[0m \u001b[1;33m=\u001b[0m \u001b[0mself\u001b[0m\u001b[1;33m.\u001b[0m\u001b[0mdecision_function\u001b[0m\u001b[1;33m(\u001b[0m\u001b[0mX\u001b[0m\u001b[1;33m)\u001b[0m\u001b[1;33m\u001b[0m\u001b[1;33m\u001b[0m\u001b[0m\n\u001b[0m\u001b[0;32m    308\u001b[0m         \u001b[1;32mif\u001b[0m \u001b[0mlen\u001b[0m\u001b[1;33m(\u001b[0m\u001b[0mscores\u001b[0m\u001b[1;33m.\u001b[0m\u001b[0mshape\u001b[0m\u001b[1;33m)\u001b[0m \u001b[1;33m==\u001b[0m \u001b[1;36m1\u001b[0m\u001b[1;33m:\u001b[0m\u001b[1;33m\u001b[0m\u001b[1;33m\u001b[0m\u001b[0m\n\u001b[0;32m    309\u001b[0m             \u001b[0mindices\u001b[0m \u001b[1;33m=\u001b[0m \u001b[1;33m(\u001b[0m\u001b[0mscores\u001b[0m \u001b[1;33m>\u001b[0m \u001b[1;36m0\u001b[0m\u001b[1;33m)\u001b[0m\u001b[1;33m.\u001b[0m\u001b[0mastype\u001b[0m\u001b[1;33m(\u001b[0m\u001b[0mnp\u001b[0m\u001b[1;33m.\u001b[0m\u001b[0mint\u001b[0m\u001b[1;33m)\u001b[0m\u001b[1;33m\u001b[0m\u001b[1;33m\u001b[0m\u001b[0m\n",
      "\u001b[1;32m~\\anaconda3\\lib\\site-packages\\sklearn\\linear_model\\_base.py\u001b[0m in \u001b[0;36mdecision_function\u001b[1;34m(self, X)\u001b[0m\n\u001b[0;32m    284\u001b[0m         \u001b[0mn_features\u001b[0m \u001b[1;33m=\u001b[0m \u001b[0mself\u001b[0m\u001b[1;33m.\u001b[0m\u001b[0mcoef_\u001b[0m\u001b[1;33m.\u001b[0m\u001b[0mshape\u001b[0m\u001b[1;33m[\u001b[0m\u001b[1;36m1\u001b[0m\u001b[1;33m]\u001b[0m\u001b[1;33m\u001b[0m\u001b[1;33m\u001b[0m\u001b[0m\n\u001b[0;32m    285\u001b[0m         \u001b[1;32mif\u001b[0m \u001b[0mX\u001b[0m\u001b[1;33m.\u001b[0m\u001b[0mshape\u001b[0m\u001b[1;33m[\u001b[0m\u001b[1;36m1\u001b[0m\u001b[1;33m]\u001b[0m \u001b[1;33m!=\u001b[0m \u001b[0mn_features\u001b[0m\u001b[1;33m:\u001b[0m\u001b[1;33m\u001b[0m\u001b[1;33m\u001b[0m\u001b[0m\n\u001b[1;32m--> 286\u001b[1;33m             raise ValueError(\"X has %d features per sample; expecting %d\"\n\u001b[0m\u001b[0;32m    287\u001b[0m                              % (X.shape[1], n_features))\n\u001b[0;32m    288\u001b[0m \u001b[1;33m\u001b[0m\u001b[0m\n",
      "\u001b[1;31mValueError\u001b[0m: X has 2 features per sample; expecting 221"
     ]
    }
   ],
   "source": [
    "\n",
    "# Visualising the Training set results\n",
    "from matplotlib.colors import ListedColormap\n",
    "X_set, y_set = x_train, y_train#just assign the variable soo that we dont need to change it every time\n",
    "X1, X2 = np.meshgrid(np.arange(start = X_set[:, 0].min() - 1, stop = X_set[:, 0].max() + 1, step = 0.01),\n",
    "                     np.arange(start = X_set[:, 1].min() - 1, stop = X_set[:, 1].max() + 1, step = 0.01))#here we set the limit \n",
    "plt.contourf(X1, X2, model.predict(np.array([X1.ravel(), X2.ravel()]).T).reshape(X1.shape),#real magic starts here\n",
    "             alpha = 0.75, cmap = ListedColormap(('red', 'green')))\n",
    "plt.xlim(X1.min(), X1.max())\n",
    "plt.ylim(X2.min(), X2.max())\n",
    "for i, j in enumerate(np.unique(y_set)):\n",
    "    plt.scatter(X_set[y_set == j, 0], X_set[y_set == j, 1],\n",
    "                c = ListedColormap(('red', 'green'))(i), label = j)\n",
    "plt.title('Classifier (Training set)')\n",
    "plt.xlabel('Age')\n",
    "plt.ylabel('Estimated Salary')\n",
    "plt.legend()\n",
    "plt.show()"
   ]
  },
  {
   "cell_type": "markdown",
   "metadata": {},
   "source": [
    "## Section X : What's next?\n"
   ]
  },
  {
   "cell_type": "markdown",
   "metadata": {},
   "source": [
    "Part I : Make a note of difference in performance?\n"
   ]
  },
  {
   "cell_type": "code",
   "execution_count": null,
   "metadata": {},
   "outputs": [],
   "source": []
  },
  {
   "cell_type": "markdown",
   "metadata": {},
   "source": [
    "Part II : Can you recommend more improvements that could give much better results in all metrics?"
   ]
  },
  {
   "cell_type": "code",
   "execution_count": null,
   "metadata": {},
   "outputs": [],
   "source": []
  }
 ],
 "metadata": {
  "kernelspec": {
   "display_name": "Python 3",
   "language": "python",
   "name": "python3"
  },
  "language_info": {
   "codemirror_mode": {
    "name": "ipython",
    "version": 3
   },
   "file_extension": ".py",
   "mimetype": "text/x-python",
   "name": "python",
   "nbconvert_exporter": "python",
   "pygments_lexer": "ipython3",
   "version": "3.8.5"
  }
 },
 "nbformat": 4,
 "nbformat_minor": 4
}
