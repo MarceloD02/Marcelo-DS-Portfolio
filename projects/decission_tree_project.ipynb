{
 "cells": [
  {
   "cell_type": "markdown",
   "metadata": {},
   "source": [
    " This project is about business.\n",
    " the idea in this project is to predict the probability of a click being fraud or not in the chiness company by looking \n",
    " features like ip address operating system, device type, time of click..."
   ]
  },
  {
   "cell_type": "code",
   "execution_count": 1,
   "metadata": {},
   "outputs": [],
   "source": [
    "# let's import all backages that we will need in this project\n",
    "import numpy as np\n",
    "import pandas as pd\n",
    "from matplotlib import pyplot as plt\n",
    "import seaborn as sns\n",
    "import warnings\n",
    "warnings.filterwarnings('ignore')\n",
    "from scipy.stats import zscore\n",
    "%matplotlib inline"
   ]
  },
  {
   "cell_type": "code",
   "execution_count": 2,
   "metadata": {},
   "outputs": [],
   "source": [
    "data=pd.read_csv(\"C:\\\\Users\\\\marce\\\\OneDrive\\\\Ambiente de Trabalho\\\\DataScience\\\\Tree\\\\talking_data.csv\")"
   ]
  },
  {
   "cell_type": "markdown",
   "metadata": {},
   "source": [
    "## Explore the dataset for anomalies and missing values and take corrective actions if necessary.**"
   ]
  },
  {
   "cell_type": "code",
   "execution_count": 3,
   "metadata": {},
   "outputs": [
    {
     "name": "stdout",
     "output_type": "stream",
     "text": [
      "(100000, 8)\n"
     ]
    }
   ],
   "source": [
    "# print the shape\n",
    "print(data.shape) # as we can see we have 100000 row and 8 columns "
   ]
  },
  {
   "cell_type": "code",
   "execution_count": 4,
   "metadata": {},
   "outputs": [
    {
     "name": "stdout",
     "output_type": "stream",
     "text": [
      "Index(['ip', 'app', 'device', 'os', 'channel', 'click_time', 'attributed_time',\n",
      "       'is_attributed'],\n",
      "      dtype='object')\n"
     ]
    }
   ],
   "source": [
    "# print the name of the columns\n",
    "print (data.columns)"
   ]
  },
  {
   "cell_type": "code",
   "execution_count": 5,
   "metadata": {},
   "outputs": [],
   "source": [
    "# print the data.info to see the dtype of my data and also print the print the describe function to see information about statict"
   ]
  },
  {
   "cell_type": "code",
   "execution_count": 6,
   "metadata": {},
   "outputs": [
    {
     "name": "stdout",
     "output_type": "stream",
     "text": [
      "<class 'pandas.core.frame.DataFrame'>\n",
      "RangeIndex: 100000 entries, 0 to 99999\n",
      "Data columns (total 8 columns):\n",
      " #   Column           Non-Null Count   Dtype \n",
      "---  ------           --------------   ----- \n",
      " 0   ip               100000 non-null  int64 \n",
      " 1   app              100000 non-null  int64 \n",
      " 2   device           100000 non-null  int64 \n",
      " 3   os               100000 non-null  int64 \n",
      " 4   channel          100000 non-null  int64 \n",
      " 5   click_time       100000 non-null  object\n",
      " 6   attributed_time  227 non-null     object\n",
      " 7   is_attributed    100000 non-null  int64 \n",
      "dtypes: int64(6), object(2)\n",
      "memory usage: 6.1+ MB\n"
     ]
    },
    {
     "data": {
      "text/html": [
       "<div>\n",
       "<style scoped>\n",
       "    .dataframe tbody tr th:only-of-type {\n",
       "        vertical-align: middle;\n",
       "    }\n",
       "\n",
       "    .dataframe tbody tr th {\n",
       "        vertical-align: top;\n",
       "    }\n",
       "\n",
       "    .dataframe thead th {\n",
       "        text-align: right;\n",
       "    }\n",
       "</style>\n",
       "<table border=\"1\" class=\"dataframe\">\n",
       "  <thead>\n",
       "    <tr style=\"text-align: right;\">\n",
       "      <th></th>\n",
       "      <th>ip</th>\n",
       "      <th>app</th>\n",
       "      <th>device</th>\n",
       "      <th>os</th>\n",
       "      <th>channel</th>\n",
       "      <th>is_attributed</th>\n",
       "    </tr>\n",
       "  </thead>\n",
       "  <tbody>\n",
       "    <tr>\n",
       "      <th>count</th>\n",
       "      <td>100000.000000</td>\n",
       "      <td>100000.00000</td>\n",
       "      <td>100000.000000</td>\n",
       "      <td>100000.000000</td>\n",
       "      <td>100000.000000</td>\n",
       "      <td>100000.000000</td>\n",
       "    </tr>\n",
       "    <tr>\n",
       "      <th>mean</th>\n",
       "      <td>91255.879670</td>\n",
       "      <td>12.04788</td>\n",
       "      <td>21.771250</td>\n",
       "      <td>22.818280</td>\n",
       "      <td>268.832460</td>\n",
       "      <td>0.002270</td>\n",
       "    </tr>\n",
       "    <tr>\n",
       "      <th>std</th>\n",
       "      <td>69835.553661</td>\n",
       "      <td>14.94150</td>\n",
       "      <td>259.667767</td>\n",
       "      <td>55.943136</td>\n",
       "      <td>129.724248</td>\n",
       "      <td>0.047591</td>\n",
       "    </tr>\n",
       "    <tr>\n",
       "      <th>min</th>\n",
       "      <td>9.000000</td>\n",
       "      <td>1.00000</td>\n",
       "      <td>0.000000</td>\n",
       "      <td>0.000000</td>\n",
       "      <td>3.000000</td>\n",
       "      <td>0.000000</td>\n",
       "    </tr>\n",
       "    <tr>\n",
       "      <th>25%</th>\n",
       "      <td>40552.000000</td>\n",
       "      <td>3.00000</td>\n",
       "      <td>1.000000</td>\n",
       "      <td>13.000000</td>\n",
       "      <td>145.000000</td>\n",
       "      <td>0.000000</td>\n",
       "    </tr>\n",
       "    <tr>\n",
       "      <th>50%</th>\n",
       "      <td>79827.000000</td>\n",
       "      <td>12.00000</td>\n",
       "      <td>1.000000</td>\n",
       "      <td>18.000000</td>\n",
       "      <td>258.000000</td>\n",
       "      <td>0.000000</td>\n",
       "    </tr>\n",
       "    <tr>\n",
       "      <th>75%</th>\n",
       "      <td>118252.000000</td>\n",
       "      <td>15.00000</td>\n",
       "      <td>1.000000</td>\n",
       "      <td>19.000000</td>\n",
       "      <td>379.000000</td>\n",
       "      <td>0.000000</td>\n",
       "    </tr>\n",
       "    <tr>\n",
       "      <th>max</th>\n",
       "      <td>364757.000000</td>\n",
       "      <td>551.00000</td>\n",
       "      <td>3867.000000</td>\n",
       "      <td>866.000000</td>\n",
       "      <td>498.000000</td>\n",
       "      <td>1.000000</td>\n",
       "    </tr>\n",
       "  </tbody>\n",
       "</table>\n",
       "</div>"
      ],
      "text/plain": [
       "                  ip           app         device             os  \\\n",
       "count  100000.000000  100000.00000  100000.000000  100000.000000   \n",
       "mean    91255.879670      12.04788      21.771250      22.818280   \n",
       "std     69835.553661      14.94150     259.667767      55.943136   \n",
       "min         9.000000       1.00000       0.000000       0.000000   \n",
       "25%     40552.000000       3.00000       1.000000      13.000000   \n",
       "50%     79827.000000      12.00000       1.000000      18.000000   \n",
       "75%    118252.000000      15.00000       1.000000      19.000000   \n",
       "max    364757.000000     551.00000    3867.000000     866.000000   \n",
       "\n",
       "             channel  is_attributed  \n",
       "count  100000.000000  100000.000000  \n",
       "mean      268.832460       0.002270  \n",
       "std       129.724248       0.047591  \n",
       "min         3.000000       0.000000  \n",
       "25%       145.000000       0.000000  \n",
       "50%       258.000000       0.000000  \n",
       "75%       379.000000       0.000000  \n",
       "max       498.000000       1.000000  "
      ]
     },
     "execution_count": 6,
     "metadata": {},
     "output_type": "execute_result"
    }
   ],
   "source": [
    "data.info() # as we can see in the information, we have 6 numerical variable and 2 categorical\n",
    "data.describe()"
   ]
  },
  {
   "cell_type": "code",
   "execution_count": 7,
   "metadata": {},
   "outputs": [
    {
     "data": {
      "text/html": [
       "<div>\n",
       "<style scoped>\n",
       "    .dataframe tbody tr th:only-of-type {\n",
       "        vertical-align: middle;\n",
       "    }\n",
       "\n",
       "    .dataframe tbody tr th {\n",
       "        vertical-align: top;\n",
       "    }\n",
       "\n",
       "    .dataframe thead th {\n",
       "        text-align: right;\n",
       "    }\n",
       "</style>\n",
       "<table border=\"1\" class=\"dataframe\">\n",
       "  <thead>\n",
       "    <tr style=\"text-align: right;\">\n",
       "      <th></th>\n",
       "      <th>ip</th>\n",
       "      <th>app</th>\n",
       "      <th>device</th>\n",
       "      <th>os</th>\n",
       "      <th>channel</th>\n",
       "      <th>click_time</th>\n",
       "      <th>attributed_time</th>\n",
       "      <th>is_attributed</th>\n",
       "    </tr>\n",
       "  </thead>\n",
       "  <tbody>\n",
       "    <tr>\n",
       "      <th>0</th>\n",
       "      <td>87540</td>\n",
       "      <td>12</td>\n",
       "      <td>1</td>\n",
       "      <td>13</td>\n",
       "      <td>497</td>\n",
       "      <td>2017-11-07 09:30:38</td>\n",
       "      <td>NaN</td>\n",
       "      <td>0</td>\n",
       "    </tr>\n",
       "    <tr>\n",
       "      <th>1</th>\n",
       "      <td>105560</td>\n",
       "      <td>25</td>\n",
       "      <td>1</td>\n",
       "      <td>17</td>\n",
       "      <td>259</td>\n",
       "      <td>2017-11-07 13:40:27</td>\n",
       "      <td>NaN</td>\n",
       "      <td>0</td>\n",
       "    </tr>\n",
       "    <tr>\n",
       "      <th>2</th>\n",
       "      <td>101424</td>\n",
       "      <td>12</td>\n",
       "      <td>1</td>\n",
       "      <td>19</td>\n",
       "      <td>212</td>\n",
       "      <td>2017-11-07 18:05:24</td>\n",
       "      <td>NaN</td>\n",
       "      <td>0</td>\n",
       "    </tr>\n",
       "    <tr>\n",
       "      <th>3</th>\n",
       "      <td>94584</td>\n",
       "      <td>13</td>\n",
       "      <td>1</td>\n",
       "      <td>13</td>\n",
       "      <td>477</td>\n",
       "      <td>2017-11-07 04:58:08</td>\n",
       "      <td>NaN</td>\n",
       "      <td>0</td>\n",
       "    </tr>\n",
       "    <tr>\n",
       "      <th>4</th>\n",
       "      <td>68413</td>\n",
       "      <td>12</td>\n",
       "      <td>1</td>\n",
       "      <td>1</td>\n",
       "      <td>178</td>\n",
       "      <td>2017-11-09 09:00:09</td>\n",
       "      <td>NaN</td>\n",
       "      <td>0</td>\n",
       "    </tr>\n",
       "    <tr>\n",
       "      <th>5</th>\n",
       "      <td>93663</td>\n",
       "      <td>3</td>\n",
       "      <td>1</td>\n",
       "      <td>17</td>\n",
       "      <td>115</td>\n",
       "      <td>2017-11-09 01:22:13</td>\n",
       "      <td>NaN</td>\n",
       "      <td>0</td>\n",
       "    </tr>\n",
       "    <tr>\n",
       "      <th>6</th>\n",
       "      <td>17059</td>\n",
       "      <td>1</td>\n",
       "      <td>1</td>\n",
       "      <td>17</td>\n",
       "      <td>135</td>\n",
       "      <td>2017-11-09 01:17:58</td>\n",
       "      <td>NaN</td>\n",
       "      <td>0</td>\n",
       "    </tr>\n",
       "    <tr>\n",
       "      <th>7</th>\n",
       "      <td>121505</td>\n",
       "      <td>9</td>\n",
       "      <td>1</td>\n",
       "      <td>25</td>\n",
       "      <td>442</td>\n",
       "      <td>2017-11-07 10:01:53</td>\n",
       "      <td>NaN</td>\n",
       "      <td>0</td>\n",
       "    </tr>\n",
       "    <tr>\n",
       "      <th>8</th>\n",
       "      <td>192967</td>\n",
       "      <td>2</td>\n",
       "      <td>2</td>\n",
       "      <td>22</td>\n",
       "      <td>364</td>\n",
       "      <td>2017-11-08 09:35:17</td>\n",
       "      <td>NaN</td>\n",
       "      <td>0</td>\n",
       "    </tr>\n",
       "    <tr>\n",
       "      <th>9</th>\n",
       "      <td>143636</td>\n",
       "      <td>3</td>\n",
       "      <td>1</td>\n",
       "      <td>19</td>\n",
       "      <td>135</td>\n",
       "      <td>2017-11-08 12:35:26</td>\n",
       "      <td>NaN</td>\n",
       "      <td>0</td>\n",
       "    </tr>\n",
       "  </tbody>\n",
       "</table>\n",
       "</div>"
      ],
      "text/plain": [
       "       ip  app  device  os  channel           click_time attributed_time  \\\n",
       "0   87540   12       1  13      497  2017-11-07 09:30:38             NaN   \n",
       "1  105560   25       1  17      259  2017-11-07 13:40:27             NaN   \n",
       "2  101424   12       1  19      212  2017-11-07 18:05:24             NaN   \n",
       "3   94584   13       1  13      477  2017-11-07 04:58:08             NaN   \n",
       "4   68413   12       1   1      178  2017-11-09 09:00:09             NaN   \n",
       "5   93663    3       1  17      115  2017-11-09 01:22:13             NaN   \n",
       "6   17059    1       1  17      135  2017-11-09 01:17:58             NaN   \n",
       "7  121505    9       1  25      442  2017-11-07 10:01:53             NaN   \n",
       "8  192967    2       2  22      364  2017-11-08 09:35:17             NaN   \n",
       "9  143636    3       1  19      135  2017-11-08 12:35:26             NaN   \n",
       "\n",
       "   is_attributed  \n",
       "0              0  \n",
       "1              0  \n",
       "2              0  \n",
       "3              0  \n",
       "4              0  \n",
       "5              0  \n",
       "6              0  \n",
       "7              0  \n",
       "8              0  \n",
       "9              0  "
      ]
     },
     "execution_count": 7,
     "metadata": {},
     "output_type": "execute_result"
    }
   ],
   "source": [
    "# see the first 10 element in my data to analyze it\n",
    "data.head(10)"
   ]
  },
  {
   "cell_type": "code",
   "execution_count": 8,
   "metadata": {},
   "outputs": [],
   "source": [
    "# as we can see in data, we have attributed_time NaN, and is_attributed (my dependent variable 0) it's look like\n",
    "# those columns may have need some ajustment."
   ]
  },
  {
   "cell_type": "code",
   "execution_count": 9,
   "metadata": {},
   "outputs": [
    {
     "data": {
      "text/plain": [
       "ip                     0\n",
       "app                    0\n",
       "device                 0\n",
       "os                     0\n",
       "channel                0\n",
       "click_time             0\n",
       "attributed_time    99773\n",
       "is_attributed          0\n",
       "dtype: int64"
      ]
     },
     "execution_count": 9,
     "metadata": {},
     "output_type": "execute_result"
    }
   ],
   "source": [
    "# so let's looking for missing value \n",
    "data.isnull().sum()"
   ]
  },
  {
   "cell_type": "code",
   "execution_count": 10,
   "metadata": {},
   "outputs": [
    {
     "data": {
      "text/html": [
       "<div>\n",
       "<style scoped>\n",
       "    .dataframe tbody tr th:only-of-type {\n",
       "        vertical-align: middle;\n",
       "    }\n",
       "\n",
       "    .dataframe tbody tr th {\n",
       "        vertical-align: top;\n",
       "    }\n",
       "\n",
       "    .dataframe thead th {\n",
       "        text-align: right;\n",
       "    }\n",
       "</style>\n",
       "<table border=\"1\" class=\"dataframe\">\n",
       "  <thead>\n",
       "    <tr style=\"text-align: right;\">\n",
       "      <th></th>\n",
       "      <th>ip</th>\n",
       "      <th>app</th>\n",
       "      <th>device</th>\n",
       "      <th>os</th>\n",
       "      <th>channel</th>\n",
       "      <th>click_time</th>\n",
       "      <th>attributed_time</th>\n",
       "      <th>is_attributed</th>\n",
       "    </tr>\n",
       "  </thead>\n",
       "  <tbody>\n",
       "    <tr>\n",
       "      <th>0</th>\n",
       "      <td>87540</td>\n",
       "      <td>12</td>\n",
       "      <td>1</td>\n",
       "      <td>13</td>\n",
       "      <td>497</td>\n",
       "      <td>2017-11-07 09:30:38</td>\n",
       "      <td>NaN</td>\n",
       "      <td>0</td>\n",
       "    </tr>\n",
       "    <tr>\n",
       "      <th>1</th>\n",
       "      <td>105560</td>\n",
       "      <td>25</td>\n",
       "      <td>1</td>\n",
       "      <td>17</td>\n",
       "      <td>259</td>\n",
       "      <td>2017-11-07 13:40:27</td>\n",
       "      <td>NaN</td>\n",
       "      <td>0</td>\n",
       "    </tr>\n",
       "    <tr>\n",
       "      <th>2</th>\n",
       "      <td>101424</td>\n",
       "      <td>12</td>\n",
       "      <td>1</td>\n",
       "      <td>19</td>\n",
       "      <td>212</td>\n",
       "      <td>2017-11-07 18:05:24</td>\n",
       "      <td>NaN</td>\n",
       "      <td>0</td>\n",
       "    </tr>\n",
       "    <tr>\n",
       "      <th>3</th>\n",
       "      <td>94584</td>\n",
       "      <td>13</td>\n",
       "      <td>1</td>\n",
       "      <td>13</td>\n",
       "      <td>477</td>\n",
       "      <td>2017-11-07 04:58:08</td>\n",
       "      <td>NaN</td>\n",
       "      <td>0</td>\n",
       "    </tr>\n",
       "    <tr>\n",
       "      <th>4</th>\n",
       "      <td>68413</td>\n",
       "      <td>12</td>\n",
       "      <td>1</td>\n",
       "      <td>1</td>\n",
       "      <td>178</td>\n",
       "      <td>2017-11-09 09:00:09</td>\n",
       "      <td>NaN</td>\n",
       "      <td>0</td>\n",
       "    </tr>\n",
       "    <tr>\n",
       "      <th>...</th>\n",
       "      <td>...</td>\n",
       "      <td>...</td>\n",
       "      <td>...</td>\n",
       "      <td>...</td>\n",
       "      <td>...</td>\n",
       "      <td>...</td>\n",
       "      <td>...</td>\n",
       "      <td>...</td>\n",
       "    </tr>\n",
       "    <tr>\n",
       "      <th>99995</th>\n",
       "      <td>124883</td>\n",
       "      <td>11</td>\n",
       "      <td>1</td>\n",
       "      <td>19</td>\n",
       "      <td>122</td>\n",
       "      <td>2017-11-09 13:25:41</td>\n",
       "      <td>NaN</td>\n",
       "      <td>0</td>\n",
       "    </tr>\n",
       "    <tr>\n",
       "      <th>99996</th>\n",
       "      <td>85150</td>\n",
       "      <td>9</td>\n",
       "      <td>1</td>\n",
       "      <td>13</td>\n",
       "      <td>244</td>\n",
       "      <td>2017-11-07 11:25:43</td>\n",
       "      <td>NaN</td>\n",
       "      <td>0</td>\n",
       "    </tr>\n",
       "    <tr>\n",
       "      <th>99997</th>\n",
       "      <td>18839</td>\n",
       "      <td>3</td>\n",
       "      <td>1</td>\n",
       "      <td>13</td>\n",
       "      <td>19</td>\n",
       "      <td>2017-11-08 11:38:42</td>\n",
       "      <td>NaN</td>\n",
       "      <td>0</td>\n",
       "    </tr>\n",
       "    <tr>\n",
       "      <th>99998</th>\n",
       "      <td>114276</td>\n",
       "      <td>15</td>\n",
       "      <td>1</td>\n",
       "      <td>12</td>\n",
       "      <td>245</td>\n",
       "      <td>2017-11-08 17:55:21</td>\n",
       "      <td>NaN</td>\n",
       "      <td>0</td>\n",
       "    </tr>\n",
       "    <tr>\n",
       "      <th>99999</th>\n",
       "      <td>119349</td>\n",
       "      <td>14</td>\n",
       "      <td>1</td>\n",
       "      <td>15</td>\n",
       "      <td>401</td>\n",
       "      <td>2017-11-07 14:32:27</td>\n",
       "      <td>NaN</td>\n",
       "      <td>0</td>\n",
       "    </tr>\n",
       "  </tbody>\n",
       "</table>\n",
       "<p>100000 rows × 8 columns</p>\n",
       "</div>"
      ],
      "text/plain": [
       "           ip  app  device  os  channel           click_time attributed_time  \\\n",
       "0       87540   12       1  13      497  2017-11-07 09:30:38             NaN   \n",
       "1      105560   25       1  17      259  2017-11-07 13:40:27             NaN   \n",
       "2      101424   12       1  19      212  2017-11-07 18:05:24             NaN   \n",
       "3       94584   13       1  13      477  2017-11-07 04:58:08             NaN   \n",
       "4       68413   12       1   1      178  2017-11-09 09:00:09             NaN   \n",
       "...       ...  ...     ...  ..      ...                  ...             ...   \n",
       "99995  124883   11       1  19      122  2017-11-09 13:25:41             NaN   \n",
       "99996   85150    9       1  13      244  2017-11-07 11:25:43             NaN   \n",
       "99997   18839    3       1  13       19  2017-11-08 11:38:42             NaN   \n",
       "99998  114276   15       1  12      245  2017-11-08 17:55:21             NaN   \n",
       "99999  119349   14       1  15      401  2017-11-07 14:32:27             NaN   \n",
       "\n",
       "       is_attributed  \n",
       "0                  0  \n",
       "1                  0  \n",
       "2                  0  \n",
       "3                  0  \n",
       "4                  0  \n",
       "...              ...  \n",
       "99995              0  \n",
       "99996              0  \n",
       "99997              0  \n",
       "99998              0  \n",
       "99999              0  \n",
       "\n",
       "[100000 rows x 8 columns]"
      ]
     },
     "execution_count": 10,
     "metadata": {},
     "output_type": "execute_result"
    }
   ],
   "source": [
    "# like I was expected by looking my data, we have  99773 missing value in attributed_time .\n",
    "data"
   ]
  },
  {
   "cell_type": "code",
   "execution_count": 11,
   "metadata": {},
   "outputs": [],
   "source": [
    "# let's delete the NaN values, by creating a new variable called data1\n",
    "data1=data.drop('attributed_time',axis=1)"
   ]
  },
  {
   "cell_type": "code",
   "execution_count": 12,
   "metadata": {},
   "outputs": [
    {
     "data": {
      "text/plain": [
       "ip               0\n",
       "app              0\n",
       "device           0\n",
       "os               0\n",
       "channel          0\n",
       "click_time       0\n",
       "is_attributed    0\n",
       "dtype: int64"
      ]
     },
     "execution_count": 12,
     "metadata": {},
     "output_type": "execute_result"
    }
   ],
   "source": [
    "# so let's looking for missing value \n",
    "data1.isnull().sum()"
   ]
  },
  {
   "cell_type": "code",
   "execution_count": 13,
   "metadata": {},
   "outputs": [
    {
     "data": {
      "text/plain": [
       "(100000, 7)"
      ]
     },
     "execution_count": 13,
     "metadata": {},
     "output_type": "execute_result"
    }
   ],
   "source": [
    "data1.shape"
   ]
  },
  {
   "cell_type": "code",
   "execution_count": 14,
   "metadata": {},
   "outputs": [
    {
     "data": {
      "text/html": [
       "<div>\n",
       "<style scoped>\n",
       "    .dataframe tbody tr th:only-of-type {\n",
       "        vertical-align: middle;\n",
       "    }\n",
       "\n",
       "    .dataframe tbody tr th {\n",
       "        vertical-align: top;\n",
       "    }\n",
       "\n",
       "    .dataframe thead th {\n",
       "        text-align: right;\n",
       "    }\n",
       "</style>\n",
       "<table border=\"1\" class=\"dataframe\">\n",
       "  <thead>\n",
       "    <tr style=\"text-align: right;\">\n",
       "      <th></th>\n",
       "      <th>ip</th>\n",
       "      <th>app</th>\n",
       "      <th>device</th>\n",
       "      <th>os</th>\n",
       "      <th>channel</th>\n",
       "      <th>click_time</th>\n",
       "      <th>is_attributed</th>\n",
       "    </tr>\n",
       "  </thead>\n",
       "  <tbody>\n",
       "    <tr>\n",
       "      <th>0</th>\n",
       "      <td>87540</td>\n",
       "      <td>12</td>\n",
       "      <td>1</td>\n",
       "      <td>13</td>\n",
       "      <td>497</td>\n",
       "      <td>2017-11-07 09:30:38</td>\n",
       "      <td>0</td>\n",
       "    </tr>\n",
       "    <tr>\n",
       "      <th>1</th>\n",
       "      <td>105560</td>\n",
       "      <td>25</td>\n",
       "      <td>1</td>\n",
       "      <td>17</td>\n",
       "      <td>259</td>\n",
       "      <td>2017-11-07 13:40:27</td>\n",
       "      <td>0</td>\n",
       "    </tr>\n",
       "    <tr>\n",
       "      <th>2</th>\n",
       "      <td>101424</td>\n",
       "      <td>12</td>\n",
       "      <td>1</td>\n",
       "      <td>19</td>\n",
       "      <td>212</td>\n",
       "      <td>2017-11-07 18:05:24</td>\n",
       "      <td>0</td>\n",
       "    </tr>\n",
       "    <tr>\n",
       "      <th>3</th>\n",
       "      <td>94584</td>\n",
       "      <td>13</td>\n",
       "      <td>1</td>\n",
       "      <td>13</td>\n",
       "      <td>477</td>\n",
       "      <td>2017-11-07 04:58:08</td>\n",
       "      <td>0</td>\n",
       "    </tr>\n",
       "    <tr>\n",
       "      <th>4</th>\n",
       "      <td>68413</td>\n",
       "      <td>12</td>\n",
       "      <td>1</td>\n",
       "      <td>1</td>\n",
       "      <td>178</td>\n",
       "      <td>2017-11-09 09:00:09</td>\n",
       "      <td>0</td>\n",
       "    </tr>\n",
       "    <tr>\n",
       "      <th>...</th>\n",
       "      <td>...</td>\n",
       "      <td>...</td>\n",
       "      <td>...</td>\n",
       "      <td>...</td>\n",
       "      <td>...</td>\n",
       "      <td>...</td>\n",
       "      <td>...</td>\n",
       "    </tr>\n",
       "    <tr>\n",
       "      <th>99995</th>\n",
       "      <td>124883</td>\n",
       "      <td>11</td>\n",
       "      <td>1</td>\n",
       "      <td>19</td>\n",
       "      <td>122</td>\n",
       "      <td>2017-11-09 13:25:41</td>\n",
       "      <td>0</td>\n",
       "    </tr>\n",
       "    <tr>\n",
       "      <th>99996</th>\n",
       "      <td>85150</td>\n",
       "      <td>9</td>\n",
       "      <td>1</td>\n",
       "      <td>13</td>\n",
       "      <td>244</td>\n",
       "      <td>2017-11-07 11:25:43</td>\n",
       "      <td>0</td>\n",
       "    </tr>\n",
       "    <tr>\n",
       "      <th>99997</th>\n",
       "      <td>18839</td>\n",
       "      <td>3</td>\n",
       "      <td>1</td>\n",
       "      <td>13</td>\n",
       "      <td>19</td>\n",
       "      <td>2017-11-08 11:38:42</td>\n",
       "      <td>0</td>\n",
       "    </tr>\n",
       "    <tr>\n",
       "      <th>99998</th>\n",
       "      <td>114276</td>\n",
       "      <td>15</td>\n",
       "      <td>1</td>\n",
       "      <td>12</td>\n",
       "      <td>245</td>\n",
       "      <td>2017-11-08 17:55:21</td>\n",
       "      <td>0</td>\n",
       "    </tr>\n",
       "    <tr>\n",
       "      <th>99999</th>\n",
       "      <td>119349</td>\n",
       "      <td>14</td>\n",
       "      <td>1</td>\n",
       "      <td>15</td>\n",
       "      <td>401</td>\n",
       "      <td>2017-11-07 14:32:27</td>\n",
       "      <td>0</td>\n",
       "    </tr>\n",
       "  </tbody>\n",
       "</table>\n",
       "<p>100000 rows × 7 columns</p>\n",
       "</div>"
      ],
      "text/plain": [
       "           ip  app  device  os  channel           click_time  is_attributed\n",
       "0       87540   12       1  13      497  2017-11-07 09:30:38              0\n",
       "1      105560   25       1  17      259  2017-11-07 13:40:27              0\n",
       "2      101424   12       1  19      212  2017-11-07 18:05:24              0\n",
       "3       94584   13       1  13      477  2017-11-07 04:58:08              0\n",
       "4       68413   12       1   1      178  2017-11-09 09:00:09              0\n",
       "...       ...  ...     ...  ..      ...                  ...            ...\n",
       "99995  124883   11       1  19      122  2017-11-09 13:25:41              0\n",
       "99996   85150    9       1  13      244  2017-11-07 11:25:43              0\n",
       "99997   18839    3       1  13       19  2017-11-08 11:38:42              0\n",
       "99998  114276   15       1  12      245  2017-11-08 17:55:21              0\n",
       "99999  119349   14       1  15      401  2017-11-07 14:32:27              0\n",
       "\n",
       "[100000 rows x 7 columns]"
      ]
     },
     "execution_count": 14,
     "metadata": {},
     "output_type": "execute_result"
    }
   ],
   "source": [
    "data1"
   ]
  },
  {
   "cell_type": "code",
   "execution_count": 15,
   "metadata": {},
   "outputs": [],
   "source": [
    "# Now we do not have the column attributed_time.\n",
    "# so let's see info about my new data\n"
   ]
  },
  {
   "cell_type": "code",
   "execution_count": 16,
   "metadata": {},
   "outputs": [
    {
     "name": "stdout",
     "output_type": "stream",
     "text": [
      "<class 'pandas.core.frame.DataFrame'>\n",
      "RangeIndex: 100000 entries, 0 to 99999\n",
      "Data columns (total 7 columns):\n",
      " #   Column         Non-Null Count   Dtype \n",
      "---  ------         --------------   ----- \n",
      " 0   ip             100000 non-null  int64 \n",
      " 1   app            100000 non-null  int64 \n",
      " 2   device         100000 non-null  int64 \n",
      " 3   os             100000 non-null  int64 \n",
      " 4   channel        100000 non-null  int64 \n",
      " 5   click_time     100000 non-null  object\n",
      " 6   is_attributed  100000 non-null  int64 \n",
      "dtypes: int64(6), object(1)\n",
      "memory usage: 5.3+ MB\n"
     ]
    }
   ],
   "source": [
    "data1.info()"
   ]
  },
  {
   "cell_type": "code",
   "execution_count": 17,
   "metadata": {},
   "outputs": [
    {
     "name": "stdout",
     "output_type": "stream",
     "text": [
      "['2017-11-07 09:30:38' '2017-11-07 13:40:27' '2017-11-07 18:05:24' ...\n",
      " '2017-11-09 04:21:28' '2017-11-07 09:33:14' '2017-11-09 13:25:41']\n"
     ]
    }
   ],
   "source": [
    "# Now i will examine column 1 by 1\n",
    "data1['click_time'].unique\n",
    "# by examine the data, we can see everything is \n",
    "# print (data1['ip'].value_counts())\n",
    "#print (data1['os'].unique())\n",
    "#print (data1['ap'].unique())\n",
    "print (data1['click_time'].unique())"
   ]
  },
  {
   "cell_type": "code",
   "execution_count": 18,
   "metadata": {},
   "outputs": [
    {
     "data": {
      "text/plain": [
       "ip                int64\n",
       "app               int64\n",
       "device            int64\n",
       "os                int64\n",
       "channel           int64\n",
       "click_time       object\n",
       "is_attributed     int64\n",
       "dtype: object"
      ]
     },
     "execution_count": 18,
     "metadata": {},
     "output_type": "execute_result"
    }
   ],
   "source": [
    " \n",
    "data1.dtypes"
   ]
  },
  {
   "cell_type": "code",
   "execution_count": 19,
   "metadata": {},
   "outputs": [],
   "source": [
    "# so now, let's pick up the column click_time which is a categorical variable and transforme it in numerical variable by using \n",
    "# the loop for.\n",
    "#for feature in data1.columns: # Loop through all columns in the dataframe\n",
    "  #  if data1[feature].dtype == 'object': # Only apply for columns with categorical strings\n",
    "   #     data[feature] = pd.Categorical(data[feature]).codes # Replace strings with an integer\n",
    "\n",
    "#data1.info()\n",
    "#data1.describe()"
   ]
  },
  {
   "cell_type": "code",
   "execution_count": null,
   "metadata": {},
   "outputs": [],
   "source": []
  },
  {
   "cell_type": "markdown",
   "metadata": {},
   "source": [
    "# vizualize data"
   ]
  },
  {
   "cell_type": "code",
   "execution_count": 82,
   "metadata": {},
   "outputs": [
    {
     "data": {
      "text/plain": [
       "<AxesSubplot:xlabel='ip', ylabel='device'>"
      ]
     },
     "execution_count": 82,
     "metadata": {},
     "output_type": "execute_result"
    },
    {
     "data": {
      "image/png": "[encoded data removed]",
      "text/plain": [
       "<Figure size 432x288 with 1 Axes>"
      ]
     },
     "metadata": {
      "needs_background": "light"
     },
     "output_type": "display_data"
    }
   ],
   "source": [
    "# so, now let's do some plot and see the relationship between variables\n",
    "sns.scatterplot(x='ip',y='device',hue='is_attributed',data=data1)"
   ]
  },
  {
   "cell_type": "code",
   "execution_count": 148,
   "metadata": {},
   "outputs": [
    {
     "data": {
      "text/plain": [
       "<AxesSubplot:xlabel='ip', ylabel='device'>"
      ]
     },
     "execution_count": 148,
     "metadata": {},
     "output_type": "execute_result"
    },
    {
     "data": {
      "image/png": "[encoded data removed]",
      "text/plain": [
       "<Figure size 432x288 with 1 Axes>"
      ]
     },
     "metadata": {
      "needs_background": "light"
     },
     "output_type": "display_data"
    }
   ],
   "source": [
    "sns.scatterplot(x='ip',y='device',hue='is_attributed',data=data1)"
   ]
  },
  {
   "cell_type": "code",
   "execution_count": 20,
   "metadata": {},
   "outputs": [
    {
     "data": {
      "text/plain": [
       "<seaborn.axisgrid.PairGrid at 0x1e520147e80>"
      ]
     },
     "execution_count": 20,
     "metadata": {},
     "output_type": "execute_result"
    },
    {
     "data": {
      "image/png": "[encoded data removed]",
      "text/plain": [
       "<Figure size 971x900 with 30 Axes>"
      ]
     },
     "metadata": {
      "needs_background": "light"
     },
     "output_type": "display_data"
    }
   ],
   "source": [
    "sns.pairplot(data1, hue=\"is_attributed\", diag_kind = 'hist', palette=\"husl\")"
   ]
  },
  {
   "cell_type": "code",
   "execution_count": null,
   "metadata": {},
   "outputs": [],
   "source": [
    "# in the graph we can see that, almost 90% of our data is 0, mean that we do no fraud. and we do not have as much relationship between variable"
   ]
  },
  {
   "cell_type": "code",
   "execution_count": 21,
   "metadata": {},
   "outputs": [
    {
     "data": {
      "text/html": [
       "<div>\n",
       "<style scoped>\n",
       "    .dataframe tbody tr th:only-of-type {\n",
       "        vertical-align: middle;\n",
       "    }\n",
       "\n",
       "    .dataframe tbody tr th {\n",
       "        vertical-align: top;\n",
       "    }\n",
       "\n",
       "    .dataframe thead th {\n",
       "        text-align: right;\n",
       "    }\n",
       "</style>\n",
       "<table border=\"1\" class=\"dataframe\">\n",
       "  <thead>\n",
       "    <tr style=\"text-align: right;\">\n",
       "      <th></th>\n",
       "      <th>ip</th>\n",
       "      <th>app</th>\n",
       "      <th>device</th>\n",
       "      <th>os</th>\n",
       "      <th>channel</th>\n",
       "      <th>is_attributed</th>\n",
       "    </tr>\n",
       "  </thead>\n",
       "  <tbody>\n",
       "    <tr>\n",
       "      <th>ip</th>\n",
       "      <td>1.000000</td>\n",
       "      <td>0.010400</td>\n",
       "      <td>-0.001499</td>\n",
       "      <td>-0.000470</td>\n",
       "      <td>0.007563</td>\n",
       "      <td>0.054955</td>\n",
       "    </tr>\n",
       "    <tr>\n",
       "      <th>app</th>\n",
       "      <td>0.010400</td>\n",
       "      <td>1.000000</td>\n",
       "      <td>0.248376</td>\n",
       "      <td>0.247160</td>\n",
       "      <td>-0.028238</td>\n",
       "      <td>0.064426</td>\n",
       "    </tr>\n",
       "    <tr>\n",
       "      <th>device</th>\n",
       "      <td>-0.001499</td>\n",
       "      <td>0.248376</td>\n",
       "      <td>1.000000</td>\n",
       "      <td>0.924456</td>\n",
       "      <td>-0.035398</td>\n",
       "      <td>-0.000695</td>\n",
       "    </tr>\n",
       "    <tr>\n",
       "      <th>os</th>\n",
       "      <td>-0.000470</td>\n",
       "      <td>0.247160</td>\n",
       "      <td>0.924456</td>\n",
       "      <td>1.000000</td>\n",
       "      <td>-0.033175</td>\n",
       "      <td>0.006183</td>\n",
       "    </tr>\n",
       "    <tr>\n",
       "      <th>channel</th>\n",
       "      <td>0.007563</td>\n",
       "      <td>-0.028238</td>\n",
       "      <td>-0.035398</td>\n",
       "      <td>-0.033175</td>\n",
       "      <td>1.000000</td>\n",
       "      <td>-0.023336</td>\n",
       "    </tr>\n",
       "    <tr>\n",
       "      <th>is_attributed</th>\n",
       "      <td>0.054955</td>\n",
       "      <td>0.064426</td>\n",
       "      <td>-0.000695</td>\n",
       "      <td>0.006183</td>\n",
       "      <td>-0.023336</td>\n",
       "      <td>1.000000</td>\n",
       "    </tr>\n",
       "  </tbody>\n",
       "</table>\n",
       "</div>"
      ],
      "text/plain": [
       "                     ip       app    device        os   channel  is_attributed\n",
       "ip             1.000000  0.010400 -0.001499 -0.000470  0.007563       0.054955\n",
       "app            0.010400  1.000000  0.248376  0.247160 -0.028238       0.064426\n",
       "device        -0.001499  0.248376  1.000000  0.924456 -0.035398      -0.000695\n",
       "os            -0.000470  0.247160  0.924456  1.000000 -0.033175       0.006183\n",
       "channel        0.007563 -0.028238 -0.035398 -0.033175  1.000000      -0.023336\n",
       "is_attributed  0.054955  0.064426 -0.000695  0.006183 -0.023336       1.000000"
      ]
     },
     "execution_count": 21,
     "metadata": {},
     "output_type": "execute_result"
    }
   ],
   "source": [
    "# do the correlation between my variable in my data\n",
    "corr = data1.corr()\n",
    "corr"
   ]
  },
  {
   "cell_type": "code",
   "execution_count": null,
   "metadata": {},
   "outputs": [],
   "source": [
    "# as we can see in the correlation table, we do not have a very good correlationship between variables, the only good corelactionship \n",
    "# that we have is corelationship between DEVICE and OS. we can say that, these two varible have a strong correlationship"
   ]
  },
  {
   "cell_type": "code",
   "execution_count": 22,
   "metadata": {},
   "outputs": [
    {
     "data": {
      "text/plain": [
       "<AxesSubplot:>"
      ]
     },
     "execution_count": 22,
     "metadata": {},
     "output_type": "execute_result"
    },
    {
     "data": {
      "image/png": "[encoded data removed]",
      "text/plain": [
       "<Figure size 1440x720 with 2 Axes>"
      ]
     },
     "metadata": {
      "needs_background": "light"
     },
     "output_type": "display_data"
    }
   ],
   "source": [
    "# do the heatmap to get more elivible result about corelation between variable\n",
    "plt.figure(figsize=(20,10))\n",
    "sns.heatmap(corr,annot=True)"
   ]
  },
  {
   "cell_type": "code",
   "execution_count": null,
   "metadata": {},
   "outputs": [],
   "source": [
    "# As we can see in the map, we have some corelation between variable almost zero. that's mean does variable do not have a \n",
    "# important impact in my analizes\n",
    "# for example correlaction between ip and os is almost zero, but I will keep this variable in my analizes\n",
    "# because it has a good corelaction with others variable"
   ]
  },
  {
   "cell_type": "code",
   "execution_count": 20,
   "metadata": {},
   "outputs": [
    {
     "data": {
      "text/plain": [
       "<AxesSubplot:xlabel='is_attributed', ylabel='count'>"
      ]
     },
     "execution_count": 20,
     "metadata": {},
     "output_type": "execute_result"
    },
    {
     "data": {
      "image/png": "[encoded data removed]",
      "text/plain": [
       "<Figure size 432x288 with 1 Axes>"
      ]
     },
     "metadata": {
      "needs_background": "light"
     },
     "output_type": "display_data"
    }
   ],
   "source": [
    "# now let's see if the data is balance or not by ploting the countplot\n",
    "sns.countplot(x='is_attributed', data=data1, palette='Set3')"
   ]
  },
  {
   "cell_type": "code",
   "execution_count": null,
   "metadata": {},
   "outputs": [],
   "source": [
    "# as we can see, the data is unbalanced because we have more than 90% of data as 0\n",
    "# we can say that The vast majority of the transactions will be in the “Not-Fraud” class and a very\n",
    "#small minority will be in the “Fraud” class."
   ]
  },
  {
   "cell_type": "code",
   "execution_count": null,
   "metadata": {},
   "outputs": [],
   "source": [
    "# question. how to balance my data"
   ]
  },
  {
   "cell_type": "markdown",
   "metadata": {},
   "source": [
    "## **2. Which column has maximum number of unique values present among all the available columns**"
   ]
  },
  {
   "cell_type": "code",
   "execution_count": 21,
   "metadata": {},
   "outputs": [],
   "source": [
    "uniques = {col: data1[col].unique() for col in data1}"
   ]
  },
  {
   "cell_type": "code",
   "execution_count": 22,
   "metadata": {},
   "outputs": [
    {
     "data": {
      "text/plain": [
       "{'ip': array([ 87540, 105560, 101424, ..., 153487,  34029, 185961], dtype=int64),\n",
       " 'app': array([ 12,  25,  13,   3,   1,   9,   2,   6,  20,  14,  64,   7,  15,\n",
       "         18,  11,   8,  23,  21,  56,  28,  36,  22,  26,  17,  27,  10,\n",
       "         60,  58,  19,  32,  24,   4,  53, 125, 204,   5, 202,  70,  47,\n",
       "         29,  55, 103,  35,  83, 208, 146, 161,  46,  62,  65, 110,  42,\n",
       "        150, 266, 151, 148,  72, 310,  93,  94,  71,  43,  39, 170,  37,\n",
       "         68,  54, 107, 398, 160,  30, 183, 315,  45, 121,  38,  82, 134,\n",
       "         33, 233, 100,  44, 109,  59,  74,  61, 104,  66,  67, 273, 192,\n",
       "         50, 118, 372,  48, 232, 165,  91, 123,  88, 538,  49,  16, 105,\n",
       "        536, 216, 425, 117, 551,  99,  86, 101, 394,  78,  95, 181,  76,\n",
       "         34, 124, 548, 108,  85, 145,  79,  97,  75,  52, 215,  84,  96,\n",
       "         81, 139, 267,  80, 137, 119, 474, 158, 293, 122, 112, 149, 363,\n",
       "        271,  31, 171,  87, 168, 176, 347, 163, 190, 486, 133, 302, 268,\n",
       "        407, 116,  92, 115, 261], dtype=int64),\n",
       " 'device': array([   1,    2, 3866,    0, 3032, 3543,    7,   40,  385,   56, 3282,\n",
       "         103,   16,   21,   30,    4,   59,   33,  211,   20,    5,  883,\n",
       "         154,  607,  957,   37,  102,  124, 2429,   50,  116,   18,  579,\n",
       "         188,   74,  291,   36, 1482,  347,  160,   25,  486,  516,   97,\n",
       "         321,  196,  581,   53,  828,  114,  109,    6,  414,  351,   60,\n",
       "         106, 3867, 1422,  210,  374,   76,  182,  129,   79,  362,  100,\n",
       "        1728, 2120, 1318,  386,  558,  180,  167,  202,   17,  203, 1162,\n",
       "         657,   78,    9, 3545, 1839,  420, 2980,  552,   67, 1080,   11,\n",
       "        3331,  329,  596,  163,  549,   58,  268,  928,  220,   49, 1042,\n",
       "         241], dtype=int64),\n",
       " 'os': array([ 13,  17,  19,   1,  25,  22,  20,   2,  90,  10,  18,  40,  15,\n",
       "         27,  23,  53,  49,  37,  26,  41,   8,  11,   9,  14,  28,  47,\n",
       "          3,   6,  97,   4,  31,  16,  30,  32,  12,  46, 866,  65,  55,\n",
       "         29,  42,  39,  34, 607,  79,  35,  44,   7,   0, 748,  36,  99,\n",
       "         43,  21,  64,  58,  50,  24,  66,  57, 109,  70,  98, 836,  56,\n",
       "        108,  76, 137,  48,   5,  38,  63, 100,  62,  96,  88,  73,  74,\n",
       "        138,  45,  84,  52,  61, 172,  59,  81, 102,  77,  78,  60, 153,\n",
       "         80, 118,  69,  85, 151,  68, 178, 113, 192, 135, 198,  83, 112,\n",
       "         67, 132,  71, 142, 117, 111, 168, 106, 110, 129, 127, 107, 152,\n",
       "        155, 199, 133, 116,  92, 196,  87, 174, 207, 184, 114, 185, 193],\n",
       "       dtype=int64),\n",
       " 'channel': array([497, 259, 212, 477, 178, 115, 135, 442, 364, 489, 205, 125, 280,\n",
       "        349, 265, 459, 215, 101, 122, 379, 386, 124, 140, 107, 245, 111,\n",
       "        134, 401, 137, 145, 278, 409, 153, 466, 128, 481, 334, 424, 406,\n",
       "        373, 377, 435, 452, 445, 439, 242, 315, 237,   3, 480, 116, 121,\n",
       "        400, 376, 469, 130, 371, 467, 113, 211, 496, 219, 478, 463, 105,\n",
       "         21, 347, 234, 236, 328, 173, 244, 232, 266, 258, 262, 213, 127,\n",
       "        319, 340, 412,  19, 243, 360, 417, 317, 160, 110, 282,  30, 421,\n",
       "        208, 402, 416, 325, 326, 224, 391, 448, 484,  13, 118, 126, 343,\n",
       "        253, 150, 487, 430, 182, 453, 449, 268,  17, 274, 123,  22, 456,\n",
       "        320, 120, 330, 277, 479, 420,  18, 203, 486, 446, 450, 272, 333,\n",
       "        210, 361, 490, 483, 488, 171, 138, 322, 457, 404, 411,   5, 332,\n",
       "        410, 356, 419, 460,  24, 353, 498, 174, 451, 341, 108, 114, 474,\n",
       "         15, 455, 261, 465,   4], dtype=int64),\n",
       " 'click_time': array(['2017-11-07 09:30:38', '2017-11-07 13:40:27',\n",
       "        '2017-11-07 18:05:24', ..., '2017-11-09 04:21:28',\n",
       "        '2017-11-07 09:33:14', '2017-11-09 13:25:41'], dtype=object),\n",
       " 'is_attributed': array([0, 1], dtype=int64)}"
      ]
     },
     "execution_count": 22,
     "metadata": {},
     "output_type": "execute_result"
    }
   ],
   "source": [
    "uniques"
   ]
  },
  {
   "cell_type": "code",
   "execution_count": 23,
   "metadata": {},
   "outputs": [
    {
     "name": "stdout",
     "output_type": "stream",
     "text": [
      "5348      669\n",
      "5314      616\n",
      "73487     439\n",
      "73516     399\n",
      "53454     280\n",
      "         ... \n",
      "125982      1\n",
      "5153        1\n",
      "177205      1\n",
      "60478       1\n",
      "92122       1\n",
      "Name: ip, Length: 34857, dtype: int64\n",
      "3      18279\n",
      "12     13198\n",
      "2      11737\n",
      "9       8992\n",
      "15      8595\n",
      "       ...  \n",
      "407        1\n",
      "145        1\n",
      "271        1\n",
      "398        1\n",
      "92         1\n",
      "Name: app, Length: 161, dtype: int64\n",
      "1       94338\n",
      "2        4345\n",
      "0         541\n",
      "3032      371\n",
      "3543      151\n",
      "        ...  \n",
      "420         1\n",
      "37          1\n",
      "549         1\n",
      "2980        1\n",
      "347         1\n",
      "Name: device, Length: 100, dtype: int64\n",
      "19     23870\n",
      "13     21223\n",
      "17      5232\n",
      "18      4830\n",
      "22      4039\n",
      "       ...  \n",
      "116        1\n",
      "142        1\n",
      "137        1\n",
      "185        1\n",
      "127        1\n",
      "Name: os, Length: 130, dtype: int64\n",
      "280    8114\n",
      "245    4802\n",
      "107    4543\n",
      "477    3960\n",
      "134    3224\n",
      "       ... \n",
      "261       1\n",
      "498       1\n",
      "465       1\n",
      "474       1\n",
      "451       1\n",
      "Name: channel, Length: 161, dtype: int64\n",
      "2017-11-08 12:01:02    7\n",
      "2017-11-09 14:46:23    6\n",
      "2017-11-07 04:36:16    6\n",
      "2017-11-07 05:00:11    6\n",
      "2017-11-08 13:32:05    6\n",
      "                      ..\n",
      "2017-11-07 14:19:39    1\n",
      "2017-11-08 10:54:13    1\n",
      "2017-11-09 03:21:55    1\n",
      "2017-11-09 02:22:04    1\n",
      "2017-11-08 05:32:27    1\n",
      "Name: click_time, Length: 80350, dtype: int64\n",
      "0    99773\n",
      "1      227\n",
      "Name: is_attributed, dtype: int64\n"
     ]
    }
   ],
   "source": [
    "categorical_columns = ['ip','app','device','os','channel','click_time','is_attributed']\n",
    "#Print frequency of categories\n",
    "for col in categorical_columns:\n",
    "    print (data1[col].value_counts())"
   ]
  },
  {
   "cell_type": "code",
   "execution_count": 24,
   "metadata": {},
   "outputs": [],
   "source": [
    "#column_values = data1[['ip','app','device','os','channel','click_time','is_attributed']].values\n",
    "#unique_values =  np.unique(['ip','app','device','os','channel','click_time','is_attributed'])"
   ]
  },
  {
   "cell_type": "code",
   "execution_count": null,
   "metadata": {},
   "outputs": [],
   "source": []
  },
  {
   "cell_type": "code",
   "execution_count": 25,
   "metadata": {},
   "outputs": [],
   "source": [
    "# the column that has maximum number of unique values present  is the click_time column"
   ]
  },
  {
   "cell_type": "markdown",
   "metadata": {},
   "source": [
    "## Use an appropriate technique to get rid of all the apps that are very rare (say which comprise of less                than 20% clicks) and plot the rest..**"
   ]
  },
  {
   "cell_type": "code",
   "execution_count": 26,
   "metadata": {},
   "outputs": [],
   "source": [
    "data1['app'].value_counts() \n",
    "app_count=data1['app'].value_counts()"
   ]
  },
  {
   "cell_type": "code",
   "execution_count": 27,
   "metadata": {},
   "outputs": [],
   "source": [
    "# create a variable app_add to have all app that have > 20 of click."
   ]
  },
  {
   "cell_type": "code",
   "execution_count": 28,
   "metadata": {},
   "outputs": [
    {
     "data": {
      "text/plain": [
       "Int64Index([  3,  12,   2,   9,  15,  18,  14,   1,  13,   8,  21,  11,  26,\n",
       "             23,   6,  64,   7,  20,  25,  28,  24,  27,  19,  10,  22,  17,\n",
       "             29,  32,   5, 151,  36, 150,   4,  47],\n",
       "           dtype='int64')"
      ]
     },
     "execution_count": 28,
     "metadata": {},
     "output_type": "execute_result"
    }
   ],
   "source": [
    "#app_count[app_count<50].index\n",
    "app_add=app_count[app_count>50].index\n",
    "#app_count[app_count>50]\n",
    "app_add"
   ]
  },
  {
   "cell_type": "code",
   "execution_count": 29,
   "metadata": {},
   "outputs": [],
   "source": [
    "# create a variable call app_remove to remove all app had < 50 % of click."
   ]
  },
  {
   "cell_type": "code",
   "execution_count": 30,
   "metadata": {},
   "outputs": [
    {
     "data": {
      "text/plain": [
       "Int64Index([ 35,  55,  58,  94,  37,  45,  93,  62, 183,  82,\n",
       "            ...\n",
       "             91, 538, 474, 536, 216, 407, 145, 271, 398,  92],\n",
       "           dtype='int64', length=126)"
      ]
     },
     "execution_count": 30,
     "metadata": {},
     "output_type": "execute_result"
    }
   ],
   "source": [
    "app_remove=app_count[app_count<50].index\n",
    "app_remove"
   ]
  },
  {
   "cell_type": "code",
   "execution_count": 31,
   "metadata": {},
   "outputs": [],
   "source": [
    "# create a list inicially empty and write a loop for to add the new value (app_add) into it. "
   ]
  },
  {
   "cell_type": "code",
   "execution_count": 32,
   "metadata": {},
   "outputs": [],
   "source": [
    "clean_data=[]\n",
    "for app in app_add:\n",
    "    clean_data.append (data1.loc[data1['app']==app])\n",
    "    "
   ]
  },
  {
   "cell_type": "code",
   "execution_count": 33,
   "metadata": {},
   "outputs": [
    {
     "data": {
      "text/plain": [
       "[           ip  app  device  os  channel           click_time  is_attributed\n",
       " 5       93663    3       1  17      115  2017-11-09 01:22:13              0\n",
       " 9      143636    3       1  19      135  2017-11-08 12:35:26              0\n",
       " 10      73839    3       1  22      489  2017-11-08 08:14:37              0\n",
       " 11      34812    3       1  13      489  2017-11-07 05:03:14              0\n",
       " 12     114809    3       1  22      205  2017-11-09 10:24:23              0\n",
       " ...       ...  ...     ...  ..      ...                  ...            ...\n",
       " 99983   51379    3       1  41      135  2017-11-07 01:48:00              0\n",
       " 99985   61500    3       1  10      280  2017-11-09 01:50:53              0\n",
       " 99989   92730    3       1  19      379  2017-11-07 11:02:08              0\n",
       " 99993  146258    3       1  13      280  2017-11-09 03:03:17              0\n",
       " 99997   18839    3       1  13       19  2017-11-08 11:38:42              0\n",
       " \n",
       " [18279 rows x 7 columns],\n",
       "            ip  app  device  os  channel           click_time  is_attributed\n",
       " 0       87540   12       1  13      497  2017-11-07 09:30:38              0\n",
       " 2      101424   12       1  19      212  2017-11-07 18:05:24              0\n",
       " 4       68413   12       1   1      178  2017-11-09 09:00:09              0\n",
       " 20      28735   12       1  19      265  2017-11-09 09:55:22              0\n",
       " 28     135690   12       1  40      122  2017-11-07 06:39:04              0\n",
       " ...       ...  ...     ...  ..      ...                  ...            ...\n",
       " 99932  109353   12       1  20      245  2017-11-07 13:51:20              0\n",
       " 99950  273365   12       1  19      245  2017-11-07 23:01:34              0\n",
       " 99968   98474   12       1  23      245  2017-11-08 00:43:23              0\n",
       " 99982    5314   12       1  41      259  2017-11-09 02:09:20              0\n",
       " 99992  125061   12       1  13      328  2017-11-07 09:33:14              0\n",
       " \n",
       " [13198 rows x 7 columns],\n",
       "            ip  app  device  os  channel           click_time  is_attributed\n",
       " 8      192967    2       2  22      364  2017-11-08 09:35:17              0\n",
       " 14      36150    2       1  13      205  2017-11-07 00:54:09              0\n",
       " 16       5314    2       1   2      477  2017-11-09 07:33:41              0\n",
       " 37      75943    2       1  53      477  2017-11-07 13:28:54              0\n",
       " 48      48240    2       1  19      122  2017-11-08 14:40:36              0\n",
       " ...       ...  ...     ...  ..      ...                  ...            ...\n",
       " 99938  114683    2       1  22      469  2017-11-08 07:02:08              0\n",
       " 99939   70011    2       1  19      236  2017-11-07 01:31:18              0\n",
       " 99953   37028    2       1   3      219  2017-11-08 10:29:18              0\n",
       " 99973  153487    2       1  42      477  2017-11-09 00:59:38              0\n",
       " 99986  119614    2       1  19      219  2017-11-07 11:27:54              0\n",
       " \n",
       " [11737 rows x 7 columns],\n",
       "            ip  app  device  os  channel           click_time  is_attributed\n",
       " 7      121505    9       1  25      442  2017-11-07 10:01:53              0\n",
       " 22      25761    9       1  10      215  2017-11-08 02:05:37              0\n",
       " 46     116677    9       1  13      134  2017-11-08 00:56:33              0\n",
       " 56     122354    9       1  19      134  2017-11-07 23:16:58              0\n",
       " 70     171729    9       1  13      334  2017-11-07 10:31:02              0\n",
       " ...       ...  ...     ...  ..      ...                  ...            ...\n",
       " 99936    3730    9       1  19      442  2017-11-06 16:36:25              0\n",
       " 99944   49963    9       1  13      244  2017-11-09 11:28:27              0\n",
       " 99979   19162    9       1  37      489  2017-11-09 11:19:28              0\n",
       " 99990   84388    9       1  22      107  2017-11-09 04:21:28              0\n",
       " 99996   85150    9       1  13      244  2017-11-07 11:25:43              0\n",
       " \n",
       " [8992 rows x 7 columns],\n",
       "            ip  app  device  os  channel           click_time  is_attributed\n",
       " 32      10831   15       1  19      386  2017-11-09 12:39:11              0\n",
       " 42      49431   15       1  49      245  2017-11-07 23:11:39              0\n",
       " 43      53365   15       1  19      111  2017-11-09 04:23:01              0\n",
       " 45     107148   15       1  13      140  2017-11-07 00:49:13              0\n",
       " 47      11051   15       1  19      245  2017-11-08 02:14:22              0\n",
       " ...       ...  ...     ...  ..      ...                  ...            ...\n",
       " 99915   71514   15       1   3      245  2017-11-07 15:29:21              0\n",
       " 99934  156154   15       1  25      245  2017-11-08 03:23:11              0\n",
       " 99948   79881   15       1  19      245  2017-11-07 13:05:59              0\n",
       " 99972  118977   15       1  25      245  2017-11-07 05:02:52              0\n",
       " 99998  114276   15       1  12      245  2017-11-08 17:55:21              0\n",
       " \n",
       " [8595 rows x 7 columns],\n",
       "            ip  app  device  os  channel           click_time  is_attributed\n",
       " 41      35096   18       1  19      107  2017-11-09 15:26:37              0\n",
       " 65      25114   18       1  13      107  2017-11-08 02:07:55              0\n",
       " 79     100066   18       1  14      134  2017-11-07 09:12:27              0\n",
       " 89     123729   18       1  10      107  2017-11-08 23:07:32              0\n",
       " 102     51895   18       1  17      107  2017-11-09 07:26:02              0\n",
       " ...       ...  ...     ...  ..      ...                  ...            ...\n",
       " 99958   80356   18       1  13      107  2017-11-08 14:18:10              0\n",
       " 99961  119921   18       1  17      134  2017-11-06 22:21:14              0\n",
       " 99962   63262   18       1  12      107  2017-11-07 07:57:19              0\n",
       " 99963   55745   18       1   4      107  2017-11-09 13:43:48              0\n",
       " 99977    5788   18       1  58      439  2017-11-09 14:22:21              0\n",
       " \n",
       " [8315 rows x 7 columns],\n",
       "            ip  app  device  os  channel           click_time  is_attributed\n",
       " 19      37301   14       1  13      349  2017-11-06 20:07:00              0\n",
       " 35      28411   14       1  13      442  2017-11-06 23:45:32              0\n",
       " 49      92488   14       1  18      401  2017-11-08 17:33:47              0\n",
       " 57     104645   14       1  19      379  2017-11-09 12:57:00              0\n",
       " 90      73040   14       1  19      401  2017-11-07 16:49:07              0\n",
       " ...       ...  ...     ...  ..      ...                  ...            ...\n",
       " 99974   13487   14       1  19      379  2017-11-08 08:08:40              0\n",
       " 99975   34029   14       1  13      467  2017-11-09 15:32:57              0\n",
       " 99976    6908   14       1  18      123  2017-11-07 22:59:12              0\n",
       " 99980  111025   14       1  41      349  2017-11-08 12:58:11              0\n",
       " 99999  119349   14       1  15      401  2017-11-07 14:32:27              0\n",
       " \n",
       " [5359 rows x 7 columns],\n",
       "            ip  app  device  os  channel           click_time  is_attributed\n",
       " 6       17059    1       1  17      135  2017-11-09 01:17:58              0\n",
       " 27      52432    1       1  13      115  2017-11-07 17:22:52              0\n",
       " 33      89242    1       1  27      124  2017-11-07 09:37:21              0\n",
       " 92     123994    1       1  19      101  2017-11-09 14:27:57              0\n",
       " 112     34067    1       1  15      134  2017-11-07 15:06:06              0\n",
       " ...       ...  ...     ...  ..      ...                  ...            ...\n",
       " 99874  104857    1       1  13      137  2017-11-07 09:18:31              0\n",
       " 99912  181105    1       1   8       17  2017-11-08 02:40:44              0\n",
       " 99931   73487    1       1  17      153  2017-11-08 10:08:35              0\n",
       " 99946    5348    1       1  53      125  2017-11-07 06:53:37              0\n",
       " 99991   43374    1       1  18      134  2017-11-09 12:42:34              0\n",
       " \n",
       " [3135 rows x 7 columns],\n",
       "            ip  app  device  os  channel           click_time  is_attributed\n",
       " 3       94584   13       1  13      477  2017-11-07 04:58:08              0\n",
       " 36     127888   13       1  23      477  2017-11-06 16:24:24              0\n",
       " 132     47543   13       1  19      400  2017-11-07 13:40:51              0\n",
       " 159    103161   13       1   3      400  2017-11-07 12:47:06              0\n",
       " 282     81009   13       1  12      477  2017-11-08 02:58:20              0\n",
       " ...       ...  ...     ...  ..      ...                  ...            ...\n",
       " 99697   58899   13       1  32      477  2017-11-09 02:42:56              0\n",
       " 99846  291040   13       1  22      477  2017-11-09 03:23:32              0\n",
       " 99891  124033   13       1  12      477  2017-11-08 13:50:46              0\n",
       " 99895   73774   13       1  19      477  2017-11-07 02:16:30              0\n",
       " 99994  147153   13       1  13      477  2017-11-07 07:34:13              0\n",
       " \n",
       " [2422 rows x 7 columns],\n",
       "            ip  app  device  os  channel           click_time  is_attributed\n",
       " 53      40168    8       1  13      145  2017-11-07 02:22:07              0\n",
       " 73       5348    8       1  11      145  2017-11-08 13:17:06              0\n",
       " 108     61667    8       2  97      259  2017-11-07 05:00:39              0\n",
       " 115    110245    8       1  22      145  2017-11-07 22:41:22              0\n",
       " 145     20309    8       1  13      140  2017-11-09 10:16:00              0\n",
       " ...       ...  ...     ...  ..      ...                  ...            ...\n",
       " 99634  114276    8       2  36      145  2017-11-07 09:24:56              0\n",
       " 99724   23096    8       1  13      145  2017-11-07 03:27:29              0\n",
       " 99775   58415    8       1  18      145  2017-11-07 09:57:18              0\n",
       " 99916  113477    8       1  17      145  2017-11-09 04:15:32              0\n",
       " 99966   75885    8       2  20      145  2017-11-09 03:34:54              0\n",
       " \n",
       " [2004 rows x 7 columns],\n",
       "            ip  app  device  os  channel           click_time  is_attributed\n",
       " 66      25876   21       1  26      128  2017-11-08 09:57:39              0\n",
       " 109    118349   21       1  19      128  2017-11-09 01:07:36              0\n",
       " 140     79909   21       1   4      128  2017-11-07 19:22:18              0\n",
       " 242     49882   21       1  28      232  2017-11-08 08:53:51              0\n",
       " 243     20411   21       1  14      128  2017-11-07 05:40:08              0\n",
       " ...       ...  ...     ...  ..      ...                  ...            ...\n",
       " 99779  120481   21       1   9      128  2017-11-06 23:53:39              0\n",
       " 99803  110797   21       1  13      128  2017-11-08 10:37:57              0\n",
       " 99848    8356   21       2   6      128  2017-11-09 14:16:31              0\n",
       " 99853   88197   21       1  13      232  2017-11-08 07:55:37              0\n",
       " 99955   90830   21       1  53      128  2017-11-09 07:09:35              0\n",
       " \n",
       " [1979 rows x 7 columns],\n",
       "            ip  app  device  os  channel           click_time  is_attributed\n",
       " 50      74999   11       1  13      137  2017-11-09 15:17:12              0\n",
       " 68      79827   11       1  19      481  2017-11-08 18:21:09              0\n",
       " 262     23620   11       1  19      173  2017-11-07 05:14:57              0\n",
       " 297      7785   11       1  20      219  2017-11-08 15:17:31              0\n",
       " 338    176758   11       1  20      319  2017-11-07 01:35:46              0\n",
       " ...       ...  ...     ...  ..      ...                  ...            ...\n",
       " 99918  100182   11       1  17      137  2017-11-08 20:32:00              0\n",
       " 99925   27478   11       1  13      481  2017-11-07 00:36:18              0\n",
       " 99965  114276   11       1   6      319  2017-11-08 02:36:32              0\n",
       " 99987   41851   11       1  28      319  2017-11-08 13:19:42              0\n",
       " 99995  124883   11       1  19      122  2017-11-09 13:25:41              0\n",
       " \n",
       " [1927 rows x 7 columns],\n",
       "            ip  app  device  os  channel           click_time  is_attributed\n",
       " 129    103208   26       1  22      121  2017-11-09 15:32:16              0\n",
       " 181     72805   26       1   6      121  2017-11-07 10:49:19              0\n",
       " 249     58614   26       1  16      266  2017-11-09 14:23:15              0\n",
       " 275    357463   26       1  19      262  2017-11-09 08:32:26              0\n",
       " 294    195958   26       1  42      121  2017-11-09 05:20:40              0\n",
       " ...       ...  ...     ...  ..      ...                  ...            ...\n",
       " 99908   43996   26       1  53      121  2017-11-06 23:33:42              0\n",
       " 99920  152743   26       1  13      121  2017-11-09 10:33:18              0\n",
       " 99926   79140   26       1  10      477  2017-11-09 06:04:02              0\n",
       " 99929  107131   26       1  22      477  2017-11-09 04:04:34              0\n",
       " 99952    4948   26       1  18      121  2017-11-07 01:15:30              0\n",
       " \n",
       " [1633 rows x 7 columns],\n",
       "            ip  app  device  os  channel           click_time  is_attributed\n",
       " 61      52076   23       1  10      153  2017-11-08 16:41:39              0\n",
       " 82      63109   23       1  25      153  2017-11-09 01:43:11              0\n",
       " 118    124794   23       1  13      153  2017-11-08 13:46:43              0\n",
       " 120     91175   23       1  13      153  2017-11-07 01:20:11              0\n",
       " 130     92092   23       1  19      153  2017-11-07 11:52:05              0\n",
       " ...       ...  ...     ...  ..      ...                  ...            ...\n",
       " 99580   76204   23       1  19      153  2017-11-07 09:20:04              0\n",
       " 99591   88393   23       1  19      153  2017-11-07 02:28:50              0\n",
       " 99792   53715   23       1   9      153  2017-11-07 12:32:54              0\n",
       " 99882      63   23       1  13      153  2017-11-08 16:01:02              0\n",
       " 99943    7210   23       1  18      153  2017-11-08 00:47:38              0\n",
       " \n",
       " [1454 rows x 7 columns],\n",
       "            ip  app  device  os  channel           click_time  is_attributed\n",
       " 13     114220    6       1  20      125  2017-11-08 14:46:16              0\n",
       " 62      88604    6       1  17      459  2017-11-06 16:28:06              0\n",
       " 165     37919    6       1  19      459  2017-11-06 17:13:19              0\n",
       " 167     39454    6       1  13      125  2017-11-07 13:37:35              0\n",
       " 407    333899    6       1  32      125  2017-11-08 16:00:46              0\n",
       " ...       ...  ...     ...  ..      ...                  ...            ...\n",
       " 99364  197177    6       1   8      459  2017-11-08 15:21:00              0\n",
       " 99445    5348    6       1  17      125  2017-11-07 13:35:49              0\n",
       " 99802  133209    6       1  22      459  2017-11-09 12:20:18              0\n",
       " 99835  281518    6       1  19      125  2017-11-08 04:22:25              0\n",
       " 99988   69449    6       1  13      125  2017-11-09 13:53:30              0\n",
       " \n",
       " [1303 rows x 7 columns],\n",
       "            ip  app  device  os  channel           click_time  is_attributed\n",
       " 21      66918   64       1  25      459  2017-11-08 17:01:58              0\n",
       " 25     145896   64       1  13      459  2017-11-07 03:58:58              0\n",
       " 31      70747   64       1  15      459  2017-11-07 14:00:50              0\n",
       " 55     134466   64       1  13      459  2017-11-08 10:42:25              0\n",
       " 67      61941   64       1  41      459  2017-11-07 23:07:23              0\n",
       " ...       ...  ...     ...  ..      ...                  ...            ...\n",
       " 99258  117236   64       1  16      459  2017-11-08 13:22:48              0\n",
       " 99369   32697   64       1  19      459  2017-11-08 03:59:44              0\n",
       " 99704  177334   64       1  41      459  2017-11-07 13:29:38              0\n",
       " 99710   26630   64       1  13      459  2017-11-08 06:03:04              0\n",
       " 99935   37240   64       1  18      459  2017-11-07 06:16:43              0\n",
       " \n",
       " [1079 rows x 7 columns],\n",
       "            ip  app  device  os  channel           click_time  is_attributed\n",
       " 23       8362    7       1  19      101  2017-11-07 10:30:00              0\n",
       " 122     81970    7       1  18      101  2017-11-09 11:33:43              0\n",
       " 277    291594    7       1  55      101  2017-11-09 10:19:01              0\n",
       " 299    105475    7       1  40      101  2017-11-09 14:05:21              0\n",
       " 470     43827    7       1  13      101  2017-11-07 10:57:54              0\n",
       " ...       ...  ...     ...  ..      ...                  ...            ...\n",
       " 99358  120822    7       1  19      101  2017-11-09 07:24:16              0\n",
       " 99538   40654    7       1  10      101  2017-11-09 06:15:55              0\n",
       " 99840  106122    7       1  19      101  2017-11-09 07:20:05              0\n",
       " 99880  202226    7       1   8      101  2017-11-09 06:33:06              0\n",
       " 99978  190943    7       1  13      101  2017-11-09 11:47:49              0\n",
       " \n",
       " [981 rows x 7 columns],\n",
       "            ip  app  device  os  channel           click_time  is_attributed\n",
       " 18      72065   20       2  90      259  2017-11-06 23:14:08              0\n",
       " 172    175660   20       1  13      259  2017-11-08 01:13:51              0\n",
       " 202     11668   20       1   8      478  2017-11-08 00:24:59              0\n",
       " 220     61423   20       1  19      259  2017-11-07 06:49:57              0\n",
       " 295     87998   20       1  20      478  2017-11-08 10:39:02              0\n",
       " ...       ...  ...     ...  ..      ...                  ...            ...\n",
       " 99719  184529   20       1  17      259  2017-11-08 00:24:45              0\n",
       " 99805  170492   20       1  16      259  2017-11-07 04:51:42              0\n",
       " 99834   71495   20       1  13      478  2017-11-09 00:07:46              0\n",
       " 99878  178424   20       1  20      259  2017-11-07 15:39:17              0\n",
       " 99901   43959   20       1  27      478  2017-11-08 03:37:07              0\n",
       " \n",
       " [911 rows x 7 columns],\n",
       "            ip  app  device  os  channel           click_time  is_attributed\n",
       " 1      105560   25       1  17      259  2017-11-07 13:40:27              0\n",
       " 15      72116   25       2  19      259  2017-11-08 23:17:45              0\n",
       " 44      92599   25       2  13      259  2017-11-09 10:04:27              0\n",
       " 94     127351   25       1  13      259  2017-11-07 16:27:20              0\n",
       " 182     93498   25       1  19      259  2017-11-09 09:58:21              0\n",
       " ...       ...  ...     ...  ..      ...                  ...            ...\n",
       " 99679   60136   25       1  41      259  2017-11-08 15:10:13              0\n",
       " 99813   80736   25       1  22      259  2017-11-06 22:51:26              0\n",
       " 99945   93330   25       1  31      259  2017-11-08 01:59:39              0\n",
       " 99949   29567   25       1  13      259  2017-11-06 16:05:49              0\n",
       " 99959   63431   25       1   8      259  2017-11-08 00:19:24              0\n",
       " \n",
       " [804 rows x 7 columns],\n",
       "            ip  app  device  os  channel           click_time  is_attributed\n",
       " 83       5314   28       1  19      135  2017-11-07 14:11:43              0\n",
       " 128    191339   28       1  19      135  2017-11-07 10:36:50              0\n",
       " 250     49439   28       1  19      135  2017-11-09 10:10:34              0\n",
       " 403      6113   28       1  19      135  2017-11-06 18:42:18              0\n",
       " 566     69605   28       1  19      135  2017-11-09 07:35:16              0\n",
       " ...       ...  ...     ...  ..      ...                  ...            ...\n",
       " 99635   59596   28       1  10      135  2017-11-09 10:49:32              0\n",
       " 99643   60051   28       1  17      135  2017-11-07 15:18:40              0\n",
       " 99659   68652   28       1  13      135  2017-11-08 21:16:02              0\n",
       " 99709    5314   28       1  47      135  2017-11-07 13:03:50              0\n",
       " 99924   91582   28       2  36      135  2017-11-09 06:39:41              0\n",
       " \n",
       " [720 rows x 7 columns],\n",
       "            ip  app  device  os  channel           click_time  is_attributed\n",
       " 313     52923   24       1  22      105  2017-11-09 07:08:46              0\n",
       " 358     74606   24       1  13      105  2017-11-07 04:45:12              0\n",
       " 435     36979   24       2  13      105  2017-11-07 11:23:19              0\n",
       " 557    361422   24       1  11      178  2017-11-09 02:46:08              0\n",
       " 775     27234   24       1  19      105  2017-11-07 12:54:24              0\n",
       " ...       ...  ...     ...  ..      ...                  ...            ...\n",
       " 99259  109776   24       2  13      105  2017-11-07 14:33:43              0\n",
       " 99359  201803   24       1  19      105  2017-11-07 04:40:03              0\n",
       " 99361  205797   24       1  13      105  2017-11-07 13:30:36              0\n",
       " 99436  137409   24       1  13      105  2017-11-06 22:27:27              0\n",
       " 99956  131001   24       1  19      105  2017-11-08 09:43:39              0\n",
       " \n",
       " [704 rows x 7 columns],\n",
       "            ip  app  device  os  channel           click_time  is_attributed\n",
       " 164     63516   27       1  13      153  2017-11-09 12:05:34              0\n",
       " 272     43899   27       1  13      153  2017-11-09 11:53:03              0\n",
       " 319    105475   27       1  32      153  2017-11-07 14:36:19              0\n",
       " 460     67981   27       1  19      153  2017-11-08 12:06:09              0\n",
       " 513    122688   27       1  13      153  2017-11-08 11:56:44              0\n",
       " ...       ...  ...     ...  ..      ...                  ...            ...\n",
       " 99310   75602   27       1  13      122  2017-11-08 00:37:32              0\n",
       " 99430  112553   27       1  32      122  2017-11-07 05:57:28              0\n",
       " 99483   97421   27       1  42      153  2017-11-07 10:40:07              0\n",
       " 99894  161606   27       1  13      153  2017-11-07 15:33:07              0\n",
       " 99984  185961   27       1  13      122  2017-11-07 05:02:01              0\n",
       " \n",
       " [696 rows x 7 columns],\n",
       "            ip  app  device  os  channel           click_time  is_attributed\n",
       " 284    224120   19       0  29      213  2017-11-08 02:22:13              1\n",
       " 592    162367   19       0  99      347  2017-11-08 23:39:29              0\n",
       " 650     56516   19       7  21      282  2017-11-08 11:30:41              0\n",
       " 727     95820   19       0  50      213  2017-11-09 10:18:25              0\n",
       " 1208    79001   19       0   0      213  2017-11-07 09:54:22              1\n",
       " ...       ...  ...     ...  ..      ...                  ...            ...\n",
       " 99365   70020   19       0  50      343  2017-11-08 23:57:37              0\n",
       " 99539   60159   19       0  24      347  2017-11-09 09:12:59              0\n",
       " 99681   98476   19       0  24      213  2017-11-08 10:59:10              0\n",
       " 99716  120099   19     241  50      282  2017-11-08 15:20:50              0\n",
       " 99799    1273   19       0  24      213  2017-11-09 14:41:55              0\n",
       " \n",
       " [478 rows x 7 columns],\n",
       "            ip  app  device  os  channel           click_time  is_attributed\n",
       " 198     94765   10       1  10      377  2017-11-08 04:28:13              0\n",
       " 481    272894   10       1   7      113  2017-11-08 06:10:05              1\n",
       " 548     21925   10       1   6      377  2017-11-08 17:05:32              0\n",
       " 612    110325   10       1  19      317  2017-11-09 07:14:12              0\n",
       " 709    166224   10       1  25      113  2017-11-06 23:30:03              0\n",
       " ...       ...  ...     ...  ..      ...                  ...            ...\n",
       " 99322   44490   10       1  17      377  2017-11-08 03:22:52              0\n",
       " 99381  100182   10       1  13      317  2017-11-09 03:03:54              0\n",
       " 99909   59233   10       1  41      113  2017-11-07 05:57:29              0\n",
       " 99969   63913   10       1  22      317  2017-11-08 10:01:28              0\n",
       " 99981   15651   10       1   1      377  2017-11-09 06:50:25              0\n",
       " \n",
       " [388 rows x 7 columns],\n",
       "            ip  app  device  os  channel           click_time  is_attributed\n",
       " 123    301417   22       1  19      116  2017-11-08 23:20:26              0\n",
       " 183    111685   22       1  22      116  2017-11-08 06:48:06              0\n",
       " 192     63925   22       2  17      496  2017-11-07 08:52:29              0\n",
       " 205    108048   22       1  19      116  2017-11-08 04:43:51              0\n",
       " 326    114439   22       1  18      116  2017-11-08 13:24:56              0\n",
       " ...       ...  ...     ...  ..      ...                  ...            ...\n",
       " 99076   56341   22       1  13      116  2017-11-06 23:17:51              0\n",
       " 99095   42707   22       1  13      116  2017-11-07 06:02:33              0\n",
       " 99180   53709   22       1  13      496  2017-11-07 04:04:01              0\n",
       " 99649  222918   22       1  47      116  2017-11-08 14:05:08              0\n",
       " 99735  122357   22       1  13      116  2017-11-07 00:32:34              0\n",
       " \n",
       " [386 rows x 7 columns],\n",
       "            ip  app  device  os  channel           click_time  is_attributed\n",
       " 137     85072   17       2   9      280  2017-11-07 05:23:41              0\n",
       " 311    106541   17       1  13      280  2017-11-08 00:50:35              0\n",
       " 507     22256   17       1  13      280  2017-11-07 03:34:00              0\n",
       " 674      1195   17       1  10      280  2017-11-08 02:52:06              0\n",
       " 855     79834   17       1   8      128  2017-11-09 15:16:08              0\n",
       " ...       ...  ...     ...  ..      ...                  ...            ...\n",
       " 99141  108127   17       1  19      280  2017-11-08 01:40:22              0\n",
       " 99168  100445   17       1  25      280  2017-11-07 12:20:50              0\n",
       " 99204   34387   17       1  19      280  2017-11-08 02:31:01              0\n",
       " 99207   53454   17       1  27      128  2017-11-09 14:19:59              0\n",
       " 99354   52746   17       1  11      280  2017-11-07 10:22:58              0\n",
       " \n",
       " [380 rows x 7 columns],\n",
       "            ip  app  device  os  channel           click_time  is_attributed\n",
       " 1135   129434   29       1  13      343  2017-11-06 22:15:28              0\n",
       " 1579    56035   29       1  19      347  2017-11-07 11:34:57              0\n",
       " 1681   121163   29       1  13      213  2017-11-09 08:47:46              0\n",
       " 1909    18474   29       1  17      101  2017-11-07 15:27:09              0\n",
       " 3018    48170   29       1   2      343  2017-11-07 15:06:39              0\n",
       " ...       ...  ...     ...  ..      ...                  ...            ...\n",
       " 98427   43855   29       1  42      343  2017-11-09 14:12:40              0\n",
       " 98893  127838   29       1  19      213  2017-11-07 13:29:08              0\n",
       " 98913   77621   29       1  13      213  2017-11-08 03:28:50              0\n",
       " 99530   24815   29       1  11      343  2017-11-09 06:08:15              0\n",
       " 99954  102235   29       1  30      213  2017-11-08 09:15:52              0\n",
       " \n",
       " [360 rows x 7 columns],\n",
       "            ip  app  device  os  channel           click_time  is_attributed\n",
       " 296     24977   32       1  39      376  2017-11-07 12:07:24              0\n",
       " 607    260488   32       1  23      376  2017-11-08 06:15:13              0\n",
       " 675      4570   32       1  15      376  2017-11-09 03:42:37              0\n",
       " 711     50983   32       1  19      376  2017-11-07 08:44:37              0\n",
       " 885     70308   32       1  64      376  2017-11-07 05:46:09              0\n",
       " ...       ...  ...     ...  ..      ...                  ...            ...\n",
       " 97825   62083   32       1  30      376  2017-11-09 02:40:42              0\n",
       " 98519   89117   32       1  16      376  2017-11-07 11:05:40              0\n",
       " 98934    3009   32       1  15      376  2017-11-07 12:29:33              0\n",
       " 99270   56317   32       1  23      376  2017-11-07 04:24:21              0\n",
       " 99527  112926   32       1  13      376  2017-11-08 04:48:34              0\n",
       " \n",
       " [286 rows x 7 columns],\n",
       "            ip  app  device  os  channel           click_time  is_attributed\n",
       " 559     75374    5       1   8      377  2017-11-09 04:22:30              0\n",
       " 874     45121    5       1  22      377  2017-11-08 11:32:25              0\n",
       " 1105   116530    5       1  19      377  2017-11-08 23:18:06              0\n",
       " 1662    70008    5       1  13      377  2017-11-08 03:45:26              0\n",
       " 1849   165484    5       1  25      377  2017-11-09 09:03:42              0\n",
       " ...       ...  ...     ...  ..      ...                  ...            ...\n",
       " 98460   26995    5       1  30      377  2017-11-08 02:31:40              0\n",
       " 98584   41200    5       1  19      377  2017-11-08 18:41:33              0\n",
       " 99132   60925    5       1   1      377  2017-11-07 00:06:08              0\n",
       " 99562    6481    5       1  13      377  2017-11-08 04:57:34              1\n",
       " 99714   99024    5       1   8      377  2017-11-07 03:12:21              0\n",
       " \n",
       " [188 rows x 7 columns],\n",
       "            ip  app  device  os  channel           click_time  is_attributed\n",
       " 3200    48668  151       0  24      347  2017-11-09 12:17:09              0\n",
       " 3674     6996  151       0  38      347  2017-11-08 07:39:24              0\n",
       " 4606    72936  151       0  76      347  2017-11-07 16:30:42              0\n",
       " 5832     5314  151       0   0      347  2017-11-07 21:53:40              0\n",
       " 6345   100182  151       0  38      347  2017-11-07 15:47:49              0\n",
       " ...       ...  ...     ...  ..      ...                  ...            ...\n",
       " 97683   26762  151       0   0      347  2017-11-07 11:03:36              0\n",
       " 98208   86767  151       0  24      347  2017-11-08 05:19:23              0\n",
       " 98363   81674  151       0   0      347  2017-11-08 04:31:22              0\n",
       " 99315  147113  151       0  38      347  2017-11-08 11:05:23              0\n",
       " 99433  147065  151       0   0      347  2017-11-07 04:42:09              0\n",
       " \n",
       " [109 rows x 7 columns],\n",
       "            ip  app  device  os  channel           click_time  is_attributed\n",
       " 86     111021   36       1  15      373  2017-11-08 05:49:05              0\n",
       " 530    118125   36       1  18      110  2017-11-09 10:39:52              0\n",
       " 786     48384   36       1  13      373  2017-11-07 13:41:32              0\n",
       " 1485   102005   36       1  19      373  2017-11-08 08:58:07              0\n",
       " 2600   182139   36       1  25      110  2017-11-08 11:13:45              0\n",
       " ...       ...  ...     ...  ..      ...                  ...            ...\n",
       " 93138  100054   36       1  13      110  2017-11-07 19:03:06              0\n",
       " 93423     501   36       1  15      373  2017-11-09 04:10:59              0\n",
       " 95190  111061   36       1  13      373  2017-11-07 07:18:23              0\n",
       " 95702   49939   36       1  19      373  2017-11-09 03:33:54              0\n",
       " 97687   83306   36       1  13      110  2017-11-07 01:59:57              0\n",
       " \n",
       " [102 rows x 7 columns],\n",
       "            ip  app  device  os  channel           click_time  is_attributed\n",
       " 3023   106223  150       1  19      110  2017-11-08 08:59:06              0\n",
       " 3826   187535  150       1  13      110  2017-11-07 05:52:54              0\n",
       " 4807    54368  150       1  13      110  2017-11-07 02:35:22              0\n",
       " 10391   65704  150       1  41      110  2017-11-06 16:35:01              0\n",
       " 10540  110235  150       1  19      110  2017-11-08 07:09:00              0\n",
       " ...       ...  ...     ...  ..      ...                  ...            ...\n",
       " 95580  189828  150       1   8      110  2017-11-07 07:40:05              0\n",
       " 95590  128803  150       1  22      110  2017-11-08 09:07:42              0\n",
       " 97551   22170  150       1  19      110  2017-11-07 07:17:51              0\n",
       " 97660  104839  150       1  22      110  2017-11-08 08:35:48              0\n",
       " 97965   71424  150       1  13      110  2017-11-08 02:54:30              0\n",
       " \n",
       " [73 rows x 7 columns],\n",
       "            ip  app  device   os  channel           click_time  is_attributed\n",
       " 334    174783    4       1   49      101  2017-11-07 03:42:22              0\n",
       " 4969   292151    4       1    2      101  2017-11-08 20:40:50              0\n",
       " 5018   124006    4       1   19      101  2017-11-08 02:58:56              0\n",
       " 5057   215871    4       1   19      101  2017-11-08 02:24:06              0\n",
       " 5630   111025    4       1   19      101  2017-11-09 13:35:59              0\n",
       " 6507   101470    4       1    6      101  2017-11-08 02:49:24              0\n",
       " 7359    10356    4       1   17      101  2017-11-08 03:01:51              0\n",
       " 9608    79881    4       1   41      101  2017-11-09 12:06:27              0\n",
       " 12564   93523    4       1   13      101  2017-11-09 15:47:57              0\n",
       " 13263   66000    4       2   37      101  2017-11-09 15:45:42              0\n",
       " 13691   29993    4       1    6      101  2017-11-09 12:07:13              0\n",
       " 14498   87073    4       1   37      101  2017-11-09 14:37:12              0\n",
       " 18095   80582    4       1   16      101  2017-11-08 02:30:54              0\n",
       " 22904   56448    4       1   19      101  2017-11-08 02:25:40              0\n",
       " 23788  119823    4       1   37      101  2017-11-08 02:44:47              0\n",
       " 26072    8718    4       1   37      101  2017-11-07 14:35:20              0\n",
       " 30443   38749    4       1   19      101  2017-11-08 03:00:09              0\n",
       " 31704  343600    4       1    6      101  2017-11-09 14:08:11              0\n",
       " 34389   57335    4       1   12      101  2017-11-09 08:34:51              0\n",
       " 36414  350310    4       1   19      101  2017-11-09 06:18:36              0\n",
       " 38877  166410    4       1    1      101  2017-11-08 02:12:44              0\n",
       " 40229  293073    4       1   90      101  2017-11-09 08:48:18              0\n",
       " 43298   17814    4       1    6      101  2017-11-08 02:43:20              0\n",
       " 48503  301290    4       2  100      101  2017-11-09 06:18:23              0\n",
       " 50087   25970    4       1   19      101  2017-11-08 02:15:52              0\n",
       " 51718   84610    4       1   18      101  2017-11-08 02:29:40              0\n",
       " 51795    5425    4       1   13      101  2017-11-08 03:01:56              0\n",
       " 54713  124540    4       2   19      101  2017-11-09 13:08:30              0\n",
       " 56885  315803    4       1   22      101  2017-11-09 13:01:11              0\n",
       " 58929   92279    4       1   26      101  2017-11-08 02:38:42              0\n",
       " 59139   78856    4       1   18      101  2017-11-09 15:29:43              0\n",
       " 61698   96801    4       1   19      101  2017-11-08 03:02:49              0\n",
       " 63999   29717    4       1   13      101  2017-11-08 02:41:12              0\n",
       " 64018   14672    4       1    6      101  2017-11-09 15:11:46              0\n",
       " 64517  100959    4       2    7      101  2017-11-09 15:06:22              0\n",
       " 64730   44725    4       1   19      101  2017-11-09 11:21:09              0\n",
       " 65831  108284    4       1   18      101  2017-11-08 02:53:10              0\n",
       " 66178  316131    4       1    6      101  2017-11-09 13:16:42              0\n",
       " 67586  107619    4       1   22      101  2017-11-08 02:51:56              0\n",
       " 68356   88281    4       1   17      101  2017-11-09 15:03:43              0\n",
       " 75288  119289    4       1   13      101  2017-11-09 12:42:06              0\n",
       " 75841  217758    4       1    1      101  2017-11-08 13:01:56              0\n",
       " 76232   48240    4       1   15      101  2017-11-09 12:31:48              0\n",
       " 77517   88281    4       2   22      101  2017-11-09 12:49:25              0\n",
       " 78081    5314    4       1    6      101  2017-11-08 02:27:00              0\n",
       " 79652   71071    4       1   19      101  2017-11-09 15:41:40              0\n",
       " 79748    7838    4       1    2      101  2017-11-09 11:56:40              0\n",
       " 80314   59441    4       1   13      101  2017-11-09 10:00:16              0\n",
       " 81694  345754    4       1    9      101  2017-11-09 09:38:59              0\n",
       " 83249  117152    4       2   13      101  2017-11-09 13:37:38              0\n",
       " 87107  221143    4       1   15      101  2017-11-08 07:53:11              0\n",
       " 88903   77589    4       1   19      101  2017-11-08 03:00:06              0\n",
       " 90281   76740    4       2    2      101  2017-11-09 14:07:57              0\n",
       " 90757  110538    4       1   13      101  2017-11-09 08:32:04              0\n",
       " 91525   79881    4       1   20      101  2017-11-09 09:17:39              0\n",
       " 93478  119349    4       1    1      101  2017-11-09 11:52:10              0\n",
       " 94459  102607    4       1   13      101  2017-11-09 11:28:33              0\n",
       " 97203   49455    4       1   19      101  2017-11-09 07:01:47              0,\n",
       "            ip  app  device  os  channel           click_time  is_attributed\n",
       " 1045   114719   47       1  17      484  2017-11-09 12:39:25              0\n",
       " 3046    48653   47       1  23      484  2017-11-09 13:38:02              0\n",
       " 8130    99816   47       1  19      484  2017-11-09 13:26:19              0\n",
       " 12937   32487   47       1  26      484  2017-11-09 11:16:19              0\n",
       " 12966  102280   47       1  13      484  2017-11-09 11:17:38              0\n",
       " 13034    4693   47       1  17      484  2017-11-09 11:39:12              0\n",
       " 15060   99912   47       1  19      484  2017-11-09 12:17:00              0\n",
       " 16153  362597   47       1  13      484  2017-11-09 13:06:08              0\n",
       " 17272   94245   47       1   8      484  2017-11-09 12:34:51              0\n",
       " 18168  111025   47       1  13      484  2017-11-09 15:27:32              0\n",
       " 18294  300825   47       1   9      484  2017-11-09 07:00:21              0\n",
       " 18477  181014   47       1  35      484  2017-11-09 11:35:35              0\n",
       " 18750  202014   47       1   1      484  2017-11-09 11:36:30              0\n",
       " 25627   81261   47       1  19      484  2017-11-09 13:29:12              0\n",
       " 26652  118284   47       2   9      484  2017-11-09 13:29:03              0\n",
       " 28507   62803   47       1  14      484  2017-11-09 13:38:46              0\n",
       " 30524   57435   47       1  19      484  2017-11-09 12:09:05              0\n",
       " 32144  104309   47       2  19      484  2017-11-09 12:08:26              0\n",
       " 34379   49754   47       1  13      484  2017-11-09 11:04:58              0\n",
       " 35150   96937   47       1  19      484  2017-11-09 07:43:31              0\n",
       " 35289    8505   47       1  13      484  2017-11-09 11:11:51              0\n",
       " 36410  141722   47       1   6      484  2017-11-09 11:59:28              0\n",
       " 40733  109266   47       1  47      484  2017-11-09 11:09:57              0\n",
       " 40864  157827   47       1  36      484  2017-11-09 12:00:28              0\n",
       " 42824   53454   47       1  17      484  2017-11-09 10:51:06              0\n",
       " 48017   94092   47       2   9      484  2017-11-08 02:24:22              0\n",
       " 53510  257129   47       1  35      484  2017-11-08 06:48:15              0\n",
       " 55082   35724   47       1  13      484  2017-11-09 13:06:15              0\n",
       " 55667  100042   47       1  13      484  2017-11-09 11:48:19              0\n",
       " 62006   14925   47       1  13      484  2017-11-09 13:33:47              0\n",
       " 64714   88301   47       1  13      484  2017-11-08 02:48:41              0\n",
       " 65073  110296   47       1  19      484  2017-11-09 12:47:00              0\n",
       " 65085   32238   47       1   9      484  2017-11-09 15:09:50              0\n",
       " 66481  123607   47       1  30      484  2017-11-08 02:45:28              0\n",
       " 67132  111025   47       1   5      484  2017-11-08 02:12:21              0\n",
       " 68699  100929   47       1  37      484  2017-11-09 13:00:55              0\n",
       " 71121   18648   47       1  19      484  2017-11-08 02:59:45              0\n",
       " 76408   45745   47       2  17      484  2017-11-09 13:09:51              0\n",
       " 79052   73516   47       1  25      484  2017-11-09 12:32:36              0\n",
       " 79483    7462   47       1  13      484  2017-11-09 11:32:25              0\n",
       " 79885   71071   47       2  70      484  2017-11-09 13:06:34              0\n",
       " 81129  235753   47       1  18      484  2017-11-08 15:44:57              0\n",
       " 84258  295437   47       2  25      484  2017-11-09 13:57:26              0\n",
       " 86102   53964   47       1  34      484  2017-11-09 11:57:57              0\n",
       " 88004   79103   47       1  15      484  2017-11-09 12:21:32              0\n",
       " 91537   76355   47       1  19      484  2017-11-09 10:54:20              0\n",
       " 91543  155833   47       1  19      484  2017-11-09 11:21:15              0\n",
       " 92299   79909   47       2  32      484  2017-11-09 14:23:26              0\n",
       " 95561   44744   47       2   2      484  2017-11-09 15:00:20              0\n",
       " 95719   73144   47       1   1      484  2017-11-09 12:59:27              0\n",
       " 96153   60235   47       1  17      484  2017-11-09 12:40:40              0\n",
       " 96297  341305   47       1  19      484  2017-11-09 11:05:15              0\n",
       " 97511   64367   47       1  19      484  2017-11-09 12:32:02              0]"
      ]
     },
     "execution_count": 33,
     "metadata": {},
     "output_type": "execute_result"
    }
   ],
   "source": [
    "clean_data"
   ]
  },
  {
   "cell_type": "code",
   "execution_count": 34,
   "metadata": {},
   "outputs": [],
   "source": [
    "#  create a final_data to have my clean_data. (data which has >50% of click app)"
   ]
  },
  {
   "cell_type": "code",
   "execution_count": 35,
   "metadata": {},
   "outputs": [],
   "source": [
    "final_data=pd.concat(clean_data,axis=0)"
   ]
  },
  {
   "cell_type": "code",
   "execution_count": 36,
   "metadata": {},
   "outputs": [
    {
     "name": "stdout",
     "output_type": "stream",
     "text": [
      "<class 'pandas.core.frame.DataFrame'>\n",
      "Int64Index: 99088 entries, 5 to 97511\n",
      "Data columns (total 7 columns):\n",
      " #   Column         Non-Null Count  Dtype \n",
      "---  ------         --------------  ----- \n",
      " 0   ip             99088 non-null  int64 \n",
      " 1   app            99088 non-null  int64 \n",
      " 2   device         99088 non-null  int64 \n",
      " 3   os             99088 non-null  int64 \n",
      " 4   channel        99088 non-null  int64 \n",
      " 5   click_time     99088 non-null  object\n",
      " 6   is_attributed  99088 non-null  int64 \n",
      "dtypes: int64(6), object(1)\n",
      "memory usage: 6.0+ MB\n"
     ]
    }
   ],
   "source": [
    "final_data.info()"
   ]
  },
  {
   "cell_type": "code",
   "execution_count": 37,
   "metadata": {},
   "outputs": [],
   "source": [
    "# as we can see, now we have less number( less 912 row.)"
   ]
  },
  {
   "cell_type": "code",
   "execution_count": 38,
   "metadata": {},
   "outputs": [],
   "source": [
    "## data1[data1.app > 2] # ask question?"
   ]
  },
  {
   "cell_type": "code",
   "execution_count": null,
   "metadata": {},
   "outputs": [],
   "source": []
  },
  {
   "cell_type": "code",
   "execution_count": 39,
   "metadata": {},
   "outputs": [],
   "source": [
    "##data1['app'].unique"
   ]
  },
  {
   "cell_type": "code",
   "execution_count": 40,
   "metadata": {},
   "outputs": [],
   "source": [
    "## 100000-85128 now you can see data, my data is less 14872 time.\n",
    "# but I want to see the value of app was been removed, how i can see it?"
   ]
  },
  {
   "cell_type": "markdown",
   "metadata": {},
   "source": [
    "## **4. By using Pandas derive new features such as - 'day_of_week' , 'day_of_year' , 'month' , and 'hour' as  float/int datatypes using the 'click_time' column . Add the newly derived columns in original dataset.**"
   ]
  },
  {
   "cell_type": "code",
   "execution_count": 41,
   "metadata": {},
   "outputs": [
    {
     "data": {
      "text/plain": [
       "0        2017-11-07 09:30:38\n",
       "1        2017-11-07 13:40:27\n",
       "2        2017-11-07 18:05:24\n",
       "3        2017-11-07 04:58:08\n",
       "4        2017-11-09 09:00:09\n",
       "                ...         \n",
       "99995    2017-11-09 13:25:41\n",
       "99996    2017-11-07 11:25:43\n",
       "99997    2017-11-08 11:38:42\n",
       "99998    2017-11-08 17:55:21\n",
       "99999    2017-11-07 14:32:27\n",
       "Name: click_time, Length: 100000, dtype: object"
      ]
     },
     "execution_count": 41,
     "metadata": {},
     "output_type": "execute_result"
    }
   ],
   "source": [
    "data['click_time'] # see what we have in the column click_time. and as we can see the dtpy is a object."
   ]
  },
  {
   "cell_type": "code",
   "execution_count": 42,
   "metadata": {},
   "outputs": [
    {
     "data": {
      "text/plain": [
       "5       2017-11-09 01:22:13\n",
       "9       2017-11-08 12:35:26\n",
       "10      2017-11-08 08:14:37\n",
       "11      2017-11-07 05:03:14\n",
       "12      2017-11-09 10:24:23\n",
       "                ...        \n",
       "95561   2017-11-09 15:00:20\n",
       "95719   2017-11-09 12:59:27\n",
       "96153   2017-11-09 12:40:40\n",
       "96297   2017-11-09 11:05:15\n",
       "97511   2017-11-09 12:32:02\n",
       "Name: click_time, Length: 99088, dtype: datetime64[ns]"
      ]
     },
     "execution_count": 42,
     "metadata": {},
     "output_type": "execute_result"
    }
   ],
   "source": [
    "pd.to_datetime(final_data['click_time']) # using the datetime from pandas labrary, convert the object type into datetime "
   ]
  },
  {
   "cell_type": "code",
   "execution_count": 43,
   "metadata": {},
   "outputs": [],
   "source": [
    "# create a variable call convert_final_data as datetime and add it into my final_data"
   ]
  },
  {
   "cell_type": "code",
   "execution_count": 44,
   "metadata": {},
   "outputs": [],
   "source": [
    "final_data['convert_final_data'] = pd.to_datetime(final_data['click_time'])"
   ]
  },
  {
   "cell_type": "code",
   "execution_count": 45,
   "metadata": {},
   "outputs": [
    {
     "name": "stdout",
     "output_type": "stream",
     "text": [
      "<class 'pandas.core.frame.DataFrame'>\n",
      "Int64Index: 99088 entries, 5 to 97511\n",
      "Data columns (total 8 columns):\n",
      " #   Column              Non-Null Count  Dtype         \n",
      "---  ------              --------------  -----         \n",
      " 0   ip                  99088 non-null  int64         \n",
      " 1   app                 99088 non-null  int64         \n",
      " 2   device              99088 non-null  int64         \n",
      " 3   os                  99088 non-null  int64         \n",
      " 4   channel             99088 non-null  int64         \n",
      " 5   click_time          99088 non-null  object        \n",
      " 6   is_attributed       99088 non-null  int64         \n",
      " 7   convert_final_data  99088 non-null  datetime64[ns]\n",
      "dtypes: datetime64[ns](1), int64(6), object(1)\n",
      "memory usage: 6.8+ MB\n"
     ]
    }
   ],
   "source": [
    "final_data.info()"
   ]
  },
  {
   "cell_type": "code",
   "execution_count": 46,
   "metadata": {},
   "outputs": [],
   "source": [
    "# now we have the final_data_year let's use the lambda and apply function from pandas labrary to extrate the day, month and\n",
    "# year in the numeical dtype."
   ]
  },
  {
   "cell_type": "code",
   "execution_count": 47,
   "metadata": {},
   "outputs": [],
   "source": [
    "final_data['final_data_month'] = final_data['convert_final_data'].apply(lambda x: x.month)\n",
    "final_data['final_data_day'] = final_data['convert_final_data'].apply(lambda x: x.day)\n",
    "final_data['final_data_year'] = final_data['convert_final_data'].apply(lambda x: x.year)"
   ]
  },
  {
   "cell_type": "code",
   "execution_count": 48,
   "metadata": {},
   "outputs": [
    {
     "data": {
      "text/html": [
       "<div>\n",
       "<style scoped>\n",
       "    .dataframe tbody tr th:only-of-type {\n",
       "        vertical-align: middle;\n",
       "    }\n",
       "\n",
       "    .dataframe tbody tr th {\n",
       "        vertical-align: top;\n",
       "    }\n",
       "\n",
       "    .dataframe thead th {\n",
       "        text-align: right;\n",
       "    }\n",
       "</style>\n",
       "<table border=\"1\" class=\"dataframe\">\n",
       "  <thead>\n",
       "    <tr style=\"text-align: right;\">\n",
       "      <th></th>\n",
       "      <th>ip</th>\n",
       "      <th>app</th>\n",
       "      <th>device</th>\n",
       "      <th>os</th>\n",
       "      <th>channel</th>\n",
       "      <th>click_time</th>\n",
       "      <th>is_attributed</th>\n",
       "      <th>convert_final_data</th>\n",
       "      <th>final_data_month</th>\n",
       "      <th>final_data_day</th>\n",
       "      <th>final_data_year</th>\n",
       "    </tr>\n",
       "  </thead>\n",
       "  <tbody>\n",
       "    <tr>\n",
       "      <th>5</th>\n",
       "      <td>93663</td>\n",
       "      <td>3</td>\n",
       "      <td>1</td>\n",
       "      <td>17</td>\n",
       "      <td>115</td>\n",
       "      <td>2017-11-09 01:22:13</td>\n",
       "      <td>0</td>\n",
       "      <td>2017-11-09 01:22:13</td>\n",
       "      <td>11</td>\n",
       "      <td>9</td>\n",
       "      <td>2017</td>\n",
       "    </tr>\n",
       "    <tr>\n",
       "      <th>9</th>\n",
       "      <td>143636</td>\n",
       "      <td>3</td>\n",
       "      <td>1</td>\n",
       "      <td>19</td>\n",
       "      <td>135</td>\n",
       "      <td>2017-11-08 12:35:26</td>\n",
       "      <td>0</td>\n",
       "      <td>2017-11-08 12:35:26</td>\n",
       "      <td>11</td>\n",
       "      <td>8</td>\n",
       "      <td>2017</td>\n",
       "    </tr>\n",
       "    <tr>\n",
       "      <th>10</th>\n",
       "      <td>73839</td>\n",
       "      <td>3</td>\n",
       "      <td>1</td>\n",
       "      <td>22</td>\n",
       "      <td>489</td>\n",
       "      <td>2017-11-08 08:14:37</td>\n",
       "      <td>0</td>\n",
       "      <td>2017-11-08 08:14:37</td>\n",
       "      <td>11</td>\n",
       "      <td>8</td>\n",
       "      <td>2017</td>\n",
       "    </tr>\n",
       "    <tr>\n",
       "      <th>11</th>\n",
       "      <td>34812</td>\n",
       "      <td>3</td>\n",
       "      <td>1</td>\n",
       "      <td>13</td>\n",
       "      <td>489</td>\n",
       "      <td>2017-11-07 05:03:14</td>\n",
       "      <td>0</td>\n",
       "      <td>2017-11-07 05:03:14</td>\n",
       "      <td>11</td>\n",
       "      <td>7</td>\n",
       "      <td>2017</td>\n",
       "    </tr>\n",
       "    <tr>\n",
       "      <th>12</th>\n",
       "      <td>114809</td>\n",
       "      <td>3</td>\n",
       "      <td>1</td>\n",
       "      <td>22</td>\n",
       "      <td>205</td>\n",
       "      <td>2017-11-09 10:24:23</td>\n",
       "      <td>0</td>\n",
       "      <td>2017-11-09 10:24:23</td>\n",
       "      <td>11</td>\n",
       "      <td>9</td>\n",
       "      <td>2017</td>\n",
       "    </tr>\n",
       "    <tr>\n",
       "      <th>...</th>\n",
       "      <td>...</td>\n",
       "      <td>...</td>\n",
       "      <td>...</td>\n",
       "      <td>...</td>\n",
       "      <td>...</td>\n",
       "      <td>...</td>\n",
       "      <td>...</td>\n",
       "      <td>...</td>\n",
       "      <td>...</td>\n",
       "      <td>...</td>\n",
       "      <td>...</td>\n",
       "    </tr>\n",
       "    <tr>\n",
       "      <th>95561</th>\n",
       "      <td>44744</td>\n",
       "      <td>47</td>\n",
       "      <td>2</td>\n",
       "      <td>2</td>\n",
       "      <td>484</td>\n",
       "      <td>2017-11-09 15:00:20</td>\n",
       "      <td>0</td>\n",
       "      <td>2017-11-09 15:00:20</td>\n",
       "      <td>11</td>\n",
       "      <td>9</td>\n",
       "      <td>2017</td>\n",
       "    </tr>\n",
       "    <tr>\n",
       "      <th>95719</th>\n",
       "      <td>73144</td>\n",
       "      <td>47</td>\n",
       "      <td>1</td>\n",
       "      <td>1</td>\n",
       "      <td>484</td>\n",
       "      <td>2017-11-09 12:59:27</td>\n",
       "      <td>0</td>\n",
       "      <td>2017-11-09 12:59:27</td>\n",
       "      <td>11</td>\n",
       "      <td>9</td>\n",
       "      <td>2017</td>\n",
       "    </tr>\n",
       "    <tr>\n",
       "      <th>96153</th>\n",
       "      <td>60235</td>\n",
       "      <td>47</td>\n",
       "      <td>1</td>\n",
       "      <td>17</td>\n",
       "      <td>484</td>\n",
       "      <td>2017-11-09 12:40:40</td>\n",
       "      <td>0</td>\n",
       "      <td>2017-11-09 12:40:40</td>\n",
       "      <td>11</td>\n",
       "      <td>9</td>\n",
       "      <td>2017</td>\n",
       "    </tr>\n",
       "    <tr>\n",
       "      <th>96297</th>\n",
       "      <td>341305</td>\n",
       "      <td>47</td>\n",
       "      <td>1</td>\n",
       "      <td>19</td>\n",
       "      <td>484</td>\n",
       "      <td>2017-11-09 11:05:15</td>\n",
       "      <td>0</td>\n",
       "      <td>2017-11-09 11:05:15</td>\n",
       "      <td>11</td>\n",
       "      <td>9</td>\n",
       "      <td>2017</td>\n",
       "    </tr>\n",
       "    <tr>\n",
       "      <th>97511</th>\n",
       "      <td>64367</td>\n",
       "      <td>47</td>\n",
       "      <td>1</td>\n",
       "      <td>19</td>\n",
       "      <td>484</td>\n",
       "      <td>2017-11-09 12:32:02</td>\n",
       "      <td>0</td>\n",
       "      <td>2017-11-09 12:32:02</td>\n",
       "      <td>11</td>\n",
       "      <td>9</td>\n",
       "      <td>2017</td>\n",
       "    </tr>\n",
       "  </tbody>\n",
       "</table>\n",
       "<p>99088 rows × 11 columns</p>\n",
       "</div>"
      ],
      "text/plain": [
       "           ip  app  device  os  channel           click_time  is_attributed  \\\n",
       "5       93663    3       1  17      115  2017-11-09 01:22:13              0   \n",
       "9      143636    3       1  19      135  2017-11-08 12:35:26              0   \n",
       "10      73839    3       1  22      489  2017-11-08 08:14:37              0   \n",
       "11      34812    3       1  13      489  2017-11-07 05:03:14              0   \n",
       "12     114809    3       1  22      205  2017-11-09 10:24:23              0   \n",
       "...       ...  ...     ...  ..      ...                  ...            ...   \n",
       "95561   44744   47       2   2      484  2017-11-09 15:00:20              0   \n",
       "95719   73144   47       1   1      484  2017-11-09 12:59:27              0   \n",
       "96153   60235   47       1  17      484  2017-11-09 12:40:40              0   \n",
       "96297  341305   47       1  19      484  2017-11-09 11:05:15              0   \n",
       "97511   64367   47       1  19      484  2017-11-09 12:32:02              0   \n",
       "\n",
       "       convert_final_data  final_data_month  final_data_day  final_data_year  \n",
       "5     2017-11-09 01:22:13                11               9             2017  \n",
       "9     2017-11-08 12:35:26                11               8             2017  \n",
       "10    2017-11-08 08:14:37                11               8             2017  \n",
       "11    2017-11-07 05:03:14                11               7             2017  \n",
       "12    2017-11-09 10:24:23                11               9             2017  \n",
       "...                   ...               ...             ...              ...  \n",
       "95561 2017-11-09 15:00:20                11               9             2017  \n",
       "95719 2017-11-09 12:59:27                11               9             2017  \n",
       "96153 2017-11-09 12:40:40                11               9             2017  \n",
       "96297 2017-11-09 11:05:15                11               9             2017  \n",
       "97511 2017-11-09 12:32:02                11               9             2017  \n",
       "\n",
       "[99088 rows x 11 columns]"
      ]
     },
     "execution_count": 48,
     "metadata": {},
     "output_type": "execute_result"
    }
   ],
   "source": [
    "final_data"
   ]
  },
  {
   "cell_type": "code",
   "execution_count": 49,
   "metadata": {},
   "outputs": [
    {
     "name": "stdout",
     "output_type": "stream",
     "text": [
      "<class 'pandas.core.frame.DataFrame'>\n",
      "Int64Index: 99088 entries, 5 to 97511\n",
      "Data columns (total 11 columns):\n",
      " #   Column              Non-Null Count  Dtype         \n",
      "---  ------              --------------  -----         \n",
      " 0   ip                  99088 non-null  int64         \n",
      " 1   app                 99088 non-null  int64         \n",
      " 2   device              99088 non-null  int64         \n",
      " 3   os                  99088 non-null  int64         \n",
      " 4   channel             99088 non-null  int64         \n",
      " 5   click_time          99088 non-null  object        \n",
      " 6   is_attributed       99088 non-null  int64         \n",
      " 7   convert_final_data  99088 non-null  datetime64[ns]\n",
      " 8   final_data_month    99088 non-null  int64         \n",
      " 9   final_data_day      99088 non-null  int64         \n",
      " 10  final_data_year     99088 non-null  int64         \n",
      "dtypes: datetime64[ns](1), int64(9), object(1)\n",
      "memory usage: 9.1+ MB\n"
     ]
    }
   ],
   "source": [
    "# remove month \n",
    "final_data.info()"
   ]
  },
  {
   "cell_type": "code",
   "execution_count": 50,
   "metadata": {},
   "outputs": [],
   "source": [
    "# As we can see, we have all data that we will use to do prediction the numerical type, so let's remove others columns\n",
    "# that is not usifull in our analyses.\n"
   ]
  },
  {
   "cell_type": "code",
   "execution_count": 51,
   "metadata": {},
   "outputs": [],
   "source": [
    "final_data = final_data.drop(['click_time','convert_final_data'],axis=1)"
   ]
  },
  {
   "cell_type": "code",
   "execution_count": 52,
   "metadata": {},
   "outputs": [
    {
     "data": {
      "text/html": [
       "<div>\n",
       "<style scoped>\n",
       "    .dataframe tbody tr th:only-of-type {\n",
       "        vertical-align: middle;\n",
       "    }\n",
       "\n",
       "    .dataframe tbody tr th {\n",
       "        vertical-align: top;\n",
       "    }\n",
       "\n",
       "    .dataframe thead th {\n",
       "        text-align: right;\n",
       "    }\n",
       "</style>\n",
       "<table border=\"1\" class=\"dataframe\">\n",
       "  <thead>\n",
       "    <tr style=\"text-align: right;\">\n",
       "      <th></th>\n",
       "      <th>ip</th>\n",
       "      <th>app</th>\n",
       "      <th>device</th>\n",
       "      <th>os</th>\n",
       "      <th>channel</th>\n",
       "      <th>is_attributed</th>\n",
       "      <th>final_data_month</th>\n",
       "      <th>final_data_day</th>\n",
       "      <th>final_data_year</th>\n",
       "    </tr>\n",
       "  </thead>\n",
       "  <tbody>\n",
       "    <tr>\n",
       "      <th>5</th>\n",
       "      <td>93663</td>\n",
       "      <td>3</td>\n",
       "      <td>1</td>\n",
       "      <td>17</td>\n",
       "      <td>115</td>\n",
       "      <td>0</td>\n",
       "      <td>11</td>\n",
       "      <td>9</td>\n",
       "      <td>2017</td>\n",
       "    </tr>\n",
       "    <tr>\n",
       "      <th>9</th>\n",
       "      <td>143636</td>\n",
       "      <td>3</td>\n",
       "      <td>1</td>\n",
       "      <td>19</td>\n",
       "      <td>135</td>\n",
       "      <td>0</td>\n",
       "      <td>11</td>\n",
       "      <td>8</td>\n",
       "      <td>2017</td>\n",
       "    </tr>\n",
       "    <tr>\n",
       "      <th>10</th>\n",
       "      <td>73839</td>\n",
       "      <td>3</td>\n",
       "      <td>1</td>\n",
       "      <td>22</td>\n",
       "      <td>489</td>\n",
       "      <td>0</td>\n",
       "      <td>11</td>\n",
       "      <td>8</td>\n",
       "      <td>2017</td>\n",
       "    </tr>\n",
       "    <tr>\n",
       "      <th>11</th>\n",
       "      <td>34812</td>\n",
       "      <td>3</td>\n",
       "      <td>1</td>\n",
       "      <td>13</td>\n",
       "      <td>489</td>\n",
       "      <td>0</td>\n",
       "      <td>11</td>\n",
       "      <td>7</td>\n",
       "      <td>2017</td>\n",
       "    </tr>\n",
       "    <tr>\n",
       "      <th>12</th>\n",
       "      <td>114809</td>\n",
       "      <td>3</td>\n",
       "      <td>1</td>\n",
       "      <td>22</td>\n",
       "      <td>205</td>\n",
       "      <td>0</td>\n",
       "      <td>11</td>\n",
       "      <td>9</td>\n",
       "      <td>2017</td>\n",
       "    </tr>\n",
       "    <tr>\n",
       "      <th>...</th>\n",
       "      <td>...</td>\n",
       "      <td>...</td>\n",
       "      <td>...</td>\n",
       "      <td>...</td>\n",
       "      <td>...</td>\n",
       "      <td>...</td>\n",
       "      <td>...</td>\n",
       "      <td>...</td>\n",
       "      <td>...</td>\n",
       "    </tr>\n",
       "    <tr>\n",
       "      <th>95561</th>\n",
       "      <td>44744</td>\n",
       "      <td>47</td>\n",
       "      <td>2</td>\n",
       "      <td>2</td>\n",
       "      <td>484</td>\n",
       "      <td>0</td>\n",
       "      <td>11</td>\n",
       "      <td>9</td>\n",
       "      <td>2017</td>\n",
       "    </tr>\n",
       "    <tr>\n",
       "      <th>95719</th>\n",
       "      <td>73144</td>\n",
       "      <td>47</td>\n",
       "      <td>1</td>\n",
       "      <td>1</td>\n",
       "      <td>484</td>\n",
       "      <td>0</td>\n",
       "      <td>11</td>\n",
       "      <td>9</td>\n",
       "      <td>2017</td>\n",
       "    </tr>\n",
       "    <tr>\n",
       "      <th>96153</th>\n",
       "      <td>60235</td>\n",
       "      <td>47</td>\n",
       "      <td>1</td>\n",
       "      <td>17</td>\n",
       "      <td>484</td>\n",
       "      <td>0</td>\n",
       "      <td>11</td>\n",
       "      <td>9</td>\n",
       "      <td>2017</td>\n",
       "    </tr>\n",
       "    <tr>\n",
       "      <th>96297</th>\n",
       "      <td>341305</td>\n",
       "      <td>47</td>\n",
       "      <td>1</td>\n",
       "      <td>19</td>\n",
       "      <td>484</td>\n",
       "      <td>0</td>\n",
       "      <td>11</td>\n",
       "      <td>9</td>\n",
       "      <td>2017</td>\n",
       "    </tr>\n",
       "    <tr>\n",
       "      <th>97511</th>\n",
       "      <td>64367</td>\n",
       "      <td>47</td>\n",
       "      <td>1</td>\n",
       "      <td>19</td>\n",
       "      <td>484</td>\n",
       "      <td>0</td>\n",
       "      <td>11</td>\n",
       "      <td>9</td>\n",
       "      <td>2017</td>\n",
       "    </tr>\n",
       "  </tbody>\n",
       "</table>\n",
       "<p>99088 rows × 9 columns</p>\n",
       "</div>"
      ],
      "text/plain": [
       "           ip  app  device  os  channel  is_attributed  final_data_month  \\\n",
       "5       93663    3       1  17      115              0                11   \n",
       "9      143636    3       1  19      135              0                11   \n",
       "10      73839    3       1  22      489              0                11   \n",
       "11      34812    3       1  13      489              0                11   \n",
       "12     114809    3       1  22      205              0                11   \n",
       "...       ...  ...     ...  ..      ...            ...               ...   \n",
       "95561   44744   47       2   2      484              0                11   \n",
       "95719   73144   47       1   1      484              0                11   \n",
       "96153   60235   47       1  17      484              0                11   \n",
       "96297  341305   47       1  19      484              0                11   \n",
       "97511   64367   47       1  19      484              0                11   \n",
       "\n",
       "       final_data_day  final_data_year  \n",
       "5                   9             2017  \n",
       "9                   8             2017  \n",
       "10                  8             2017  \n",
       "11                  7             2017  \n",
       "12                  9             2017  \n",
       "...               ...              ...  \n",
       "95561               9             2017  \n",
       "95719               9             2017  \n",
       "96153               9             2017  \n",
       "96297               9             2017  \n",
       "97511               9             2017  \n",
       "\n",
       "[99088 rows x 9 columns]"
      ]
     },
     "execution_count": 52,
     "metadata": {},
     "output_type": "execute_result"
    }
   ],
   "source": [
    "final_data"
   ]
  },
  {
   "cell_type": "code",
   "execution_count": 53,
   "metadata": {},
   "outputs": [
    {
     "name": "stdout",
     "output_type": "stream",
     "text": [
      "<class 'pandas.core.frame.DataFrame'>\n",
      "Int64Index: 99088 entries, 5 to 97511\n",
      "Data columns (total 9 columns):\n",
      " #   Column            Non-Null Count  Dtype\n",
      "---  ------            --------------  -----\n",
      " 0   ip                99088 non-null  int64\n",
      " 1   app               99088 non-null  int64\n",
      " 2   device            99088 non-null  int64\n",
      " 3   os                99088 non-null  int64\n",
      " 4   channel           99088 non-null  int64\n",
      " 5   is_attributed     99088 non-null  int64\n",
      " 6   final_data_month  99088 non-null  int64\n",
      " 7   final_data_day    99088 non-null  int64\n",
      " 8   final_data_year   99088 non-null  int64\n",
      "dtypes: int64(9)\n",
      "memory usage: 7.6 MB\n"
     ]
    }
   ],
   "source": [
    "final_data.info()"
   ]
  },
  {
   "cell_type": "code",
   "execution_count": 54,
   "metadata": {},
   "outputs": [],
   "source": [
    "# As we can see, now we have 9 columns instead 7 and all variable are the same type.. integer. so this is the time to start to\n",
    "# train or data for the prediction "
   ]
  },
  {
   "cell_type": "markdown",
   "metadata": {},
   "source": [
    "## 5. Divide the data into training and testing subsets into 80:20 ratio(Train_data = 80% , Testing_data = 20%) and check the average download rates('is_attributed') for train and test data, scores should be comparable.**"
   ]
  },
  {
   "cell_type": "code",
   "execution_count": 55,
   "metadata": {},
   "outputs": [],
   "source": [
    "# let's create variable x and y where the y will be the dependent variable and x independent variable\n",
    "x=final_data.drop(['is_attributed'], axis=1)\n",
    "y=final_data['is_attributed']"
   ]
  },
  {
   "cell_type": "code",
   "execution_count": 56,
   "metadata": {},
   "outputs": [
    {
     "data": {
      "text/html": [
       "<div>\n",
       "<style scoped>\n",
       "    .dataframe tbody tr th:only-of-type {\n",
       "        vertical-align: middle;\n",
       "    }\n",
       "\n",
       "    .dataframe tbody tr th {\n",
       "        vertical-align: top;\n",
       "    }\n",
       "\n",
       "    .dataframe thead th {\n",
       "        text-align: right;\n",
       "    }\n",
       "</style>\n",
       "<table border=\"1\" class=\"dataframe\">\n",
       "  <thead>\n",
       "    <tr style=\"text-align: right;\">\n",
       "      <th></th>\n",
       "      <th>ip</th>\n",
       "      <th>app</th>\n",
       "      <th>device</th>\n",
       "      <th>os</th>\n",
       "      <th>channel</th>\n",
       "      <th>final_data_month</th>\n",
       "      <th>final_data_day</th>\n",
       "      <th>final_data_year</th>\n",
       "    </tr>\n",
       "  </thead>\n",
       "  <tbody>\n",
       "    <tr>\n",
       "      <th>5</th>\n",
       "      <td>93663</td>\n",
       "      <td>3</td>\n",
       "      <td>1</td>\n",
       "      <td>17</td>\n",
       "      <td>115</td>\n",
       "      <td>11</td>\n",
       "      <td>9</td>\n",
       "      <td>2017</td>\n",
       "    </tr>\n",
       "    <tr>\n",
       "      <th>9</th>\n",
       "      <td>143636</td>\n",
       "      <td>3</td>\n",
       "      <td>1</td>\n",
       "      <td>19</td>\n",
       "      <td>135</td>\n",
       "      <td>11</td>\n",
       "      <td>8</td>\n",
       "      <td>2017</td>\n",
       "    </tr>\n",
       "    <tr>\n",
       "      <th>10</th>\n",
       "      <td>73839</td>\n",
       "      <td>3</td>\n",
       "      <td>1</td>\n",
       "      <td>22</td>\n",
       "      <td>489</td>\n",
       "      <td>11</td>\n",
       "      <td>8</td>\n",
       "      <td>2017</td>\n",
       "    </tr>\n",
       "    <tr>\n",
       "      <th>11</th>\n",
       "      <td>34812</td>\n",
       "      <td>3</td>\n",
       "      <td>1</td>\n",
       "      <td>13</td>\n",
       "      <td>489</td>\n",
       "      <td>11</td>\n",
       "      <td>7</td>\n",
       "      <td>2017</td>\n",
       "    </tr>\n",
       "    <tr>\n",
       "      <th>12</th>\n",
       "      <td>114809</td>\n",
       "      <td>3</td>\n",
       "      <td>1</td>\n",
       "      <td>22</td>\n",
       "      <td>205</td>\n",
       "      <td>11</td>\n",
       "      <td>9</td>\n",
       "      <td>2017</td>\n",
       "    </tr>\n",
       "    <tr>\n",
       "      <th>...</th>\n",
       "      <td>...</td>\n",
       "      <td>...</td>\n",
       "      <td>...</td>\n",
       "      <td>...</td>\n",
       "      <td>...</td>\n",
       "      <td>...</td>\n",
       "      <td>...</td>\n",
       "      <td>...</td>\n",
       "    </tr>\n",
       "    <tr>\n",
       "      <th>95561</th>\n",
       "      <td>44744</td>\n",
       "      <td>47</td>\n",
       "      <td>2</td>\n",
       "      <td>2</td>\n",
       "      <td>484</td>\n",
       "      <td>11</td>\n",
       "      <td>9</td>\n",
       "      <td>2017</td>\n",
       "    </tr>\n",
       "    <tr>\n",
       "      <th>95719</th>\n",
       "      <td>73144</td>\n",
       "      <td>47</td>\n",
       "      <td>1</td>\n",
       "      <td>1</td>\n",
       "      <td>484</td>\n",
       "      <td>11</td>\n",
       "      <td>9</td>\n",
       "      <td>2017</td>\n",
       "    </tr>\n",
       "    <tr>\n",
       "      <th>96153</th>\n",
       "      <td>60235</td>\n",
       "      <td>47</td>\n",
       "      <td>1</td>\n",
       "      <td>17</td>\n",
       "      <td>484</td>\n",
       "      <td>11</td>\n",
       "      <td>9</td>\n",
       "      <td>2017</td>\n",
       "    </tr>\n",
       "    <tr>\n",
       "      <th>96297</th>\n",
       "      <td>341305</td>\n",
       "      <td>47</td>\n",
       "      <td>1</td>\n",
       "      <td>19</td>\n",
       "      <td>484</td>\n",
       "      <td>11</td>\n",
       "      <td>9</td>\n",
       "      <td>2017</td>\n",
       "    </tr>\n",
       "    <tr>\n",
       "      <th>97511</th>\n",
       "      <td>64367</td>\n",
       "      <td>47</td>\n",
       "      <td>1</td>\n",
       "      <td>19</td>\n",
       "      <td>484</td>\n",
       "      <td>11</td>\n",
       "      <td>9</td>\n",
       "      <td>2017</td>\n",
       "    </tr>\n",
       "  </tbody>\n",
       "</table>\n",
       "<p>99088 rows × 8 columns</p>\n",
       "</div>"
      ],
      "text/plain": [
       "           ip  app  device  os  channel  final_data_month  final_data_day  \\\n",
       "5       93663    3       1  17      115                11               9   \n",
       "9      143636    3       1  19      135                11               8   \n",
       "10      73839    3       1  22      489                11               8   \n",
       "11      34812    3       1  13      489                11               7   \n",
       "12     114809    3       1  22      205                11               9   \n",
       "...       ...  ...     ...  ..      ...               ...             ...   \n",
       "95561   44744   47       2   2      484                11               9   \n",
       "95719   73144   47       1   1      484                11               9   \n",
       "96153   60235   47       1  17      484                11               9   \n",
       "96297  341305   47       1  19      484                11               9   \n",
       "97511   64367   47       1  19      484                11               9   \n",
       "\n",
       "       final_data_year  \n",
       "5                 2017  \n",
       "9                 2017  \n",
       "10                2017  \n",
       "11                2017  \n",
       "12                2017  \n",
       "...                ...  \n",
       "95561             2017  \n",
       "95719             2017  \n",
       "96153             2017  \n",
       "96297             2017  \n",
       "97511             2017  \n",
       "\n",
       "[99088 rows x 8 columns]"
      ]
     },
     "execution_count": 56,
     "metadata": {},
     "output_type": "execute_result"
    }
   ],
   "source": [
    "# let's print x and y just to make sure it right\n",
    "x"
   ]
  },
  {
   "cell_type": "code",
   "execution_count": 57,
   "metadata": {},
   "outputs": [
    {
     "data": {
      "text/plain": [
       "5        0\n",
       "9        0\n",
       "10       0\n",
       "11       0\n",
       "12       0\n",
       "        ..\n",
       "95561    0\n",
       "95719    0\n",
       "96153    0\n",
       "96297    0\n",
       "97511    0\n",
       "Name: is_attributed, Length: 99088, dtype: int64"
      ]
     },
     "execution_count": 57,
     "metadata": {},
     "output_type": "execute_result"
    }
   ],
   "source": [
    "y"
   ]
  },
  {
   "cell_type": "code",
   "execution_count": 58,
   "metadata": {},
   "outputs": [],
   "source": [
    "from sklearn.model_selection import train_test_split\n",
    "from sklearn import metrics\n",
    "from sklearn import preprocessing \n"
   ]
  },
  {
   "cell_type": "code",
   "execution_count": 59,
   "metadata": {},
   "outputs": [],
   "source": [
    "X_train,x_test,y_train,y_test=train_test_split(x,y,train_size=0.8,test_size=0.2,random_state=10)"
   ]
  },
  {
   "cell_type": "code",
   "execution_count": 60,
   "metadata": {},
   "outputs": [],
   "source": [
    "# print the size of my X_train,y_train, x_test and y_test"
   ]
  },
  {
   "cell_type": "code",
   "execution_count": 61,
   "metadata": {},
   "outputs": [
    {
     "name": "stdout",
     "output_type": "stream",
     "text": [
      "(79270, 8)\n",
      "(79270,)\n",
      "(19818, 8)\n",
      "(19818,)\n"
     ]
    }
   ],
   "source": [
    "print(X_train.shape)\n",
    "print (y_train.shape)\n",
    "print (x_test.shape)\n",
    "print (y_test.shape)"
   ]
  },
  {
   "cell_type": "markdown",
   "metadata": {},
   "source": [
    "## Apply XGBoostClassifier with default parameters on training data and make first 10 prediction for Test data.          NOTE: Use y_pred = model.predict_proba(X_test) since we need probabilities to compute AUC.**"
   ]
  },
  {
   "cell_type": "code",
   "execution_count": 89,
   "metadata": {},
   "outputs": [],
   "source": [
    "from sklearn.tree import DecisionTreeClassifier\n",
    "import xgboost as xgb\n",
    "from sklearn.metrics import mean_squared_error\n",
    "from sklearn.metrics import classification_report,confusion_matrix"
   ]
  },
  {
   "cell_type": "code",
   "execution_count": 90,
   "metadata": {},
   "outputs": [
    {
     "name": "stdout",
     "output_type": "stream",
     "text": [
      "Requirement already satisfied: xgboost in c:\\users\\marce\\anaconda3\\lib\\site-packages (1.3.3)\n",
      "Requirement already satisfied: numpy in c:\\users\\marce\\anaconda3\\lib\\site-packages (from xgboost) (1.20.1)\n",
      "Requirement already satisfied: scipy in c:\\users\\marce\\anaconda3\\lib\\site-packages (from xgboost) (1.5.2)\n",
      "Note: you may need to restart the kernel to use updated packages.\n"
     ]
    }
   ],
   "source": [
    "pip install xgboost"
   ]
  },
  {
   "cell_type": "code",
   "execution_count": 91,
   "metadata": {},
   "outputs": [
    {
     "data": {
      "text/plain": [
       "DecisionTreeClassifier(random_state=0)"
      ]
     },
     "execution_count": 91,
     "metadata": {},
     "output_type": "execute_result"
    }
   ],
   "source": [
    "# Instantiate the classifier: dt_clf_4\n",
    "clf = DecisionTreeClassifier(random_state=0)\n",
    "# Fit the classifier to the training set\n",
    "clf.fit(X_train, y_train)"
   ]
  },
  {
   "cell_type": "code",
   "execution_count": 92,
   "metadata": {},
   "outputs": [
    {
     "name": "stdout",
     "output_type": "stream",
     "text": [
      "[11:45:32] WARNING: C:/Users/Administrator/workspace/xgboost-win64_release_1.3.0/src/learner.cc:541: \n",
      "Parameters: { criterion, min_samples_leaf } might not be used.\n",
      "\n",
      "  This may not be accurate due to some parameters are only used in language bindings but\n",
      "  passed down to XGBoost core.  Or some parameters are not used but slip through this\n",
      "  verification. Please open an issue if you find above cases.\n",
      "\n",
      "\n",
      "[11:45:32] WARNING: C:/Users/Administrator/workspace/xgboost-win64_release_1.3.0/src/learner.cc:1061: Starting in XGBoost 1.3.0, the default evaluation metric used with the objective 'binary:logistic' was changed from 'error' to 'logloss'. Explicitly set eval_metric if you'd like to restore the old behavior.\n",
      "The XGBoostClassifier model accuracy is 0.9985366838227874\n",
      "The confusion matrix of XGBoostClassifier   Model is\n",
      "[[19786     3]\n",
      " [   26     3]]\n"
     ]
    }
   ],
   "source": [
    "# Instantiate the XGBClassifier: xg_cl\n",
    "#xg_cl = xgb.XGBClassifier(n_estimators=10, seed=123)\n",
    "xgcl = xgb.XGBClassifier(n_estimators=10 ,criterion = 'gini', class_weight=None, max_depth = None, min_samples_leaf=1)\n",
    "# Fit the classifier to the training set\n",
    "xgcl.fit(X_train,y_train)\n",
    "\n",
    "##==============================\n",
    "\n",
    "# Predict the labels of the test set: preds\n",
    "pred = xgcl.predict(x_test)\n",
    "\n",
    "xgcl_score=xgcl.score(x_test , y_test)\n",
    "\n",
    "print(\"The XGBoostClassifier model accuracy is {}\".format(xgcl_score))\n",
    "print(\"The confusion matrix of XGBoostClassifier   Model is\")\n",
    "print(metrics.confusion_matrix(y_test,pred))\n"
   ]
  },
  {
   "cell_type": "code",
   "execution_count": 93,
   "metadata": {},
   "outputs": [],
   "source": [
    "# prediction the x data using predict_proba\n",
    "\n",
    "y_pred = xgcl.predict_proba(x_test)\n",
    "\n"
   ]
  },
  {
   "cell_type": "code",
   "execution_count": 94,
   "metadata": {},
   "outputs": [],
   "source": [
    "# "
   ]
  },
  {
   "cell_type": "code",
   "execution_count": 95,
   "metadata": {},
   "outputs": [],
   "source": [
    "from sklearn.datasets import make_blobs\n",
    "X, y = make_blobs(n_samples=10, centers=3, n_features=2,random_state=0)"
   ]
  },
  {
   "cell_type": "code",
   "execution_count": 96,
   "metadata": {},
   "outputs": [],
   "source": [
    "# now let predit for the first 10 element in the test data\n",
    "#ASK QUESTIONS. I PREDITC FOR 10 ELE LIKE TH"
   ]
  },
  {
   "cell_type": "code",
   "execution_count": 97,
   "metadata": {},
   "outputs": [
    {
     "name": "stdout",
     "output_type": "stream",
     "text": [
      "[11:45:37] WARNING: C:/Users/Administrator/workspace/xgboost-win64_release_1.3.0/src/learner.cc:541: \n",
      "Parameters: { criterion, min_samples_leaf, scale_pos_weight } might not be used.\n",
      "\n",
      "  This may not be accurate due to some parameters are only used in language bindings but\n",
      "  passed down to XGBoost core.  Or some parameters are not used but slip through this\n",
      "  verification. Please open an issue if you find above cases.\n",
      "\n",
      "\n",
      "[11:45:37] WARNING: C:/Users/Administrator/workspace/xgboost-win64_release_1.3.0/src/learner.cc:1061: Starting in XGBoost 1.3.0, the default evaluation metric used with the objective 'multi:softprob' was changed from 'merror' to 'mlogloss'. Explicitly set eval_metric if you'd like to restore the old behavior.\n"
     ]
    },
    {
     "data": {
      "text/plain": [
       "XGBClassifier(base_score=0.5, booster='gbtree', class_weight=None,\n",
       "              colsample_bylevel=1, colsample_bynode=1, colsample_bytree=1,\n",
       "              criterion='gini', gamma=0, gpu_id=-1, importance_type='gain',\n",
       "              interaction_constraints='', learning_rate=0.300000012,\n",
       "              max_delta_step=0, max_depth=6, min_child_weight=1,\n",
       "              min_samples_leaf=1, missing=nan, monotone_constraints='()',\n",
       "              n_estimators=10, n_jobs=12, num_parallel_tree=1,\n",
       "              objective='multi:softprob', random_state=0, reg_alpha=0,\n",
       "              reg_lambda=1, scale_pos_weight=None, subsample=1,\n",
       "              tree_method='exact', validate_parameters=1, verbosity=None)"
      ]
     },
     "execution_count": 97,
     "metadata": {},
     "output_type": "execute_result"
    }
   ],
   "source": [
    "xgcl.fit(X, y) # traing data"
   ]
  },
  {
   "cell_type": "code",
   "execution_count": 98,
   "metadata": {},
   "outputs": [
    {
     "name": "stdout",
     "output_type": "stream",
     "text": [
      "[1.12031365 5.75806083] [0.9774193  0.02258071]\n",
      "[1.7373078  4.42546234] [0.9672956  0.03270443]\n",
      "[2.36833522 0.04356792] [0.9774657  0.02253432]\n",
      "[0.87305123 4.71438583] [0.9774193  0.02258071]\n",
      "[-0.66246781  2.17571724] [0.9774193  0.02258071]\n",
      "[0.74285061 1.46351659] [0.9774193  0.02258071]\n",
      "[-4.07989383  3.57150086] [0.9774193  0.02258071]\n",
      "[3.54934659 0.6925054 ] [0.9774193  0.02258071]\n",
      "[2.49913075 1.23133799] [0.9774193  0.02258071]\n",
      "[1.9263585  4.15243012] [0.9774193  0.02258071]\n"
     ]
    }
   ],
   "source": [
    "for i in range(10):\n",
    "    print(X[i], y_pred[i]) # prediction for the 10 first element \n",
    "  \n"
   ]
  },
  {
   "cell_type": "code",
   "execution_count": null,
   "metadata": {},
   "outputs": [],
   "source": []
  },
  {
   "cell_type": "code",
   "execution_count": null,
   "metadata": {},
   "outputs": [],
   "source": []
  },
  {
   "cell_type": "code",
   "execution_count": 99,
   "metadata": {},
   "outputs": [],
   "source": [
    "# Compute the accuracy for my training data\n",
    "\n"
   ]
  },
  {
   "cell_type": "markdown",
   "metadata": {},
   "source": [
    "## **7. On evaluating the predictions made by the model what is the AUC/ROC score with default hyperparameters.**"
   ]
  },
  {
   "cell_type": "code",
   "execution_count": 100,
   "metadata": {},
   "outputs": [],
   "source": [
    "from sklearn.model_selection import cross_val_score, KFold"
   ]
  },
  {
   "cell_type": "code",
   "execution_count": 101,
   "metadata": {},
   "outputs": [
    {
     "name": "stdout",
     "output_type": "stream",
     "text": [
      "Mean cross-validation score: nan\n",
      "Accuracy: nan% (nan%)\n"
     ]
    }
   ],
   "source": [
    "scores = cross_val_score(xgcl, X_train, y_train, cv=5)\n",
    "print(\"Mean cross-validation score: %.2f\" % scores.mean())\n",
    "\n",
    "print(\"Accuracy: %.2f%% (%.2f%%)\" % (scores.mean()*100, scores.std()*100))"
   ]
  },
  {
   "cell_type": "code",
   "execution_count": null,
   "metadata": {},
   "outputs": [],
   "source": []
  },
  {
   "cell_type": "code",
   "execution_count": null,
   "metadata": {},
   "outputs": [],
   "source": []
  },
  {
   "cell_type": "code",
   "execution_count": null,
   "metadata": {},
   "outputs": [],
   "source": []
  },
  {
   "cell_type": "code",
   "execution_count": null,
   "metadata": {},
   "outputs": [],
   "source": []
  },
  {
   "cell_type": "markdown",
   "metadata": {},
   "source": [
    "## 8. Compute feature importance score and name the top 5 features/columns .**"
   ]
  },
  {
   "cell_type": "code",
   "execution_count": 75,
   "metadata": {},
   "outputs": [],
   "source": [
    "import xgboost"
   ]
  },
  {
   "cell_type": "code",
   "execution_count": 76,
   "metadata": {},
   "outputs": [
    {
     "data": {
      "image/png": "[encoded data removed]",
      "text/plain": [
       "<Figure size 432x288 with 1 Axes>"
      ]
     },
     "metadata": {
      "needs_background": "light"
     },
     "output_type": "display_data"
    }
   ],
   "source": [
    "\n",
    "# Plot the top 7 features\n",
    "xgboost.plot_importance(xgcl, max_num_features=5)\n",
    "# Show the plot\n",
    "plt.show()"
   ]
  },
  {
   "cell_type": "code",
   "execution_count": 77,
   "metadata": {},
   "outputs": [],
   "source": [
    "# The XGBoost  model tells us that the ip is the most important feature of the others"
   ]
  },
  {
   "cell_type": "code",
   "execution_count": null,
   "metadata": {},
   "outputs": [],
   "source": []
  },
  {
   "cell_type": "code",
   "execution_count": null,
   "metadata": {},
   "outputs": [],
   "source": []
  },
  {
   "cell_type": "code",
   "execution_count": null,
   "metadata": {},
   "outputs": [],
   "source": []
  },
  {
   "cell_type": "code",
   "execution_count": null,
   "metadata": {},
   "outputs": [],
   "source": []
  },
  {
   "cell_type": "markdown",
   "metadata": {},
   "source": [
    "## Apply BaggingClassifier with base_estimator LogisticRegression and compute AUC/ROC score."
   ]
  },
  {
   "cell_type": "code",
   "execution_count": 78,
   "metadata": {},
   "outputs": [],
   "source": [
    "from sklearn.datasets import load_breast_cancer\n",
    "from sklearn.linear_model import LogisticRegression\n",
    "from sklearn.metrics import roc_auc_score\n",
    "from sklearn.ensemble import BaggingClassifier"
   ]
  },
  {
   "cell_type": "code",
   "execution_count": 79,
   "metadata": {},
   "outputs": [
    {
     "data": {
      "text/plain": [
       "1.0"
      ]
     },
     "execution_count": 79,
     "metadata": {},
     "output_type": "execute_result"
    }
   ],
   "source": [
    "clf = LogisticRegression(solver=\"liblinear\").fit(X, y)\n",
    "roc_auc_score(y, clf.predict_proba(X), multi_class='ovr')\n"
   ]
  },
  {
   "cell_type": "code",
   "execution_count": 80,
   "metadata": {},
   "outputs": [],
   "source": [
    "from sklearn.pipeline import make_pipeline\n",
    "from sklearn.preprocessing import StandardScaler"
   ]
  },
  {
   "cell_type": "code",
   "execution_count": 81,
   "metadata": {},
   "outputs": [
    {
     "name": "stdout",
     "output_type": "stream",
     "text": [
      "Model test Score: 0.999,  Model training Score: 0.998\n"
     ]
    }
   ],
   "source": [
    "pipeline = make_pipeline(StandardScaler(), \n",
    "                        LogisticRegression(random_state=1))\n",
    "#\n",
    "# Fit the model\n",
    "#\n",
    "pipeline.fit(X_train, y_train)\n",
    "#\n",
    "# Model scores on test and training data\n",
    "#\n",
    "print('Model test Score: %.3f, ' %pipeline.score(x_test, y_test), \n",
    "      'Model training Score: %.3f' %pipeline.score(X_train, y_train))"
   ]
  },
  {
   "cell_type": "code",
   "execution_count": 207,
   "metadata": {},
   "outputs": [
    {
     "ename": "ValueError",
     "evalue": "max_features must be in (0, n_features]",
     "output_type": "error",
     "traceback": [
      "\u001b[1;31m---------------------------------------------------------------------------\u001b[0m",
      "\u001b[1;31mValueError\u001b[0m                                Traceback (most recent call last)",
      "\u001b[1;32m<ipython-input-207-8da121bf4515>\u001b[0m in \u001b[0;36m<module>\u001b[1;34m\u001b[0m\n\u001b[0;32m     11\u001b[0m \u001b[1;31m# Fit the bagging classifier\u001b[0m\u001b[1;33m\u001b[0m\u001b[1;33m\u001b[0m\u001b[1;33m\u001b[0m\u001b[0m\n\u001b[0;32m     12\u001b[0m \u001b[1;31m#\u001b[0m\u001b[1;33m\u001b[0m\u001b[1;33m\u001b[0m\u001b[1;33m\u001b[0m\u001b[0m\n\u001b[1;32m---> 13\u001b[1;33m \u001b[0mbgclassifier\u001b[0m\u001b[1;33m.\u001b[0m\u001b[0mfit\u001b[0m\u001b[1;33m(\u001b[0m\u001b[0mX_train\u001b[0m\u001b[1;33m,\u001b[0m \u001b[0my_train\u001b[0m\u001b[1;33m)\u001b[0m\u001b[1;33m\u001b[0m\u001b[1;33m\u001b[0m\u001b[0m\n\u001b[0m\u001b[0;32m     14\u001b[0m \u001b[1;31m#\u001b[0m\u001b[1;33m\u001b[0m\u001b[1;33m\u001b[0m\u001b[1;33m\u001b[0m\u001b[0m\n\u001b[0;32m     15\u001b[0m \u001b[1;31m# Model scores on test and training data\u001b[0m\u001b[1;33m\u001b[0m\u001b[1;33m\u001b[0m\u001b[1;33m\u001b[0m\u001b[0m\n",
      "\u001b[1;32m~\\anaconda3\\lib\\site-packages\\sklearn\\ensemble\\_bagging.py\u001b[0m in \u001b[0;36mfit\u001b[1;34m(self, X, y, sample_weight)\u001b[0m\n\u001b[0;32m    241\u001b[0m         \u001b[0mself\u001b[0m \u001b[1;33m:\u001b[0m \u001b[0mobject\u001b[0m\u001b[1;33m\u001b[0m\u001b[1;33m\u001b[0m\u001b[0m\n\u001b[0;32m    242\u001b[0m         \"\"\"\n\u001b[1;32m--> 243\u001b[1;33m         \u001b[1;32mreturn\u001b[0m \u001b[0mself\u001b[0m\u001b[1;33m.\u001b[0m\u001b[0m_fit\u001b[0m\u001b[1;33m(\u001b[0m\u001b[0mX\u001b[0m\u001b[1;33m,\u001b[0m \u001b[0my\u001b[0m\u001b[1;33m,\u001b[0m \u001b[0mself\u001b[0m\u001b[1;33m.\u001b[0m\u001b[0mmax_samples\u001b[0m\u001b[1;33m,\u001b[0m \u001b[0msample_weight\u001b[0m\u001b[1;33m=\u001b[0m\u001b[0msample_weight\u001b[0m\u001b[1;33m)\u001b[0m\u001b[1;33m\u001b[0m\u001b[1;33m\u001b[0m\u001b[0m\n\u001b[0m\u001b[0;32m    244\u001b[0m \u001b[1;33m\u001b[0m\u001b[0m\n\u001b[0;32m    245\u001b[0m     \u001b[1;32mdef\u001b[0m \u001b[0m_parallel_args\u001b[0m\u001b[1;33m(\u001b[0m\u001b[0mself\u001b[0m\u001b[1;33m)\u001b[0m\u001b[1;33m:\u001b[0m\u001b[1;33m\u001b[0m\u001b[1;33m\u001b[0m\u001b[0m\n",
      "\u001b[1;32m~\\anaconda3\\lib\\site-packages\\sklearn\\ensemble\\_bagging.py\u001b[0m in \u001b[0;36m_fit\u001b[1;34m(self, X, y, max_samples, max_depth, sample_weight)\u001b[0m\n\u001b[0;32m    318\u001b[0m \u001b[1;33m\u001b[0m\u001b[0m\n\u001b[0;32m    319\u001b[0m         \u001b[1;32mif\u001b[0m \u001b[1;32mnot\u001b[0m \u001b[1;33m(\u001b[0m\u001b[1;36m0\u001b[0m \u001b[1;33m<\u001b[0m \u001b[0mmax_features\u001b[0m \u001b[1;33m<=\u001b[0m \u001b[0mself\u001b[0m\u001b[1;33m.\u001b[0m\u001b[0mn_features_\u001b[0m\u001b[1;33m)\u001b[0m\u001b[1;33m:\u001b[0m\u001b[1;33m\u001b[0m\u001b[1;33m\u001b[0m\u001b[0m\n\u001b[1;32m--> 320\u001b[1;33m             \u001b[1;32mraise\u001b[0m \u001b[0mValueError\u001b[0m\u001b[1;33m(\u001b[0m\u001b[1;34m\"max_features must be in (0, n_features]\"\u001b[0m\u001b[1;33m)\u001b[0m\u001b[1;33m\u001b[0m\u001b[1;33m\u001b[0m\u001b[0m\n\u001b[0m\u001b[0;32m    321\u001b[0m \u001b[1;33m\u001b[0m\u001b[0m\n\u001b[0;32m    322\u001b[0m         \u001b[0mmax_features\u001b[0m \u001b[1;33m=\u001b[0m \u001b[0mmax\u001b[0m\u001b[1;33m(\u001b[0m\u001b[1;36m1\u001b[0m\u001b[1;33m,\u001b[0m \u001b[0mint\u001b[0m\u001b[1;33m(\u001b[0m\u001b[0mmax_features\u001b[0m\u001b[1;33m)\u001b[0m\u001b[1;33m)\u001b[0m\u001b[1;33m\u001b[0m\u001b[1;33m\u001b[0m\u001b[0m\n",
      "\u001b[1;31mValueError\u001b[0m: max_features must be in (0, n_features]"
     ]
    }
   ],
   "source": [
    "pipeline = make_pipeline(StandardScaler(), \n",
    "                        LogisticRegression(random_state=1))\n",
    "#\n",
    "# Instantiate the bagging classifier\n",
    "#\n",
    "bgclassifier = BaggingClassifier(base_estimator=pipeline, n_estimators=100, \n",
    "                                 max_features=10, \n",
    "                                 max_samples=100,\n",
    "                                 random_state=1, n_jobs=5)\n",
    "#\n",
    "# Fit the bagging classifier\n",
    "#\n",
    "bgclassifier.fit(X_train, y_train)\n",
    "#\n",
    "# Model scores on test and training data\n",
    "#\n",
    "print('Model test Score: %.3f, ' %bgclassifier.score(X_test, y_test), \n",
    "      'Model training Score: %.3f' %bgclassifier.score(X_train, y_train))"
   ]
  },
  {
   "cell_type": "markdown",
   "metadata": {},
   "source": [
    "## On the basis of AUC/ROC score which one will you choose from BaggingClassifier and XGBoostClassifier and              why?What does AUC/ROC score signifies?"
   ]
  },
  {
   "cell_type": "code",
   "execution_count": null,
   "metadata": {},
   "outputs": [],
   "source": [
    "# if I look at the result for my AUC/ROC in BaggingClassifier and XGBossClassifier the result that I got is 1, which I can not\n",
    "# make a good conclussion about with one I should considerer better because my data was unbalanced and for this reason my score \n",
    "# will be aproximatly one."
   ]
  },
  {
   "cell_type": "markdown",
   "metadata": {},
   "source": [
    "## What is the accuracy for BaggingClassifier and XGBoostClassifier?()"
   ]
  },
  {
   "cell_type": "code",
   "execution_count": null,
   "metadata": {},
   "outputs": [],
   "source": [
    "print(\"Accuracy: %.2f%% (%.2f%%)\" % (scores.mean()*100, scores.std()*100))\n",
    "print(\"Accuracy: %.2f%% (%.2f%%)\" % (scores.mean()*100, scores.std()*100))"
   ]
  },
  {
   "cell_type": "markdown",
   "metadata": {},
   "source": [
    "## this is an extra secao do do some test"
   ]
  },
  {
   "cell_type": "code",
   "execution_count": 180,
   "metadata": {},
   "outputs": [],
   "source": [
    "# calcular AUC?ROC\n",
    "from sklearn.metrics import roc_curve\n",
    "from matplotlib import pyplot"
   ]
  },
  {
   "cell_type": "code",
   "execution_count": 181,
   "metadata": {},
   "outputs": [
    {
     "name": "stdout",
     "output_type": "stream",
     "text": [
      "No Skill: ROC AUC=0.500\n",
      "Logistic: ROC AUC=0.920\n"
     ]
    },
    {
     "data": {
      "image/png": "[encoded data removed]",
      "text/plain": [
       "<Figure size 432x288 with 1 Axes>"
      ]
     },
     "metadata": {
      "needs_background": "light"
     },
     "output_type": "display_data"
    }
   ],
   "source": [
    "ns_probs = [0 for _ in range(len(y_test))]\n",
    "y_pred = xgcl.predict_proba(x_test)\n",
    "# keep probabilities for the positive outcome only\n",
    "y_pred = y_pred [:, 1]\n",
    "# calculate scores\n",
    "ns_auc = roc_auc_score(y_test, ns_probs)\n",
    "lr_auc = roc_auc_score(y_test, y_pred)\n",
    "# summarize scores\n",
    "print('No Skill: ROC AUC=%.3f' % (ns_auc))\n",
    "print('Logistic: ROC AUC=%.3f' % (lr_auc))\n",
    "# calculate roc curves\n",
    "ns_fpr, ns_tpr, _ = roc_curve(y_test, ns_probs)\n",
    "lr_fpr, lr_tpr, _ = roc_curve(y_test, y_pred)\n",
    "# plot the roc curve for the model\n",
    "pyplot.plot(ns_fpr, ns_tpr, linestyle='--', label='No Skill')\n",
    "pyplot.plot(lr_fpr, lr_tpr, marker='.', label='Logistic')\n",
    "# axis labels\n",
    "pyplot.xlabel('False Positive Rate')\n",
    "pyplot.ylabel('True Positive Rate')\n",
    "# show the legend\n",
    "pyplot.legend()\n",
    "# show the plot\n",
    "pyplot.show()"
   ]
  },
  {
   "cell_type": "code",
   "execution_count": 199,
   "metadata": {},
   "outputs": [],
   "source": [
    "# Precision-Recall Curves in Python\n",
    "from sklearn.metrics import precision_recall_curve\n",
    "from sklearn.metrics import f1_score\n",
    "from sklearn.metrics import auc"
   ]
  },
  {
   "cell_type": "code",
   "execution_count": 200,
   "metadata": {},
   "outputs": [
    {
     "name": "stdout",
     "output_type": "stream",
     "text": [
      "Logistic: f1=0.250 auc=0.270\n"
     ]
    },
    {
     "data": {
      "image/png": "[encoded data removed]",
      "text/plain": [
       "<Figure size 432x288 with 1 Axes>"
      ]
     },
     "metadata": {
      "needs_background": "light"
     },
     "output_type": "display_data"
    }
   ],
   "source": [
    "lr_probs = xgcl.predict_proba(x_test)\n",
    "# keep probabilities for the positive outcome only\n",
    "\n",
    "lr_probs= lr_probs[:, 1]\n",
    "# predict class values\n",
    "yhat = xgcl.predict(x_test)\n",
    "lr_precision, lr_recall, _ = precision_recall_curve(y_test, lr_probs)\n",
    "lr_f1, lr_auc = f1_score(y_test, yhat), auc(lr_recall, lr_precision)\n",
    "# summarize scores\n",
    "print('Logistic: f1=%.3f auc=%.3f' % (lr_f1, lr_auc))\n",
    "# plot the precision-recall curves\n",
    "no_skill = len(y_test[y_test==1]) / len(y_test)\n",
    "pyplot.plot([0, 1], [no_skill, no_skill], linestyle='--', label='No Skill')\n",
    "pyplot.plot(lr_recall, lr_precision, marker='.', label='Logistic')\n",
    "# axis labels\n",
    "pyplot.xlabel('Recall')\n",
    "pyplot.ylabel('Precision')\n",
    "# show the legend\n",
    "pyplot.legend()\n",
    "# show the plot\n",
    "pyplot.show()"
   ]
  },
  {
   "cell_type": "code",
   "execution_count": null,
   "metadata": {},
   "outputs": [],
   "source": []
  }
 ],
 "metadata": {
  "kernelspec": {
   "display_name": "Python 3",
   "language": "python",
   "name": "python3"
  },
  "language_info": {
   "codemirror_mode": {
    "name": "ipython",
    "version": 3
   },
   "file_extension": ".py",
   "mimetype": "text/x-python",
   "name": "python",
   "nbconvert_exporter": "python",
   "pygments_lexer": "ipython3",
   "version": "3.8.5"
  }
 },
 "nbformat": 4,
 "nbformat_minor": 4
}
